{
 "cells": [
  {
   "cell_type": "markdown",
   "metadata": {},
   "source": [
    "# Libraries"
   ]
  },
  {
   "cell_type": "code",
   "execution_count": 3,
   "metadata": {},
   "outputs": [
    {
     "name": "stdout",
     "output_type": "stream",
     "text": [
      "^C\n",
      "Note: you may need to restart the kernel to use updated packages.\n"
     ]
    }
   ],
   "source": [
    "%pip install -U ultralytics"
   ]
  },
  {
   "cell_type": "code",
   "execution_count": 3,
   "metadata": {},
   "outputs": [],
   "source": [
    "root_dir = r\"D:\\BML Munjal\\3rd Year\\Sem 5\\DIP\\DIP-dataset\""
   ]
  },
  {
   "cell_type": "code",
   "execution_count": 3,
   "metadata": {},
   "outputs": [],
   "source": [
    "import pandas as pd\n",
    "import numpy as np\n",
    "import matplotlib.pyplot as plt\n",
    "import cv2\n",
    "\n",
    "import os\n",
    "import shutil\n",
    "import random\n",
    "import xml.etree.ElementTree as ET\n",
    "import yaml\n",
    "from pathlib import Path\n",
    "from collections import Counter\n",
    "\n",
    "from ultralytics import YOLO\n",
    "from sklearn.model_selection import KFold"
   ]
  },
  {
   "cell_type": "markdown",
   "metadata": {},
   "source": [
    "# Exploring Dataset"
   ]
  },
  {
   "cell_type": "code",
   "execution_count": 5,
   "metadata": {},
   "outputs": [
    {
     "name": "stdout",
     "output_type": "stream",
     "text": [
      "D:\\BML Munjal\\3rd Year\\Sem 5\\DIP\\DIP-dataset\\PCB_DATASET\\Annotations\n",
      "D:\\BML Munjal\\3rd Year\\Sem 5\\DIP\\DIP-dataset\\PCB_DATASET\\grayscale_images\n",
      "D:\\BML Munjal\\3rd Year\\Sem 5\\DIP\\DIP-dataset\\PCB_DATASET\\images\n",
      "D:\\BML Munjal\\3rd Year\\Sem 5\\DIP\\DIP-dataset\\PCB_DATASET\\images_resized\n",
      "D:\\BML Munjal\\3rd Year\\Sem 5\\DIP\\DIP-dataset\\PCB_DATASET\\PCB_USED\n",
      "D:\\BML Munjal\\3rd Year\\Sem 5\\DIP\\DIP-dataset\\PCB_DATASET\\rotation\n",
      "D:\\BML Munjal\\3rd Year\\Sem 5\\DIP\\DIP-dataset\\PCB_DATASET\\Annotations\\Missing_hole\n",
      "D:\\BML Munjal\\3rd Year\\Sem 5\\DIP\\DIP-dataset\\PCB_DATASET\\Annotations\\Mouse_bite\n",
      "D:\\BML Munjal\\3rd Year\\Sem 5\\DIP\\DIP-dataset\\PCB_DATASET\\Annotations\\Open_circuit\n",
      "D:\\BML Munjal\\3rd Year\\Sem 5\\DIP\\DIP-dataset\\PCB_DATASET\\Annotations\\Short\n",
      "D:\\BML Munjal\\3rd Year\\Sem 5\\DIP\\DIP-dataset\\PCB_DATASET\\Annotations\\Spur\n",
      "D:\\BML Munjal\\3rd Year\\Sem 5\\DIP\\DIP-dataset\\PCB_DATASET\\Annotations\\Spurious_copper\n",
      "D:\\BML Munjal\\3rd Year\\Sem 5\\DIP\\DIP-dataset\\PCB_DATASET\\images\\Missing_hole\n",
      "D:\\BML Munjal\\3rd Year\\Sem 5\\DIP\\DIP-dataset\\PCB_DATASET\\images\\Mouse_bite\n",
      "D:\\BML Munjal\\3rd Year\\Sem 5\\DIP\\DIP-dataset\\PCB_DATASET\\images\\Open_circuit\n",
      "D:\\BML Munjal\\3rd Year\\Sem 5\\DIP\\DIP-dataset\\PCB_DATASET\\images\\Short\n",
      "D:\\BML Munjal\\3rd Year\\Sem 5\\DIP\\DIP-dataset\\PCB_DATASET\\images\\Spur\n",
      "D:\\BML Munjal\\3rd Year\\Sem 5\\DIP\\DIP-dataset\\PCB_DATASET\\images\\Spurious_copper\n",
      "D:\\BML Munjal\\3rd Year\\Sem 5\\DIP\\DIP-dataset\\PCB_DATASET\\rotation\\Missing_hole_rotation\n",
      "D:\\BML Munjal\\3rd Year\\Sem 5\\DIP\\DIP-dataset\\PCB_DATASET\\rotation\\Mouse_bite_rotation\n",
      "D:\\BML Munjal\\3rd Year\\Sem 5\\DIP\\DIP-dataset\\PCB_DATASET\\rotation\\Open_circuit_rotation\n",
      "D:\\BML Munjal\\3rd Year\\Sem 5\\DIP\\DIP-dataset\\PCB_DATASET\\rotation\\Short_rotation\n",
      "D:\\BML Munjal\\3rd Year\\Sem 5\\DIP\\DIP-dataset\\PCB_DATASET\\rotation\\Spurious_copper_rotation\n",
      "D:\\BML Munjal\\3rd Year\\Sem 5\\DIP\\DIP-dataset\\PCB_DATASET\\rotation\\Spur_rotation\n"
     ]
    }
   ],
   "source": [
    "dataset_dir = r\"D:\\BML Munjal\\3rd Year\\Sem 5\\DIP\\DIP-dataset\\PCB_DATASET\"\n",
    "\n",
    "for root, dirs, files in os.walk(dataset_dir):\n",
    "   for name in dirs:\n",
    "      print(os.path.join(root, name))"
   ]
  },
  {
   "cell_type": "code",
   "execution_count": 8,
   "metadata": {},
   "outputs": [
    {
     "name": "stdout",
     "output_type": "stream",
     "text": [
      "Missing_hole    \t            115 images \t            115 annotations\n",
      "Mouse_bite      \t            115 images \t            115 annotations\n",
      "Open_circuit    \t            116 images \t            116 annotations\n",
      "Short           \t            116 images \t            116 annotations\n",
      "Spur            \t            115 images \t            115 annotations\n",
      "Spurious_copper \t            116 images \t            116 annotations\n"
     ]
    }
   ],
   "source": [
    "def count_files_in_folder(folder_path):\n",
    "    # Get list of all files in the folder\n",
    "    files = os.listdir(folder_path)\n",
    "\n",
    "    # Count the number of files\n",
    "    num_files = len(files)\n",
    "\n",
    "    return num_files\n",
    "subfolders = ['Missing_hole', 'Mouse_bite', 'Open_circuit', 'Short', 'Spur', 'Spurious_copper']\n",
    "\n",
    "images_dir = os.path.join(dataset_dir, 'images')\n",
    "annot_dir = os.path.join(dataset_dir, 'Annotations')\n",
    "\n",
    "for subfolder in subfolders:\n",
    "    images_path = os.path.join(images_dir, subfolder)\n",
    "    annot_path = os.path.join(annot_dir, subfolder)\n",
    "\n",
    "    print(f'{subfolder:<15} \\t\\\n",
    "            {count_files_in_folder(images_path)} images \\t\\\n",
    "            {count_files_in_folder(annot_path)} annotations')"
   ]
  },
  {
   "cell_type": "markdown",
   "metadata": {},
   "source": [
    "# Creating Annotations Dataframe"
   ]
  },
  {
   "cell_type": "code",
   "execution_count": 4,
   "metadata": {},
   "outputs": [
    {
     "data": {
      "text/html": [
       "<div>\n",
       "<style scoped>\n",
       "    .dataframe tbody tr th:only-of-type {\n",
       "        vertical-align: middle;\n",
       "    }\n",
       "\n",
       "    .dataframe tbody tr th {\n",
       "        vertical-align: top;\n",
       "    }\n",
       "\n",
       "    .dataframe thead th {\n",
       "        text-align: right;\n",
       "    }\n",
       "</style>\n",
       "<table border=\"1\" class=\"dataframe\">\n",
       "  <thead>\n",
       "    <tr style=\"text-align: right;\">\n",
       "      <th></th>\n",
       "      <th>filename</th>\n",
       "      <th>width</th>\n",
       "      <th>height</th>\n",
       "      <th>class</th>\n",
       "      <th>xmin</th>\n",
       "      <th>ymin</th>\n",
       "      <th>xmax</th>\n",
       "      <th>ymax</th>\n",
       "    </tr>\n",
       "  </thead>\n",
       "  <tbody>\n",
       "    <tr>\n",
       "      <th>0</th>\n",
       "      <td>01_missing_hole_01.jpg</td>\n",
       "      <td>3034</td>\n",
       "      <td>1586</td>\n",
       "      <td>missing_hole</td>\n",
       "      <td>2459</td>\n",
       "      <td>1274</td>\n",
       "      <td>2530</td>\n",
       "      <td>1329</td>\n",
       "    </tr>\n",
       "    <tr>\n",
       "      <th>1</th>\n",
       "      <td>01_missing_hole_01.jpg</td>\n",
       "      <td>3034</td>\n",
       "      <td>1586</td>\n",
       "      <td>missing_hole</td>\n",
       "      <td>1613</td>\n",
       "      <td>334</td>\n",
       "      <td>1679</td>\n",
       "      <td>396</td>\n",
       "    </tr>\n",
       "    <tr>\n",
       "      <th>2</th>\n",
       "      <td>01_missing_hole_01.jpg</td>\n",
       "      <td>3034</td>\n",
       "      <td>1586</td>\n",
       "      <td>missing_hole</td>\n",
       "      <td>1726</td>\n",
       "      <td>794</td>\n",
       "      <td>1797</td>\n",
       "      <td>854</td>\n",
       "    </tr>\n",
       "    <tr>\n",
       "      <th>3</th>\n",
       "      <td>01_missing_hole_02.jpg</td>\n",
       "      <td>3034</td>\n",
       "      <td>1586</td>\n",
       "      <td>missing_hole</td>\n",
       "      <td>2584</td>\n",
       "      <td>232</td>\n",
       "      <td>2650</td>\n",
       "      <td>298</td>\n",
       "    </tr>\n",
       "    <tr>\n",
       "      <th>4</th>\n",
       "      <td>01_missing_hole_02.jpg</td>\n",
       "      <td>3034</td>\n",
       "      <td>1586</td>\n",
       "      <td>missing_hole</td>\n",
       "      <td>2366</td>\n",
       "      <td>803</td>\n",
       "      <td>2406</td>\n",
       "      <td>860</td>\n",
       "    </tr>\n",
       "  </tbody>\n",
       "</table>\n",
       "</div>"
      ],
      "text/plain": [
       "                 filename  width  height         class  xmin  ymin  xmax  ymax\n",
       "0  01_missing_hole_01.jpg   3034    1586  missing_hole  2459  1274  2530  1329\n",
       "1  01_missing_hole_01.jpg   3034    1586  missing_hole  1613   334  1679   396\n",
       "2  01_missing_hole_01.jpg   3034    1586  missing_hole  1726   794  1797   854\n",
       "3  01_missing_hole_02.jpg   3034    1586  missing_hole  2584   232  2650   298\n",
       "4  01_missing_hole_02.jpg   3034    1586  missing_hole  2366   803  2406   860"
      ]
     },
     "execution_count": 4,
     "metadata": {},
     "output_type": "execute_result"
    }
   ],
   "source": [
    "annot_dir = r\"D:\\BML Munjal\\3rd Year\\Sem 5\\DIP\\DIP-dataset\\PCB_DATASET\\Annotations\"\n",
    "\n",
    "def parse_xml(xml_file):\n",
    "    tree = ET.parse(xml_file)\n",
    "    root = tree.getroot()\n",
    "    data = []\n",
    "\n",
    "    filename = root.find('filename').text\n",
    "    width = int(root.find('size/width').text)\n",
    "    height = int(root.find('size/height').text)\n",
    "\n",
    "    for obj in root.findall('object'):\n",
    "        name = obj.find('name').text\n",
    "        xmin = int(obj.find('bndbox/xmin').text)\n",
    "        ymin = int(obj.find('bndbox/ymin').text)\n",
    "        xmax = int(obj.find('bndbox/xmax').text)\n",
    "        ymax = int(obj.find('bndbox/ymax').text)\n",
    "\n",
    "        data.append({\n",
    "            'filename': filename,\n",
    "            'width': width,\n",
    "            'height': height,\n",
    "            'class': name,\n",
    "            'xmin': xmin,\n",
    "            'ymin': ymin,\n",
    "            'xmax': xmax,\n",
    "            'ymax': ymax\n",
    "        })\n",
    "\n",
    "    return data\n",
    "# List to store parsed data from all XML files\n",
    "all_data = []\n",
    "\n",
    "# Recursively traverse subdirectories\n",
    "for root, dirs, files in os.walk(annot_dir):\n",
    "    for name in files:\n",
    "        if name.endswith('.xml'):\n",
    "            xml_path = os.path.join(root, name)\n",
    "            all_data.extend(parse_xml(xml_path))\n",
    "# Create DataFrame from the parsed data\n",
    "annot_df = pd.DataFrame(all_data)\n",
    "annot_df.head()\n"
   ]
  },
  {
   "cell_type": "markdown",
   "metadata": {},
   "source": [
    "# Resizing Images"
   ]
  },
  {
   "cell_type": "code",
   "execution_count": 11,
   "metadata": {},
   "outputs": [
    {
     "data": {
      "text/html": [
       "<div>\n",
       "<style scoped>\n",
       "    .dataframe tbody tr th:only-of-type {\n",
       "        vertical-align: middle;\n",
       "    }\n",
       "\n",
       "    .dataframe tbody tr th {\n",
       "        vertical-align: top;\n",
       "    }\n",
       "\n",
       "    .dataframe thead th {\n",
       "        text-align: right;\n",
       "    }\n",
       "</style>\n",
       "<table border=\"1\" class=\"dataframe\">\n",
       "  <thead>\n",
       "    <tr style=\"text-align: right;\">\n",
       "      <th></th>\n",
       "      <th>filename</th>\n",
       "      <th>width</th>\n",
       "      <th>height</th>\n",
       "      <th>class</th>\n",
       "      <th>xmin</th>\n",
       "      <th>ymin</th>\n",
       "      <th>xmax</th>\n",
       "      <th>ymax</th>\n",
       "    </tr>\n",
       "  </thead>\n",
       "  <tbody>\n",
       "    <tr>\n",
       "      <th>0</th>\n",
       "      <td>01_missing_hole_01.jpg</td>\n",
       "      <td>640</td>\n",
       "      <td>640</td>\n",
       "      <td>missing_hole</td>\n",
       "      <td>518</td>\n",
       "      <td>514</td>\n",
       "      <td>533</td>\n",
       "      <td>536</td>\n",
       "    </tr>\n",
       "    <tr>\n",
       "      <th>1</th>\n",
       "      <td>01_missing_hole_01.jpg</td>\n",
       "      <td>640</td>\n",
       "      <td>640</td>\n",
       "      <td>missing_hole</td>\n",
       "      <td>340</td>\n",
       "      <td>134</td>\n",
       "      <td>354</td>\n",
       "      <td>159</td>\n",
       "    </tr>\n",
       "    <tr>\n",
       "      <th>2</th>\n",
       "      <td>01_missing_hole_01.jpg</td>\n",
       "      <td>640</td>\n",
       "      <td>640</td>\n",
       "      <td>missing_hole</td>\n",
       "      <td>364</td>\n",
       "      <td>320</td>\n",
       "      <td>379</td>\n",
       "      <td>344</td>\n",
       "    </tr>\n",
       "    <tr>\n",
       "      <th>3</th>\n",
       "      <td>01_missing_hole_02.jpg</td>\n",
       "      <td>640</td>\n",
       "      <td>640</td>\n",
       "      <td>missing_hole</td>\n",
       "      <td>545</td>\n",
       "      <td>93</td>\n",
       "      <td>558</td>\n",
       "      <td>120</td>\n",
       "    </tr>\n",
       "    <tr>\n",
       "      <th>4</th>\n",
       "      <td>01_missing_hole_02.jpg</td>\n",
       "      <td>640</td>\n",
       "      <td>640</td>\n",
       "      <td>missing_hole</td>\n",
       "      <td>499</td>\n",
       "      <td>324</td>\n",
       "      <td>507</td>\n",
       "      <td>347</td>\n",
       "    </tr>\n",
       "  </tbody>\n",
       "</table>\n",
       "</div>"
      ],
      "text/plain": [
       "                 filename  width  height         class  xmin  ymin  xmax  ymax\n",
       "0  01_missing_hole_01.jpg    640     640  missing_hole   518   514   533   536\n",
       "1  01_missing_hole_01.jpg    640     640  missing_hole   340   134   354   159\n",
       "2  01_missing_hole_01.jpg    640     640  missing_hole   364   320   379   344\n",
       "3  01_missing_hole_02.jpg    640     640  missing_hole   545    93   558   120\n",
       "4  01_missing_hole_02.jpg    640     640  missing_hole   499   324   507   347"
      ]
     },
     "execution_count": 11,
     "metadata": {},
     "output_type": "execute_result"
    }
   ],
   "source": [
    "dataset_dir = r\"D:\\BML Munjal\\3rd Year\\Sem 5\\DIP\\DIP-dataset\\PCB_DATASET\"\n",
    "images_dir = r\"D:\\BML Munjal\\3rd Year\\Sem 5\\DIP\\DIP-dataset\\PCB_DATASET\\images\"\n",
    "\n",
    "def resize_images(input_dir, output_dir, target_size=(640, 640)):\n",
    "    # Create the output directory if it doesn't exist\n",
    "    os.makedirs(output_dir, exist_ok=True)\n",
    "\n",
    "    # Traverse through the subfolders in the input folder\n",
    "    for root, _, files in os.walk(input_dir):\n",
    "        for file in files:\n",
    "            # Check if the file is an image\n",
    "            if file.lower().endswith(('.jpg')):\n",
    "                # Read the image\n",
    "                image_path = os.path.join(root, file)\n",
    "                image = cv2.imread(image_path)\n",
    "\n",
    "                # Resize the image\n",
    "                resized_image = cv2.resize(image, target_size)\n",
    "\n",
    "                # Save the resized image to the output folder\n",
    "                output_path = os.path.join(output_dir, file)\n",
    "                cv2.imwrite(output_path, resized_image)\n",
    "\n",
    "resized_img_dir = os.path.join(dataset_dir, 'images_resized')\n",
    "resize_images(images_dir, resized_img_dir)\n",
    "def resize_annotations(annot_df, target_size=(640, 640)):\n",
    "    all_data = []\n",
    "\n",
    "    # Iterate through the annotation DataFrame\n",
    "    for index, row in annot_df.iterrows():\n",
    "\n",
    "        # Resize the bounding box coordinates\n",
    "        width_ratio = target_size[0] / row['width']\n",
    "        height_ratio = target_size[1] / row['height']\n",
    "\n",
    "        resized_xmin = int(row['xmin'] * width_ratio)\n",
    "        resized_ymin = int(row['ymin'] * height_ratio)\n",
    "        resized_xmax = int(row['xmax'] * width_ratio)\n",
    "        resized_ymax = int(row['ymax'] * height_ratio)\n",
    "\n",
    "        # Update the all data list with resized annotations\n",
    "        all_data.append({\n",
    "            'filename': row['filename'],\n",
    "            'width': target_size[0],\n",
    "            'height': target_size[1],\n",
    "            'class': row['class'],\n",
    "            'xmin': resized_xmin,\n",
    "            'ymin': resized_ymin,\n",
    "            'xmax': resized_xmax,\n",
    "            'ymax': resized_ymax\n",
    "        })\n",
    "\n",
    "    annot_df_resized = pd.DataFrame(all_data)\n",
    "    return annot_df_resized\n",
    "\n",
    "annot_df_resized = resize_annotations(annot_df)\n",
    "annot_df_resized.head()\n"
   ]
  },
  {
   "cell_type": "markdown",
   "metadata": {},
   "source": [
    "# Converting RGB images to Greyscale Images (Using Histogram Equalisation)"
   ]
  },
  {
   "cell_type": "code",
   "execution_count": 12,
   "metadata": {},
   "outputs": [
    {
     "name": "stdout",
     "output_type": "stream",
     "text": [
      "Output directory 'D:\\BML Munjal\\3rd Year\\Sem 5\\DIP\\DIP-dataset\\PCB_DATASET\\grayscale_images' created or already exists.\n",
      "Saved grayscale image: D:\\BML Munjal\\3rd Year\\Sem 5\\DIP\\DIP-dataset\\PCB_DATASET\\grayscale_images\\01_missing_hole_01.jpg\n",
      "Saved grayscale image: D:\\BML Munjal\\3rd Year\\Sem 5\\DIP\\DIP-dataset\\PCB_DATASET\\grayscale_images\\01_missing_hole_02.jpg\n",
      "Saved grayscale image: D:\\BML Munjal\\3rd Year\\Sem 5\\DIP\\DIP-dataset\\PCB_DATASET\\grayscale_images\\01_missing_hole_03.jpg\n",
      "Saved grayscale image: D:\\BML Munjal\\3rd Year\\Sem 5\\DIP\\DIP-dataset\\PCB_DATASET\\grayscale_images\\01_missing_hole_04.jpg\n",
      "Saved grayscale image: D:\\BML Munjal\\3rd Year\\Sem 5\\DIP\\DIP-dataset\\PCB_DATASET\\grayscale_images\\01_missing_hole_05.jpg\n",
      "Saved grayscale image: D:\\BML Munjal\\3rd Year\\Sem 5\\DIP\\DIP-dataset\\PCB_DATASET\\grayscale_images\\01_missing_hole_06.jpg\n",
      "Saved grayscale image: D:\\BML Munjal\\3rd Year\\Sem 5\\DIP\\DIP-dataset\\PCB_DATASET\\grayscale_images\\01_missing_hole_07.jpg\n",
      "Saved grayscale image: D:\\BML Munjal\\3rd Year\\Sem 5\\DIP\\DIP-dataset\\PCB_DATASET\\grayscale_images\\01_missing_hole_08.jpg\n",
      "Saved grayscale image: D:\\BML Munjal\\3rd Year\\Sem 5\\DIP\\DIP-dataset\\PCB_DATASET\\grayscale_images\\01_missing_hole_09.jpg\n",
      "Saved grayscale image: D:\\BML Munjal\\3rd Year\\Sem 5\\DIP\\DIP-dataset\\PCB_DATASET\\grayscale_images\\01_missing_hole_10.jpg\n",
      "Saved grayscale image: D:\\BML Munjal\\3rd Year\\Sem 5\\DIP\\DIP-dataset\\PCB_DATASET\\grayscale_images\\01_missing_hole_11.jpg\n",
      "Saved grayscale image: D:\\BML Munjal\\3rd Year\\Sem 5\\DIP\\DIP-dataset\\PCB_DATASET\\grayscale_images\\01_missing_hole_12.jpg\n",
      "Saved grayscale image: D:\\BML Munjal\\3rd Year\\Sem 5\\DIP\\DIP-dataset\\PCB_DATASET\\grayscale_images\\01_missing_hole_13.jpg\n",
      "Saved grayscale image: D:\\BML Munjal\\3rd Year\\Sem 5\\DIP\\DIP-dataset\\PCB_DATASET\\grayscale_images\\01_missing_hole_14.jpg\n",
      "Saved grayscale image: D:\\BML Munjal\\3rd Year\\Sem 5\\DIP\\DIP-dataset\\PCB_DATASET\\grayscale_images\\01_missing_hole_15.jpg\n",
      "Saved grayscale image: D:\\BML Munjal\\3rd Year\\Sem 5\\DIP\\DIP-dataset\\PCB_DATASET\\grayscale_images\\01_missing_hole_16.jpg\n",
      "Saved grayscale image: D:\\BML Munjal\\3rd Year\\Sem 5\\DIP\\DIP-dataset\\PCB_DATASET\\grayscale_images\\01_missing_hole_17.jpg\n",
      "Saved grayscale image: D:\\BML Munjal\\3rd Year\\Sem 5\\DIP\\DIP-dataset\\PCB_DATASET\\grayscale_images\\01_missing_hole_18.jpg\n",
      "Saved grayscale image: D:\\BML Munjal\\3rd Year\\Sem 5\\DIP\\DIP-dataset\\PCB_DATASET\\grayscale_images\\01_missing_hole_19.jpg\n",
      "Saved grayscale image: D:\\BML Munjal\\3rd Year\\Sem 5\\DIP\\DIP-dataset\\PCB_DATASET\\grayscale_images\\01_missing_hole_20.jpg\n",
      "Saved grayscale image: D:\\BML Munjal\\3rd Year\\Sem 5\\DIP\\DIP-dataset\\PCB_DATASET\\grayscale_images\\01_mouse_bite_01.jpg\n",
      "Saved grayscale image: D:\\BML Munjal\\3rd Year\\Sem 5\\DIP\\DIP-dataset\\PCB_DATASET\\grayscale_images\\01_mouse_bite_02.jpg\n",
      "Saved grayscale image: D:\\BML Munjal\\3rd Year\\Sem 5\\DIP\\DIP-dataset\\PCB_DATASET\\grayscale_images\\01_mouse_bite_03.jpg\n",
      "Saved grayscale image: D:\\BML Munjal\\3rd Year\\Sem 5\\DIP\\DIP-dataset\\PCB_DATASET\\grayscale_images\\01_mouse_bite_04.jpg\n",
      "Saved grayscale image: D:\\BML Munjal\\3rd Year\\Sem 5\\DIP\\DIP-dataset\\PCB_DATASET\\grayscale_images\\01_mouse_bite_05.jpg\n",
      "Saved grayscale image: D:\\BML Munjal\\3rd Year\\Sem 5\\DIP\\DIP-dataset\\PCB_DATASET\\grayscale_images\\01_mouse_bite_06.jpg\n",
      "Saved grayscale image: D:\\BML Munjal\\3rd Year\\Sem 5\\DIP\\DIP-dataset\\PCB_DATASET\\grayscale_images\\01_mouse_bite_07.jpg\n",
      "Saved grayscale image: D:\\BML Munjal\\3rd Year\\Sem 5\\DIP\\DIP-dataset\\PCB_DATASET\\grayscale_images\\01_mouse_bite_08.jpg\n",
      "Saved grayscale image: D:\\BML Munjal\\3rd Year\\Sem 5\\DIP\\DIP-dataset\\PCB_DATASET\\grayscale_images\\01_mouse_bite_09.jpg\n",
      "Saved grayscale image: D:\\BML Munjal\\3rd Year\\Sem 5\\DIP\\DIP-dataset\\PCB_DATASET\\grayscale_images\\01_mouse_bite_10.jpg\n",
      "Saved grayscale image: D:\\BML Munjal\\3rd Year\\Sem 5\\DIP\\DIP-dataset\\PCB_DATASET\\grayscale_images\\01_mouse_bite_11.jpg\n",
      "Saved grayscale image: D:\\BML Munjal\\3rd Year\\Sem 5\\DIP\\DIP-dataset\\PCB_DATASET\\grayscale_images\\01_mouse_bite_12.jpg\n",
      "Saved grayscale image: D:\\BML Munjal\\3rd Year\\Sem 5\\DIP\\DIP-dataset\\PCB_DATASET\\grayscale_images\\01_mouse_bite_13.jpg\n",
      "Saved grayscale image: D:\\BML Munjal\\3rd Year\\Sem 5\\DIP\\DIP-dataset\\PCB_DATASET\\grayscale_images\\01_mouse_bite_14.jpg\n",
      "Saved grayscale image: D:\\BML Munjal\\3rd Year\\Sem 5\\DIP\\DIP-dataset\\PCB_DATASET\\grayscale_images\\01_mouse_bite_15.jpg\n",
      "Saved grayscale image: D:\\BML Munjal\\3rd Year\\Sem 5\\DIP\\DIP-dataset\\PCB_DATASET\\grayscale_images\\01_mouse_bite_16.jpg\n",
      "Saved grayscale image: D:\\BML Munjal\\3rd Year\\Sem 5\\DIP\\DIP-dataset\\PCB_DATASET\\grayscale_images\\01_mouse_bite_17.jpg\n",
      "Saved grayscale image: D:\\BML Munjal\\3rd Year\\Sem 5\\DIP\\DIP-dataset\\PCB_DATASET\\grayscale_images\\01_mouse_bite_18.jpg\n",
      "Saved grayscale image: D:\\BML Munjal\\3rd Year\\Sem 5\\DIP\\DIP-dataset\\PCB_DATASET\\grayscale_images\\01_mouse_bite_19.jpg\n",
      "Saved grayscale image: D:\\BML Munjal\\3rd Year\\Sem 5\\DIP\\DIP-dataset\\PCB_DATASET\\grayscale_images\\01_mouse_bite_20.jpg\n",
      "Saved grayscale image: D:\\BML Munjal\\3rd Year\\Sem 5\\DIP\\DIP-dataset\\PCB_DATASET\\grayscale_images\\01_open_circuit_01.jpg\n",
      "Saved grayscale image: D:\\BML Munjal\\3rd Year\\Sem 5\\DIP\\DIP-dataset\\PCB_DATASET\\grayscale_images\\01_open_circuit_02.jpg\n",
      "Saved grayscale image: D:\\BML Munjal\\3rd Year\\Sem 5\\DIP\\DIP-dataset\\PCB_DATASET\\grayscale_images\\01_open_circuit_03.jpg\n",
      "Saved grayscale image: D:\\BML Munjal\\3rd Year\\Sem 5\\DIP\\DIP-dataset\\PCB_DATASET\\grayscale_images\\01_open_circuit_04.jpg\n",
      "Saved grayscale image: D:\\BML Munjal\\3rd Year\\Sem 5\\DIP\\DIP-dataset\\PCB_DATASET\\grayscale_images\\01_open_circuit_05.jpg\n",
      "Saved grayscale image: D:\\BML Munjal\\3rd Year\\Sem 5\\DIP\\DIP-dataset\\PCB_DATASET\\grayscale_images\\01_open_circuit_06.jpg\n",
      "Saved grayscale image: D:\\BML Munjal\\3rd Year\\Sem 5\\DIP\\DIP-dataset\\PCB_DATASET\\grayscale_images\\01_open_circuit_07.jpg\n",
      "Saved grayscale image: D:\\BML Munjal\\3rd Year\\Sem 5\\DIP\\DIP-dataset\\PCB_DATASET\\grayscale_images\\01_open_circuit_08.jpg\n",
      "Saved grayscale image: D:\\BML Munjal\\3rd Year\\Sem 5\\DIP\\DIP-dataset\\PCB_DATASET\\grayscale_images\\01_open_circuit_09.jpg\n",
      "Saved grayscale image: D:\\BML Munjal\\3rd Year\\Sem 5\\DIP\\DIP-dataset\\PCB_DATASET\\grayscale_images\\01_open_circuit_10.jpg\n",
      "Saved grayscale image: D:\\BML Munjal\\3rd Year\\Sem 5\\DIP\\DIP-dataset\\PCB_DATASET\\grayscale_images\\01_open_circuit_11.jpg\n",
      "Saved grayscale image: D:\\BML Munjal\\3rd Year\\Sem 5\\DIP\\DIP-dataset\\PCB_DATASET\\grayscale_images\\01_open_circuit_12.jpg\n",
      "Saved grayscale image: D:\\BML Munjal\\3rd Year\\Sem 5\\DIP\\DIP-dataset\\PCB_DATASET\\grayscale_images\\01_open_circuit_13.jpg\n",
      "Saved grayscale image: D:\\BML Munjal\\3rd Year\\Sem 5\\DIP\\DIP-dataset\\PCB_DATASET\\grayscale_images\\01_open_circuit_14.jpg\n",
      "Saved grayscale image: D:\\BML Munjal\\3rd Year\\Sem 5\\DIP\\DIP-dataset\\PCB_DATASET\\grayscale_images\\01_open_circuit_15.jpg\n",
      "Saved grayscale image: D:\\BML Munjal\\3rd Year\\Sem 5\\DIP\\DIP-dataset\\PCB_DATASET\\grayscale_images\\01_open_circuit_16.jpg\n",
      "Saved grayscale image: D:\\BML Munjal\\3rd Year\\Sem 5\\DIP\\DIP-dataset\\PCB_DATASET\\grayscale_images\\01_open_circuit_17.jpg\n",
      "Saved grayscale image: D:\\BML Munjal\\3rd Year\\Sem 5\\DIP\\DIP-dataset\\PCB_DATASET\\grayscale_images\\01_open_circuit_18.jpg\n",
      "Saved grayscale image: D:\\BML Munjal\\3rd Year\\Sem 5\\DIP\\DIP-dataset\\PCB_DATASET\\grayscale_images\\01_open_circuit_19.jpg\n",
      "Saved grayscale image: D:\\BML Munjal\\3rd Year\\Sem 5\\DIP\\DIP-dataset\\PCB_DATASET\\grayscale_images\\01_open_circuit_20.jpg\n",
      "Saved grayscale image: D:\\BML Munjal\\3rd Year\\Sem 5\\DIP\\DIP-dataset\\PCB_DATASET\\grayscale_images\\01_short_01.jpg\n",
      "Saved grayscale image: D:\\BML Munjal\\3rd Year\\Sem 5\\DIP\\DIP-dataset\\PCB_DATASET\\grayscale_images\\01_short_02.jpg\n",
      "Saved grayscale image: D:\\BML Munjal\\3rd Year\\Sem 5\\DIP\\DIP-dataset\\PCB_DATASET\\grayscale_images\\01_short_03.jpg\n",
      "Saved grayscale image: D:\\BML Munjal\\3rd Year\\Sem 5\\DIP\\DIP-dataset\\PCB_DATASET\\grayscale_images\\01_short_04.jpg\n",
      "Saved grayscale image: D:\\BML Munjal\\3rd Year\\Sem 5\\DIP\\DIP-dataset\\PCB_DATASET\\grayscale_images\\01_short_05.jpg\n",
      "Saved grayscale image: D:\\BML Munjal\\3rd Year\\Sem 5\\DIP\\DIP-dataset\\PCB_DATASET\\grayscale_images\\01_short_06.jpg\n",
      "Saved grayscale image: D:\\BML Munjal\\3rd Year\\Sem 5\\DIP\\DIP-dataset\\PCB_DATASET\\grayscale_images\\01_short_07.jpg\n",
      "Saved grayscale image: D:\\BML Munjal\\3rd Year\\Sem 5\\DIP\\DIP-dataset\\PCB_DATASET\\grayscale_images\\01_short_08.jpg\n",
      "Saved grayscale image: D:\\BML Munjal\\3rd Year\\Sem 5\\DIP\\DIP-dataset\\PCB_DATASET\\grayscale_images\\01_short_09.jpg\n",
      "Saved grayscale image: D:\\BML Munjal\\3rd Year\\Sem 5\\DIP\\DIP-dataset\\PCB_DATASET\\grayscale_images\\01_short_10.jpg\n",
      "Saved grayscale image: D:\\BML Munjal\\3rd Year\\Sem 5\\DIP\\DIP-dataset\\PCB_DATASET\\grayscale_images\\01_short_11.jpg\n",
      "Saved grayscale image: D:\\BML Munjal\\3rd Year\\Sem 5\\DIP\\DIP-dataset\\PCB_DATASET\\grayscale_images\\01_short_12.jpg\n",
      "Saved grayscale image: D:\\BML Munjal\\3rd Year\\Sem 5\\DIP\\DIP-dataset\\PCB_DATASET\\grayscale_images\\01_short_13.jpg\n",
      "Saved grayscale image: D:\\BML Munjal\\3rd Year\\Sem 5\\DIP\\DIP-dataset\\PCB_DATASET\\grayscale_images\\01_short_14.jpg\n",
      "Saved grayscale image: D:\\BML Munjal\\3rd Year\\Sem 5\\DIP\\DIP-dataset\\PCB_DATASET\\grayscale_images\\01_short_15.jpg\n",
      "Saved grayscale image: D:\\BML Munjal\\3rd Year\\Sem 5\\DIP\\DIP-dataset\\PCB_DATASET\\grayscale_images\\01_short_16.jpg\n",
      "Saved grayscale image: D:\\BML Munjal\\3rd Year\\Sem 5\\DIP\\DIP-dataset\\PCB_DATASET\\grayscale_images\\01_short_17.jpg\n",
      "Saved grayscale image: D:\\BML Munjal\\3rd Year\\Sem 5\\DIP\\DIP-dataset\\PCB_DATASET\\grayscale_images\\01_short_18.jpg\n",
      "Saved grayscale image: D:\\BML Munjal\\3rd Year\\Sem 5\\DIP\\DIP-dataset\\PCB_DATASET\\grayscale_images\\01_short_19.jpg\n",
      "Saved grayscale image: D:\\BML Munjal\\3rd Year\\Sem 5\\DIP\\DIP-dataset\\PCB_DATASET\\grayscale_images\\01_short_20.jpg\n",
      "Saved grayscale image: D:\\BML Munjal\\3rd Year\\Sem 5\\DIP\\DIP-dataset\\PCB_DATASET\\grayscale_images\\01_spurious_copper_01.jpg\n",
      "Saved grayscale image: D:\\BML Munjal\\3rd Year\\Sem 5\\DIP\\DIP-dataset\\PCB_DATASET\\grayscale_images\\01_spurious_copper_02.jpg\n",
      "Saved grayscale image: D:\\BML Munjal\\3rd Year\\Sem 5\\DIP\\DIP-dataset\\PCB_DATASET\\grayscale_images\\01_spurious_copper_03.jpg\n",
      "Saved grayscale image: D:\\BML Munjal\\3rd Year\\Sem 5\\DIP\\DIP-dataset\\PCB_DATASET\\grayscale_images\\01_spurious_copper_04.jpg\n",
      "Saved grayscale image: D:\\BML Munjal\\3rd Year\\Sem 5\\DIP\\DIP-dataset\\PCB_DATASET\\grayscale_images\\01_spurious_copper_05.jpg\n",
      "Saved grayscale image: D:\\BML Munjal\\3rd Year\\Sem 5\\DIP\\DIP-dataset\\PCB_DATASET\\grayscale_images\\01_spurious_copper_06.jpg\n",
      "Saved grayscale image: D:\\BML Munjal\\3rd Year\\Sem 5\\DIP\\DIP-dataset\\PCB_DATASET\\grayscale_images\\01_spurious_copper_07.jpg\n",
      "Saved grayscale image: D:\\BML Munjal\\3rd Year\\Sem 5\\DIP\\DIP-dataset\\PCB_DATASET\\grayscale_images\\01_spurious_copper_08.jpg\n",
      "Saved grayscale image: D:\\BML Munjal\\3rd Year\\Sem 5\\DIP\\DIP-dataset\\PCB_DATASET\\grayscale_images\\01_spurious_copper_09.jpg\n",
      "Saved grayscale image: D:\\BML Munjal\\3rd Year\\Sem 5\\DIP\\DIP-dataset\\PCB_DATASET\\grayscale_images\\01_spurious_copper_10.jpg\n",
      "Saved grayscale image: D:\\BML Munjal\\3rd Year\\Sem 5\\DIP\\DIP-dataset\\PCB_DATASET\\grayscale_images\\01_spurious_copper_11.jpg\n",
      "Saved grayscale image: D:\\BML Munjal\\3rd Year\\Sem 5\\DIP\\DIP-dataset\\PCB_DATASET\\grayscale_images\\01_spurious_copper_12.jpg\n",
      "Saved grayscale image: D:\\BML Munjal\\3rd Year\\Sem 5\\DIP\\DIP-dataset\\PCB_DATASET\\grayscale_images\\01_spurious_copper_13.jpg\n",
      "Saved grayscale image: D:\\BML Munjal\\3rd Year\\Sem 5\\DIP\\DIP-dataset\\PCB_DATASET\\grayscale_images\\01_spurious_copper_14.jpg\n",
      "Saved grayscale image: D:\\BML Munjal\\3rd Year\\Sem 5\\DIP\\DIP-dataset\\PCB_DATASET\\grayscale_images\\01_spurious_copper_15.jpg\n",
      "Saved grayscale image: D:\\BML Munjal\\3rd Year\\Sem 5\\DIP\\DIP-dataset\\PCB_DATASET\\grayscale_images\\01_spurious_copper_16.jpg\n",
      "Saved grayscale image: D:\\BML Munjal\\3rd Year\\Sem 5\\DIP\\DIP-dataset\\PCB_DATASET\\grayscale_images\\01_spurious_copper_17.jpg\n",
      "Saved grayscale image: D:\\BML Munjal\\3rd Year\\Sem 5\\DIP\\DIP-dataset\\PCB_DATASET\\grayscale_images\\01_spurious_copper_18.jpg\n",
      "Saved grayscale image: D:\\BML Munjal\\3rd Year\\Sem 5\\DIP\\DIP-dataset\\PCB_DATASET\\grayscale_images\\01_spurious_copper_19.jpg\n",
      "Saved grayscale image: D:\\BML Munjal\\3rd Year\\Sem 5\\DIP\\DIP-dataset\\PCB_DATASET\\grayscale_images\\01_spurious_copper_20.jpg\n",
      "Saved grayscale image: D:\\BML Munjal\\3rd Year\\Sem 5\\DIP\\DIP-dataset\\PCB_DATASET\\grayscale_images\\01_spur_01.jpg\n",
      "Saved grayscale image: D:\\BML Munjal\\3rd Year\\Sem 5\\DIP\\DIP-dataset\\PCB_DATASET\\grayscale_images\\01_spur_02.jpg\n",
      "Saved grayscale image: D:\\BML Munjal\\3rd Year\\Sem 5\\DIP\\DIP-dataset\\PCB_DATASET\\grayscale_images\\01_spur_03.jpg\n",
      "Saved grayscale image: D:\\BML Munjal\\3rd Year\\Sem 5\\DIP\\DIP-dataset\\PCB_DATASET\\grayscale_images\\01_spur_04.jpg\n",
      "Saved grayscale image: D:\\BML Munjal\\3rd Year\\Sem 5\\DIP\\DIP-dataset\\PCB_DATASET\\grayscale_images\\01_spur_05.jpg\n",
      "Saved grayscale image: D:\\BML Munjal\\3rd Year\\Sem 5\\DIP\\DIP-dataset\\PCB_DATASET\\grayscale_images\\01_spur_06.jpg\n",
      "Saved grayscale image: D:\\BML Munjal\\3rd Year\\Sem 5\\DIP\\DIP-dataset\\PCB_DATASET\\grayscale_images\\01_spur_07.jpg\n",
      "Saved grayscale image: D:\\BML Munjal\\3rd Year\\Sem 5\\DIP\\DIP-dataset\\PCB_DATASET\\grayscale_images\\01_spur_08.jpg\n",
      "Saved grayscale image: D:\\BML Munjal\\3rd Year\\Sem 5\\DIP\\DIP-dataset\\PCB_DATASET\\grayscale_images\\01_spur_09.jpg\n",
      "Saved grayscale image: D:\\BML Munjal\\3rd Year\\Sem 5\\DIP\\DIP-dataset\\PCB_DATASET\\grayscale_images\\01_spur_10.jpg\n",
      "Saved grayscale image: D:\\BML Munjal\\3rd Year\\Sem 5\\DIP\\DIP-dataset\\PCB_DATASET\\grayscale_images\\01_spur_11.jpg\n",
      "Saved grayscale image: D:\\BML Munjal\\3rd Year\\Sem 5\\DIP\\DIP-dataset\\PCB_DATASET\\grayscale_images\\01_spur_12.jpg\n",
      "Saved grayscale image: D:\\BML Munjal\\3rd Year\\Sem 5\\DIP\\DIP-dataset\\PCB_DATASET\\grayscale_images\\01_spur_13.jpg\n",
      "Saved grayscale image: D:\\BML Munjal\\3rd Year\\Sem 5\\DIP\\DIP-dataset\\PCB_DATASET\\grayscale_images\\01_spur_14.jpg\n",
      "Saved grayscale image: D:\\BML Munjal\\3rd Year\\Sem 5\\DIP\\DIP-dataset\\PCB_DATASET\\grayscale_images\\01_spur_15.jpg\n",
      "Saved grayscale image: D:\\BML Munjal\\3rd Year\\Sem 5\\DIP\\DIP-dataset\\PCB_DATASET\\grayscale_images\\01_spur_16.jpg\n",
      "Saved grayscale image: D:\\BML Munjal\\3rd Year\\Sem 5\\DIP\\DIP-dataset\\PCB_DATASET\\grayscale_images\\01_spur_17.jpg\n",
      "Saved grayscale image: D:\\BML Munjal\\3rd Year\\Sem 5\\DIP\\DIP-dataset\\PCB_DATASET\\grayscale_images\\01_spur_18.jpg\n",
      "Saved grayscale image: D:\\BML Munjal\\3rd Year\\Sem 5\\DIP\\DIP-dataset\\PCB_DATASET\\grayscale_images\\01_spur_19.jpg\n",
      "Saved grayscale image: D:\\BML Munjal\\3rd Year\\Sem 5\\DIP\\DIP-dataset\\PCB_DATASET\\grayscale_images\\01_spur_20.jpg\n",
      "Saved grayscale image: D:\\BML Munjal\\3rd Year\\Sem 5\\DIP\\DIP-dataset\\PCB_DATASET\\grayscale_images\\04_missing_hole_01.jpg\n",
      "Saved grayscale image: D:\\BML Munjal\\3rd Year\\Sem 5\\DIP\\DIP-dataset\\PCB_DATASET\\grayscale_images\\04_missing_hole_02.jpg\n",
      "Saved grayscale image: D:\\BML Munjal\\3rd Year\\Sem 5\\DIP\\DIP-dataset\\PCB_DATASET\\grayscale_images\\04_missing_hole_03.jpg\n",
      "Saved grayscale image: D:\\BML Munjal\\3rd Year\\Sem 5\\DIP\\DIP-dataset\\PCB_DATASET\\grayscale_images\\04_missing_hole_04.jpg\n",
      "Saved grayscale image: D:\\BML Munjal\\3rd Year\\Sem 5\\DIP\\DIP-dataset\\PCB_DATASET\\grayscale_images\\04_missing_hole_05.jpg\n",
      "Saved grayscale image: D:\\BML Munjal\\3rd Year\\Sem 5\\DIP\\DIP-dataset\\PCB_DATASET\\grayscale_images\\04_missing_hole_06.jpg\n",
      "Saved grayscale image: D:\\BML Munjal\\3rd Year\\Sem 5\\DIP\\DIP-dataset\\PCB_DATASET\\grayscale_images\\04_missing_hole_07.jpg\n",
      "Saved grayscale image: D:\\BML Munjal\\3rd Year\\Sem 5\\DIP\\DIP-dataset\\PCB_DATASET\\grayscale_images\\04_missing_hole_08.jpg\n",
      "Saved grayscale image: D:\\BML Munjal\\3rd Year\\Sem 5\\DIP\\DIP-dataset\\PCB_DATASET\\grayscale_images\\04_missing_hole_09.jpg\n",
      "Saved grayscale image: D:\\BML Munjal\\3rd Year\\Sem 5\\DIP\\DIP-dataset\\PCB_DATASET\\grayscale_images\\04_missing_hole_10.jpg\n",
      "Saved grayscale image: D:\\BML Munjal\\3rd Year\\Sem 5\\DIP\\DIP-dataset\\PCB_DATASET\\grayscale_images\\04_missing_hole_11.jpg\n",
      "Saved grayscale image: D:\\BML Munjal\\3rd Year\\Sem 5\\DIP\\DIP-dataset\\PCB_DATASET\\grayscale_images\\04_missing_hole_12.jpg\n",
      "Saved grayscale image: D:\\BML Munjal\\3rd Year\\Sem 5\\DIP\\DIP-dataset\\PCB_DATASET\\grayscale_images\\04_missing_hole_13.jpg\n",
      "Saved grayscale image: D:\\BML Munjal\\3rd Year\\Sem 5\\DIP\\DIP-dataset\\PCB_DATASET\\grayscale_images\\04_missing_hole_14.jpg\n",
      "Saved grayscale image: D:\\BML Munjal\\3rd Year\\Sem 5\\DIP\\DIP-dataset\\PCB_DATASET\\grayscale_images\\04_missing_hole_15.jpg\n",
      "Saved grayscale image: D:\\BML Munjal\\3rd Year\\Sem 5\\DIP\\DIP-dataset\\PCB_DATASET\\grayscale_images\\04_missing_hole_16.jpg\n",
      "Saved grayscale image: D:\\BML Munjal\\3rd Year\\Sem 5\\DIP\\DIP-dataset\\PCB_DATASET\\grayscale_images\\04_missing_hole_17.jpg\n",
      "Saved grayscale image: D:\\BML Munjal\\3rd Year\\Sem 5\\DIP\\DIP-dataset\\PCB_DATASET\\grayscale_images\\04_missing_hole_18.jpg\n",
      "Saved grayscale image: D:\\BML Munjal\\3rd Year\\Sem 5\\DIP\\DIP-dataset\\PCB_DATASET\\grayscale_images\\04_missing_hole_19.jpg\n",
      "Saved grayscale image: D:\\BML Munjal\\3rd Year\\Sem 5\\DIP\\DIP-dataset\\PCB_DATASET\\grayscale_images\\04_missing_hole_20.jpg\n",
      "Saved grayscale image: D:\\BML Munjal\\3rd Year\\Sem 5\\DIP\\DIP-dataset\\PCB_DATASET\\grayscale_images\\04_mouse_bite_01.jpg\n",
      "Saved grayscale image: D:\\BML Munjal\\3rd Year\\Sem 5\\DIP\\DIP-dataset\\PCB_DATASET\\grayscale_images\\04_mouse_bite_02.jpg\n",
      "Saved grayscale image: D:\\BML Munjal\\3rd Year\\Sem 5\\DIP\\DIP-dataset\\PCB_DATASET\\grayscale_images\\04_mouse_bite_03.jpg\n",
      "Saved grayscale image: D:\\BML Munjal\\3rd Year\\Sem 5\\DIP\\DIP-dataset\\PCB_DATASET\\grayscale_images\\04_mouse_bite_04.jpg\n",
      "Saved grayscale image: D:\\BML Munjal\\3rd Year\\Sem 5\\DIP\\DIP-dataset\\PCB_DATASET\\grayscale_images\\04_mouse_bite_05.jpg\n",
      "Saved grayscale image: D:\\BML Munjal\\3rd Year\\Sem 5\\DIP\\DIP-dataset\\PCB_DATASET\\grayscale_images\\04_mouse_bite_06.jpg\n",
      "Saved grayscale image: D:\\BML Munjal\\3rd Year\\Sem 5\\DIP\\DIP-dataset\\PCB_DATASET\\grayscale_images\\04_mouse_bite_07.jpg\n",
      "Saved grayscale image: D:\\BML Munjal\\3rd Year\\Sem 5\\DIP\\DIP-dataset\\PCB_DATASET\\grayscale_images\\04_mouse_bite_08.jpg\n",
      "Saved grayscale image: D:\\BML Munjal\\3rd Year\\Sem 5\\DIP\\DIP-dataset\\PCB_DATASET\\grayscale_images\\04_mouse_bite_09.jpg\n",
      "Saved grayscale image: D:\\BML Munjal\\3rd Year\\Sem 5\\DIP\\DIP-dataset\\PCB_DATASET\\grayscale_images\\04_mouse_bite_10.jpg\n",
      "Saved grayscale image: D:\\BML Munjal\\3rd Year\\Sem 5\\DIP\\DIP-dataset\\PCB_DATASET\\grayscale_images\\04_mouse_bite_11.jpg\n",
      "Saved grayscale image: D:\\BML Munjal\\3rd Year\\Sem 5\\DIP\\DIP-dataset\\PCB_DATASET\\grayscale_images\\04_mouse_bite_12.jpg\n",
      "Saved grayscale image: D:\\BML Munjal\\3rd Year\\Sem 5\\DIP\\DIP-dataset\\PCB_DATASET\\grayscale_images\\04_mouse_bite_13.jpg\n",
      "Saved grayscale image: D:\\BML Munjal\\3rd Year\\Sem 5\\DIP\\DIP-dataset\\PCB_DATASET\\grayscale_images\\04_mouse_bite_14.jpg\n",
      "Saved grayscale image: D:\\BML Munjal\\3rd Year\\Sem 5\\DIP\\DIP-dataset\\PCB_DATASET\\grayscale_images\\04_mouse_bite_15.jpg\n",
      "Saved grayscale image: D:\\BML Munjal\\3rd Year\\Sem 5\\DIP\\DIP-dataset\\PCB_DATASET\\grayscale_images\\04_mouse_bite_16.jpg\n",
      "Saved grayscale image: D:\\BML Munjal\\3rd Year\\Sem 5\\DIP\\DIP-dataset\\PCB_DATASET\\grayscale_images\\04_mouse_bite_17.jpg\n",
      "Saved grayscale image: D:\\BML Munjal\\3rd Year\\Sem 5\\DIP\\DIP-dataset\\PCB_DATASET\\grayscale_images\\04_mouse_bite_18.jpg\n",
      "Saved grayscale image: D:\\BML Munjal\\3rd Year\\Sem 5\\DIP\\DIP-dataset\\PCB_DATASET\\grayscale_images\\04_mouse_bite_19.jpg\n",
      "Saved grayscale image: D:\\BML Munjal\\3rd Year\\Sem 5\\DIP\\DIP-dataset\\PCB_DATASET\\grayscale_images\\04_mouse_bite_20.jpg\n",
      "Saved grayscale image: D:\\BML Munjal\\3rd Year\\Sem 5\\DIP\\DIP-dataset\\PCB_DATASET\\grayscale_images\\04_open_circuit_01.jpg\n",
      "Saved grayscale image: D:\\BML Munjal\\3rd Year\\Sem 5\\DIP\\DIP-dataset\\PCB_DATASET\\grayscale_images\\04_open_circuit_02.jpg\n",
      "Saved grayscale image: D:\\BML Munjal\\3rd Year\\Sem 5\\DIP\\DIP-dataset\\PCB_DATASET\\grayscale_images\\04_open_circuit_03.jpg\n",
      "Saved grayscale image: D:\\BML Munjal\\3rd Year\\Sem 5\\DIP\\DIP-dataset\\PCB_DATASET\\grayscale_images\\04_open_circuit_04.jpg\n",
      "Saved grayscale image: D:\\BML Munjal\\3rd Year\\Sem 5\\DIP\\DIP-dataset\\PCB_DATASET\\grayscale_images\\04_open_circuit_05.jpg\n",
      "Saved grayscale image: D:\\BML Munjal\\3rd Year\\Sem 5\\DIP\\DIP-dataset\\PCB_DATASET\\grayscale_images\\04_open_circuit_06.jpg\n",
      "Saved grayscale image: D:\\BML Munjal\\3rd Year\\Sem 5\\DIP\\DIP-dataset\\PCB_DATASET\\grayscale_images\\04_open_circuit_07.jpg\n",
      "Saved grayscale image: D:\\BML Munjal\\3rd Year\\Sem 5\\DIP\\DIP-dataset\\PCB_DATASET\\grayscale_images\\04_open_circuit_08.jpg\n",
      "Saved grayscale image: D:\\BML Munjal\\3rd Year\\Sem 5\\DIP\\DIP-dataset\\PCB_DATASET\\grayscale_images\\04_open_circuit_09.jpg\n",
      "Saved grayscale image: D:\\BML Munjal\\3rd Year\\Sem 5\\DIP\\DIP-dataset\\PCB_DATASET\\grayscale_images\\04_open_circuit_10.jpg\n",
      "Saved grayscale image: D:\\BML Munjal\\3rd Year\\Sem 5\\DIP\\DIP-dataset\\PCB_DATASET\\grayscale_images\\04_open_circuit_11.jpg\n",
      "Saved grayscale image: D:\\BML Munjal\\3rd Year\\Sem 5\\DIP\\DIP-dataset\\PCB_DATASET\\grayscale_images\\04_open_circuit_12.jpg\n",
      "Saved grayscale image: D:\\BML Munjal\\3rd Year\\Sem 5\\DIP\\DIP-dataset\\PCB_DATASET\\grayscale_images\\04_open_circuit_13.jpg\n",
      "Saved grayscale image: D:\\BML Munjal\\3rd Year\\Sem 5\\DIP\\DIP-dataset\\PCB_DATASET\\grayscale_images\\04_open_circuit_14.jpg\n",
      "Saved grayscale image: D:\\BML Munjal\\3rd Year\\Sem 5\\DIP\\DIP-dataset\\PCB_DATASET\\grayscale_images\\04_open_circuit_15.jpg\n",
      "Saved grayscale image: D:\\BML Munjal\\3rd Year\\Sem 5\\DIP\\DIP-dataset\\PCB_DATASET\\grayscale_images\\04_open_circuit_16.jpg\n",
      "Saved grayscale image: D:\\BML Munjal\\3rd Year\\Sem 5\\DIP\\DIP-dataset\\PCB_DATASET\\grayscale_images\\04_open_circuit_17.jpg\n",
      "Saved grayscale image: D:\\BML Munjal\\3rd Year\\Sem 5\\DIP\\DIP-dataset\\PCB_DATASET\\grayscale_images\\04_open_circuit_18.jpg\n",
      "Saved grayscale image: D:\\BML Munjal\\3rd Year\\Sem 5\\DIP\\DIP-dataset\\PCB_DATASET\\grayscale_images\\04_open_circuit_19.jpg\n",
      "Saved grayscale image: D:\\BML Munjal\\3rd Year\\Sem 5\\DIP\\DIP-dataset\\PCB_DATASET\\grayscale_images\\04_open_circuit_20.jpg\n",
      "Saved grayscale image: D:\\BML Munjal\\3rd Year\\Sem 5\\DIP\\DIP-dataset\\PCB_DATASET\\grayscale_images\\04_short_01.jpg\n",
      "Saved grayscale image: D:\\BML Munjal\\3rd Year\\Sem 5\\DIP\\DIP-dataset\\PCB_DATASET\\grayscale_images\\04_short_02.jpg\n",
      "Saved grayscale image: D:\\BML Munjal\\3rd Year\\Sem 5\\DIP\\DIP-dataset\\PCB_DATASET\\grayscale_images\\04_short_03.jpg\n",
      "Saved grayscale image: D:\\BML Munjal\\3rd Year\\Sem 5\\DIP\\DIP-dataset\\PCB_DATASET\\grayscale_images\\04_short_04.jpg\n",
      "Saved grayscale image: D:\\BML Munjal\\3rd Year\\Sem 5\\DIP\\DIP-dataset\\PCB_DATASET\\grayscale_images\\04_short_05.jpg\n",
      "Saved grayscale image: D:\\BML Munjal\\3rd Year\\Sem 5\\DIP\\DIP-dataset\\PCB_DATASET\\grayscale_images\\04_short_06.jpg\n",
      "Saved grayscale image: D:\\BML Munjal\\3rd Year\\Sem 5\\DIP\\DIP-dataset\\PCB_DATASET\\grayscale_images\\04_short_07.jpg\n",
      "Saved grayscale image: D:\\BML Munjal\\3rd Year\\Sem 5\\DIP\\DIP-dataset\\PCB_DATASET\\grayscale_images\\04_short_08.jpg\n",
      "Saved grayscale image: D:\\BML Munjal\\3rd Year\\Sem 5\\DIP\\DIP-dataset\\PCB_DATASET\\grayscale_images\\04_short_09.jpg\n",
      "Saved grayscale image: D:\\BML Munjal\\3rd Year\\Sem 5\\DIP\\DIP-dataset\\PCB_DATASET\\grayscale_images\\04_short_10.jpg\n",
      "Saved grayscale image: D:\\BML Munjal\\3rd Year\\Sem 5\\DIP\\DIP-dataset\\PCB_DATASET\\grayscale_images\\04_short_11.jpg\n",
      "Saved grayscale image: D:\\BML Munjal\\3rd Year\\Sem 5\\DIP\\DIP-dataset\\PCB_DATASET\\grayscale_images\\04_short_12.jpg\n",
      "Saved grayscale image: D:\\BML Munjal\\3rd Year\\Sem 5\\DIP\\DIP-dataset\\PCB_DATASET\\grayscale_images\\04_short_13.jpg\n",
      "Saved grayscale image: D:\\BML Munjal\\3rd Year\\Sem 5\\DIP\\DIP-dataset\\PCB_DATASET\\grayscale_images\\04_short_14.jpg\n",
      "Saved grayscale image: D:\\BML Munjal\\3rd Year\\Sem 5\\DIP\\DIP-dataset\\PCB_DATASET\\grayscale_images\\04_short_15.jpg\n",
      "Saved grayscale image: D:\\BML Munjal\\3rd Year\\Sem 5\\DIP\\DIP-dataset\\PCB_DATASET\\grayscale_images\\04_short_16.jpg\n",
      "Saved grayscale image: D:\\BML Munjal\\3rd Year\\Sem 5\\DIP\\DIP-dataset\\PCB_DATASET\\grayscale_images\\04_short_17.jpg\n",
      "Saved grayscale image: D:\\BML Munjal\\3rd Year\\Sem 5\\DIP\\DIP-dataset\\PCB_DATASET\\grayscale_images\\04_short_18.jpg\n",
      "Saved grayscale image: D:\\BML Munjal\\3rd Year\\Sem 5\\DIP\\DIP-dataset\\PCB_DATASET\\grayscale_images\\04_short_19.jpg\n",
      "Saved grayscale image: D:\\BML Munjal\\3rd Year\\Sem 5\\DIP\\DIP-dataset\\PCB_DATASET\\grayscale_images\\04_short_20.jpg\n",
      "Saved grayscale image: D:\\BML Munjal\\3rd Year\\Sem 5\\DIP\\DIP-dataset\\PCB_DATASET\\grayscale_images\\04_spurious_copper_01.jpg\n",
      "Saved grayscale image: D:\\BML Munjal\\3rd Year\\Sem 5\\DIP\\DIP-dataset\\PCB_DATASET\\grayscale_images\\04_spurious_copper_02.jpg\n",
      "Saved grayscale image: D:\\BML Munjal\\3rd Year\\Sem 5\\DIP\\DIP-dataset\\PCB_DATASET\\grayscale_images\\04_spurious_copper_03.jpg\n",
      "Saved grayscale image: D:\\BML Munjal\\3rd Year\\Sem 5\\DIP\\DIP-dataset\\PCB_DATASET\\grayscale_images\\04_spurious_copper_04.jpg\n",
      "Saved grayscale image: D:\\BML Munjal\\3rd Year\\Sem 5\\DIP\\DIP-dataset\\PCB_DATASET\\grayscale_images\\04_spurious_copper_05.jpg\n",
      "Saved grayscale image: D:\\BML Munjal\\3rd Year\\Sem 5\\DIP\\DIP-dataset\\PCB_DATASET\\grayscale_images\\04_spurious_copper_06.jpg\n",
      "Saved grayscale image: D:\\BML Munjal\\3rd Year\\Sem 5\\DIP\\DIP-dataset\\PCB_DATASET\\grayscale_images\\04_spurious_copper_07.jpg\n",
      "Saved grayscale image: D:\\BML Munjal\\3rd Year\\Sem 5\\DIP\\DIP-dataset\\PCB_DATASET\\grayscale_images\\04_spurious_copper_08.jpg\n",
      "Saved grayscale image: D:\\BML Munjal\\3rd Year\\Sem 5\\DIP\\DIP-dataset\\PCB_DATASET\\grayscale_images\\04_spurious_copper_09.jpg\n",
      "Saved grayscale image: D:\\BML Munjal\\3rd Year\\Sem 5\\DIP\\DIP-dataset\\PCB_DATASET\\grayscale_images\\04_spurious_copper_10.jpg\n",
      "Saved grayscale image: D:\\BML Munjal\\3rd Year\\Sem 5\\DIP\\DIP-dataset\\PCB_DATASET\\grayscale_images\\04_spurious_copper_11.jpg\n",
      "Saved grayscale image: D:\\BML Munjal\\3rd Year\\Sem 5\\DIP\\DIP-dataset\\PCB_DATASET\\grayscale_images\\04_spurious_copper_12.jpg\n",
      "Saved grayscale image: D:\\BML Munjal\\3rd Year\\Sem 5\\DIP\\DIP-dataset\\PCB_DATASET\\grayscale_images\\04_spurious_copper_13.jpg\n",
      "Saved grayscale image: D:\\BML Munjal\\3rd Year\\Sem 5\\DIP\\DIP-dataset\\PCB_DATASET\\grayscale_images\\04_spurious_copper_14.jpg\n",
      "Saved grayscale image: D:\\BML Munjal\\3rd Year\\Sem 5\\DIP\\DIP-dataset\\PCB_DATASET\\grayscale_images\\04_spurious_copper_15.jpg\n",
      "Saved grayscale image: D:\\BML Munjal\\3rd Year\\Sem 5\\DIP\\DIP-dataset\\PCB_DATASET\\grayscale_images\\04_spurious_copper_16.jpg\n",
      "Saved grayscale image: D:\\BML Munjal\\3rd Year\\Sem 5\\DIP\\DIP-dataset\\PCB_DATASET\\grayscale_images\\04_spurious_copper_17.jpg\n",
      "Saved grayscale image: D:\\BML Munjal\\3rd Year\\Sem 5\\DIP\\DIP-dataset\\PCB_DATASET\\grayscale_images\\04_spurious_copper_18.jpg\n",
      "Saved grayscale image: D:\\BML Munjal\\3rd Year\\Sem 5\\DIP\\DIP-dataset\\PCB_DATASET\\grayscale_images\\04_spurious_copper_19.jpg\n",
      "Saved grayscale image: D:\\BML Munjal\\3rd Year\\Sem 5\\DIP\\DIP-dataset\\PCB_DATASET\\grayscale_images\\04_spurious_copper_20.jpg\n",
      "Saved grayscale image: D:\\BML Munjal\\3rd Year\\Sem 5\\DIP\\DIP-dataset\\PCB_DATASET\\grayscale_images\\04_spur_01.jpg\n",
      "Saved grayscale image: D:\\BML Munjal\\3rd Year\\Sem 5\\DIP\\DIP-dataset\\PCB_DATASET\\grayscale_images\\04_spur_02.jpg\n",
      "Saved grayscale image: D:\\BML Munjal\\3rd Year\\Sem 5\\DIP\\DIP-dataset\\PCB_DATASET\\grayscale_images\\04_spur_03.jpg\n",
      "Saved grayscale image: D:\\BML Munjal\\3rd Year\\Sem 5\\DIP\\DIP-dataset\\PCB_DATASET\\grayscale_images\\04_spur_04.jpg\n",
      "Saved grayscale image: D:\\BML Munjal\\3rd Year\\Sem 5\\DIP\\DIP-dataset\\PCB_DATASET\\grayscale_images\\04_spur_05.jpg\n",
      "Saved grayscale image: D:\\BML Munjal\\3rd Year\\Sem 5\\DIP\\DIP-dataset\\PCB_DATASET\\grayscale_images\\04_spur_06.jpg\n",
      "Saved grayscale image: D:\\BML Munjal\\3rd Year\\Sem 5\\DIP\\DIP-dataset\\PCB_DATASET\\grayscale_images\\04_spur_07.jpg\n",
      "Saved grayscale image: D:\\BML Munjal\\3rd Year\\Sem 5\\DIP\\DIP-dataset\\PCB_DATASET\\grayscale_images\\04_spur_08.jpg\n",
      "Saved grayscale image: D:\\BML Munjal\\3rd Year\\Sem 5\\DIP\\DIP-dataset\\PCB_DATASET\\grayscale_images\\04_spur_09.jpg\n",
      "Saved grayscale image: D:\\BML Munjal\\3rd Year\\Sem 5\\DIP\\DIP-dataset\\PCB_DATASET\\grayscale_images\\04_spur_10.jpg\n",
      "Saved grayscale image: D:\\BML Munjal\\3rd Year\\Sem 5\\DIP\\DIP-dataset\\PCB_DATASET\\grayscale_images\\04_spur_11.jpg\n",
      "Saved grayscale image: D:\\BML Munjal\\3rd Year\\Sem 5\\DIP\\DIP-dataset\\PCB_DATASET\\grayscale_images\\04_spur_12.jpg\n",
      "Saved grayscale image: D:\\BML Munjal\\3rd Year\\Sem 5\\DIP\\DIP-dataset\\PCB_DATASET\\grayscale_images\\04_spur_13.jpg\n",
      "Saved grayscale image: D:\\BML Munjal\\3rd Year\\Sem 5\\DIP\\DIP-dataset\\PCB_DATASET\\grayscale_images\\04_spur_14.jpg\n",
      "Saved grayscale image: D:\\BML Munjal\\3rd Year\\Sem 5\\DIP\\DIP-dataset\\PCB_DATASET\\grayscale_images\\04_spur_15.jpg\n",
      "Saved grayscale image: D:\\BML Munjal\\3rd Year\\Sem 5\\DIP\\DIP-dataset\\PCB_DATASET\\grayscale_images\\04_spur_16.jpg\n",
      "Saved grayscale image: D:\\BML Munjal\\3rd Year\\Sem 5\\DIP\\DIP-dataset\\PCB_DATASET\\grayscale_images\\04_spur_17.jpg\n",
      "Saved grayscale image: D:\\BML Munjal\\3rd Year\\Sem 5\\DIP\\DIP-dataset\\PCB_DATASET\\grayscale_images\\04_spur_18.jpg\n",
      "Saved grayscale image: D:\\BML Munjal\\3rd Year\\Sem 5\\DIP\\DIP-dataset\\PCB_DATASET\\grayscale_images\\04_spur_19.jpg\n",
      "Saved grayscale image: D:\\BML Munjal\\3rd Year\\Sem 5\\DIP\\DIP-dataset\\PCB_DATASET\\grayscale_images\\04_spur_20.jpg\n",
      "Saved grayscale image: D:\\BML Munjal\\3rd Year\\Sem 5\\DIP\\DIP-dataset\\PCB_DATASET\\grayscale_images\\05_missing_hole_01.jpg\n",
      "Saved grayscale image: D:\\BML Munjal\\3rd Year\\Sem 5\\DIP\\DIP-dataset\\PCB_DATASET\\grayscale_images\\05_missing_hole_02.jpg\n",
      "Saved grayscale image: D:\\BML Munjal\\3rd Year\\Sem 5\\DIP\\DIP-dataset\\PCB_DATASET\\grayscale_images\\05_missing_hole_03.jpg\n",
      "Saved grayscale image: D:\\BML Munjal\\3rd Year\\Sem 5\\DIP\\DIP-dataset\\PCB_DATASET\\grayscale_images\\05_missing_hole_04.jpg\n",
      "Saved grayscale image: D:\\BML Munjal\\3rd Year\\Sem 5\\DIP\\DIP-dataset\\PCB_DATASET\\grayscale_images\\05_missing_hole_05.jpg\n",
      "Saved grayscale image: D:\\BML Munjal\\3rd Year\\Sem 5\\DIP\\DIP-dataset\\PCB_DATASET\\grayscale_images\\05_missing_hole_06.jpg\n",
      "Saved grayscale image: D:\\BML Munjal\\3rd Year\\Sem 5\\DIP\\DIP-dataset\\PCB_DATASET\\grayscale_images\\05_missing_hole_07.jpg\n",
      "Saved grayscale image: D:\\BML Munjal\\3rd Year\\Sem 5\\DIP\\DIP-dataset\\PCB_DATASET\\grayscale_images\\05_missing_hole_08.jpg\n",
      "Saved grayscale image: D:\\BML Munjal\\3rd Year\\Sem 5\\DIP\\DIP-dataset\\PCB_DATASET\\grayscale_images\\05_missing_hole_09.jpg\n",
      "Saved grayscale image: D:\\BML Munjal\\3rd Year\\Sem 5\\DIP\\DIP-dataset\\PCB_DATASET\\grayscale_images\\05_missing_hole_10.jpg\n",
      "Saved grayscale image: D:\\BML Munjal\\3rd Year\\Sem 5\\DIP\\DIP-dataset\\PCB_DATASET\\grayscale_images\\05_mouse_bite_01.jpg\n",
      "Saved grayscale image: D:\\BML Munjal\\3rd Year\\Sem 5\\DIP\\DIP-dataset\\PCB_DATASET\\grayscale_images\\05_mouse_bite_02.jpg\n",
      "Saved grayscale image: D:\\BML Munjal\\3rd Year\\Sem 5\\DIP\\DIP-dataset\\PCB_DATASET\\grayscale_images\\05_mouse_bite_03.jpg\n",
      "Saved grayscale image: D:\\BML Munjal\\3rd Year\\Sem 5\\DIP\\DIP-dataset\\PCB_DATASET\\grayscale_images\\05_mouse_bite_04.jpg\n",
      "Saved grayscale image: D:\\BML Munjal\\3rd Year\\Sem 5\\DIP\\DIP-dataset\\PCB_DATASET\\grayscale_images\\05_mouse_bite_05.jpg\n",
      "Saved grayscale image: D:\\BML Munjal\\3rd Year\\Sem 5\\DIP\\DIP-dataset\\PCB_DATASET\\grayscale_images\\05_mouse_bite_06.jpg\n",
      "Saved grayscale image: D:\\BML Munjal\\3rd Year\\Sem 5\\DIP\\DIP-dataset\\PCB_DATASET\\grayscale_images\\05_mouse_bite_07.jpg\n",
      "Saved grayscale image: D:\\BML Munjal\\3rd Year\\Sem 5\\DIP\\DIP-dataset\\PCB_DATASET\\grayscale_images\\05_mouse_bite_08.jpg\n",
      "Saved grayscale image: D:\\BML Munjal\\3rd Year\\Sem 5\\DIP\\DIP-dataset\\PCB_DATASET\\grayscale_images\\05_mouse_bite_09.jpg\n",
      "Saved grayscale image: D:\\BML Munjal\\3rd Year\\Sem 5\\DIP\\DIP-dataset\\PCB_DATASET\\grayscale_images\\05_mouse_bite_10.jpg\n",
      "Saved grayscale image: D:\\BML Munjal\\3rd Year\\Sem 5\\DIP\\DIP-dataset\\PCB_DATASET\\grayscale_images\\05_open_circuit_01.jpg\n",
      "Saved grayscale image: D:\\BML Munjal\\3rd Year\\Sem 5\\DIP\\DIP-dataset\\PCB_DATASET\\grayscale_images\\05_open_circuit_02.jpg\n",
      "Saved grayscale image: D:\\BML Munjal\\3rd Year\\Sem 5\\DIP\\DIP-dataset\\PCB_DATASET\\grayscale_images\\05_open_circuit_03.jpg\n",
      "Saved grayscale image: D:\\BML Munjal\\3rd Year\\Sem 5\\DIP\\DIP-dataset\\PCB_DATASET\\grayscale_images\\05_open_circuit_04.jpg\n",
      "Saved grayscale image: D:\\BML Munjal\\3rd Year\\Sem 5\\DIP\\DIP-dataset\\PCB_DATASET\\grayscale_images\\05_open_circuit_05.jpg\n",
      "Saved grayscale image: D:\\BML Munjal\\3rd Year\\Sem 5\\DIP\\DIP-dataset\\PCB_DATASET\\grayscale_images\\05_open_circuit_06.jpg\n",
      "Saved grayscale image: D:\\BML Munjal\\3rd Year\\Sem 5\\DIP\\DIP-dataset\\PCB_DATASET\\grayscale_images\\05_open_circuit_07.jpg\n",
      "Saved grayscale image: D:\\BML Munjal\\3rd Year\\Sem 5\\DIP\\DIP-dataset\\PCB_DATASET\\grayscale_images\\05_open_circuit_08.jpg\n",
      "Saved grayscale image: D:\\BML Munjal\\3rd Year\\Sem 5\\DIP\\DIP-dataset\\PCB_DATASET\\grayscale_images\\05_open_circuit_09.jpg\n",
      "Saved grayscale image: D:\\BML Munjal\\3rd Year\\Sem 5\\DIP\\DIP-dataset\\PCB_DATASET\\grayscale_images\\05_open_circuit_10.jpg\n",
      "Saved grayscale image: D:\\BML Munjal\\3rd Year\\Sem 5\\DIP\\DIP-dataset\\PCB_DATASET\\grayscale_images\\05_short_01.jpg\n",
      "Saved grayscale image: D:\\BML Munjal\\3rd Year\\Sem 5\\DIP\\DIP-dataset\\PCB_DATASET\\grayscale_images\\05_short_02.jpg\n",
      "Saved grayscale image: D:\\BML Munjal\\3rd Year\\Sem 5\\DIP\\DIP-dataset\\PCB_DATASET\\grayscale_images\\05_short_03.jpg\n",
      "Saved grayscale image: D:\\BML Munjal\\3rd Year\\Sem 5\\DIP\\DIP-dataset\\PCB_DATASET\\grayscale_images\\05_short_04.jpg\n",
      "Saved grayscale image: D:\\BML Munjal\\3rd Year\\Sem 5\\DIP\\DIP-dataset\\PCB_DATASET\\grayscale_images\\05_short_05.jpg\n",
      "Saved grayscale image: D:\\BML Munjal\\3rd Year\\Sem 5\\DIP\\DIP-dataset\\PCB_DATASET\\grayscale_images\\05_short_06.jpg\n",
      "Saved grayscale image: D:\\BML Munjal\\3rd Year\\Sem 5\\DIP\\DIP-dataset\\PCB_DATASET\\grayscale_images\\05_short_07.jpg\n",
      "Saved grayscale image: D:\\BML Munjal\\3rd Year\\Sem 5\\DIP\\DIP-dataset\\PCB_DATASET\\grayscale_images\\05_short_08.jpg\n",
      "Saved grayscale image: D:\\BML Munjal\\3rd Year\\Sem 5\\DIP\\DIP-dataset\\PCB_DATASET\\grayscale_images\\05_short_09.jpg\n",
      "Saved grayscale image: D:\\BML Munjal\\3rd Year\\Sem 5\\DIP\\DIP-dataset\\PCB_DATASET\\grayscale_images\\05_short_10.jpg\n",
      "Saved grayscale image: D:\\BML Munjal\\3rd Year\\Sem 5\\DIP\\DIP-dataset\\PCB_DATASET\\grayscale_images\\05_spurious_copper_01.jpg\n",
      "Saved grayscale image: D:\\BML Munjal\\3rd Year\\Sem 5\\DIP\\DIP-dataset\\PCB_DATASET\\grayscale_images\\05_spurious_copper_02.jpg\n",
      "Saved grayscale image: D:\\BML Munjal\\3rd Year\\Sem 5\\DIP\\DIP-dataset\\PCB_DATASET\\grayscale_images\\05_spurious_copper_03.jpg\n",
      "Saved grayscale image: D:\\BML Munjal\\3rd Year\\Sem 5\\DIP\\DIP-dataset\\PCB_DATASET\\grayscale_images\\05_spurious_copper_04.jpg\n",
      "Saved grayscale image: D:\\BML Munjal\\3rd Year\\Sem 5\\DIP\\DIP-dataset\\PCB_DATASET\\grayscale_images\\05_spurious_copper_05.jpg\n",
      "Saved grayscale image: D:\\BML Munjal\\3rd Year\\Sem 5\\DIP\\DIP-dataset\\PCB_DATASET\\grayscale_images\\05_spurious_copper_06.jpg\n",
      "Saved grayscale image: D:\\BML Munjal\\3rd Year\\Sem 5\\DIP\\DIP-dataset\\PCB_DATASET\\grayscale_images\\05_spurious_copper_07.jpg\n",
      "Saved grayscale image: D:\\BML Munjal\\3rd Year\\Sem 5\\DIP\\DIP-dataset\\PCB_DATASET\\grayscale_images\\05_spurious_copper_08.jpg\n",
      "Saved grayscale image: D:\\BML Munjal\\3rd Year\\Sem 5\\DIP\\DIP-dataset\\PCB_DATASET\\grayscale_images\\05_spurious_copper_09.jpg\n",
      "Saved grayscale image: D:\\BML Munjal\\3rd Year\\Sem 5\\DIP\\DIP-dataset\\PCB_DATASET\\grayscale_images\\05_spurious_copper_10.jpg\n",
      "Saved grayscale image: D:\\BML Munjal\\3rd Year\\Sem 5\\DIP\\DIP-dataset\\PCB_DATASET\\grayscale_images\\05_spur_01.jpg\n",
      "Saved grayscale image: D:\\BML Munjal\\3rd Year\\Sem 5\\DIP\\DIP-dataset\\PCB_DATASET\\grayscale_images\\05_spur_02.jpg\n",
      "Saved grayscale image: D:\\BML Munjal\\3rd Year\\Sem 5\\DIP\\DIP-dataset\\PCB_DATASET\\grayscale_images\\05_spur_03.jpg\n",
      "Saved grayscale image: D:\\BML Munjal\\3rd Year\\Sem 5\\DIP\\DIP-dataset\\PCB_DATASET\\grayscale_images\\05_spur_04.jpg\n",
      "Saved grayscale image: D:\\BML Munjal\\3rd Year\\Sem 5\\DIP\\DIP-dataset\\PCB_DATASET\\grayscale_images\\05_spur_05.jpg\n",
      "Saved grayscale image: D:\\BML Munjal\\3rd Year\\Sem 5\\DIP\\DIP-dataset\\PCB_DATASET\\grayscale_images\\05_spur_06.jpg\n",
      "Saved grayscale image: D:\\BML Munjal\\3rd Year\\Sem 5\\DIP\\DIP-dataset\\PCB_DATASET\\grayscale_images\\05_spur_07.jpg\n",
      "Saved grayscale image: D:\\BML Munjal\\3rd Year\\Sem 5\\DIP\\DIP-dataset\\PCB_DATASET\\grayscale_images\\05_spur_08.jpg\n",
      "Saved grayscale image: D:\\BML Munjal\\3rd Year\\Sem 5\\DIP\\DIP-dataset\\PCB_DATASET\\grayscale_images\\05_spur_09.jpg\n",
      "Saved grayscale image: D:\\BML Munjal\\3rd Year\\Sem 5\\DIP\\DIP-dataset\\PCB_DATASET\\grayscale_images\\05_spur_10.jpg\n",
      "Saved grayscale image: D:\\BML Munjal\\3rd Year\\Sem 5\\DIP\\DIP-dataset\\PCB_DATASET\\grayscale_images\\06_missing_hole_01.jpg\n",
      "Saved grayscale image: D:\\BML Munjal\\3rd Year\\Sem 5\\DIP\\DIP-dataset\\PCB_DATASET\\grayscale_images\\06_missing_hole_02.jpg\n",
      "Saved grayscale image: D:\\BML Munjal\\3rd Year\\Sem 5\\DIP\\DIP-dataset\\PCB_DATASET\\grayscale_images\\06_missing_hole_03.jpg\n",
      "Saved grayscale image: D:\\BML Munjal\\3rd Year\\Sem 5\\DIP\\DIP-dataset\\PCB_DATASET\\grayscale_images\\06_missing_hole_04.jpg\n",
      "Saved grayscale image: D:\\BML Munjal\\3rd Year\\Sem 5\\DIP\\DIP-dataset\\PCB_DATASET\\grayscale_images\\06_missing_hole_05.jpg\n",
      "Saved grayscale image: D:\\BML Munjal\\3rd Year\\Sem 5\\DIP\\DIP-dataset\\PCB_DATASET\\grayscale_images\\06_missing_hole_06.jpg\n",
      "Saved grayscale image: D:\\BML Munjal\\3rd Year\\Sem 5\\DIP\\DIP-dataset\\PCB_DATASET\\grayscale_images\\06_missing_hole_07.jpg\n",
      "Saved grayscale image: D:\\BML Munjal\\3rd Year\\Sem 5\\DIP\\DIP-dataset\\PCB_DATASET\\grayscale_images\\06_missing_hole_08.jpg\n",
      "Saved grayscale image: D:\\BML Munjal\\3rd Year\\Sem 5\\DIP\\DIP-dataset\\PCB_DATASET\\grayscale_images\\06_missing_hole_09.jpg\n",
      "Saved grayscale image: D:\\BML Munjal\\3rd Year\\Sem 5\\DIP\\DIP-dataset\\PCB_DATASET\\grayscale_images\\06_missing_hole_10.jpg\n",
      "Saved grayscale image: D:\\BML Munjal\\3rd Year\\Sem 5\\DIP\\DIP-dataset\\PCB_DATASET\\grayscale_images\\06_mouse_bite_01.jpg\n",
      "Saved grayscale image: D:\\BML Munjal\\3rd Year\\Sem 5\\DIP\\DIP-dataset\\PCB_DATASET\\grayscale_images\\06_mouse_bite_02.jpg\n",
      "Saved grayscale image: D:\\BML Munjal\\3rd Year\\Sem 5\\DIP\\DIP-dataset\\PCB_DATASET\\grayscale_images\\06_mouse_bite_03.jpg\n",
      "Saved grayscale image: D:\\BML Munjal\\3rd Year\\Sem 5\\DIP\\DIP-dataset\\PCB_DATASET\\grayscale_images\\06_mouse_bite_04.jpg\n",
      "Saved grayscale image: D:\\BML Munjal\\3rd Year\\Sem 5\\DIP\\DIP-dataset\\PCB_DATASET\\grayscale_images\\06_mouse_bite_05.jpg\n",
      "Saved grayscale image: D:\\BML Munjal\\3rd Year\\Sem 5\\DIP\\DIP-dataset\\PCB_DATASET\\grayscale_images\\06_mouse_bite_06.jpg\n",
      "Saved grayscale image: D:\\BML Munjal\\3rd Year\\Sem 5\\DIP\\DIP-dataset\\PCB_DATASET\\grayscale_images\\06_mouse_bite_07.jpg\n",
      "Saved grayscale image: D:\\BML Munjal\\3rd Year\\Sem 5\\DIP\\DIP-dataset\\PCB_DATASET\\grayscale_images\\06_mouse_bite_08.jpg\n",
      "Saved grayscale image: D:\\BML Munjal\\3rd Year\\Sem 5\\DIP\\DIP-dataset\\PCB_DATASET\\grayscale_images\\06_mouse_bite_09.jpg\n",
      "Saved grayscale image: D:\\BML Munjal\\3rd Year\\Sem 5\\DIP\\DIP-dataset\\PCB_DATASET\\grayscale_images\\06_mouse_bite_10.jpg\n",
      "Saved grayscale image: D:\\BML Munjal\\3rd Year\\Sem 5\\DIP\\DIP-dataset\\PCB_DATASET\\grayscale_images\\06_open_circuit_01.jpg\n",
      "Saved grayscale image: D:\\BML Munjal\\3rd Year\\Sem 5\\DIP\\DIP-dataset\\PCB_DATASET\\grayscale_images\\06_open_circuit_02.jpg\n",
      "Saved grayscale image: D:\\BML Munjal\\3rd Year\\Sem 5\\DIP\\DIP-dataset\\PCB_DATASET\\grayscale_images\\06_open_circuit_03.jpg\n",
      "Saved grayscale image: D:\\BML Munjal\\3rd Year\\Sem 5\\DIP\\DIP-dataset\\PCB_DATASET\\grayscale_images\\06_open_circuit_04.jpg\n",
      "Saved grayscale image: D:\\BML Munjal\\3rd Year\\Sem 5\\DIP\\DIP-dataset\\PCB_DATASET\\grayscale_images\\06_open_circuit_05.jpg\n",
      "Saved grayscale image: D:\\BML Munjal\\3rd Year\\Sem 5\\DIP\\DIP-dataset\\PCB_DATASET\\grayscale_images\\06_open_circuit_06.jpg\n",
      "Saved grayscale image: D:\\BML Munjal\\3rd Year\\Sem 5\\DIP\\DIP-dataset\\PCB_DATASET\\grayscale_images\\06_open_circuit_07.jpg\n",
      "Saved grayscale image: D:\\BML Munjal\\3rd Year\\Sem 5\\DIP\\DIP-dataset\\PCB_DATASET\\grayscale_images\\06_open_circuit_08.jpg\n",
      "Saved grayscale image: D:\\BML Munjal\\3rd Year\\Sem 5\\DIP\\DIP-dataset\\PCB_DATASET\\grayscale_images\\06_open_circuit_09.jpg\n",
      "Saved grayscale image: D:\\BML Munjal\\3rd Year\\Sem 5\\DIP\\DIP-dataset\\PCB_DATASET\\grayscale_images\\06_open_circuit_10.jpg\n",
      "Saved grayscale image: D:\\BML Munjal\\3rd Year\\Sem 5\\DIP\\DIP-dataset\\PCB_DATASET\\grayscale_images\\06_short_01.jpg\n",
      "Saved grayscale image: D:\\BML Munjal\\3rd Year\\Sem 5\\DIP\\DIP-dataset\\PCB_DATASET\\grayscale_images\\06_short_02.jpg\n",
      "Saved grayscale image: D:\\BML Munjal\\3rd Year\\Sem 5\\DIP\\DIP-dataset\\PCB_DATASET\\grayscale_images\\06_short_03.jpg\n",
      "Saved grayscale image: D:\\BML Munjal\\3rd Year\\Sem 5\\DIP\\DIP-dataset\\PCB_DATASET\\grayscale_images\\06_short_04.jpg\n",
      "Saved grayscale image: D:\\BML Munjal\\3rd Year\\Sem 5\\DIP\\DIP-dataset\\PCB_DATASET\\grayscale_images\\06_short_05.jpg\n",
      "Saved grayscale image: D:\\BML Munjal\\3rd Year\\Sem 5\\DIP\\DIP-dataset\\PCB_DATASET\\grayscale_images\\06_short_06.jpg\n",
      "Saved grayscale image: D:\\BML Munjal\\3rd Year\\Sem 5\\DIP\\DIP-dataset\\PCB_DATASET\\grayscale_images\\06_short_07.jpg\n",
      "Saved grayscale image: D:\\BML Munjal\\3rd Year\\Sem 5\\DIP\\DIP-dataset\\PCB_DATASET\\grayscale_images\\06_short_08.jpg\n",
      "Saved grayscale image: D:\\BML Munjal\\3rd Year\\Sem 5\\DIP\\DIP-dataset\\PCB_DATASET\\grayscale_images\\06_short_09.jpg\n",
      "Saved grayscale image: D:\\BML Munjal\\3rd Year\\Sem 5\\DIP\\DIP-dataset\\PCB_DATASET\\grayscale_images\\06_short_10.jpg\n",
      "Saved grayscale image: D:\\BML Munjal\\3rd Year\\Sem 5\\DIP\\DIP-dataset\\PCB_DATASET\\grayscale_images\\06_short_11.jpg\n",
      "Saved grayscale image: D:\\BML Munjal\\3rd Year\\Sem 5\\DIP\\DIP-dataset\\PCB_DATASET\\grayscale_images\\06_spurious_copper_01.jpg\n",
      "Saved grayscale image: D:\\BML Munjal\\3rd Year\\Sem 5\\DIP\\DIP-dataset\\PCB_DATASET\\grayscale_images\\06_spurious_copper_02.jpg\n",
      "Saved grayscale image: D:\\BML Munjal\\3rd Year\\Sem 5\\DIP\\DIP-dataset\\PCB_DATASET\\grayscale_images\\06_spurious_copper_03.jpg\n",
      "Saved grayscale image: D:\\BML Munjal\\3rd Year\\Sem 5\\DIP\\DIP-dataset\\PCB_DATASET\\grayscale_images\\06_spurious_copper_04.jpg\n",
      "Saved grayscale image: D:\\BML Munjal\\3rd Year\\Sem 5\\DIP\\DIP-dataset\\PCB_DATASET\\grayscale_images\\06_spurious_copper_05.jpg\n",
      "Saved grayscale image: D:\\BML Munjal\\3rd Year\\Sem 5\\DIP\\DIP-dataset\\PCB_DATASET\\grayscale_images\\06_spurious_copper_06.jpg\n",
      "Saved grayscale image: D:\\BML Munjal\\3rd Year\\Sem 5\\DIP\\DIP-dataset\\PCB_DATASET\\grayscale_images\\06_spurious_copper_07.jpg\n",
      "Saved grayscale image: D:\\BML Munjal\\3rd Year\\Sem 5\\DIP\\DIP-dataset\\PCB_DATASET\\grayscale_images\\06_spurious_copper_08.jpg\n",
      "Saved grayscale image: D:\\BML Munjal\\3rd Year\\Sem 5\\DIP\\DIP-dataset\\PCB_DATASET\\grayscale_images\\06_spurious_copper_09.jpg\n",
      "Saved grayscale image: D:\\BML Munjal\\3rd Year\\Sem 5\\DIP\\DIP-dataset\\PCB_DATASET\\grayscale_images\\06_spurious_copper_10.jpg\n",
      "Saved grayscale image: D:\\BML Munjal\\3rd Year\\Sem 5\\DIP\\DIP-dataset\\PCB_DATASET\\grayscale_images\\06_spur_01.jpg\n",
      "Saved grayscale image: D:\\BML Munjal\\3rd Year\\Sem 5\\DIP\\DIP-dataset\\PCB_DATASET\\grayscale_images\\06_spur_02.jpg\n",
      "Saved grayscale image: D:\\BML Munjal\\3rd Year\\Sem 5\\DIP\\DIP-dataset\\PCB_DATASET\\grayscale_images\\06_spur_03.jpg\n",
      "Saved grayscale image: D:\\BML Munjal\\3rd Year\\Sem 5\\DIP\\DIP-dataset\\PCB_DATASET\\grayscale_images\\06_spur_04.jpg\n",
      "Saved grayscale image: D:\\BML Munjal\\3rd Year\\Sem 5\\DIP\\DIP-dataset\\PCB_DATASET\\grayscale_images\\06_spur_05.jpg\n",
      "Saved grayscale image: D:\\BML Munjal\\3rd Year\\Sem 5\\DIP\\DIP-dataset\\PCB_DATASET\\grayscale_images\\06_spur_06.jpg\n",
      "Saved grayscale image: D:\\BML Munjal\\3rd Year\\Sem 5\\DIP\\DIP-dataset\\PCB_DATASET\\grayscale_images\\06_spur_07.jpg\n",
      "Saved grayscale image: D:\\BML Munjal\\3rd Year\\Sem 5\\DIP\\DIP-dataset\\PCB_DATASET\\grayscale_images\\06_spur_08.jpg\n",
      "Saved grayscale image: D:\\BML Munjal\\3rd Year\\Sem 5\\DIP\\DIP-dataset\\PCB_DATASET\\grayscale_images\\06_spur_09.jpg\n",
      "Saved grayscale image: D:\\BML Munjal\\3rd Year\\Sem 5\\DIP\\DIP-dataset\\PCB_DATASET\\grayscale_images\\06_spur_10.jpg\n",
      "Saved grayscale image: D:\\BML Munjal\\3rd Year\\Sem 5\\DIP\\DIP-dataset\\PCB_DATASET\\grayscale_images\\07_missing_hole_01.jpg\n",
      "Saved grayscale image: D:\\BML Munjal\\3rd Year\\Sem 5\\DIP\\DIP-dataset\\PCB_DATASET\\grayscale_images\\07_missing_hole_02.jpg\n",
      "Saved grayscale image: D:\\BML Munjal\\3rd Year\\Sem 5\\DIP\\DIP-dataset\\PCB_DATASET\\grayscale_images\\07_missing_hole_03.jpg\n",
      "Saved grayscale image: D:\\BML Munjal\\3rd Year\\Sem 5\\DIP\\DIP-dataset\\PCB_DATASET\\grayscale_images\\07_missing_hole_04.jpg\n",
      "Saved grayscale image: D:\\BML Munjal\\3rd Year\\Sem 5\\DIP\\DIP-dataset\\PCB_DATASET\\grayscale_images\\07_missing_hole_05.jpg\n",
      "Saved grayscale image: D:\\BML Munjal\\3rd Year\\Sem 5\\DIP\\DIP-dataset\\PCB_DATASET\\grayscale_images\\07_missing_hole_06.jpg\n",
      "Saved grayscale image: D:\\BML Munjal\\3rd Year\\Sem 5\\DIP\\DIP-dataset\\PCB_DATASET\\grayscale_images\\07_missing_hole_07.jpg\n",
      "Saved grayscale image: D:\\BML Munjal\\3rd Year\\Sem 5\\DIP\\DIP-dataset\\PCB_DATASET\\grayscale_images\\07_missing_hole_08.jpg\n",
      "Saved grayscale image: D:\\BML Munjal\\3rd Year\\Sem 5\\DIP\\DIP-dataset\\PCB_DATASET\\grayscale_images\\07_missing_hole_09.jpg\n",
      "Saved grayscale image: D:\\BML Munjal\\3rd Year\\Sem 5\\DIP\\DIP-dataset\\PCB_DATASET\\grayscale_images\\07_missing_hole_10.jpg\n",
      "Saved grayscale image: D:\\BML Munjal\\3rd Year\\Sem 5\\DIP\\DIP-dataset\\PCB_DATASET\\grayscale_images\\07_mouse_bite_01.jpg\n",
      "Saved grayscale image: D:\\BML Munjal\\3rd Year\\Sem 5\\DIP\\DIP-dataset\\PCB_DATASET\\grayscale_images\\07_mouse_bite_02.jpg\n",
      "Saved grayscale image: D:\\BML Munjal\\3rd Year\\Sem 5\\DIP\\DIP-dataset\\PCB_DATASET\\grayscale_images\\07_mouse_bite_03.jpg\n",
      "Saved grayscale image: D:\\BML Munjal\\3rd Year\\Sem 5\\DIP\\DIP-dataset\\PCB_DATASET\\grayscale_images\\07_mouse_bite_04.jpg\n",
      "Saved grayscale image: D:\\BML Munjal\\3rd Year\\Sem 5\\DIP\\DIP-dataset\\PCB_DATASET\\grayscale_images\\07_mouse_bite_05.jpg\n",
      "Saved grayscale image: D:\\BML Munjal\\3rd Year\\Sem 5\\DIP\\DIP-dataset\\PCB_DATASET\\grayscale_images\\07_mouse_bite_06.jpg\n",
      "Saved grayscale image: D:\\BML Munjal\\3rd Year\\Sem 5\\DIP\\DIP-dataset\\PCB_DATASET\\grayscale_images\\07_mouse_bite_07.jpg\n",
      "Saved grayscale image: D:\\BML Munjal\\3rd Year\\Sem 5\\DIP\\DIP-dataset\\PCB_DATASET\\grayscale_images\\07_mouse_bite_08.jpg\n",
      "Saved grayscale image: D:\\BML Munjal\\3rd Year\\Sem 5\\DIP\\DIP-dataset\\PCB_DATASET\\grayscale_images\\07_mouse_bite_09.jpg\n",
      "Saved grayscale image: D:\\BML Munjal\\3rd Year\\Sem 5\\DIP\\DIP-dataset\\PCB_DATASET\\grayscale_images\\07_mouse_bite_10.jpg\n",
      "Saved grayscale image: D:\\BML Munjal\\3rd Year\\Sem 5\\DIP\\DIP-dataset\\PCB_DATASET\\grayscale_images\\07_open_circuit_01.jpg\n",
      "Saved grayscale image: D:\\BML Munjal\\3rd Year\\Sem 5\\DIP\\DIP-dataset\\PCB_DATASET\\grayscale_images\\07_open_circuit_02.jpg\n",
      "Saved grayscale image: D:\\BML Munjal\\3rd Year\\Sem 5\\DIP\\DIP-dataset\\PCB_DATASET\\grayscale_images\\07_open_circuit_03.jpg\n",
      "Saved grayscale image: D:\\BML Munjal\\3rd Year\\Sem 5\\DIP\\DIP-dataset\\PCB_DATASET\\grayscale_images\\07_open_circuit_04.jpg\n",
      "Saved grayscale image: D:\\BML Munjal\\3rd Year\\Sem 5\\DIP\\DIP-dataset\\PCB_DATASET\\grayscale_images\\07_open_circuit_05.jpg\n",
      "Saved grayscale image: D:\\BML Munjal\\3rd Year\\Sem 5\\DIP\\DIP-dataset\\PCB_DATASET\\grayscale_images\\07_open_circuit_06.jpg\n",
      "Saved grayscale image: D:\\BML Munjal\\3rd Year\\Sem 5\\DIP\\DIP-dataset\\PCB_DATASET\\grayscale_images\\07_open_circuit_07.jpg\n",
      "Saved grayscale image: D:\\BML Munjal\\3rd Year\\Sem 5\\DIP\\DIP-dataset\\PCB_DATASET\\grayscale_images\\07_open_circuit_08.jpg\n",
      "Saved grayscale image: D:\\BML Munjal\\3rd Year\\Sem 5\\DIP\\DIP-dataset\\PCB_DATASET\\grayscale_images\\07_open_circuit_09.jpg\n",
      "Saved grayscale image: D:\\BML Munjal\\3rd Year\\Sem 5\\DIP\\DIP-dataset\\PCB_DATASET\\grayscale_images\\07_open_circuit_10.jpg\n",
      "Saved grayscale image: D:\\BML Munjal\\3rd Year\\Sem 5\\DIP\\DIP-dataset\\PCB_DATASET\\grayscale_images\\07_short_01.jpg\n",
      "Saved grayscale image: D:\\BML Munjal\\3rd Year\\Sem 5\\DIP\\DIP-dataset\\PCB_DATASET\\grayscale_images\\07_short_02.jpg\n",
      "Saved grayscale image: D:\\BML Munjal\\3rd Year\\Sem 5\\DIP\\DIP-dataset\\PCB_DATASET\\grayscale_images\\07_short_03.jpg\n",
      "Saved grayscale image: D:\\BML Munjal\\3rd Year\\Sem 5\\DIP\\DIP-dataset\\PCB_DATASET\\grayscale_images\\07_short_04.jpg\n",
      "Saved grayscale image: D:\\BML Munjal\\3rd Year\\Sem 5\\DIP\\DIP-dataset\\PCB_DATASET\\grayscale_images\\07_short_05.jpg\n",
      "Saved grayscale image: D:\\BML Munjal\\3rd Year\\Sem 5\\DIP\\DIP-dataset\\PCB_DATASET\\grayscale_images\\07_short_06.jpg\n",
      "Saved grayscale image: D:\\BML Munjal\\3rd Year\\Sem 5\\DIP\\DIP-dataset\\PCB_DATASET\\grayscale_images\\07_short_07.jpg\n",
      "Saved grayscale image: D:\\BML Munjal\\3rd Year\\Sem 5\\DIP\\DIP-dataset\\PCB_DATASET\\grayscale_images\\07_short_08.jpg\n",
      "Saved grayscale image: D:\\BML Munjal\\3rd Year\\Sem 5\\DIP\\DIP-dataset\\PCB_DATASET\\grayscale_images\\07_short_09.jpg\n",
      "Saved grayscale image: D:\\BML Munjal\\3rd Year\\Sem 5\\DIP\\DIP-dataset\\PCB_DATASET\\grayscale_images\\07_short_10.jpg\n",
      "Saved grayscale image: D:\\BML Munjal\\3rd Year\\Sem 5\\DIP\\DIP-dataset\\PCB_DATASET\\grayscale_images\\07_spurious_copper_01.jpg\n",
      "Saved grayscale image: D:\\BML Munjal\\3rd Year\\Sem 5\\DIP\\DIP-dataset\\PCB_DATASET\\grayscale_images\\07_spurious_copper_02.jpg\n",
      "Saved grayscale image: D:\\BML Munjal\\3rd Year\\Sem 5\\DIP\\DIP-dataset\\PCB_DATASET\\grayscale_images\\07_spurious_copper_03.jpg\n",
      "Saved grayscale image: D:\\BML Munjal\\3rd Year\\Sem 5\\DIP\\DIP-dataset\\PCB_DATASET\\grayscale_images\\07_spurious_copper_04.jpg\n",
      "Saved grayscale image: D:\\BML Munjal\\3rd Year\\Sem 5\\DIP\\DIP-dataset\\PCB_DATASET\\grayscale_images\\07_spurious_copper_05.jpg\n",
      "Saved grayscale image: D:\\BML Munjal\\3rd Year\\Sem 5\\DIP\\DIP-dataset\\PCB_DATASET\\grayscale_images\\07_spurious_copper_06.jpg\n",
      "Saved grayscale image: D:\\BML Munjal\\3rd Year\\Sem 5\\DIP\\DIP-dataset\\PCB_DATASET\\grayscale_images\\07_spurious_copper_07.jpg\n",
      "Saved grayscale image: D:\\BML Munjal\\3rd Year\\Sem 5\\DIP\\DIP-dataset\\PCB_DATASET\\grayscale_images\\07_spurious_copper_08.jpg\n",
      "Saved grayscale image: D:\\BML Munjal\\3rd Year\\Sem 5\\DIP\\DIP-dataset\\PCB_DATASET\\grayscale_images\\07_spurious_copper_09.jpg\n",
      "Saved grayscale image: D:\\BML Munjal\\3rd Year\\Sem 5\\DIP\\DIP-dataset\\PCB_DATASET\\grayscale_images\\07_spurious_copper_10.jpg\n",
      "Saved grayscale image: D:\\BML Munjal\\3rd Year\\Sem 5\\DIP\\DIP-dataset\\PCB_DATASET\\grayscale_images\\07_spur_01.jpg\n",
      "Saved grayscale image: D:\\BML Munjal\\3rd Year\\Sem 5\\DIP\\DIP-dataset\\PCB_DATASET\\grayscale_images\\07_spur_02.jpg\n",
      "Saved grayscale image: D:\\BML Munjal\\3rd Year\\Sem 5\\DIP\\DIP-dataset\\PCB_DATASET\\grayscale_images\\07_spur_03.jpg\n",
      "Saved grayscale image: D:\\BML Munjal\\3rd Year\\Sem 5\\DIP\\DIP-dataset\\PCB_DATASET\\grayscale_images\\07_spur_04.jpg\n",
      "Saved grayscale image: D:\\BML Munjal\\3rd Year\\Sem 5\\DIP\\DIP-dataset\\PCB_DATASET\\grayscale_images\\07_spur_05.jpg\n",
      "Saved grayscale image: D:\\BML Munjal\\3rd Year\\Sem 5\\DIP\\DIP-dataset\\PCB_DATASET\\grayscale_images\\07_spur_06.jpg\n",
      "Saved grayscale image: D:\\BML Munjal\\3rd Year\\Sem 5\\DIP\\DIP-dataset\\PCB_DATASET\\grayscale_images\\07_spur_07.jpg\n",
      "Saved grayscale image: D:\\BML Munjal\\3rd Year\\Sem 5\\DIP\\DIP-dataset\\PCB_DATASET\\grayscale_images\\07_spur_08.jpg\n",
      "Saved grayscale image: D:\\BML Munjal\\3rd Year\\Sem 5\\DIP\\DIP-dataset\\PCB_DATASET\\grayscale_images\\07_spur_09.jpg\n",
      "Saved grayscale image: D:\\BML Munjal\\3rd Year\\Sem 5\\DIP\\DIP-dataset\\PCB_DATASET\\grayscale_images\\07_spur_10.jpg\n",
      "Saved grayscale image: D:\\BML Munjal\\3rd Year\\Sem 5\\DIP\\DIP-dataset\\PCB_DATASET\\grayscale_images\\08_missing_hole_01.jpg\n",
      "Saved grayscale image: D:\\BML Munjal\\3rd Year\\Sem 5\\DIP\\DIP-dataset\\PCB_DATASET\\grayscale_images\\08_missing_hole_02.jpg\n",
      "Saved grayscale image: D:\\BML Munjal\\3rd Year\\Sem 5\\DIP\\DIP-dataset\\PCB_DATASET\\grayscale_images\\08_missing_hole_03.jpg\n",
      "Saved grayscale image: D:\\BML Munjal\\3rd Year\\Sem 5\\DIP\\DIP-dataset\\PCB_DATASET\\grayscale_images\\08_missing_hole_04.jpg\n",
      "Saved grayscale image: D:\\BML Munjal\\3rd Year\\Sem 5\\DIP\\DIP-dataset\\PCB_DATASET\\grayscale_images\\08_missing_hole_05.jpg\n",
      "Saved grayscale image: D:\\BML Munjal\\3rd Year\\Sem 5\\DIP\\DIP-dataset\\PCB_DATASET\\grayscale_images\\08_missing_hole_06.jpg\n",
      "Saved grayscale image: D:\\BML Munjal\\3rd Year\\Sem 5\\DIP\\DIP-dataset\\PCB_DATASET\\grayscale_images\\08_missing_hole_07.jpg\n",
      "Saved grayscale image: D:\\BML Munjal\\3rd Year\\Sem 5\\DIP\\DIP-dataset\\PCB_DATASET\\grayscale_images\\08_missing_hole_08.jpg\n",
      "Saved grayscale image: D:\\BML Munjal\\3rd Year\\Sem 5\\DIP\\DIP-dataset\\PCB_DATASET\\grayscale_images\\08_missing_hole_09.jpg\n",
      "Saved grayscale image: D:\\BML Munjal\\3rd Year\\Sem 5\\DIP\\DIP-dataset\\PCB_DATASET\\grayscale_images\\08_missing_hole_10.jpg\n",
      "Saved grayscale image: D:\\BML Munjal\\3rd Year\\Sem 5\\DIP\\DIP-dataset\\PCB_DATASET\\grayscale_images\\08_mouse_bite_01.jpg\n",
      "Saved grayscale image: D:\\BML Munjal\\3rd Year\\Sem 5\\DIP\\DIP-dataset\\PCB_DATASET\\grayscale_images\\08_mouse_bite_02.jpg\n",
      "Saved grayscale image: D:\\BML Munjal\\3rd Year\\Sem 5\\DIP\\DIP-dataset\\PCB_DATASET\\grayscale_images\\08_mouse_bite_03.jpg\n",
      "Saved grayscale image: D:\\BML Munjal\\3rd Year\\Sem 5\\DIP\\DIP-dataset\\PCB_DATASET\\grayscale_images\\08_mouse_bite_04.jpg\n",
      "Saved grayscale image: D:\\BML Munjal\\3rd Year\\Sem 5\\DIP\\DIP-dataset\\PCB_DATASET\\grayscale_images\\08_mouse_bite_05.jpg\n",
      "Saved grayscale image: D:\\BML Munjal\\3rd Year\\Sem 5\\DIP\\DIP-dataset\\PCB_DATASET\\grayscale_images\\08_mouse_bite_06.jpg\n",
      "Saved grayscale image: D:\\BML Munjal\\3rd Year\\Sem 5\\DIP\\DIP-dataset\\PCB_DATASET\\grayscale_images\\08_mouse_bite_07.jpg\n",
      "Saved grayscale image: D:\\BML Munjal\\3rd Year\\Sem 5\\DIP\\DIP-dataset\\PCB_DATASET\\grayscale_images\\08_mouse_bite_08.jpg\n",
      "Saved grayscale image: D:\\BML Munjal\\3rd Year\\Sem 5\\DIP\\DIP-dataset\\PCB_DATASET\\grayscale_images\\08_mouse_bite_09.jpg\n",
      "Saved grayscale image: D:\\BML Munjal\\3rd Year\\Sem 5\\DIP\\DIP-dataset\\PCB_DATASET\\grayscale_images\\08_mouse_bite_10.jpg\n",
      "Saved grayscale image: D:\\BML Munjal\\3rd Year\\Sem 5\\DIP\\DIP-dataset\\PCB_DATASET\\grayscale_images\\08_open_circuit_01.jpg\n",
      "Saved grayscale image: D:\\BML Munjal\\3rd Year\\Sem 5\\DIP\\DIP-dataset\\PCB_DATASET\\grayscale_images\\08_open_circuit_02.jpg\n",
      "Saved grayscale image: D:\\BML Munjal\\3rd Year\\Sem 5\\DIP\\DIP-dataset\\PCB_DATASET\\grayscale_images\\08_open_circuit_03.jpg\n",
      "Saved grayscale image: D:\\BML Munjal\\3rd Year\\Sem 5\\DIP\\DIP-dataset\\PCB_DATASET\\grayscale_images\\08_open_circuit_04.jpg\n",
      "Saved grayscale image: D:\\BML Munjal\\3rd Year\\Sem 5\\DIP\\DIP-dataset\\PCB_DATASET\\grayscale_images\\08_open_circuit_05.jpg\n",
      "Saved grayscale image: D:\\BML Munjal\\3rd Year\\Sem 5\\DIP\\DIP-dataset\\PCB_DATASET\\grayscale_images\\08_open_circuit_06.jpg\n",
      "Saved grayscale image: D:\\BML Munjal\\3rd Year\\Sem 5\\DIP\\DIP-dataset\\PCB_DATASET\\grayscale_images\\08_open_circuit_07.jpg\n",
      "Saved grayscale image: D:\\BML Munjal\\3rd Year\\Sem 5\\DIP\\DIP-dataset\\PCB_DATASET\\grayscale_images\\08_open_circuit_08.jpg\n",
      "Saved grayscale image: D:\\BML Munjal\\3rd Year\\Sem 5\\DIP\\DIP-dataset\\PCB_DATASET\\grayscale_images\\08_open_circuit_09.jpg\n",
      "Saved grayscale image: D:\\BML Munjal\\3rd Year\\Sem 5\\DIP\\DIP-dataset\\PCB_DATASET\\grayscale_images\\08_open_circuit_10.jpg\n",
      "Saved grayscale image: D:\\BML Munjal\\3rd Year\\Sem 5\\DIP\\DIP-dataset\\PCB_DATASET\\grayscale_images\\08_short_01.jpg\n",
      "Saved grayscale image: D:\\BML Munjal\\3rd Year\\Sem 5\\DIP\\DIP-dataset\\PCB_DATASET\\grayscale_images\\08_short_02.jpg\n",
      "Saved grayscale image: D:\\BML Munjal\\3rd Year\\Sem 5\\DIP\\DIP-dataset\\PCB_DATASET\\grayscale_images\\08_short_03.jpg\n",
      "Saved grayscale image: D:\\BML Munjal\\3rd Year\\Sem 5\\DIP\\DIP-dataset\\PCB_DATASET\\grayscale_images\\08_short_04.jpg\n",
      "Saved grayscale image: D:\\BML Munjal\\3rd Year\\Sem 5\\DIP\\DIP-dataset\\PCB_DATASET\\grayscale_images\\08_short_05.jpg\n",
      "Saved grayscale image: D:\\BML Munjal\\3rd Year\\Sem 5\\DIP\\DIP-dataset\\PCB_DATASET\\grayscale_images\\08_short_06.jpg\n",
      "Saved grayscale image: D:\\BML Munjal\\3rd Year\\Sem 5\\DIP\\DIP-dataset\\PCB_DATASET\\grayscale_images\\08_short_07.jpg\n",
      "Saved grayscale image: D:\\BML Munjal\\3rd Year\\Sem 5\\DIP\\DIP-dataset\\PCB_DATASET\\grayscale_images\\08_short_08.jpg\n",
      "Saved grayscale image: D:\\BML Munjal\\3rd Year\\Sem 5\\DIP\\DIP-dataset\\PCB_DATASET\\grayscale_images\\08_short_09.jpg\n",
      "Saved grayscale image: D:\\BML Munjal\\3rd Year\\Sem 5\\DIP\\DIP-dataset\\PCB_DATASET\\grayscale_images\\08_short_10.jpg\n",
      "Saved grayscale image: D:\\BML Munjal\\3rd Year\\Sem 5\\DIP\\DIP-dataset\\PCB_DATASET\\grayscale_images\\08_spurious_copper_01.jpg\n",
      "Saved grayscale image: D:\\BML Munjal\\3rd Year\\Sem 5\\DIP\\DIP-dataset\\PCB_DATASET\\grayscale_images\\08_spurious_copper_02.jpg\n",
      "Saved grayscale image: D:\\BML Munjal\\3rd Year\\Sem 5\\DIP\\DIP-dataset\\PCB_DATASET\\grayscale_images\\08_spurious_copper_03.jpg\n",
      "Saved grayscale image: D:\\BML Munjal\\3rd Year\\Sem 5\\DIP\\DIP-dataset\\PCB_DATASET\\grayscale_images\\08_spurious_copper_04.jpg\n",
      "Saved grayscale image: D:\\BML Munjal\\3rd Year\\Sem 5\\DIP\\DIP-dataset\\PCB_DATASET\\grayscale_images\\08_spurious_copper_05.jpg\n",
      "Saved grayscale image: D:\\BML Munjal\\3rd Year\\Sem 5\\DIP\\DIP-dataset\\PCB_DATASET\\grayscale_images\\08_spurious_copper_06.jpg\n",
      "Saved grayscale image: D:\\BML Munjal\\3rd Year\\Sem 5\\DIP\\DIP-dataset\\PCB_DATASET\\grayscale_images\\08_spurious_copper_07.jpg\n",
      "Saved grayscale image: D:\\BML Munjal\\3rd Year\\Sem 5\\DIP\\DIP-dataset\\PCB_DATASET\\grayscale_images\\08_spurious_copper_08.jpg\n",
      "Saved grayscale image: D:\\BML Munjal\\3rd Year\\Sem 5\\DIP\\DIP-dataset\\PCB_DATASET\\grayscale_images\\08_spurious_copper_09.jpg\n",
      "Saved grayscale image: D:\\BML Munjal\\3rd Year\\Sem 5\\DIP\\DIP-dataset\\PCB_DATASET\\grayscale_images\\08_spurious_copper_10.jpg\n",
      "Saved grayscale image: D:\\BML Munjal\\3rd Year\\Sem 5\\DIP\\DIP-dataset\\PCB_DATASET\\grayscale_images\\08_spur_01.jpg\n",
      "Saved grayscale image: D:\\BML Munjal\\3rd Year\\Sem 5\\DIP\\DIP-dataset\\PCB_DATASET\\grayscale_images\\08_spur_02.jpg\n",
      "Saved grayscale image: D:\\BML Munjal\\3rd Year\\Sem 5\\DIP\\DIP-dataset\\PCB_DATASET\\grayscale_images\\08_spur_03.jpg\n",
      "Saved grayscale image: D:\\BML Munjal\\3rd Year\\Sem 5\\DIP\\DIP-dataset\\PCB_DATASET\\grayscale_images\\08_spur_04.jpg\n",
      "Saved grayscale image: D:\\BML Munjal\\3rd Year\\Sem 5\\DIP\\DIP-dataset\\PCB_DATASET\\grayscale_images\\08_spur_05.jpg\n",
      "Saved grayscale image: D:\\BML Munjal\\3rd Year\\Sem 5\\DIP\\DIP-dataset\\PCB_DATASET\\grayscale_images\\08_spur_06.jpg\n",
      "Saved grayscale image: D:\\BML Munjal\\3rd Year\\Sem 5\\DIP\\DIP-dataset\\PCB_DATASET\\grayscale_images\\08_spur_07.jpg\n",
      "Saved grayscale image: D:\\BML Munjal\\3rd Year\\Sem 5\\DIP\\DIP-dataset\\PCB_DATASET\\grayscale_images\\08_spur_08.jpg\n",
      "Saved grayscale image: D:\\BML Munjal\\3rd Year\\Sem 5\\DIP\\DIP-dataset\\PCB_DATASET\\grayscale_images\\08_spur_09.jpg\n",
      "Saved grayscale image: D:\\BML Munjal\\3rd Year\\Sem 5\\DIP\\DIP-dataset\\PCB_DATASET\\grayscale_images\\08_spur_10.jpg\n",
      "Saved grayscale image: D:\\BML Munjal\\3rd Year\\Sem 5\\DIP\\DIP-dataset\\PCB_DATASET\\grayscale_images\\09_missing_hole_01.jpg\n",
      "Saved grayscale image: D:\\BML Munjal\\3rd Year\\Sem 5\\DIP\\DIP-dataset\\PCB_DATASET\\grayscale_images\\09_missing_hole_02.jpg\n",
      "Saved grayscale image: D:\\BML Munjal\\3rd Year\\Sem 5\\DIP\\DIP-dataset\\PCB_DATASET\\grayscale_images\\09_missing_hole_03.jpg\n",
      "Saved grayscale image: D:\\BML Munjal\\3rd Year\\Sem 5\\DIP\\DIP-dataset\\PCB_DATASET\\grayscale_images\\09_missing_hole_04.jpg\n",
      "Saved grayscale image: D:\\BML Munjal\\3rd Year\\Sem 5\\DIP\\DIP-dataset\\PCB_DATASET\\grayscale_images\\09_missing_hole_05.jpg\n",
      "Saved grayscale image: D:\\BML Munjal\\3rd Year\\Sem 5\\DIP\\DIP-dataset\\PCB_DATASET\\grayscale_images\\09_missing_hole_06.jpg\n",
      "Saved grayscale image: D:\\BML Munjal\\3rd Year\\Sem 5\\DIP\\DIP-dataset\\PCB_DATASET\\grayscale_images\\09_missing_hole_07.jpg\n",
      "Saved grayscale image: D:\\BML Munjal\\3rd Year\\Sem 5\\DIP\\DIP-dataset\\PCB_DATASET\\grayscale_images\\09_missing_hole_08.jpg\n",
      "Saved grayscale image: D:\\BML Munjal\\3rd Year\\Sem 5\\DIP\\DIP-dataset\\PCB_DATASET\\grayscale_images\\09_missing_hole_09.jpg\n",
      "Saved grayscale image: D:\\BML Munjal\\3rd Year\\Sem 5\\DIP\\DIP-dataset\\PCB_DATASET\\grayscale_images\\09_missing_hole_10.jpg\n",
      "Saved grayscale image: D:\\BML Munjal\\3rd Year\\Sem 5\\DIP\\DIP-dataset\\PCB_DATASET\\grayscale_images\\09_mouse_bite_01.jpg\n",
      "Saved grayscale image: D:\\BML Munjal\\3rd Year\\Sem 5\\DIP\\DIP-dataset\\PCB_DATASET\\grayscale_images\\09_mouse_bite_02.jpg\n",
      "Saved grayscale image: D:\\BML Munjal\\3rd Year\\Sem 5\\DIP\\DIP-dataset\\PCB_DATASET\\grayscale_images\\09_mouse_bite_03.jpg\n",
      "Saved grayscale image: D:\\BML Munjal\\3rd Year\\Sem 5\\DIP\\DIP-dataset\\PCB_DATASET\\grayscale_images\\09_mouse_bite_04.jpg\n",
      "Saved grayscale image: D:\\BML Munjal\\3rd Year\\Sem 5\\DIP\\DIP-dataset\\PCB_DATASET\\grayscale_images\\09_mouse_bite_05.jpg\n",
      "Saved grayscale image: D:\\BML Munjal\\3rd Year\\Sem 5\\DIP\\DIP-dataset\\PCB_DATASET\\grayscale_images\\09_mouse_bite_06.jpg\n",
      "Saved grayscale image: D:\\BML Munjal\\3rd Year\\Sem 5\\DIP\\DIP-dataset\\PCB_DATASET\\grayscale_images\\09_mouse_bite_07.jpg\n",
      "Saved grayscale image: D:\\BML Munjal\\3rd Year\\Sem 5\\DIP\\DIP-dataset\\PCB_DATASET\\grayscale_images\\09_mouse_bite_08.jpg\n",
      "Saved grayscale image: D:\\BML Munjal\\3rd Year\\Sem 5\\DIP\\DIP-dataset\\PCB_DATASET\\grayscale_images\\09_mouse_bite_09.jpg\n",
      "Saved grayscale image: D:\\BML Munjal\\3rd Year\\Sem 5\\DIP\\DIP-dataset\\PCB_DATASET\\grayscale_images\\09_mouse_bite_10.jpg\n",
      "Saved grayscale image: D:\\BML Munjal\\3rd Year\\Sem 5\\DIP\\DIP-dataset\\PCB_DATASET\\grayscale_images\\09_open_circuit_01.jpg\n",
      "Saved grayscale image: D:\\BML Munjal\\3rd Year\\Sem 5\\DIP\\DIP-dataset\\PCB_DATASET\\grayscale_images\\09_open_circuit_02.jpg\n",
      "Saved grayscale image: D:\\BML Munjal\\3rd Year\\Sem 5\\DIP\\DIP-dataset\\PCB_DATASET\\grayscale_images\\09_open_circuit_03.jpg\n",
      "Saved grayscale image: D:\\BML Munjal\\3rd Year\\Sem 5\\DIP\\DIP-dataset\\PCB_DATASET\\grayscale_images\\09_open_circuit_04.jpg\n",
      "Saved grayscale image: D:\\BML Munjal\\3rd Year\\Sem 5\\DIP\\DIP-dataset\\PCB_DATASET\\grayscale_images\\09_open_circuit_05.jpg\n",
      "Saved grayscale image: D:\\BML Munjal\\3rd Year\\Sem 5\\DIP\\DIP-dataset\\PCB_DATASET\\grayscale_images\\09_open_circuit_06.jpg\n",
      "Saved grayscale image: D:\\BML Munjal\\3rd Year\\Sem 5\\DIP\\DIP-dataset\\PCB_DATASET\\grayscale_images\\09_open_circuit_07.jpg\n",
      "Saved grayscale image: D:\\BML Munjal\\3rd Year\\Sem 5\\DIP\\DIP-dataset\\PCB_DATASET\\grayscale_images\\09_open_circuit_08.jpg\n",
      "Saved grayscale image: D:\\BML Munjal\\3rd Year\\Sem 5\\DIP\\DIP-dataset\\PCB_DATASET\\grayscale_images\\09_open_circuit_09.jpg\n",
      "Saved grayscale image: D:\\BML Munjal\\3rd Year\\Sem 5\\DIP\\DIP-dataset\\PCB_DATASET\\grayscale_images\\09_open_circuit_10.jpg\n",
      "Saved grayscale image: D:\\BML Munjal\\3rd Year\\Sem 5\\DIP\\DIP-dataset\\PCB_DATASET\\grayscale_images\\09_short_01.jpg\n",
      "Saved grayscale image: D:\\BML Munjal\\3rd Year\\Sem 5\\DIP\\DIP-dataset\\PCB_DATASET\\grayscale_images\\09_short_02.jpg\n",
      "Saved grayscale image: D:\\BML Munjal\\3rd Year\\Sem 5\\DIP\\DIP-dataset\\PCB_DATASET\\grayscale_images\\09_short_03.jpg\n",
      "Saved grayscale image: D:\\BML Munjal\\3rd Year\\Sem 5\\DIP\\DIP-dataset\\PCB_DATASET\\grayscale_images\\09_short_04.jpg\n",
      "Saved grayscale image: D:\\BML Munjal\\3rd Year\\Sem 5\\DIP\\DIP-dataset\\PCB_DATASET\\grayscale_images\\09_short_05.jpg\n",
      "Saved grayscale image: D:\\BML Munjal\\3rd Year\\Sem 5\\DIP\\DIP-dataset\\PCB_DATASET\\grayscale_images\\09_short_06.jpg\n",
      "Saved grayscale image: D:\\BML Munjal\\3rd Year\\Sem 5\\DIP\\DIP-dataset\\PCB_DATASET\\grayscale_images\\09_short_07.jpg\n",
      "Saved grayscale image: D:\\BML Munjal\\3rd Year\\Sem 5\\DIP\\DIP-dataset\\PCB_DATASET\\grayscale_images\\09_short_08.jpg\n",
      "Saved grayscale image: D:\\BML Munjal\\3rd Year\\Sem 5\\DIP\\DIP-dataset\\PCB_DATASET\\grayscale_images\\09_short_09.jpg\n",
      "Saved grayscale image: D:\\BML Munjal\\3rd Year\\Sem 5\\DIP\\DIP-dataset\\PCB_DATASET\\grayscale_images\\09_short_10.jpg\n",
      "Saved grayscale image: D:\\BML Munjal\\3rd Year\\Sem 5\\DIP\\DIP-dataset\\PCB_DATASET\\grayscale_images\\09_spurious_copper_01.jpg\n",
      "Saved grayscale image: D:\\BML Munjal\\3rd Year\\Sem 5\\DIP\\DIP-dataset\\PCB_DATASET\\grayscale_images\\09_spurious_copper_02.jpg\n",
      "Saved grayscale image: D:\\BML Munjal\\3rd Year\\Sem 5\\DIP\\DIP-dataset\\PCB_DATASET\\grayscale_images\\09_spurious_copper_03.jpg\n",
      "Saved grayscale image: D:\\BML Munjal\\3rd Year\\Sem 5\\DIP\\DIP-dataset\\PCB_DATASET\\grayscale_images\\09_spurious_copper_04.jpg\n",
      "Saved grayscale image: D:\\BML Munjal\\3rd Year\\Sem 5\\DIP\\DIP-dataset\\PCB_DATASET\\grayscale_images\\09_spurious_copper_05.jpg\n",
      "Saved grayscale image: D:\\BML Munjal\\3rd Year\\Sem 5\\DIP\\DIP-dataset\\PCB_DATASET\\grayscale_images\\09_spurious_copper_06.jpg\n",
      "Saved grayscale image: D:\\BML Munjal\\3rd Year\\Sem 5\\DIP\\DIP-dataset\\PCB_DATASET\\grayscale_images\\09_spurious_copper_07.jpg\n",
      "Saved grayscale image: D:\\BML Munjal\\3rd Year\\Sem 5\\DIP\\DIP-dataset\\PCB_DATASET\\grayscale_images\\09_spurious_copper_08.jpg\n",
      "Saved grayscale image: D:\\BML Munjal\\3rd Year\\Sem 5\\DIP\\DIP-dataset\\PCB_DATASET\\grayscale_images\\09_spurious_copper_09.jpg\n",
      "Saved grayscale image: D:\\BML Munjal\\3rd Year\\Sem 5\\DIP\\DIP-dataset\\PCB_DATASET\\grayscale_images\\09_spurious_copper_10.jpg\n",
      "Saved grayscale image: D:\\BML Munjal\\3rd Year\\Sem 5\\DIP\\DIP-dataset\\PCB_DATASET\\grayscale_images\\09_spur_01.jpg\n",
      "Saved grayscale image: D:\\BML Munjal\\3rd Year\\Sem 5\\DIP\\DIP-dataset\\PCB_DATASET\\grayscale_images\\09_spur_02.jpg\n",
      "Saved grayscale image: D:\\BML Munjal\\3rd Year\\Sem 5\\DIP\\DIP-dataset\\PCB_DATASET\\grayscale_images\\09_spur_03.jpg\n",
      "Saved grayscale image: D:\\BML Munjal\\3rd Year\\Sem 5\\DIP\\DIP-dataset\\PCB_DATASET\\grayscale_images\\09_spur_04.jpg\n",
      "Saved grayscale image: D:\\BML Munjal\\3rd Year\\Sem 5\\DIP\\DIP-dataset\\PCB_DATASET\\grayscale_images\\09_spur_05.jpg\n",
      "Saved grayscale image: D:\\BML Munjal\\3rd Year\\Sem 5\\DIP\\DIP-dataset\\PCB_DATASET\\grayscale_images\\09_spur_06.jpg\n",
      "Saved grayscale image: D:\\BML Munjal\\3rd Year\\Sem 5\\DIP\\DIP-dataset\\PCB_DATASET\\grayscale_images\\09_spur_07.jpg\n",
      "Saved grayscale image: D:\\BML Munjal\\3rd Year\\Sem 5\\DIP\\DIP-dataset\\PCB_DATASET\\grayscale_images\\09_spur_08.jpg\n",
      "Saved grayscale image: D:\\BML Munjal\\3rd Year\\Sem 5\\DIP\\DIP-dataset\\PCB_DATASET\\grayscale_images\\09_spur_09.jpg\n",
      "Saved grayscale image: D:\\BML Munjal\\3rd Year\\Sem 5\\DIP\\DIP-dataset\\PCB_DATASET\\grayscale_images\\09_spur_10.jpg\n",
      "Saved grayscale image: D:\\BML Munjal\\3rd Year\\Sem 5\\DIP\\DIP-dataset\\PCB_DATASET\\grayscale_images\\10_missing_hole_01.jpg\n",
      "Saved grayscale image: D:\\BML Munjal\\3rd Year\\Sem 5\\DIP\\DIP-dataset\\PCB_DATASET\\grayscale_images\\10_missing_hole_02.jpg\n",
      "Saved grayscale image: D:\\BML Munjal\\3rd Year\\Sem 5\\DIP\\DIP-dataset\\PCB_DATASET\\grayscale_images\\10_missing_hole_03.jpg\n",
      "Saved grayscale image: D:\\BML Munjal\\3rd Year\\Sem 5\\DIP\\DIP-dataset\\PCB_DATASET\\grayscale_images\\10_missing_hole_04.jpg\n",
      "Saved grayscale image: D:\\BML Munjal\\3rd Year\\Sem 5\\DIP\\DIP-dataset\\PCB_DATASET\\grayscale_images\\10_missing_hole_05.jpg\n",
      "Saved grayscale image: D:\\BML Munjal\\3rd Year\\Sem 5\\DIP\\DIP-dataset\\PCB_DATASET\\grayscale_images\\10_mouse_bite_01.jpg\n",
      "Saved grayscale image: D:\\BML Munjal\\3rd Year\\Sem 5\\DIP\\DIP-dataset\\PCB_DATASET\\grayscale_images\\10_mouse_bite_02.jpg\n",
      "Saved grayscale image: D:\\BML Munjal\\3rd Year\\Sem 5\\DIP\\DIP-dataset\\PCB_DATASET\\grayscale_images\\10_mouse_bite_03.jpg\n",
      "Saved grayscale image: D:\\BML Munjal\\3rd Year\\Sem 5\\DIP\\DIP-dataset\\PCB_DATASET\\grayscale_images\\10_mouse_bite_04.jpg\n",
      "Saved grayscale image: D:\\BML Munjal\\3rd Year\\Sem 5\\DIP\\DIP-dataset\\PCB_DATASET\\grayscale_images\\10_mouse_bite_05.jpg\n",
      "Saved grayscale image: D:\\BML Munjal\\3rd Year\\Sem 5\\DIP\\DIP-dataset\\PCB_DATASET\\grayscale_images\\10_open_circuit_01.jpg\n",
      "Saved grayscale image: D:\\BML Munjal\\3rd Year\\Sem 5\\DIP\\DIP-dataset\\PCB_DATASET\\grayscale_images\\10_open_circuit_02.jpg\n",
      "Saved grayscale image: D:\\BML Munjal\\3rd Year\\Sem 5\\DIP\\DIP-dataset\\PCB_DATASET\\grayscale_images\\10_open_circuit_03.jpg\n",
      "Saved grayscale image: D:\\BML Munjal\\3rd Year\\Sem 5\\DIP\\DIP-dataset\\PCB_DATASET\\grayscale_images\\10_open_circuit_04.jpg\n",
      "Saved grayscale image: D:\\BML Munjal\\3rd Year\\Sem 5\\DIP\\DIP-dataset\\PCB_DATASET\\grayscale_images\\10_open_circuit_05.jpg\n",
      "Saved grayscale image: D:\\BML Munjal\\3rd Year\\Sem 5\\DIP\\DIP-dataset\\PCB_DATASET\\grayscale_images\\10_open_circuit_06.jpg\n",
      "Saved grayscale image: D:\\BML Munjal\\3rd Year\\Sem 5\\DIP\\DIP-dataset\\PCB_DATASET\\grayscale_images\\10_short_01.jpg\n",
      "Saved grayscale image: D:\\BML Munjal\\3rd Year\\Sem 5\\DIP\\DIP-dataset\\PCB_DATASET\\grayscale_images\\10_short_02.jpg\n",
      "Saved grayscale image: D:\\BML Munjal\\3rd Year\\Sem 5\\DIP\\DIP-dataset\\PCB_DATASET\\grayscale_images\\10_short_03.jpg\n",
      "Saved grayscale image: D:\\BML Munjal\\3rd Year\\Sem 5\\DIP\\DIP-dataset\\PCB_DATASET\\grayscale_images\\10_short_04.jpg\n",
      "Saved grayscale image: D:\\BML Munjal\\3rd Year\\Sem 5\\DIP\\DIP-dataset\\PCB_DATASET\\grayscale_images\\10_short_05.jpg\n",
      "Saved grayscale image: D:\\BML Munjal\\3rd Year\\Sem 5\\DIP\\DIP-dataset\\PCB_DATASET\\grayscale_images\\10_spurious_copper_01.jpg\n",
      "Saved grayscale image: D:\\BML Munjal\\3rd Year\\Sem 5\\DIP\\DIP-dataset\\PCB_DATASET\\grayscale_images\\10_spurious_copper_02.jpg\n",
      "Saved grayscale image: D:\\BML Munjal\\3rd Year\\Sem 5\\DIP\\DIP-dataset\\PCB_DATASET\\grayscale_images\\10_spurious_copper_03.jpg\n",
      "Saved grayscale image: D:\\BML Munjal\\3rd Year\\Sem 5\\DIP\\DIP-dataset\\PCB_DATASET\\grayscale_images\\10_spurious_copper_04.jpg\n",
      "Saved grayscale image: D:\\BML Munjal\\3rd Year\\Sem 5\\DIP\\DIP-dataset\\PCB_DATASET\\grayscale_images\\10_spurious_copper_05.jpg\n",
      "Saved grayscale image: D:\\BML Munjal\\3rd Year\\Sem 5\\DIP\\DIP-dataset\\PCB_DATASET\\grayscale_images\\10_spurious_copper_06.jpg\n",
      "Saved grayscale image: D:\\BML Munjal\\3rd Year\\Sem 5\\DIP\\DIP-dataset\\PCB_DATASET\\grayscale_images\\10_spur_01.jpg\n",
      "Saved grayscale image: D:\\BML Munjal\\3rd Year\\Sem 5\\DIP\\DIP-dataset\\PCB_DATASET\\grayscale_images\\10_spur_02.jpg\n",
      "Saved grayscale image: D:\\BML Munjal\\3rd Year\\Sem 5\\DIP\\DIP-dataset\\PCB_DATASET\\grayscale_images\\10_spur_03.jpg\n",
      "Saved grayscale image: D:\\BML Munjal\\3rd Year\\Sem 5\\DIP\\DIP-dataset\\PCB_DATASET\\grayscale_images\\10_spur_04.jpg\n",
      "Saved grayscale image: D:\\BML Munjal\\3rd Year\\Sem 5\\DIP\\DIP-dataset\\PCB_DATASET\\grayscale_images\\10_spur_05.jpg\n",
      "Saved grayscale image: D:\\BML Munjal\\3rd Year\\Sem 5\\DIP\\DIP-dataset\\PCB_DATASET\\grayscale_images\\11_missing_hole_01.jpg\n",
      "Saved grayscale image: D:\\BML Munjal\\3rd Year\\Sem 5\\DIP\\DIP-dataset\\PCB_DATASET\\grayscale_images\\11_missing_hole_02.jpg\n",
      "Saved grayscale image: D:\\BML Munjal\\3rd Year\\Sem 5\\DIP\\DIP-dataset\\PCB_DATASET\\grayscale_images\\11_missing_hole_03.jpg\n",
      "Saved grayscale image: D:\\BML Munjal\\3rd Year\\Sem 5\\DIP\\DIP-dataset\\PCB_DATASET\\grayscale_images\\11_missing_hole_04.jpg\n",
      "Saved grayscale image: D:\\BML Munjal\\3rd Year\\Sem 5\\DIP\\DIP-dataset\\PCB_DATASET\\grayscale_images\\11_missing_hole_05.jpg\n",
      "Saved grayscale image: D:\\BML Munjal\\3rd Year\\Sem 5\\DIP\\DIP-dataset\\PCB_DATASET\\grayscale_images\\11_missing_hole_06.jpg\n",
      "Saved grayscale image: D:\\BML Munjal\\3rd Year\\Sem 5\\DIP\\DIP-dataset\\PCB_DATASET\\grayscale_images\\11_missing_hole_07.jpg\n",
      "Saved grayscale image: D:\\BML Munjal\\3rd Year\\Sem 5\\DIP\\DIP-dataset\\PCB_DATASET\\grayscale_images\\11_missing_hole_08.jpg\n",
      "Saved grayscale image: D:\\BML Munjal\\3rd Year\\Sem 5\\DIP\\DIP-dataset\\PCB_DATASET\\grayscale_images\\11_missing_hole_09.jpg\n",
      "Saved grayscale image: D:\\BML Munjal\\3rd Year\\Sem 5\\DIP\\DIP-dataset\\PCB_DATASET\\grayscale_images\\11_missing_hole_10.jpg\n",
      "Saved grayscale image: D:\\BML Munjal\\3rd Year\\Sem 5\\DIP\\DIP-dataset\\PCB_DATASET\\grayscale_images\\11_mouse_bite_01.jpg\n",
      "Saved grayscale image: D:\\BML Munjal\\3rd Year\\Sem 5\\DIP\\DIP-dataset\\PCB_DATASET\\grayscale_images\\11_mouse_bite_02.jpg\n",
      "Saved grayscale image: D:\\BML Munjal\\3rd Year\\Sem 5\\DIP\\DIP-dataset\\PCB_DATASET\\grayscale_images\\11_mouse_bite_03.jpg\n",
      "Saved grayscale image: D:\\BML Munjal\\3rd Year\\Sem 5\\DIP\\DIP-dataset\\PCB_DATASET\\grayscale_images\\11_mouse_bite_04.jpg\n",
      "Saved grayscale image: D:\\BML Munjal\\3rd Year\\Sem 5\\DIP\\DIP-dataset\\PCB_DATASET\\grayscale_images\\11_mouse_bite_05.jpg\n",
      "Saved grayscale image: D:\\BML Munjal\\3rd Year\\Sem 5\\DIP\\DIP-dataset\\PCB_DATASET\\grayscale_images\\11_mouse_bite_06.jpg\n",
      "Saved grayscale image: D:\\BML Munjal\\3rd Year\\Sem 5\\DIP\\DIP-dataset\\PCB_DATASET\\grayscale_images\\11_mouse_bite_07.jpg\n",
      "Saved grayscale image: D:\\BML Munjal\\3rd Year\\Sem 5\\DIP\\DIP-dataset\\PCB_DATASET\\grayscale_images\\11_mouse_bite_08.jpg\n",
      "Saved grayscale image: D:\\BML Munjal\\3rd Year\\Sem 5\\DIP\\DIP-dataset\\PCB_DATASET\\grayscale_images\\11_mouse_bite_09.jpg\n",
      "Saved grayscale image: D:\\BML Munjal\\3rd Year\\Sem 5\\DIP\\DIP-dataset\\PCB_DATASET\\grayscale_images\\11_mouse_bite_10.jpg\n",
      "Saved grayscale image: D:\\BML Munjal\\3rd Year\\Sem 5\\DIP\\DIP-dataset\\PCB_DATASET\\grayscale_images\\11_open_circuit_01.jpg\n",
      "Saved grayscale image: D:\\BML Munjal\\3rd Year\\Sem 5\\DIP\\DIP-dataset\\PCB_DATASET\\grayscale_images\\11_open_circuit_02.jpg\n",
      "Saved grayscale image: D:\\BML Munjal\\3rd Year\\Sem 5\\DIP\\DIP-dataset\\PCB_DATASET\\grayscale_images\\11_open_circuit_03.jpg\n",
      "Saved grayscale image: D:\\BML Munjal\\3rd Year\\Sem 5\\DIP\\DIP-dataset\\PCB_DATASET\\grayscale_images\\11_open_circuit_04.jpg\n",
      "Saved grayscale image: D:\\BML Munjal\\3rd Year\\Sem 5\\DIP\\DIP-dataset\\PCB_DATASET\\grayscale_images\\11_open_circuit_05.jpg\n",
      "Saved grayscale image: D:\\BML Munjal\\3rd Year\\Sem 5\\DIP\\DIP-dataset\\PCB_DATASET\\grayscale_images\\11_open_circuit_06.jpg\n",
      "Saved grayscale image: D:\\BML Munjal\\3rd Year\\Sem 5\\DIP\\DIP-dataset\\PCB_DATASET\\grayscale_images\\11_open_circuit_07.jpg\n",
      "Saved grayscale image: D:\\BML Munjal\\3rd Year\\Sem 5\\DIP\\DIP-dataset\\PCB_DATASET\\grayscale_images\\11_open_circuit_08.jpg\n",
      "Saved grayscale image: D:\\BML Munjal\\3rd Year\\Sem 5\\DIP\\DIP-dataset\\PCB_DATASET\\grayscale_images\\11_open_circuit_09.jpg\n",
      "Saved grayscale image: D:\\BML Munjal\\3rd Year\\Sem 5\\DIP\\DIP-dataset\\PCB_DATASET\\grayscale_images\\11_open_circuit_10.jpg\n",
      "Saved grayscale image: D:\\BML Munjal\\3rd Year\\Sem 5\\DIP\\DIP-dataset\\PCB_DATASET\\grayscale_images\\11_short_01.jpg\n",
      "Saved grayscale image: D:\\BML Munjal\\3rd Year\\Sem 5\\DIP\\DIP-dataset\\PCB_DATASET\\grayscale_images\\11_short_02.jpg\n",
      "Saved grayscale image: D:\\BML Munjal\\3rd Year\\Sem 5\\DIP\\DIP-dataset\\PCB_DATASET\\grayscale_images\\11_short_03.jpg\n",
      "Saved grayscale image: D:\\BML Munjal\\3rd Year\\Sem 5\\DIP\\DIP-dataset\\PCB_DATASET\\grayscale_images\\11_short_04.jpg\n",
      "Saved grayscale image: D:\\BML Munjal\\3rd Year\\Sem 5\\DIP\\DIP-dataset\\PCB_DATASET\\grayscale_images\\11_short_05.jpg\n",
      "Saved grayscale image: D:\\BML Munjal\\3rd Year\\Sem 5\\DIP\\DIP-dataset\\PCB_DATASET\\grayscale_images\\11_short_06.jpg\n",
      "Saved grayscale image: D:\\BML Munjal\\3rd Year\\Sem 5\\DIP\\DIP-dataset\\PCB_DATASET\\grayscale_images\\11_short_07.jpg\n",
      "Saved grayscale image: D:\\BML Munjal\\3rd Year\\Sem 5\\DIP\\DIP-dataset\\PCB_DATASET\\grayscale_images\\11_short_08.jpg\n",
      "Saved grayscale image: D:\\BML Munjal\\3rd Year\\Sem 5\\DIP\\DIP-dataset\\PCB_DATASET\\grayscale_images\\11_short_09.jpg\n",
      "Saved grayscale image: D:\\BML Munjal\\3rd Year\\Sem 5\\DIP\\DIP-dataset\\PCB_DATASET\\grayscale_images\\11_short_10.jpg\n",
      "Saved grayscale image: D:\\BML Munjal\\3rd Year\\Sem 5\\DIP\\DIP-dataset\\PCB_DATASET\\grayscale_images\\11_spurious_copper_01.jpg\n",
      "Saved grayscale image: D:\\BML Munjal\\3rd Year\\Sem 5\\DIP\\DIP-dataset\\PCB_DATASET\\grayscale_images\\11_spurious_copper_02.jpg\n",
      "Saved grayscale image: D:\\BML Munjal\\3rd Year\\Sem 5\\DIP\\DIP-dataset\\PCB_DATASET\\grayscale_images\\11_spurious_copper_03.jpg\n",
      "Saved grayscale image: D:\\BML Munjal\\3rd Year\\Sem 5\\DIP\\DIP-dataset\\PCB_DATASET\\grayscale_images\\11_spurious_copper_04.jpg\n",
      "Saved grayscale image: D:\\BML Munjal\\3rd Year\\Sem 5\\DIP\\DIP-dataset\\PCB_DATASET\\grayscale_images\\11_spurious_copper_05.jpg\n",
      "Saved grayscale image: D:\\BML Munjal\\3rd Year\\Sem 5\\DIP\\DIP-dataset\\PCB_DATASET\\grayscale_images\\11_spurious_copper_06.jpg\n",
      "Saved grayscale image: D:\\BML Munjal\\3rd Year\\Sem 5\\DIP\\DIP-dataset\\PCB_DATASET\\grayscale_images\\11_spurious_copper_07.jpg\n",
      "Saved grayscale image: D:\\BML Munjal\\3rd Year\\Sem 5\\DIP\\DIP-dataset\\PCB_DATASET\\grayscale_images\\11_spurious_copper_08.jpg\n",
      "Saved grayscale image: D:\\BML Munjal\\3rd Year\\Sem 5\\DIP\\DIP-dataset\\PCB_DATASET\\grayscale_images\\11_spurious_copper_09.jpg\n",
      "Saved grayscale image: D:\\BML Munjal\\3rd Year\\Sem 5\\DIP\\DIP-dataset\\PCB_DATASET\\grayscale_images\\11_spurious_copper_10.jpg\n",
      "Saved grayscale image: D:\\BML Munjal\\3rd Year\\Sem 5\\DIP\\DIP-dataset\\PCB_DATASET\\grayscale_images\\11_spur_01.jpg\n",
      "Saved grayscale image: D:\\BML Munjal\\3rd Year\\Sem 5\\DIP\\DIP-dataset\\PCB_DATASET\\grayscale_images\\11_spur_02.jpg\n",
      "Saved grayscale image: D:\\BML Munjal\\3rd Year\\Sem 5\\DIP\\DIP-dataset\\PCB_DATASET\\grayscale_images\\11_spur_03.jpg\n",
      "Saved grayscale image: D:\\BML Munjal\\3rd Year\\Sem 5\\DIP\\DIP-dataset\\PCB_DATASET\\grayscale_images\\11_spur_04.jpg\n",
      "Saved grayscale image: D:\\BML Munjal\\3rd Year\\Sem 5\\DIP\\DIP-dataset\\PCB_DATASET\\grayscale_images\\11_spur_05.jpg\n",
      "Saved grayscale image: D:\\BML Munjal\\3rd Year\\Sem 5\\DIP\\DIP-dataset\\PCB_DATASET\\grayscale_images\\11_spur_06.jpg\n",
      "Saved grayscale image: D:\\BML Munjal\\3rd Year\\Sem 5\\DIP\\DIP-dataset\\PCB_DATASET\\grayscale_images\\11_spur_07.jpg\n",
      "Saved grayscale image: D:\\BML Munjal\\3rd Year\\Sem 5\\DIP\\DIP-dataset\\PCB_DATASET\\grayscale_images\\11_spur_08.jpg\n",
      "Saved grayscale image: D:\\BML Munjal\\3rd Year\\Sem 5\\DIP\\DIP-dataset\\PCB_DATASET\\grayscale_images\\11_spur_09.jpg\n",
      "Saved grayscale image: D:\\BML Munjal\\3rd Year\\Sem 5\\DIP\\DIP-dataset\\PCB_DATASET\\grayscale_images\\11_spur_10.jpg\n",
      "Saved grayscale image: D:\\BML Munjal\\3rd Year\\Sem 5\\DIP\\DIP-dataset\\PCB_DATASET\\grayscale_images\\12_missing_hole_01.jpg\n",
      "Saved grayscale image: D:\\BML Munjal\\3rd Year\\Sem 5\\DIP\\DIP-dataset\\PCB_DATASET\\grayscale_images\\12_missing_hole_02.jpg\n",
      "Saved grayscale image: D:\\BML Munjal\\3rd Year\\Sem 5\\DIP\\DIP-dataset\\PCB_DATASET\\grayscale_images\\12_missing_hole_03.jpg\n",
      "Saved grayscale image: D:\\BML Munjal\\3rd Year\\Sem 5\\DIP\\DIP-dataset\\PCB_DATASET\\grayscale_images\\12_missing_hole_04.jpg\n",
      "Saved grayscale image: D:\\BML Munjal\\3rd Year\\Sem 5\\DIP\\DIP-dataset\\PCB_DATASET\\grayscale_images\\12_missing_hole_05.jpg\n",
      "Saved grayscale image: D:\\BML Munjal\\3rd Year\\Sem 5\\DIP\\DIP-dataset\\PCB_DATASET\\grayscale_images\\12_missing_hole_06.jpg\n",
      "Saved grayscale image: D:\\BML Munjal\\3rd Year\\Sem 5\\DIP\\DIP-dataset\\PCB_DATASET\\grayscale_images\\12_missing_hole_07.jpg\n",
      "Saved grayscale image: D:\\BML Munjal\\3rd Year\\Sem 5\\DIP\\DIP-dataset\\PCB_DATASET\\grayscale_images\\12_missing_hole_08.jpg\n",
      "Saved grayscale image: D:\\BML Munjal\\3rd Year\\Sem 5\\DIP\\DIP-dataset\\PCB_DATASET\\grayscale_images\\12_missing_hole_09.jpg\n",
      "Saved grayscale image: D:\\BML Munjal\\3rd Year\\Sem 5\\DIP\\DIP-dataset\\PCB_DATASET\\grayscale_images\\12_missing_hole_10.jpg\n",
      "Saved grayscale image: D:\\BML Munjal\\3rd Year\\Sem 5\\DIP\\DIP-dataset\\PCB_DATASET\\grayscale_images\\12_mouse_bite_01.jpg\n",
      "Saved grayscale image: D:\\BML Munjal\\3rd Year\\Sem 5\\DIP\\DIP-dataset\\PCB_DATASET\\grayscale_images\\12_mouse_bite_02.jpg\n",
      "Saved grayscale image: D:\\BML Munjal\\3rd Year\\Sem 5\\DIP\\DIP-dataset\\PCB_DATASET\\grayscale_images\\12_mouse_bite_03.jpg\n",
      "Saved grayscale image: D:\\BML Munjal\\3rd Year\\Sem 5\\DIP\\DIP-dataset\\PCB_DATASET\\grayscale_images\\12_mouse_bite_04.jpg\n",
      "Saved grayscale image: D:\\BML Munjal\\3rd Year\\Sem 5\\DIP\\DIP-dataset\\PCB_DATASET\\grayscale_images\\12_mouse_bite_05.jpg\n",
      "Saved grayscale image: D:\\BML Munjal\\3rd Year\\Sem 5\\DIP\\DIP-dataset\\PCB_DATASET\\grayscale_images\\12_mouse_bite_06.jpg\n",
      "Saved grayscale image: D:\\BML Munjal\\3rd Year\\Sem 5\\DIP\\DIP-dataset\\PCB_DATASET\\grayscale_images\\12_mouse_bite_07.jpg\n",
      "Saved grayscale image: D:\\BML Munjal\\3rd Year\\Sem 5\\DIP\\DIP-dataset\\PCB_DATASET\\grayscale_images\\12_mouse_bite_08.jpg\n",
      "Saved grayscale image: D:\\BML Munjal\\3rd Year\\Sem 5\\DIP\\DIP-dataset\\PCB_DATASET\\grayscale_images\\12_mouse_bite_09.jpg\n",
      "Saved grayscale image: D:\\BML Munjal\\3rd Year\\Sem 5\\DIP\\DIP-dataset\\PCB_DATASET\\grayscale_images\\12_mouse_bite_10.jpg\n",
      "Saved grayscale image: D:\\BML Munjal\\3rd Year\\Sem 5\\DIP\\DIP-dataset\\PCB_DATASET\\grayscale_images\\12_open_circuit_01.jpg\n",
      "Saved grayscale image: D:\\BML Munjal\\3rd Year\\Sem 5\\DIP\\DIP-dataset\\PCB_DATASET\\grayscale_images\\12_open_circuit_02.jpg\n",
      "Saved grayscale image: D:\\BML Munjal\\3rd Year\\Sem 5\\DIP\\DIP-dataset\\PCB_DATASET\\grayscale_images\\12_open_circuit_03.jpg\n",
      "Saved grayscale image: D:\\BML Munjal\\3rd Year\\Sem 5\\DIP\\DIP-dataset\\PCB_DATASET\\grayscale_images\\12_open_circuit_04.jpg\n",
      "Saved grayscale image: D:\\BML Munjal\\3rd Year\\Sem 5\\DIP\\DIP-dataset\\PCB_DATASET\\grayscale_images\\12_open_circuit_05.jpg\n",
      "Saved grayscale image: D:\\BML Munjal\\3rd Year\\Sem 5\\DIP\\DIP-dataset\\PCB_DATASET\\grayscale_images\\12_open_circuit_06.jpg\n",
      "Saved grayscale image: D:\\BML Munjal\\3rd Year\\Sem 5\\DIP\\DIP-dataset\\PCB_DATASET\\grayscale_images\\12_open_circuit_07.jpg\n",
      "Saved grayscale image: D:\\BML Munjal\\3rd Year\\Sem 5\\DIP\\DIP-dataset\\PCB_DATASET\\grayscale_images\\12_open_circuit_08.jpg\n",
      "Saved grayscale image: D:\\BML Munjal\\3rd Year\\Sem 5\\DIP\\DIP-dataset\\PCB_DATASET\\grayscale_images\\12_open_circuit_09.jpg\n",
      "Saved grayscale image: D:\\BML Munjal\\3rd Year\\Sem 5\\DIP\\DIP-dataset\\PCB_DATASET\\grayscale_images\\12_open_circuit_10.jpg\n",
      "Saved grayscale image: D:\\BML Munjal\\3rd Year\\Sem 5\\DIP\\DIP-dataset\\PCB_DATASET\\grayscale_images\\12_short_01.jpg\n",
      "Saved grayscale image: D:\\BML Munjal\\3rd Year\\Sem 5\\DIP\\DIP-dataset\\PCB_DATASET\\grayscale_images\\12_short_02.jpg\n",
      "Saved grayscale image: D:\\BML Munjal\\3rd Year\\Sem 5\\DIP\\DIP-dataset\\PCB_DATASET\\grayscale_images\\12_short_03.jpg\n",
      "Saved grayscale image: D:\\BML Munjal\\3rd Year\\Sem 5\\DIP\\DIP-dataset\\PCB_DATASET\\grayscale_images\\12_short_04.jpg\n",
      "Saved grayscale image: D:\\BML Munjal\\3rd Year\\Sem 5\\DIP\\DIP-dataset\\PCB_DATASET\\grayscale_images\\12_short_05.jpg\n",
      "Saved grayscale image: D:\\BML Munjal\\3rd Year\\Sem 5\\DIP\\DIP-dataset\\PCB_DATASET\\grayscale_images\\12_short_06.jpg\n",
      "Saved grayscale image: D:\\BML Munjal\\3rd Year\\Sem 5\\DIP\\DIP-dataset\\PCB_DATASET\\grayscale_images\\12_short_07.jpg\n",
      "Saved grayscale image: D:\\BML Munjal\\3rd Year\\Sem 5\\DIP\\DIP-dataset\\PCB_DATASET\\grayscale_images\\12_short_08.jpg\n",
      "Saved grayscale image: D:\\BML Munjal\\3rd Year\\Sem 5\\DIP\\DIP-dataset\\PCB_DATASET\\grayscale_images\\12_short_09.jpg\n",
      "Saved grayscale image: D:\\BML Munjal\\3rd Year\\Sem 5\\DIP\\DIP-dataset\\PCB_DATASET\\grayscale_images\\12_short_10.jpg\n",
      "Saved grayscale image: D:\\BML Munjal\\3rd Year\\Sem 5\\DIP\\DIP-dataset\\PCB_DATASET\\grayscale_images\\12_spurious_copper_01.jpg\n",
      "Saved grayscale image: D:\\BML Munjal\\3rd Year\\Sem 5\\DIP\\DIP-dataset\\PCB_DATASET\\grayscale_images\\12_spurious_copper_02.jpg\n",
      "Saved grayscale image: D:\\BML Munjal\\3rd Year\\Sem 5\\DIP\\DIP-dataset\\PCB_DATASET\\grayscale_images\\12_spurious_copper_03.jpg\n",
      "Saved grayscale image: D:\\BML Munjal\\3rd Year\\Sem 5\\DIP\\DIP-dataset\\PCB_DATASET\\grayscale_images\\12_spurious_copper_04.jpg\n",
      "Saved grayscale image: D:\\BML Munjal\\3rd Year\\Sem 5\\DIP\\DIP-dataset\\PCB_DATASET\\grayscale_images\\12_spurious_copper_05.jpg\n",
      "Saved grayscale image: D:\\BML Munjal\\3rd Year\\Sem 5\\DIP\\DIP-dataset\\PCB_DATASET\\grayscale_images\\12_spurious_copper_06.jpg\n",
      "Saved grayscale image: D:\\BML Munjal\\3rd Year\\Sem 5\\DIP\\DIP-dataset\\PCB_DATASET\\grayscale_images\\12_spurious_copper_07.jpg\n",
      "Saved grayscale image: D:\\BML Munjal\\3rd Year\\Sem 5\\DIP\\DIP-dataset\\PCB_DATASET\\grayscale_images\\12_spurious_copper_08.jpg\n",
      "Saved grayscale image: D:\\BML Munjal\\3rd Year\\Sem 5\\DIP\\DIP-dataset\\PCB_DATASET\\grayscale_images\\12_spurious_copper_09.jpg\n",
      "Saved grayscale image: D:\\BML Munjal\\3rd Year\\Sem 5\\DIP\\DIP-dataset\\PCB_DATASET\\grayscale_images\\12_spurious_copper_10.jpg\n",
      "Saved grayscale image: D:\\BML Munjal\\3rd Year\\Sem 5\\DIP\\DIP-dataset\\PCB_DATASET\\grayscale_images\\12_spur_01.jpg\n",
      "Saved grayscale image: D:\\BML Munjal\\3rd Year\\Sem 5\\DIP\\DIP-dataset\\PCB_DATASET\\grayscale_images\\12_spur_02.jpg\n",
      "Saved grayscale image: D:\\BML Munjal\\3rd Year\\Sem 5\\DIP\\DIP-dataset\\PCB_DATASET\\grayscale_images\\12_spur_03.jpg\n",
      "Saved grayscale image: D:\\BML Munjal\\3rd Year\\Sem 5\\DIP\\DIP-dataset\\PCB_DATASET\\grayscale_images\\12_spur_04.jpg\n",
      "Saved grayscale image: D:\\BML Munjal\\3rd Year\\Sem 5\\DIP\\DIP-dataset\\PCB_DATASET\\grayscale_images\\12_spur_05.jpg\n",
      "Saved grayscale image: D:\\BML Munjal\\3rd Year\\Sem 5\\DIP\\DIP-dataset\\PCB_DATASET\\grayscale_images\\12_spur_06.jpg\n",
      "Saved grayscale image: D:\\BML Munjal\\3rd Year\\Sem 5\\DIP\\DIP-dataset\\PCB_DATASET\\grayscale_images\\12_spur_07.jpg\n",
      "Saved grayscale image: D:\\BML Munjal\\3rd Year\\Sem 5\\DIP\\DIP-dataset\\PCB_DATASET\\grayscale_images\\12_spur_08.jpg\n",
      "Saved grayscale image: D:\\BML Munjal\\3rd Year\\Sem 5\\DIP\\DIP-dataset\\PCB_DATASET\\grayscale_images\\12_spur_09.jpg\n",
      "Saved grayscale image: D:\\BML Munjal\\3rd Year\\Sem 5\\DIP\\DIP-dataset\\PCB_DATASET\\grayscale_images\\12_spur_10.jpg\n",
      "Conversion to grayscale completed.\n"
     ]
    }
   ],
   "source": [
    "# Directory containing all images categorized into types of defects\n",
    "images_dir = os.path.join(dataset_dir, 'images_resized')  # Input image directory\n",
    "\n",
    "# Directory to save grayscale images\n",
    "grayscale_img_dir = os.path.join(dataset_dir, 'grayscale_images')  # Output directory for grayscale images\n",
    "\n",
    "# Create the output directory if it doesn't exist\n",
    "os.makedirs(grayscale_img_dir, exist_ok=True)\n",
    "print(f\"Output directory '{grayscale_img_dir}' created or already exists.\")\n",
    "\n",
    "# Function to perform histogram equalization and convert to grayscale\n",
    "def process_image(image_path):\n",
    "    # Read the image\n",
    "    image = cv2.imread(image_path)\n",
    "\n",
    "    # Check if the image was loaded successfully\n",
    "    if image is None:\n",
    "        print(f\"Error loading image: {image_path}\")\n",
    "        return None\n",
    "\n",
    "    # Convert to YUV color space for histogram equalization\n",
    "    img_yuv = cv2.cvtColor(image, cv2.COLOR_BGR2YUV)\n",
    "    # Perform histogram equalization on the Y channel\n",
    "    img_yuv[:, :, 0] = cv2.equalizeHist(img_yuv[:, :, 0])\n",
    "    # Convert back to BGR color space\n",
    "    img_eq = cv2.cvtColor(img_yuv, cv2.COLOR_YUV2BGR)\n",
    "\n",
    "    # Convert to grayscale\n",
    "    grayscale_image = cv2.cvtColor(img_eq, cv2.COLOR_BGR2GRAY)\n",
    "\n",
    "    return grayscale_image\n",
    "\n",
    "# Iterate through all files in the input directory\n",
    "for root, dirs, files in os.walk(images_dir):\n",
    "    for filename in files:\n",
    "        if filename.endswith('.jpg') or filename.endswith('.png'):  # Add other formats if necessary\n",
    "            image_path = os.path.join(root, filename)\n",
    "            grayscale_image = process_image(image_path)\n",
    "\n",
    "            # Save the grayscale image\n",
    "            if grayscale_image is not None:\n",
    "                # Create output path preserving the directory structure\n",
    "                output_image_path = os.path.join(grayscale_img_dir, os.path.relpath(image_path, images_dir))\n",
    "                # Create the necessary directories in the output path\n",
    "                os.makedirs(os.path.dirname(output_image_path), exist_ok=True)\n",
    "                cv2.imwrite(output_image_path, grayscale_image)\n",
    "                print(f\"Saved grayscale image: {output_image_path}\")\n",
    "\n",
    "print(\"Conversion to grayscale completed.\")\n"
   ]
  },
  {
   "cell_type": "markdown",
   "metadata": {},
   "source": [
    "# Converting Greyscale Images to Binary Images (Using Histogram Equalisation)"
   ]
  },
  {
   "cell_type": "code",
   "execution_count": 13,
   "metadata": {},
   "outputs": [
    {
     "name": "stdout",
     "output_type": "stream",
     "text": [
      "Output directory 'D:\\BML Munjal\\3rd Year\\Sem 5\\DIP\\DIP-dataset\\PCB_DATASET\\binary_images' created or already exists.\n",
      "Saved binary image: D:\\BML Munjal\\3rd Year\\Sem 5\\DIP\\DIP-dataset\\PCB_DATASET\\binary_images\\01_missing_hole_01.jpg\n",
      "Saved binary image: D:\\BML Munjal\\3rd Year\\Sem 5\\DIP\\DIP-dataset\\PCB_DATASET\\binary_images\\01_missing_hole_02.jpg\n",
      "Saved binary image: D:\\BML Munjal\\3rd Year\\Sem 5\\DIP\\DIP-dataset\\PCB_DATASET\\binary_images\\01_missing_hole_03.jpg\n",
      "Saved binary image: D:\\BML Munjal\\3rd Year\\Sem 5\\DIP\\DIP-dataset\\PCB_DATASET\\binary_images\\01_missing_hole_04.jpg\n",
      "Saved binary image: D:\\BML Munjal\\3rd Year\\Sem 5\\DIP\\DIP-dataset\\PCB_DATASET\\binary_images\\01_missing_hole_05.jpg\n",
      "Saved binary image: D:\\BML Munjal\\3rd Year\\Sem 5\\DIP\\DIP-dataset\\PCB_DATASET\\binary_images\\01_missing_hole_06.jpg\n",
      "Saved binary image: D:\\BML Munjal\\3rd Year\\Sem 5\\DIP\\DIP-dataset\\PCB_DATASET\\binary_images\\01_missing_hole_07.jpg\n",
      "Saved binary image: D:\\BML Munjal\\3rd Year\\Sem 5\\DIP\\DIP-dataset\\PCB_DATASET\\binary_images\\01_missing_hole_08.jpg\n",
      "Saved binary image: D:\\BML Munjal\\3rd Year\\Sem 5\\DIP\\DIP-dataset\\PCB_DATASET\\binary_images\\01_missing_hole_09.jpg\n",
      "Saved binary image: D:\\BML Munjal\\3rd Year\\Sem 5\\DIP\\DIP-dataset\\PCB_DATASET\\binary_images\\01_missing_hole_10.jpg\n",
      "Saved binary image: D:\\BML Munjal\\3rd Year\\Sem 5\\DIP\\DIP-dataset\\PCB_DATASET\\binary_images\\01_missing_hole_11.jpg\n",
      "Saved binary image: D:\\BML Munjal\\3rd Year\\Sem 5\\DIP\\DIP-dataset\\PCB_DATASET\\binary_images\\01_missing_hole_12.jpg\n",
      "Saved binary image: D:\\BML Munjal\\3rd Year\\Sem 5\\DIP\\DIP-dataset\\PCB_DATASET\\binary_images\\01_missing_hole_13.jpg\n",
      "Saved binary image: D:\\BML Munjal\\3rd Year\\Sem 5\\DIP\\DIP-dataset\\PCB_DATASET\\binary_images\\01_missing_hole_14.jpg\n",
      "Saved binary image: D:\\BML Munjal\\3rd Year\\Sem 5\\DIP\\DIP-dataset\\PCB_DATASET\\binary_images\\01_missing_hole_15.jpg\n",
      "Saved binary image: D:\\BML Munjal\\3rd Year\\Sem 5\\DIP\\DIP-dataset\\PCB_DATASET\\binary_images\\01_missing_hole_16.jpg\n",
      "Saved binary image: D:\\BML Munjal\\3rd Year\\Sem 5\\DIP\\DIP-dataset\\PCB_DATASET\\binary_images\\01_missing_hole_17.jpg\n",
      "Saved binary image: D:\\BML Munjal\\3rd Year\\Sem 5\\DIP\\DIP-dataset\\PCB_DATASET\\binary_images\\01_missing_hole_18.jpg\n",
      "Saved binary image: D:\\BML Munjal\\3rd Year\\Sem 5\\DIP\\DIP-dataset\\PCB_DATASET\\binary_images\\01_missing_hole_19.jpg\n",
      "Saved binary image: D:\\BML Munjal\\3rd Year\\Sem 5\\DIP\\DIP-dataset\\PCB_DATASET\\binary_images\\01_missing_hole_20.jpg\n",
      "Saved binary image: D:\\BML Munjal\\3rd Year\\Sem 5\\DIP\\DIP-dataset\\PCB_DATASET\\binary_images\\01_mouse_bite_01.jpg\n",
      "Saved binary image: D:\\BML Munjal\\3rd Year\\Sem 5\\DIP\\DIP-dataset\\PCB_DATASET\\binary_images\\01_mouse_bite_02.jpg\n",
      "Saved binary image: D:\\BML Munjal\\3rd Year\\Sem 5\\DIP\\DIP-dataset\\PCB_DATASET\\binary_images\\01_mouse_bite_03.jpg\n",
      "Saved binary image: D:\\BML Munjal\\3rd Year\\Sem 5\\DIP\\DIP-dataset\\PCB_DATASET\\binary_images\\01_mouse_bite_04.jpg\n",
      "Saved binary image: D:\\BML Munjal\\3rd Year\\Sem 5\\DIP\\DIP-dataset\\PCB_DATASET\\binary_images\\01_mouse_bite_05.jpg\n",
      "Saved binary image: D:\\BML Munjal\\3rd Year\\Sem 5\\DIP\\DIP-dataset\\PCB_DATASET\\binary_images\\01_mouse_bite_06.jpg\n",
      "Saved binary image: D:\\BML Munjal\\3rd Year\\Sem 5\\DIP\\DIP-dataset\\PCB_DATASET\\binary_images\\01_mouse_bite_07.jpg\n",
      "Saved binary image: D:\\BML Munjal\\3rd Year\\Sem 5\\DIP\\DIP-dataset\\PCB_DATASET\\binary_images\\01_mouse_bite_08.jpg\n",
      "Saved binary image: D:\\BML Munjal\\3rd Year\\Sem 5\\DIP\\DIP-dataset\\PCB_DATASET\\binary_images\\01_mouse_bite_09.jpg\n",
      "Saved binary image: D:\\BML Munjal\\3rd Year\\Sem 5\\DIP\\DIP-dataset\\PCB_DATASET\\binary_images\\01_mouse_bite_10.jpg\n",
      "Saved binary image: D:\\BML Munjal\\3rd Year\\Sem 5\\DIP\\DIP-dataset\\PCB_DATASET\\binary_images\\01_mouse_bite_11.jpg\n",
      "Saved binary image: D:\\BML Munjal\\3rd Year\\Sem 5\\DIP\\DIP-dataset\\PCB_DATASET\\binary_images\\01_mouse_bite_12.jpg\n",
      "Saved binary image: D:\\BML Munjal\\3rd Year\\Sem 5\\DIP\\DIP-dataset\\PCB_DATASET\\binary_images\\01_mouse_bite_13.jpg\n",
      "Saved binary image: D:\\BML Munjal\\3rd Year\\Sem 5\\DIP\\DIP-dataset\\PCB_DATASET\\binary_images\\01_mouse_bite_14.jpg\n",
      "Saved binary image: D:\\BML Munjal\\3rd Year\\Sem 5\\DIP\\DIP-dataset\\PCB_DATASET\\binary_images\\01_mouse_bite_15.jpg\n",
      "Saved binary image: D:\\BML Munjal\\3rd Year\\Sem 5\\DIP\\DIP-dataset\\PCB_DATASET\\binary_images\\01_mouse_bite_16.jpg\n",
      "Saved binary image: D:\\BML Munjal\\3rd Year\\Sem 5\\DIP\\DIP-dataset\\PCB_DATASET\\binary_images\\01_mouse_bite_17.jpg\n",
      "Saved binary image: D:\\BML Munjal\\3rd Year\\Sem 5\\DIP\\DIP-dataset\\PCB_DATASET\\binary_images\\01_mouse_bite_18.jpg\n",
      "Saved binary image: D:\\BML Munjal\\3rd Year\\Sem 5\\DIP\\DIP-dataset\\PCB_DATASET\\binary_images\\01_mouse_bite_19.jpg\n",
      "Saved binary image: D:\\BML Munjal\\3rd Year\\Sem 5\\DIP\\DIP-dataset\\PCB_DATASET\\binary_images\\01_mouse_bite_20.jpg\n",
      "Saved binary image: D:\\BML Munjal\\3rd Year\\Sem 5\\DIP\\DIP-dataset\\PCB_DATASET\\binary_images\\01_open_circuit_01.jpg\n",
      "Saved binary image: D:\\BML Munjal\\3rd Year\\Sem 5\\DIP\\DIP-dataset\\PCB_DATASET\\binary_images\\01_open_circuit_02.jpg\n",
      "Saved binary image: D:\\BML Munjal\\3rd Year\\Sem 5\\DIP\\DIP-dataset\\PCB_DATASET\\binary_images\\01_open_circuit_03.jpg\n",
      "Saved binary image: D:\\BML Munjal\\3rd Year\\Sem 5\\DIP\\DIP-dataset\\PCB_DATASET\\binary_images\\01_open_circuit_04.jpg\n",
      "Saved binary image: D:\\BML Munjal\\3rd Year\\Sem 5\\DIP\\DIP-dataset\\PCB_DATASET\\binary_images\\01_open_circuit_05.jpg\n",
      "Saved binary image: D:\\BML Munjal\\3rd Year\\Sem 5\\DIP\\DIP-dataset\\PCB_DATASET\\binary_images\\01_open_circuit_06.jpg\n",
      "Saved binary image: D:\\BML Munjal\\3rd Year\\Sem 5\\DIP\\DIP-dataset\\PCB_DATASET\\binary_images\\01_open_circuit_07.jpg\n",
      "Saved binary image: D:\\BML Munjal\\3rd Year\\Sem 5\\DIP\\DIP-dataset\\PCB_DATASET\\binary_images\\01_open_circuit_08.jpg\n",
      "Saved binary image: D:\\BML Munjal\\3rd Year\\Sem 5\\DIP\\DIP-dataset\\PCB_DATASET\\binary_images\\01_open_circuit_09.jpg\n",
      "Saved binary image: D:\\BML Munjal\\3rd Year\\Sem 5\\DIP\\DIP-dataset\\PCB_DATASET\\binary_images\\01_open_circuit_10.jpg\n",
      "Saved binary image: D:\\BML Munjal\\3rd Year\\Sem 5\\DIP\\DIP-dataset\\PCB_DATASET\\binary_images\\01_open_circuit_11.jpg\n",
      "Saved binary image: D:\\BML Munjal\\3rd Year\\Sem 5\\DIP\\DIP-dataset\\PCB_DATASET\\binary_images\\01_open_circuit_12.jpg\n",
      "Saved binary image: D:\\BML Munjal\\3rd Year\\Sem 5\\DIP\\DIP-dataset\\PCB_DATASET\\binary_images\\01_open_circuit_13.jpg\n",
      "Saved binary image: D:\\BML Munjal\\3rd Year\\Sem 5\\DIP\\DIP-dataset\\PCB_DATASET\\binary_images\\01_open_circuit_14.jpg\n",
      "Saved binary image: D:\\BML Munjal\\3rd Year\\Sem 5\\DIP\\DIP-dataset\\PCB_DATASET\\binary_images\\01_open_circuit_15.jpg\n",
      "Saved binary image: D:\\BML Munjal\\3rd Year\\Sem 5\\DIP\\DIP-dataset\\PCB_DATASET\\binary_images\\01_open_circuit_16.jpg\n",
      "Saved binary image: D:\\BML Munjal\\3rd Year\\Sem 5\\DIP\\DIP-dataset\\PCB_DATASET\\binary_images\\01_open_circuit_17.jpg\n",
      "Saved binary image: D:\\BML Munjal\\3rd Year\\Sem 5\\DIP\\DIP-dataset\\PCB_DATASET\\binary_images\\01_open_circuit_18.jpg\n",
      "Saved binary image: D:\\BML Munjal\\3rd Year\\Sem 5\\DIP\\DIP-dataset\\PCB_DATASET\\binary_images\\01_open_circuit_19.jpg\n",
      "Saved binary image: D:\\BML Munjal\\3rd Year\\Sem 5\\DIP\\DIP-dataset\\PCB_DATASET\\binary_images\\01_open_circuit_20.jpg\n",
      "Saved binary image: D:\\BML Munjal\\3rd Year\\Sem 5\\DIP\\DIP-dataset\\PCB_DATASET\\binary_images\\01_short_01.jpg\n",
      "Saved binary image: D:\\BML Munjal\\3rd Year\\Sem 5\\DIP\\DIP-dataset\\PCB_DATASET\\binary_images\\01_short_02.jpg\n",
      "Saved binary image: D:\\BML Munjal\\3rd Year\\Sem 5\\DIP\\DIP-dataset\\PCB_DATASET\\binary_images\\01_short_03.jpg\n",
      "Saved binary image: D:\\BML Munjal\\3rd Year\\Sem 5\\DIP\\DIP-dataset\\PCB_DATASET\\binary_images\\01_short_04.jpg\n",
      "Saved binary image: D:\\BML Munjal\\3rd Year\\Sem 5\\DIP\\DIP-dataset\\PCB_DATASET\\binary_images\\01_short_05.jpg\n",
      "Saved binary image: D:\\BML Munjal\\3rd Year\\Sem 5\\DIP\\DIP-dataset\\PCB_DATASET\\binary_images\\01_short_06.jpg\n",
      "Saved binary image: D:\\BML Munjal\\3rd Year\\Sem 5\\DIP\\DIP-dataset\\PCB_DATASET\\binary_images\\01_short_07.jpg\n",
      "Saved binary image: D:\\BML Munjal\\3rd Year\\Sem 5\\DIP\\DIP-dataset\\PCB_DATASET\\binary_images\\01_short_08.jpg\n",
      "Saved binary image: D:\\BML Munjal\\3rd Year\\Sem 5\\DIP\\DIP-dataset\\PCB_DATASET\\binary_images\\01_short_09.jpg\n",
      "Saved binary image: D:\\BML Munjal\\3rd Year\\Sem 5\\DIP\\DIP-dataset\\PCB_DATASET\\binary_images\\01_short_10.jpg\n",
      "Saved binary image: D:\\BML Munjal\\3rd Year\\Sem 5\\DIP\\DIP-dataset\\PCB_DATASET\\binary_images\\01_short_11.jpg\n",
      "Saved binary image: D:\\BML Munjal\\3rd Year\\Sem 5\\DIP\\DIP-dataset\\PCB_DATASET\\binary_images\\01_short_12.jpg\n",
      "Saved binary image: D:\\BML Munjal\\3rd Year\\Sem 5\\DIP\\DIP-dataset\\PCB_DATASET\\binary_images\\01_short_13.jpg\n",
      "Saved binary image: D:\\BML Munjal\\3rd Year\\Sem 5\\DIP\\DIP-dataset\\PCB_DATASET\\binary_images\\01_short_14.jpg\n",
      "Saved binary image: D:\\BML Munjal\\3rd Year\\Sem 5\\DIP\\DIP-dataset\\PCB_DATASET\\binary_images\\01_short_15.jpg\n",
      "Saved binary image: D:\\BML Munjal\\3rd Year\\Sem 5\\DIP\\DIP-dataset\\PCB_DATASET\\binary_images\\01_short_16.jpg\n",
      "Saved binary image: D:\\BML Munjal\\3rd Year\\Sem 5\\DIP\\DIP-dataset\\PCB_DATASET\\binary_images\\01_short_17.jpg\n",
      "Saved binary image: D:\\BML Munjal\\3rd Year\\Sem 5\\DIP\\DIP-dataset\\PCB_DATASET\\binary_images\\01_short_18.jpg\n",
      "Saved binary image: D:\\BML Munjal\\3rd Year\\Sem 5\\DIP\\DIP-dataset\\PCB_DATASET\\binary_images\\01_short_19.jpg\n",
      "Saved binary image: D:\\BML Munjal\\3rd Year\\Sem 5\\DIP\\DIP-dataset\\PCB_DATASET\\binary_images\\01_short_20.jpg\n",
      "Saved binary image: D:\\BML Munjal\\3rd Year\\Sem 5\\DIP\\DIP-dataset\\PCB_DATASET\\binary_images\\01_spurious_copper_01.jpg\n",
      "Saved binary image: D:\\BML Munjal\\3rd Year\\Sem 5\\DIP\\DIP-dataset\\PCB_DATASET\\binary_images\\01_spurious_copper_02.jpg\n",
      "Saved binary image: D:\\BML Munjal\\3rd Year\\Sem 5\\DIP\\DIP-dataset\\PCB_DATASET\\binary_images\\01_spurious_copper_03.jpg\n",
      "Saved binary image: D:\\BML Munjal\\3rd Year\\Sem 5\\DIP\\DIP-dataset\\PCB_DATASET\\binary_images\\01_spurious_copper_04.jpg\n",
      "Saved binary image: D:\\BML Munjal\\3rd Year\\Sem 5\\DIP\\DIP-dataset\\PCB_DATASET\\binary_images\\01_spurious_copper_05.jpg\n",
      "Saved binary image: D:\\BML Munjal\\3rd Year\\Sem 5\\DIP\\DIP-dataset\\PCB_DATASET\\binary_images\\01_spurious_copper_06.jpg\n",
      "Saved binary image: D:\\BML Munjal\\3rd Year\\Sem 5\\DIP\\DIP-dataset\\PCB_DATASET\\binary_images\\01_spurious_copper_07.jpg\n",
      "Saved binary image: D:\\BML Munjal\\3rd Year\\Sem 5\\DIP\\DIP-dataset\\PCB_DATASET\\binary_images\\01_spurious_copper_08.jpg\n",
      "Saved binary image: D:\\BML Munjal\\3rd Year\\Sem 5\\DIP\\DIP-dataset\\PCB_DATASET\\binary_images\\01_spurious_copper_09.jpg\n",
      "Saved binary image: D:\\BML Munjal\\3rd Year\\Sem 5\\DIP\\DIP-dataset\\PCB_DATASET\\binary_images\\01_spurious_copper_10.jpg\n",
      "Saved binary image: D:\\BML Munjal\\3rd Year\\Sem 5\\DIP\\DIP-dataset\\PCB_DATASET\\binary_images\\01_spurious_copper_11.jpg\n",
      "Saved binary image: D:\\BML Munjal\\3rd Year\\Sem 5\\DIP\\DIP-dataset\\PCB_DATASET\\binary_images\\01_spurious_copper_12.jpg\n",
      "Saved binary image: D:\\BML Munjal\\3rd Year\\Sem 5\\DIP\\DIP-dataset\\PCB_DATASET\\binary_images\\01_spurious_copper_13.jpg\n",
      "Saved binary image: D:\\BML Munjal\\3rd Year\\Sem 5\\DIP\\DIP-dataset\\PCB_DATASET\\binary_images\\01_spurious_copper_14.jpg\n",
      "Saved binary image: D:\\BML Munjal\\3rd Year\\Sem 5\\DIP\\DIP-dataset\\PCB_DATASET\\binary_images\\01_spurious_copper_15.jpg\n",
      "Saved binary image: D:\\BML Munjal\\3rd Year\\Sem 5\\DIP\\DIP-dataset\\PCB_DATASET\\binary_images\\01_spurious_copper_16.jpg\n",
      "Saved binary image: D:\\BML Munjal\\3rd Year\\Sem 5\\DIP\\DIP-dataset\\PCB_DATASET\\binary_images\\01_spurious_copper_17.jpg\n",
      "Saved binary image: D:\\BML Munjal\\3rd Year\\Sem 5\\DIP\\DIP-dataset\\PCB_DATASET\\binary_images\\01_spurious_copper_18.jpg\n",
      "Saved binary image: D:\\BML Munjal\\3rd Year\\Sem 5\\DIP\\DIP-dataset\\PCB_DATASET\\binary_images\\01_spurious_copper_19.jpg\n",
      "Saved binary image: D:\\BML Munjal\\3rd Year\\Sem 5\\DIP\\DIP-dataset\\PCB_DATASET\\binary_images\\01_spurious_copper_20.jpg\n",
      "Saved binary image: D:\\BML Munjal\\3rd Year\\Sem 5\\DIP\\DIP-dataset\\PCB_DATASET\\binary_images\\01_spur_01.jpg\n",
      "Saved binary image: D:\\BML Munjal\\3rd Year\\Sem 5\\DIP\\DIP-dataset\\PCB_DATASET\\binary_images\\01_spur_02.jpg\n",
      "Saved binary image: D:\\BML Munjal\\3rd Year\\Sem 5\\DIP\\DIP-dataset\\PCB_DATASET\\binary_images\\01_spur_03.jpg\n",
      "Saved binary image: D:\\BML Munjal\\3rd Year\\Sem 5\\DIP\\DIP-dataset\\PCB_DATASET\\binary_images\\01_spur_04.jpg\n",
      "Saved binary image: D:\\BML Munjal\\3rd Year\\Sem 5\\DIP\\DIP-dataset\\PCB_DATASET\\binary_images\\01_spur_05.jpg\n",
      "Saved binary image: D:\\BML Munjal\\3rd Year\\Sem 5\\DIP\\DIP-dataset\\PCB_DATASET\\binary_images\\01_spur_06.jpg\n",
      "Saved binary image: D:\\BML Munjal\\3rd Year\\Sem 5\\DIP\\DIP-dataset\\PCB_DATASET\\binary_images\\01_spur_07.jpg\n",
      "Saved binary image: D:\\BML Munjal\\3rd Year\\Sem 5\\DIP\\DIP-dataset\\PCB_DATASET\\binary_images\\01_spur_08.jpg\n",
      "Saved binary image: D:\\BML Munjal\\3rd Year\\Sem 5\\DIP\\DIP-dataset\\PCB_DATASET\\binary_images\\01_spur_09.jpg\n",
      "Saved binary image: D:\\BML Munjal\\3rd Year\\Sem 5\\DIP\\DIP-dataset\\PCB_DATASET\\binary_images\\01_spur_10.jpg\n",
      "Saved binary image: D:\\BML Munjal\\3rd Year\\Sem 5\\DIP\\DIP-dataset\\PCB_DATASET\\binary_images\\01_spur_11.jpg\n",
      "Saved binary image: D:\\BML Munjal\\3rd Year\\Sem 5\\DIP\\DIP-dataset\\PCB_DATASET\\binary_images\\01_spur_12.jpg\n",
      "Saved binary image: D:\\BML Munjal\\3rd Year\\Sem 5\\DIP\\DIP-dataset\\PCB_DATASET\\binary_images\\01_spur_13.jpg\n",
      "Saved binary image: D:\\BML Munjal\\3rd Year\\Sem 5\\DIP\\DIP-dataset\\PCB_DATASET\\binary_images\\01_spur_14.jpg\n",
      "Saved binary image: D:\\BML Munjal\\3rd Year\\Sem 5\\DIP\\DIP-dataset\\PCB_DATASET\\binary_images\\01_spur_15.jpg\n",
      "Saved binary image: D:\\BML Munjal\\3rd Year\\Sem 5\\DIP\\DIP-dataset\\PCB_DATASET\\binary_images\\01_spur_16.jpg\n",
      "Saved binary image: D:\\BML Munjal\\3rd Year\\Sem 5\\DIP\\DIP-dataset\\PCB_DATASET\\binary_images\\01_spur_17.jpg\n",
      "Saved binary image: D:\\BML Munjal\\3rd Year\\Sem 5\\DIP\\DIP-dataset\\PCB_DATASET\\binary_images\\01_spur_18.jpg\n",
      "Saved binary image: D:\\BML Munjal\\3rd Year\\Sem 5\\DIP\\DIP-dataset\\PCB_DATASET\\binary_images\\01_spur_19.jpg\n",
      "Saved binary image: D:\\BML Munjal\\3rd Year\\Sem 5\\DIP\\DIP-dataset\\PCB_DATASET\\binary_images\\01_spur_20.jpg\n",
      "Saved binary image: D:\\BML Munjal\\3rd Year\\Sem 5\\DIP\\DIP-dataset\\PCB_DATASET\\binary_images\\04_missing_hole_01.jpg\n",
      "Saved binary image: D:\\BML Munjal\\3rd Year\\Sem 5\\DIP\\DIP-dataset\\PCB_DATASET\\binary_images\\04_missing_hole_02.jpg\n",
      "Saved binary image: D:\\BML Munjal\\3rd Year\\Sem 5\\DIP\\DIP-dataset\\PCB_DATASET\\binary_images\\04_missing_hole_03.jpg\n",
      "Saved binary image: D:\\BML Munjal\\3rd Year\\Sem 5\\DIP\\DIP-dataset\\PCB_DATASET\\binary_images\\04_missing_hole_04.jpg\n",
      "Saved binary image: D:\\BML Munjal\\3rd Year\\Sem 5\\DIP\\DIP-dataset\\PCB_DATASET\\binary_images\\04_missing_hole_05.jpg\n",
      "Saved binary image: D:\\BML Munjal\\3rd Year\\Sem 5\\DIP\\DIP-dataset\\PCB_DATASET\\binary_images\\04_missing_hole_06.jpg\n",
      "Saved binary image: D:\\BML Munjal\\3rd Year\\Sem 5\\DIP\\DIP-dataset\\PCB_DATASET\\binary_images\\04_missing_hole_07.jpg\n",
      "Saved binary image: D:\\BML Munjal\\3rd Year\\Sem 5\\DIP\\DIP-dataset\\PCB_DATASET\\binary_images\\04_missing_hole_08.jpg\n",
      "Saved binary image: D:\\BML Munjal\\3rd Year\\Sem 5\\DIP\\DIP-dataset\\PCB_DATASET\\binary_images\\04_missing_hole_09.jpg\n",
      "Saved binary image: D:\\BML Munjal\\3rd Year\\Sem 5\\DIP\\DIP-dataset\\PCB_DATASET\\binary_images\\04_missing_hole_10.jpg\n",
      "Saved binary image: D:\\BML Munjal\\3rd Year\\Sem 5\\DIP\\DIP-dataset\\PCB_DATASET\\binary_images\\04_missing_hole_11.jpg\n",
      "Saved binary image: D:\\BML Munjal\\3rd Year\\Sem 5\\DIP\\DIP-dataset\\PCB_DATASET\\binary_images\\04_missing_hole_12.jpg\n",
      "Saved binary image: D:\\BML Munjal\\3rd Year\\Sem 5\\DIP\\DIP-dataset\\PCB_DATASET\\binary_images\\04_missing_hole_13.jpg\n",
      "Saved binary image: D:\\BML Munjal\\3rd Year\\Sem 5\\DIP\\DIP-dataset\\PCB_DATASET\\binary_images\\04_missing_hole_14.jpg\n",
      "Saved binary image: D:\\BML Munjal\\3rd Year\\Sem 5\\DIP\\DIP-dataset\\PCB_DATASET\\binary_images\\04_missing_hole_15.jpg\n",
      "Saved binary image: D:\\BML Munjal\\3rd Year\\Sem 5\\DIP\\DIP-dataset\\PCB_DATASET\\binary_images\\04_missing_hole_16.jpg\n",
      "Saved binary image: D:\\BML Munjal\\3rd Year\\Sem 5\\DIP\\DIP-dataset\\PCB_DATASET\\binary_images\\04_missing_hole_17.jpg\n",
      "Saved binary image: D:\\BML Munjal\\3rd Year\\Sem 5\\DIP\\DIP-dataset\\PCB_DATASET\\binary_images\\04_missing_hole_18.jpg\n",
      "Saved binary image: D:\\BML Munjal\\3rd Year\\Sem 5\\DIP\\DIP-dataset\\PCB_DATASET\\binary_images\\04_missing_hole_19.jpg\n",
      "Saved binary image: D:\\BML Munjal\\3rd Year\\Sem 5\\DIP\\DIP-dataset\\PCB_DATASET\\binary_images\\04_missing_hole_20.jpg\n",
      "Saved binary image: D:\\BML Munjal\\3rd Year\\Sem 5\\DIP\\DIP-dataset\\PCB_DATASET\\binary_images\\04_mouse_bite_01.jpg\n",
      "Saved binary image: D:\\BML Munjal\\3rd Year\\Sem 5\\DIP\\DIP-dataset\\PCB_DATASET\\binary_images\\04_mouse_bite_02.jpg\n",
      "Saved binary image: D:\\BML Munjal\\3rd Year\\Sem 5\\DIP\\DIP-dataset\\PCB_DATASET\\binary_images\\04_mouse_bite_03.jpg\n",
      "Saved binary image: D:\\BML Munjal\\3rd Year\\Sem 5\\DIP\\DIP-dataset\\PCB_DATASET\\binary_images\\04_mouse_bite_04.jpg\n",
      "Saved binary image: D:\\BML Munjal\\3rd Year\\Sem 5\\DIP\\DIP-dataset\\PCB_DATASET\\binary_images\\04_mouse_bite_05.jpg\n",
      "Saved binary image: D:\\BML Munjal\\3rd Year\\Sem 5\\DIP\\DIP-dataset\\PCB_DATASET\\binary_images\\04_mouse_bite_06.jpg\n",
      "Saved binary image: D:\\BML Munjal\\3rd Year\\Sem 5\\DIP\\DIP-dataset\\PCB_DATASET\\binary_images\\04_mouse_bite_07.jpg\n",
      "Saved binary image: D:\\BML Munjal\\3rd Year\\Sem 5\\DIP\\DIP-dataset\\PCB_DATASET\\binary_images\\04_mouse_bite_08.jpg\n",
      "Saved binary image: D:\\BML Munjal\\3rd Year\\Sem 5\\DIP\\DIP-dataset\\PCB_DATASET\\binary_images\\04_mouse_bite_09.jpg\n",
      "Saved binary image: D:\\BML Munjal\\3rd Year\\Sem 5\\DIP\\DIP-dataset\\PCB_DATASET\\binary_images\\04_mouse_bite_10.jpg\n",
      "Saved binary image: D:\\BML Munjal\\3rd Year\\Sem 5\\DIP\\DIP-dataset\\PCB_DATASET\\binary_images\\04_mouse_bite_11.jpg\n",
      "Saved binary image: D:\\BML Munjal\\3rd Year\\Sem 5\\DIP\\DIP-dataset\\PCB_DATASET\\binary_images\\04_mouse_bite_12.jpg\n",
      "Saved binary image: D:\\BML Munjal\\3rd Year\\Sem 5\\DIP\\DIP-dataset\\PCB_DATASET\\binary_images\\04_mouse_bite_13.jpg\n",
      "Saved binary image: D:\\BML Munjal\\3rd Year\\Sem 5\\DIP\\DIP-dataset\\PCB_DATASET\\binary_images\\04_mouse_bite_14.jpg\n",
      "Saved binary image: D:\\BML Munjal\\3rd Year\\Sem 5\\DIP\\DIP-dataset\\PCB_DATASET\\binary_images\\04_mouse_bite_15.jpg\n",
      "Saved binary image: D:\\BML Munjal\\3rd Year\\Sem 5\\DIP\\DIP-dataset\\PCB_DATASET\\binary_images\\04_mouse_bite_16.jpg\n",
      "Saved binary image: D:\\BML Munjal\\3rd Year\\Sem 5\\DIP\\DIP-dataset\\PCB_DATASET\\binary_images\\04_mouse_bite_17.jpg\n",
      "Saved binary image: D:\\BML Munjal\\3rd Year\\Sem 5\\DIP\\DIP-dataset\\PCB_DATASET\\binary_images\\04_mouse_bite_18.jpg\n",
      "Saved binary image: D:\\BML Munjal\\3rd Year\\Sem 5\\DIP\\DIP-dataset\\PCB_DATASET\\binary_images\\04_mouse_bite_19.jpg\n",
      "Saved binary image: D:\\BML Munjal\\3rd Year\\Sem 5\\DIP\\DIP-dataset\\PCB_DATASET\\binary_images\\04_mouse_bite_20.jpg\n",
      "Saved binary image: D:\\BML Munjal\\3rd Year\\Sem 5\\DIP\\DIP-dataset\\PCB_DATASET\\binary_images\\04_open_circuit_01.jpg\n",
      "Saved binary image: D:\\BML Munjal\\3rd Year\\Sem 5\\DIP\\DIP-dataset\\PCB_DATASET\\binary_images\\04_open_circuit_02.jpg\n",
      "Saved binary image: D:\\BML Munjal\\3rd Year\\Sem 5\\DIP\\DIP-dataset\\PCB_DATASET\\binary_images\\04_open_circuit_03.jpg\n",
      "Saved binary image: D:\\BML Munjal\\3rd Year\\Sem 5\\DIP\\DIP-dataset\\PCB_DATASET\\binary_images\\04_open_circuit_04.jpg\n",
      "Saved binary image: D:\\BML Munjal\\3rd Year\\Sem 5\\DIP\\DIP-dataset\\PCB_DATASET\\binary_images\\04_open_circuit_05.jpg\n",
      "Saved binary image: D:\\BML Munjal\\3rd Year\\Sem 5\\DIP\\DIP-dataset\\PCB_DATASET\\binary_images\\04_open_circuit_06.jpg\n",
      "Saved binary image: D:\\BML Munjal\\3rd Year\\Sem 5\\DIP\\DIP-dataset\\PCB_DATASET\\binary_images\\04_open_circuit_07.jpg\n",
      "Saved binary image: D:\\BML Munjal\\3rd Year\\Sem 5\\DIP\\DIP-dataset\\PCB_DATASET\\binary_images\\04_open_circuit_08.jpg\n",
      "Saved binary image: D:\\BML Munjal\\3rd Year\\Sem 5\\DIP\\DIP-dataset\\PCB_DATASET\\binary_images\\04_open_circuit_09.jpg\n",
      "Saved binary image: D:\\BML Munjal\\3rd Year\\Sem 5\\DIP\\DIP-dataset\\PCB_DATASET\\binary_images\\04_open_circuit_10.jpg\n",
      "Saved binary image: D:\\BML Munjal\\3rd Year\\Sem 5\\DIP\\DIP-dataset\\PCB_DATASET\\binary_images\\04_open_circuit_11.jpg\n",
      "Saved binary image: D:\\BML Munjal\\3rd Year\\Sem 5\\DIP\\DIP-dataset\\PCB_DATASET\\binary_images\\04_open_circuit_12.jpg\n",
      "Saved binary image: D:\\BML Munjal\\3rd Year\\Sem 5\\DIP\\DIP-dataset\\PCB_DATASET\\binary_images\\04_open_circuit_13.jpg\n",
      "Saved binary image: D:\\BML Munjal\\3rd Year\\Sem 5\\DIP\\DIP-dataset\\PCB_DATASET\\binary_images\\04_open_circuit_14.jpg\n",
      "Saved binary image: D:\\BML Munjal\\3rd Year\\Sem 5\\DIP\\DIP-dataset\\PCB_DATASET\\binary_images\\04_open_circuit_15.jpg\n",
      "Saved binary image: D:\\BML Munjal\\3rd Year\\Sem 5\\DIP\\DIP-dataset\\PCB_DATASET\\binary_images\\04_open_circuit_16.jpg\n",
      "Saved binary image: D:\\BML Munjal\\3rd Year\\Sem 5\\DIP\\DIP-dataset\\PCB_DATASET\\binary_images\\04_open_circuit_17.jpg\n",
      "Saved binary image: D:\\BML Munjal\\3rd Year\\Sem 5\\DIP\\DIP-dataset\\PCB_DATASET\\binary_images\\04_open_circuit_18.jpg\n",
      "Saved binary image: D:\\BML Munjal\\3rd Year\\Sem 5\\DIP\\DIP-dataset\\PCB_DATASET\\binary_images\\04_open_circuit_19.jpg\n",
      "Saved binary image: D:\\BML Munjal\\3rd Year\\Sem 5\\DIP\\DIP-dataset\\PCB_DATASET\\binary_images\\04_open_circuit_20.jpg\n",
      "Saved binary image: D:\\BML Munjal\\3rd Year\\Sem 5\\DIP\\DIP-dataset\\PCB_DATASET\\binary_images\\04_short_01.jpg\n",
      "Saved binary image: D:\\BML Munjal\\3rd Year\\Sem 5\\DIP\\DIP-dataset\\PCB_DATASET\\binary_images\\04_short_02.jpg\n",
      "Saved binary image: D:\\BML Munjal\\3rd Year\\Sem 5\\DIP\\DIP-dataset\\PCB_DATASET\\binary_images\\04_short_03.jpg\n",
      "Saved binary image: D:\\BML Munjal\\3rd Year\\Sem 5\\DIP\\DIP-dataset\\PCB_DATASET\\binary_images\\04_short_04.jpg\n",
      "Saved binary image: D:\\BML Munjal\\3rd Year\\Sem 5\\DIP\\DIP-dataset\\PCB_DATASET\\binary_images\\04_short_05.jpg\n",
      "Saved binary image: D:\\BML Munjal\\3rd Year\\Sem 5\\DIP\\DIP-dataset\\PCB_DATASET\\binary_images\\04_short_06.jpg\n",
      "Saved binary image: D:\\BML Munjal\\3rd Year\\Sem 5\\DIP\\DIP-dataset\\PCB_DATASET\\binary_images\\04_short_07.jpg\n",
      "Saved binary image: D:\\BML Munjal\\3rd Year\\Sem 5\\DIP\\DIP-dataset\\PCB_DATASET\\binary_images\\04_short_08.jpg\n",
      "Saved binary image: D:\\BML Munjal\\3rd Year\\Sem 5\\DIP\\DIP-dataset\\PCB_DATASET\\binary_images\\04_short_09.jpg\n",
      "Saved binary image: D:\\BML Munjal\\3rd Year\\Sem 5\\DIP\\DIP-dataset\\PCB_DATASET\\binary_images\\04_short_10.jpg\n",
      "Saved binary image: D:\\BML Munjal\\3rd Year\\Sem 5\\DIP\\DIP-dataset\\PCB_DATASET\\binary_images\\04_short_11.jpg\n",
      "Saved binary image: D:\\BML Munjal\\3rd Year\\Sem 5\\DIP\\DIP-dataset\\PCB_DATASET\\binary_images\\04_short_12.jpg\n",
      "Saved binary image: D:\\BML Munjal\\3rd Year\\Sem 5\\DIP\\DIP-dataset\\PCB_DATASET\\binary_images\\04_short_13.jpg\n",
      "Saved binary image: D:\\BML Munjal\\3rd Year\\Sem 5\\DIP\\DIP-dataset\\PCB_DATASET\\binary_images\\04_short_14.jpg\n",
      "Saved binary image: D:\\BML Munjal\\3rd Year\\Sem 5\\DIP\\DIP-dataset\\PCB_DATASET\\binary_images\\04_short_15.jpg\n",
      "Saved binary image: D:\\BML Munjal\\3rd Year\\Sem 5\\DIP\\DIP-dataset\\PCB_DATASET\\binary_images\\04_short_16.jpg\n",
      "Saved binary image: D:\\BML Munjal\\3rd Year\\Sem 5\\DIP\\DIP-dataset\\PCB_DATASET\\binary_images\\04_short_17.jpg\n",
      "Saved binary image: D:\\BML Munjal\\3rd Year\\Sem 5\\DIP\\DIP-dataset\\PCB_DATASET\\binary_images\\04_short_18.jpg\n",
      "Saved binary image: D:\\BML Munjal\\3rd Year\\Sem 5\\DIP\\DIP-dataset\\PCB_DATASET\\binary_images\\04_short_19.jpg\n",
      "Saved binary image: D:\\BML Munjal\\3rd Year\\Sem 5\\DIP\\DIP-dataset\\PCB_DATASET\\binary_images\\04_short_20.jpg\n",
      "Saved binary image: D:\\BML Munjal\\3rd Year\\Sem 5\\DIP\\DIP-dataset\\PCB_DATASET\\binary_images\\04_spurious_copper_01.jpg\n",
      "Saved binary image: D:\\BML Munjal\\3rd Year\\Sem 5\\DIP\\DIP-dataset\\PCB_DATASET\\binary_images\\04_spurious_copper_02.jpg\n",
      "Saved binary image: D:\\BML Munjal\\3rd Year\\Sem 5\\DIP\\DIP-dataset\\PCB_DATASET\\binary_images\\04_spurious_copper_03.jpg\n",
      "Saved binary image: D:\\BML Munjal\\3rd Year\\Sem 5\\DIP\\DIP-dataset\\PCB_DATASET\\binary_images\\04_spurious_copper_04.jpg\n",
      "Saved binary image: D:\\BML Munjal\\3rd Year\\Sem 5\\DIP\\DIP-dataset\\PCB_DATASET\\binary_images\\04_spurious_copper_05.jpg\n",
      "Saved binary image: D:\\BML Munjal\\3rd Year\\Sem 5\\DIP\\DIP-dataset\\PCB_DATASET\\binary_images\\04_spurious_copper_06.jpg\n",
      "Saved binary image: D:\\BML Munjal\\3rd Year\\Sem 5\\DIP\\DIP-dataset\\PCB_DATASET\\binary_images\\04_spurious_copper_07.jpg\n",
      "Saved binary image: D:\\BML Munjal\\3rd Year\\Sem 5\\DIP\\DIP-dataset\\PCB_DATASET\\binary_images\\04_spurious_copper_08.jpg\n",
      "Saved binary image: D:\\BML Munjal\\3rd Year\\Sem 5\\DIP\\DIP-dataset\\PCB_DATASET\\binary_images\\04_spurious_copper_09.jpg\n",
      "Saved binary image: D:\\BML Munjal\\3rd Year\\Sem 5\\DIP\\DIP-dataset\\PCB_DATASET\\binary_images\\04_spurious_copper_10.jpg\n",
      "Saved binary image: D:\\BML Munjal\\3rd Year\\Sem 5\\DIP\\DIP-dataset\\PCB_DATASET\\binary_images\\04_spurious_copper_11.jpg\n",
      "Saved binary image: D:\\BML Munjal\\3rd Year\\Sem 5\\DIP\\DIP-dataset\\PCB_DATASET\\binary_images\\04_spurious_copper_12.jpg\n",
      "Saved binary image: D:\\BML Munjal\\3rd Year\\Sem 5\\DIP\\DIP-dataset\\PCB_DATASET\\binary_images\\04_spurious_copper_13.jpg\n",
      "Saved binary image: D:\\BML Munjal\\3rd Year\\Sem 5\\DIP\\DIP-dataset\\PCB_DATASET\\binary_images\\04_spurious_copper_14.jpg\n",
      "Saved binary image: D:\\BML Munjal\\3rd Year\\Sem 5\\DIP\\DIP-dataset\\PCB_DATASET\\binary_images\\04_spurious_copper_15.jpg\n",
      "Saved binary image: D:\\BML Munjal\\3rd Year\\Sem 5\\DIP\\DIP-dataset\\PCB_DATASET\\binary_images\\04_spurious_copper_16.jpg\n",
      "Saved binary image: D:\\BML Munjal\\3rd Year\\Sem 5\\DIP\\DIP-dataset\\PCB_DATASET\\binary_images\\04_spurious_copper_17.jpg\n",
      "Saved binary image: D:\\BML Munjal\\3rd Year\\Sem 5\\DIP\\DIP-dataset\\PCB_DATASET\\binary_images\\04_spurious_copper_18.jpg\n",
      "Saved binary image: D:\\BML Munjal\\3rd Year\\Sem 5\\DIP\\DIP-dataset\\PCB_DATASET\\binary_images\\04_spurious_copper_19.jpg\n",
      "Saved binary image: D:\\BML Munjal\\3rd Year\\Sem 5\\DIP\\DIP-dataset\\PCB_DATASET\\binary_images\\04_spurious_copper_20.jpg\n",
      "Saved binary image: D:\\BML Munjal\\3rd Year\\Sem 5\\DIP\\DIP-dataset\\PCB_DATASET\\binary_images\\04_spur_01.jpg\n",
      "Saved binary image: D:\\BML Munjal\\3rd Year\\Sem 5\\DIP\\DIP-dataset\\PCB_DATASET\\binary_images\\04_spur_02.jpg\n",
      "Saved binary image: D:\\BML Munjal\\3rd Year\\Sem 5\\DIP\\DIP-dataset\\PCB_DATASET\\binary_images\\04_spur_03.jpg\n",
      "Saved binary image: D:\\BML Munjal\\3rd Year\\Sem 5\\DIP\\DIP-dataset\\PCB_DATASET\\binary_images\\04_spur_04.jpg\n",
      "Saved binary image: D:\\BML Munjal\\3rd Year\\Sem 5\\DIP\\DIP-dataset\\PCB_DATASET\\binary_images\\04_spur_05.jpg\n",
      "Saved binary image: D:\\BML Munjal\\3rd Year\\Sem 5\\DIP\\DIP-dataset\\PCB_DATASET\\binary_images\\04_spur_06.jpg\n",
      "Saved binary image: D:\\BML Munjal\\3rd Year\\Sem 5\\DIP\\DIP-dataset\\PCB_DATASET\\binary_images\\04_spur_07.jpg\n",
      "Saved binary image: D:\\BML Munjal\\3rd Year\\Sem 5\\DIP\\DIP-dataset\\PCB_DATASET\\binary_images\\04_spur_08.jpg\n",
      "Saved binary image: D:\\BML Munjal\\3rd Year\\Sem 5\\DIP\\DIP-dataset\\PCB_DATASET\\binary_images\\04_spur_09.jpg\n",
      "Saved binary image: D:\\BML Munjal\\3rd Year\\Sem 5\\DIP\\DIP-dataset\\PCB_DATASET\\binary_images\\04_spur_10.jpg\n",
      "Saved binary image: D:\\BML Munjal\\3rd Year\\Sem 5\\DIP\\DIP-dataset\\PCB_DATASET\\binary_images\\04_spur_11.jpg\n",
      "Saved binary image: D:\\BML Munjal\\3rd Year\\Sem 5\\DIP\\DIP-dataset\\PCB_DATASET\\binary_images\\04_spur_12.jpg\n",
      "Saved binary image: D:\\BML Munjal\\3rd Year\\Sem 5\\DIP\\DIP-dataset\\PCB_DATASET\\binary_images\\04_spur_13.jpg\n",
      "Saved binary image: D:\\BML Munjal\\3rd Year\\Sem 5\\DIP\\DIP-dataset\\PCB_DATASET\\binary_images\\04_spur_14.jpg\n",
      "Saved binary image: D:\\BML Munjal\\3rd Year\\Sem 5\\DIP\\DIP-dataset\\PCB_DATASET\\binary_images\\04_spur_15.jpg\n",
      "Saved binary image: D:\\BML Munjal\\3rd Year\\Sem 5\\DIP\\DIP-dataset\\PCB_DATASET\\binary_images\\04_spur_16.jpg\n",
      "Saved binary image: D:\\BML Munjal\\3rd Year\\Sem 5\\DIP\\DIP-dataset\\PCB_DATASET\\binary_images\\04_spur_17.jpg\n",
      "Saved binary image: D:\\BML Munjal\\3rd Year\\Sem 5\\DIP\\DIP-dataset\\PCB_DATASET\\binary_images\\04_spur_18.jpg\n",
      "Saved binary image: D:\\BML Munjal\\3rd Year\\Sem 5\\DIP\\DIP-dataset\\PCB_DATASET\\binary_images\\04_spur_19.jpg\n",
      "Saved binary image: D:\\BML Munjal\\3rd Year\\Sem 5\\DIP\\DIP-dataset\\PCB_DATASET\\binary_images\\04_spur_20.jpg\n",
      "Saved binary image: D:\\BML Munjal\\3rd Year\\Sem 5\\DIP\\DIP-dataset\\PCB_DATASET\\binary_images\\05_missing_hole_01.jpg\n",
      "Saved binary image: D:\\BML Munjal\\3rd Year\\Sem 5\\DIP\\DIP-dataset\\PCB_DATASET\\binary_images\\05_missing_hole_02.jpg\n",
      "Saved binary image: D:\\BML Munjal\\3rd Year\\Sem 5\\DIP\\DIP-dataset\\PCB_DATASET\\binary_images\\05_missing_hole_03.jpg\n",
      "Saved binary image: D:\\BML Munjal\\3rd Year\\Sem 5\\DIP\\DIP-dataset\\PCB_DATASET\\binary_images\\05_missing_hole_04.jpg\n",
      "Saved binary image: D:\\BML Munjal\\3rd Year\\Sem 5\\DIP\\DIP-dataset\\PCB_DATASET\\binary_images\\05_missing_hole_05.jpg\n",
      "Saved binary image: D:\\BML Munjal\\3rd Year\\Sem 5\\DIP\\DIP-dataset\\PCB_DATASET\\binary_images\\05_missing_hole_06.jpg\n",
      "Saved binary image: D:\\BML Munjal\\3rd Year\\Sem 5\\DIP\\DIP-dataset\\PCB_DATASET\\binary_images\\05_missing_hole_07.jpg\n",
      "Saved binary image: D:\\BML Munjal\\3rd Year\\Sem 5\\DIP\\DIP-dataset\\PCB_DATASET\\binary_images\\05_missing_hole_08.jpg\n",
      "Saved binary image: D:\\BML Munjal\\3rd Year\\Sem 5\\DIP\\DIP-dataset\\PCB_DATASET\\binary_images\\05_missing_hole_09.jpg\n",
      "Saved binary image: D:\\BML Munjal\\3rd Year\\Sem 5\\DIP\\DIP-dataset\\PCB_DATASET\\binary_images\\05_missing_hole_10.jpg\n",
      "Saved binary image: D:\\BML Munjal\\3rd Year\\Sem 5\\DIP\\DIP-dataset\\PCB_DATASET\\binary_images\\05_mouse_bite_01.jpg\n",
      "Saved binary image: D:\\BML Munjal\\3rd Year\\Sem 5\\DIP\\DIP-dataset\\PCB_DATASET\\binary_images\\05_mouse_bite_02.jpg\n",
      "Saved binary image: D:\\BML Munjal\\3rd Year\\Sem 5\\DIP\\DIP-dataset\\PCB_DATASET\\binary_images\\05_mouse_bite_03.jpg\n",
      "Saved binary image: D:\\BML Munjal\\3rd Year\\Sem 5\\DIP\\DIP-dataset\\PCB_DATASET\\binary_images\\05_mouse_bite_04.jpg\n",
      "Saved binary image: D:\\BML Munjal\\3rd Year\\Sem 5\\DIP\\DIP-dataset\\PCB_DATASET\\binary_images\\05_mouse_bite_05.jpg\n",
      "Saved binary image: D:\\BML Munjal\\3rd Year\\Sem 5\\DIP\\DIP-dataset\\PCB_DATASET\\binary_images\\05_mouse_bite_06.jpg\n",
      "Saved binary image: D:\\BML Munjal\\3rd Year\\Sem 5\\DIP\\DIP-dataset\\PCB_DATASET\\binary_images\\05_mouse_bite_07.jpg\n",
      "Saved binary image: D:\\BML Munjal\\3rd Year\\Sem 5\\DIP\\DIP-dataset\\PCB_DATASET\\binary_images\\05_mouse_bite_08.jpg\n",
      "Saved binary image: D:\\BML Munjal\\3rd Year\\Sem 5\\DIP\\DIP-dataset\\PCB_DATASET\\binary_images\\05_mouse_bite_09.jpg\n",
      "Saved binary image: D:\\BML Munjal\\3rd Year\\Sem 5\\DIP\\DIP-dataset\\PCB_DATASET\\binary_images\\05_mouse_bite_10.jpg\n",
      "Saved binary image: D:\\BML Munjal\\3rd Year\\Sem 5\\DIP\\DIP-dataset\\PCB_DATASET\\binary_images\\05_open_circuit_01.jpg\n",
      "Saved binary image: D:\\BML Munjal\\3rd Year\\Sem 5\\DIP\\DIP-dataset\\PCB_DATASET\\binary_images\\05_open_circuit_02.jpg\n",
      "Saved binary image: D:\\BML Munjal\\3rd Year\\Sem 5\\DIP\\DIP-dataset\\PCB_DATASET\\binary_images\\05_open_circuit_03.jpg\n",
      "Saved binary image: D:\\BML Munjal\\3rd Year\\Sem 5\\DIP\\DIP-dataset\\PCB_DATASET\\binary_images\\05_open_circuit_04.jpg\n",
      "Saved binary image: D:\\BML Munjal\\3rd Year\\Sem 5\\DIP\\DIP-dataset\\PCB_DATASET\\binary_images\\05_open_circuit_05.jpg\n",
      "Saved binary image: D:\\BML Munjal\\3rd Year\\Sem 5\\DIP\\DIP-dataset\\PCB_DATASET\\binary_images\\05_open_circuit_06.jpg\n",
      "Saved binary image: D:\\BML Munjal\\3rd Year\\Sem 5\\DIP\\DIP-dataset\\PCB_DATASET\\binary_images\\05_open_circuit_07.jpg\n",
      "Saved binary image: D:\\BML Munjal\\3rd Year\\Sem 5\\DIP\\DIP-dataset\\PCB_DATASET\\binary_images\\05_open_circuit_08.jpg\n",
      "Saved binary image: D:\\BML Munjal\\3rd Year\\Sem 5\\DIP\\DIP-dataset\\PCB_DATASET\\binary_images\\05_open_circuit_09.jpg\n",
      "Saved binary image: D:\\BML Munjal\\3rd Year\\Sem 5\\DIP\\DIP-dataset\\PCB_DATASET\\binary_images\\05_open_circuit_10.jpg\n",
      "Saved binary image: D:\\BML Munjal\\3rd Year\\Sem 5\\DIP\\DIP-dataset\\PCB_DATASET\\binary_images\\05_short_01.jpg\n",
      "Saved binary image: D:\\BML Munjal\\3rd Year\\Sem 5\\DIP\\DIP-dataset\\PCB_DATASET\\binary_images\\05_short_02.jpg\n",
      "Saved binary image: D:\\BML Munjal\\3rd Year\\Sem 5\\DIP\\DIP-dataset\\PCB_DATASET\\binary_images\\05_short_03.jpg\n",
      "Saved binary image: D:\\BML Munjal\\3rd Year\\Sem 5\\DIP\\DIP-dataset\\PCB_DATASET\\binary_images\\05_short_04.jpg\n",
      "Saved binary image: D:\\BML Munjal\\3rd Year\\Sem 5\\DIP\\DIP-dataset\\PCB_DATASET\\binary_images\\05_short_05.jpg\n",
      "Saved binary image: D:\\BML Munjal\\3rd Year\\Sem 5\\DIP\\DIP-dataset\\PCB_DATASET\\binary_images\\05_short_06.jpg\n",
      "Saved binary image: D:\\BML Munjal\\3rd Year\\Sem 5\\DIP\\DIP-dataset\\PCB_DATASET\\binary_images\\05_short_07.jpg\n",
      "Saved binary image: D:\\BML Munjal\\3rd Year\\Sem 5\\DIP\\DIP-dataset\\PCB_DATASET\\binary_images\\05_short_08.jpg\n",
      "Saved binary image: D:\\BML Munjal\\3rd Year\\Sem 5\\DIP\\DIP-dataset\\PCB_DATASET\\binary_images\\05_short_09.jpg\n",
      "Saved binary image: D:\\BML Munjal\\3rd Year\\Sem 5\\DIP\\DIP-dataset\\PCB_DATASET\\binary_images\\05_short_10.jpg\n",
      "Saved binary image: D:\\BML Munjal\\3rd Year\\Sem 5\\DIP\\DIP-dataset\\PCB_DATASET\\binary_images\\05_spurious_copper_01.jpg\n",
      "Saved binary image: D:\\BML Munjal\\3rd Year\\Sem 5\\DIP\\DIP-dataset\\PCB_DATASET\\binary_images\\05_spurious_copper_02.jpg\n",
      "Saved binary image: D:\\BML Munjal\\3rd Year\\Sem 5\\DIP\\DIP-dataset\\PCB_DATASET\\binary_images\\05_spurious_copper_03.jpg\n",
      "Saved binary image: D:\\BML Munjal\\3rd Year\\Sem 5\\DIP\\DIP-dataset\\PCB_DATASET\\binary_images\\05_spurious_copper_04.jpg\n",
      "Saved binary image: D:\\BML Munjal\\3rd Year\\Sem 5\\DIP\\DIP-dataset\\PCB_DATASET\\binary_images\\05_spurious_copper_05.jpg\n",
      "Saved binary image: D:\\BML Munjal\\3rd Year\\Sem 5\\DIP\\DIP-dataset\\PCB_DATASET\\binary_images\\05_spurious_copper_06.jpg\n",
      "Saved binary image: D:\\BML Munjal\\3rd Year\\Sem 5\\DIP\\DIP-dataset\\PCB_DATASET\\binary_images\\05_spurious_copper_07.jpg\n",
      "Saved binary image: D:\\BML Munjal\\3rd Year\\Sem 5\\DIP\\DIP-dataset\\PCB_DATASET\\binary_images\\05_spurious_copper_08.jpg\n",
      "Saved binary image: D:\\BML Munjal\\3rd Year\\Sem 5\\DIP\\DIP-dataset\\PCB_DATASET\\binary_images\\05_spurious_copper_09.jpg\n",
      "Saved binary image: D:\\BML Munjal\\3rd Year\\Sem 5\\DIP\\DIP-dataset\\PCB_DATASET\\binary_images\\05_spurious_copper_10.jpg\n",
      "Saved binary image: D:\\BML Munjal\\3rd Year\\Sem 5\\DIP\\DIP-dataset\\PCB_DATASET\\binary_images\\05_spur_01.jpg\n",
      "Saved binary image: D:\\BML Munjal\\3rd Year\\Sem 5\\DIP\\DIP-dataset\\PCB_DATASET\\binary_images\\05_spur_02.jpg\n",
      "Saved binary image: D:\\BML Munjal\\3rd Year\\Sem 5\\DIP\\DIP-dataset\\PCB_DATASET\\binary_images\\05_spur_03.jpg\n",
      "Saved binary image: D:\\BML Munjal\\3rd Year\\Sem 5\\DIP\\DIP-dataset\\PCB_DATASET\\binary_images\\05_spur_04.jpg\n",
      "Saved binary image: D:\\BML Munjal\\3rd Year\\Sem 5\\DIP\\DIP-dataset\\PCB_DATASET\\binary_images\\05_spur_05.jpg\n",
      "Saved binary image: D:\\BML Munjal\\3rd Year\\Sem 5\\DIP\\DIP-dataset\\PCB_DATASET\\binary_images\\05_spur_06.jpg\n",
      "Saved binary image: D:\\BML Munjal\\3rd Year\\Sem 5\\DIP\\DIP-dataset\\PCB_DATASET\\binary_images\\05_spur_07.jpg\n",
      "Saved binary image: D:\\BML Munjal\\3rd Year\\Sem 5\\DIP\\DIP-dataset\\PCB_DATASET\\binary_images\\05_spur_08.jpg\n",
      "Saved binary image: D:\\BML Munjal\\3rd Year\\Sem 5\\DIP\\DIP-dataset\\PCB_DATASET\\binary_images\\05_spur_09.jpg\n",
      "Saved binary image: D:\\BML Munjal\\3rd Year\\Sem 5\\DIP\\DIP-dataset\\PCB_DATASET\\binary_images\\05_spur_10.jpg\n",
      "Saved binary image: D:\\BML Munjal\\3rd Year\\Sem 5\\DIP\\DIP-dataset\\PCB_DATASET\\binary_images\\06_missing_hole_01.jpg\n",
      "Saved binary image: D:\\BML Munjal\\3rd Year\\Sem 5\\DIP\\DIP-dataset\\PCB_DATASET\\binary_images\\06_missing_hole_02.jpg\n",
      "Saved binary image: D:\\BML Munjal\\3rd Year\\Sem 5\\DIP\\DIP-dataset\\PCB_DATASET\\binary_images\\06_missing_hole_03.jpg\n",
      "Saved binary image: D:\\BML Munjal\\3rd Year\\Sem 5\\DIP\\DIP-dataset\\PCB_DATASET\\binary_images\\06_missing_hole_04.jpg\n",
      "Saved binary image: D:\\BML Munjal\\3rd Year\\Sem 5\\DIP\\DIP-dataset\\PCB_DATASET\\binary_images\\06_missing_hole_05.jpg\n",
      "Saved binary image: D:\\BML Munjal\\3rd Year\\Sem 5\\DIP\\DIP-dataset\\PCB_DATASET\\binary_images\\06_missing_hole_06.jpg\n",
      "Saved binary image: D:\\BML Munjal\\3rd Year\\Sem 5\\DIP\\DIP-dataset\\PCB_DATASET\\binary_images\\06_missing_hole_07.jpg\n",
      "Saved binary image: D:\\BML Munjal\\3rd Year\\Sem 5\\DIP\\DIP-dataset\\PCB_DATASET\\binary_images\\06_missing_hole_08.jpg\n",
      "Saved binary image: D:\\BML Munjal\\3rd Year\\Sem 5\\DIP\\DIP-dataset\\PCB_DATASET\\binary_images\\06_missing_hole_09.jpg\n",
      "Saved binary image: D:\\BML Munjal\\3rd Year\\Sem 5\\DIP\\DIP-dataset\\PCB_DATASET\\binary_images\\06_missing_hole_10.jpg\n",
      "Saved binary image: D:\\BML Munjal\\3rd Year\\Sem 5\\DIP\\DIP-dataset\\PCB_DATASET\\binary_images\\06_mouse_bite_01.jpg\n",
      "Saved binary image: D:\\BML Munjal\\3rd Year\\Sem 5\\DIP\\DIP-dataset\\PCB_DATASET\\binary_images\\06_mouse_bite_02.jpg\n",
      "Saved binary image: D:\\BML Munjal\\3rd Year\\Sem 5\\DIP\\DIP-dataset\\PCB_DATASET\\binary_images\\06_mouse_bite_03.jpg\n",
      "Saved binary image: D:\\BML Munjal\\3rd Year\\Sem 5\\DIP\\DIP-dataset\\PCB_DATASET\\binary_images\\06_mouse_bite_04.jpg\n",
      "Saved binary image: D:\\BML Munjal\\3rd Year\\Sem 5\\DIP\\DIP-dataset\\PCB_DATASET\\binary_images\\06_mouse_bite_05.jpg\n",
      "Saved binary image: D:\\BML Munjal\\3rd Year\\Sem 5\\DIP\\DIP-dataset\\PCB_DATASET\\binary_images\\06_mouse_bite_06.jpg\n",
      "Saved binary image: D:\\BML Munjal\\3rd Year\\Sem 5\\DIP\\DIP-dataset\\PCB_DATASET\\binary_images\\06_mouse_bite_07.jpg\n",
      "Saved binary image: D:\\BML Munjal\\3rd Year\\Sem 5\\DIP\\DIP-dataset\\PCB_DATASET\\binary_images\\06_mouse_bite_08.jpg\n",
      "Saved binary image: D:\\BML Munjal\\3rd Year\\Sem 5\\DIP\\DIP-dataset\\PCB_DATASET\\binary_images\\06_mouse_bite_09.jpg\n",
      "Saved binary image: D:\\BML Munjal\\3rd Year\\Sem 5\\DIP\\DIP-dataset\\PCB_DATASET\\binary_images\\06_mouse_bite_10.jpg\n",
      "Saved binary image: D:\\BML Munjal\\3rd Year\\Sem 5\\DIP\\DIP-dataset\\PCB_DATASET\\binary_images\\06_open_circuit_01.jpg\n",
      "Saved binary image: D:\\BML Munjal\\3rd Year\\Sem 5\\DIP\\DIP-dataset\\PCB_DATASET\\binary_images\\06_open_circuit_02.jpg\n",
      "Saved binary image: D:\\BML Munjal\\3rd Year\\Sem 5\\DIP\\DIP-dataset\\PCB_DATASET\\binary_images\\06_open_circuit_03.jpg\n",
      "Saved binary image: D:\\BML Munjal\\3rd Year\\Sem 5\\DIP\\DIP-dataset\\PCB_DATASET\\binary_images\\06_open_circuit_04.jpg\n",
      "Saved binary image: D:\\BML Munjal\\3rd Year\\Sem 5\\DIP\\DIP-dataset\\PCB_DATASET\\binary_images\\06_open_circuit_05.jpg\n",
      "Saved binary image: D:\\BML Munjal\\3rd Year\\Sem 5\\DIP\\DIP-dataset\\PCB_DATASET\\binary_images\\06_open_circuit_06.jpg\n",
      "Saved binary image: D:\\BML Munjal\\3rd Year\\Sem 5\\DIP\\DIP-dataset\\PCB_DATASET\\binary_images\\06_open_circuit_07.jpg\n",
      "Saved binary image: D:\\BML Munjal\\3rd Year\\Sem 5\\DIP\\DIP-dataset\\PCB_DATASET\\binary_images\\06_open_circuit_08.jpg\n",
      "Saved binary image: D:\\BML Munjal\\3rd Year\\Sem 5\\DIP\\DIP-dataset\\PCB_DATASET\\binary_images\\06_open_circuit_09.jpg\n",
      "Saved binary image: D:\\BML Munjal\\3rd Year\\Sem 5\\DIP\\DIP-dataset\\PCB_DATASET\\binary_images\\06_open_circuit_10.jpg\n",
      "Saved binary image: D:\\BML Munjal\\3rd Year\\Sem 5\\DIP\\DIP-dataset\\PCB_DATASET\\binary_images\\06_short_01.jpg\n",
      "Saved binary image: D:\\BML Munjal\\3rd Year\\Sem 5\\DIP\\DIP-dataset\\PCB_DATASET\\binary_images\\06_short_02.jpg\n",
      "Saved binary image: D:\\BML Munjal\\3rd Year\\Sem 5\\DIP\\DIP-dataset\\PCB_DATASET\\binary_images\\06_short_03.jpg\n",
      "Saved binary image: D:\\BML Munjal\\3rd Year\\Sem 5\\DIP\\DIP-dataset\\PCB_DATASET\\binary_images\\06_short_04.jpg\n",
      "Saved binary image: D:\\BML Munjal\\3rd Year\\Sem 5\\DIP\\DIP-dataset\\PCB_DATASET\\binary_images\\06_short_05.jpg\n",
      "Saved binary image: D:\\BML Munjal\\3rd Year\\Sem 5\\DIP\\DIP-dataset\\PCB_DATASET\\binary_images\\06_short_06.jpg\n",
      "Saved binary image: D:\\BML Munjal\\3rd Year\\Sem 5\\DIP\\DIP-dataset\\PCB_DATASET\\binary_images\\06_short_07.jpg\n",
      "Saved binary image: D:\\BML Munjal\\3rd Year\\Sem 5\\DIP\\DIP-dataset\\PCB_DATASET\\binary_images\\06_short_08.jpg\n",
      "Saved binary image: D:\\BML Munjal\\3rd Year\\Sem 5\\DIP\\DIP-dataset\\PCB_DATASET\\binary_images\\06_short_09.jpg\n",
      "Saved binary image: D:\\BML Munjal\\3rd Year\\Sem 5\\DIP\\DIP-dataset\\PCB_DATASET\\binary_images\\06_short_10.jpg\n",
      "Saved binary image: D:\\BML Munjal\\3rd Year\\Sem 5\\DIP\\DIP-dataset\\PCB_DATASET\\binary_images\\06_short_11.jpg\n",
      "Saved binary image: D:\\BML Munjal\\3rd Year\\Sem 5\\DIP\\DIP-dataset\\PCB_DATASET\\binary_images\\06_spurious_copper_01.jpg\n",
      "Saved binary image: D:\\BML Munjal\\3rd Year\\Sem 5\\DIP\\DIP-dataset\\PCB_DATASET\\binary_images\\06_spurious_copper_02.jpg\n",
      "Saved binary image: D:\\BML Munjal\\3rd Year\\Sem 5\\DIP\\DIP-dataset\\PCB_DATASET\\binary_images\\06_spurious_copper_03.jpg\n",
      "Saved binary image: D:\\BML Munjal\\3rd Year\\Sem 5\\DIP\\DIP-dataset\\PCB_DATASET\\binary_images\\06_spurious_copper_04.jpg\n",
      "Saved binary image: D:\\BML Munjal\\3rd Year\\Sem 5\\DIP\\DIP-dataset\\PCB_DATASET\\binary_images\\06_spurious_copper_05.jpg\n",
      "Saved binary image: D:\\BML Munjal\\3rd Year\\Sem 5\\DIP\\DIP-dataset\\PCB_DATASET\\binary_images\\06_spurious_copper_06.jpg\n",
      "Saved binary image: D:\\BML Munjal\\3rd Year\\Sem 5\\DIP\\DIP-dataset\\PCB_DATASET\\binary_images\\06_spurious_copper_07.jpg\n",
      "Saved binary image: D:\\BML Munjal\\3rd Year\\Sem 5\\DIP\\DIP-dataset\\PCB_DATASET\\binary_images\\06_spurious_copper_08.jpg\n",
      "Saved binary image: D:\\BML Munjal\\3rd Year\\Sem 5\\DIP\\DIP-dataset\\PCB_DATASET\\binary_images\\06_spurious_copper_09.jpg\n",
      "Saved binary image: D:\\BML Munjal\\3rd Year\\Sem 5\\DIP\\DIP-dataset\\PCB_DATASET\\binary_images\\06_spurious_copper_10.jpg\n",
      "Saved binary image: D:\\BML Munjal\\3rd Year\\Sem 5\\DIP\\DIP-dataset\\PCB_DATASET\\binary_images\\06_spur_01.jpg\n",
      "Saved binary image: D:\\BML Munjal\\3rd Year\\Sem 5\\DIP\\DIP-dataset\\PCB_DATASET\\binary_images\\06_spur_02.jpg\n",
      "Saved binary image: D:\\BML Munjal\\3rd Year\\Sem 5\\DIP\\DIP-dataset\\PCB_DATASET\\binary_images\\06_spur_03.jpg\n",
      "Saved binary image: D:\\BML Munjal\\3rd Year\\Sem 5\\DIP\\DIP-dataset\\PCB_DATASET\\binary_images\\06_spur_04.jpg\n",
      "Saved binary image: D:\\BML Munjal\\3rd Year\\Sem 5\\DIP\\DIP-dataset\\PCB_DATASET\\binary_images\\06_spur_05.jpg\n",
      "Saved binary image: D:\\BML Munjal\\3rd Year\\Sem 5\\DIP\\DIP-dataset\\PCB_DATASET\\binary_images\\06_spur_06.jpg\n",
      "Saved binary image: D:\\BML Munjal\\3rd Year\\Sem 5\\DIP\\DIP-dataset\\PCB_DATASET\\binary_images\\06_spur_07.jpg\n",
      "Saved binary image: D:\\BML Munjal\\3rd Year\\Sem 5\\DIP\\DIP-dataset\\PCB_DATASET\\binary_images\\06_spur_08.jpg\n",
      "Saved binary image: D:\\BML Munjal\\3rd Year\\Sem 5\\DIP\\DIP-dataset\\PCB_DATASET\\binary_images\\06_spur_09.jpg\n",
      "Saved binary image: D:\\BML Munjal\\3rd Year\\Sem 5\\DIP\\DIP-dataset\\PCB_DATASET\\binary_images\\06_spur_10.jpg\n",
      "Saved binary image: D:\\BML Munjal\\3rd Year\\Sem 5\\DIP\\DIP-dataset\\PCB_DATASET\\binary_images\\07_missing_hole_01.jpg\n",
      "Saved binary image: D:\\BML Munjal\\3rd Year\\Sem 5\\DIP\\DIP-dataset\\PCB_DATASET\\binary_images\\07_missing_hole_02.jpg\n",
      "Saved binary image: D:\\BML Munjal\\3rd Year\\Sem 5\\DIP\\DIP-dataset\\PCB_DATASET\\binary_images\\07_missing_hole_03.jpg\n",
      "Saved binary image: D:\\BML Munjal\\3rd Year\\Sem 5\\DIP\\DIP-dataset\\PCB_DATASET\\binary_images\\07_missing_hole_04.jpg\n",
      "Saved binary image: D:\\BML Munjal\\3rd Year\\Sem 5\\DIP\\DIP-dataset\\PCB_DATASET\\binary_images\\07_missing_hole_05.jpg\n",
      "Saved binary image: D:\\BML Munjal\\3rd Year\\Sem 5\\DIP\\DIP-dataset\\PCB_DATASET\\binary_images\\07_missing_hole_06.jpg\n",
      "Saved binary image: D:\\BML Munjal\\3rd Year\\Sem 5\\DIP\\DIP-dataset\\PCB_DATASET\\binary_images\\07_missing_hole_07.jpg\n",
      "Saved binary image: D:\\BML Munjal\\3rd Year\\Sem 5\\DIP\\DIP-dataset\\PCB_DATASET\\binary_images\\07_missing_hole_08.jpg\n",
      "Saved binary image: D:\\BML Munjal\\3rd Year\\Sem 5\\DIP\\DIP-dataset\\PCB_DATASET\\binary_images\\07_missing_hole_09.jpg\n",
      "Saved binary image: D:\\BML Munjal\\3rd Year\\Sem 5\\DIP\\DIP-dataset\\PCB_DATASET\\binary_images\\07_missing_hole_10.jpg\n",
      "Saved binary image: D:\\BML Munjal\\3rd Year\\Sem 5\\DIP\\DIP-dataset\\PCB_DATASET\\binary_images\\07_mouse_bite_01.jpg\n",
      "Saved binary image: D:\\BML Munjal\\3rd Year\\Sem 5\\DIP\\DIP-dataset\\PCB_DATASET\\binary_images\\07_mouse_bite_02.jpg\n",
      "Saved binary image: D:\\BML Munjal\\3rd Year\\Sem 5\\DIP\\DIP-dataset\\PCB_DATASET\\binary_images\\07_mouse_bite_03.jpg\n",
      "Saved binary image: D:\\BML Munjal\\3rd Year\\Sem 5\\DIP\\DIP-dataset\\PCB_DATASET\\binary_images\\07_mouse_bite_04.jpg\n",
      "Saved binary image: D:\\BML Munjal\\3rd Year\\Sem 5\\DIP\\DIP-dataset\\PCB_DATASET\\binary_images\\07_mouse_bite_05.jpg\n",
      "Saved binary image: D:\\BML Munjal\\3rd Year\\Sem 5\\DIP\\DIP-dataset\\PCB_DATASET\\binary_images\\07_mouse_bite_06.jpg\n",
      "Saved binary image: D:\\BML Munjal\\3rd Year\\Sem 5\\DIP\\DIP-dataset\\PCB_DATASET\\binary_images\\07_mouse_bite_07.jpg\n",
      "Saved binary image: D:\\BML Munjal\\3rd Year\\Sem 5\\DIP\\DIP-dataset\\PCB_DATASET\\binary_images\\07_mouse_bite_08.jpg\n",
      "Saved binary image: D:\\BML Munjal\\3rd Year\\Sem 5\\DIP\\DIP-dataset\\PCB_DATASET\\binary_images\\07_mouse_bite_09.jpg\n",
      "Saved binary image: D:\\BML Munjal\\3rd Year\\Sem 5\\DIP\\DIP-dataset\\PCB_DATASET\\binary_images\\07_mouse_bite_10.jpg\n",
      "Saved binary image: D:\\BML Munjal\\3rd Year\\Sem 5\\DIP\\DIP-dataset\\PCB_DATASET\\binary_images\\07_open_circuit_01.jpg\n",
      "Saved binary image: D:\\BML Munjal\\3rd Year\\Sem 5\\DIP\\DIP-dataset\\PCB_DATASET\\binary_images\\07_open_circuit_02.jpg\n",
      "Saved binary image: D:\\BML Munjal\\3rd Year\\Sem 5\\DIP\\DIP-dataset\\PCB_DATASET\\binary_images\\07_open_circuit_03.jpg\n",
      "Saved binary image: D:\\BML Munjal\\3rd Year\\Sem 5\\DIP\\DIP-dataset\\PCB_DATASET\\binary_images\\07_open_circuit_04.jpg\n",
      "Saved binary image: D:\\BML Munjal\\3rd Year\\Sem 5\\DIP\\DIP-dataset\\PCB_DATASET\\binary_images\\07_open_circuit_05.jpg\n",
      "Saved binary image: D:\\BML Munjal\\3rd Year\\Sem 5\\DIP\\DIP-dataset\\PCB_DATASET\\binary_images\\07_open_circuit_06.jpg\n",
      "Saved binary image: D:\\BML Munjal\\3rd Year\\Sem 5\\DIP\\DIP-dataset\\PCB_DATASET\\binary_images\\07_open_circuit_07.jpg\n",
      "Saved binary image: D:\\BML Munjal\\3rd Year\\Sem 5\\DIP\\DIP-dataset\\PCB_DATASET\\binary_images\\07_open_circuit_08.jpg\n",
      "Saved binary image: D:\\BML Munjal\\3rd Year\\Sem 5\\DIP\\DIP-dataset\\PCB_DATASET\\binary_images\\07_open_circuit_09.jpg\n",
      "Saved binary image: D:\\BML Munjal\\3rd Year\\Sem 5\\DIP\\DIP-dataset\\PCB_DATASET\\binary_images\\07_open_circuit_10.jpg\n",
      "Saved binary image: D:\\BML Munjal\\3rd Year\\Sem 5\\DIP\\DIP-dataset\\PCB_DATASET\\binary_images\\07_short_01.jpg\n",
      "Saved binary image: D:\\BML Munjal\\3rd Year\\Sem 5\\DIP\\DIP-dataset\\PCB_DATASET\\binary_images\\07_short_02.jpg\n",
      "Saved binary image: D:\\BML Munjal\\3rd Year\\Sem 5\\DIP\\DIP-dataset\\PCB_DATASET\\binary_images\\07_short_03.jpg\n",
      "Saved binary image: D:\\BML Munjal\\3rd Year\\Sem 5\\DIP\\DIP-dataset\\PCB_DATASET\\binary_images\\07_short_04.jpg\n",
      "Saved binary image: D:\\BML Munjal\\3rd Year\\Sem 5\\DIP\\DIP-dataset\\PCB_DATASET\\binary_images\\07_short_05.jpg\n",
      "Saved binary image: D:\\BML Munjal\\3rd Year\\Sem 5\\DIP\\DIP-dataset\\PCB_DATASET\\binary_images\\07_short_06.jpg\n",
      "Saved binary image: D:\\BML Munjal\\3rd Year\\Sem 5\\DIP\\DIP-dataset\\PCB_DATASET\\binary_images\\07_short_07.jpg\n",
      "Saved binary image: D:\\BML Munjal\\3rd Year\\Sem 5\\DIP\\DIP-dataset\\PCB_DATASET\\binary_images\\07_short_08.jpg\n",
      "Saved binary image: D:\\BML Munjal\\3rd Year\\Sem 5\\DIP\\DIP-dataset\\PCB_DATASET\\binary_images\\07_short_09.jpg\n",
      "Saved binary image: D:\\BML Munjal\\3rd Year\\Sem 5\\DIP\\DIP-dataset\\PCB_DATASET\\binary_images\\07_short_10.jpg\n",
      "Saved binary image: D:\\BML Munjal\\3rd Year\\Sem 5\\DIP\\DIP-dataset\\PCB_DATASET\\binary_images\\07_spurious_copper_01.jpg\n",
      "Saved binary image: D:\\BML Munjal\\3rd Year\\Sem 5\\DIP\\DIP-dataset\\PCB_DATASET\\binary_images\\07_spurious_copper_02.jpg\n",
      "Saved binary image: D:\\BML Munjal\\3rd Year\\Sem 5\\DIP\\DIP-dataset\\PCB_DATASET\\binary_images\\07_spurious_copper_03.jpg\n",
      "Saved binary image: D:\\BML Munjal\\3rd Year\\Sem 5\\DIP\\DIP-dataset\\PCB_DATASET\\binary_images\\07_spurious_copper_04.jpg\n",
      "Saved binary image: D:\\BML Munjal\\3rd Year\\Sem 5\\DIP\\DIP-dataset\\PCB_DATASET\\binary_images\\07_spurious_copper_05.jpg\n",
      "Saved binary image: D:\\BML Munjal\\3rd Year\\Sem 5\\DIP\\DIP-dataset\\PCB_DATASET\\binary_images\\07_spurious_copper_06.jpg\n",
      "Saved binary image: D:\\BML Munjal\\3rd Year\\Sem 5\\DIP\\DIP-dataset\\PCB_DATASET\\binary_images\\07_spurious_copper_07.jpg\n",
      "Saved binary image: D:\\BML Munjal\\3rd Year\\Sem 5\\DIP\\DIP-dataset\\PCB_DATASET\\binary_images\\07_spurious_copper_08.jpg\n",
      "Saved binary image: D:\\BML Munjal\\3rd Year\\Sem 5\\DIP\\DIP-dataset\\PCB_DATASET\\binary_images\\07_spurious_copper_09.jpg\n",
      "Saved binary image: D:\\BML Munjal\\3rd Year\\Sem 5\\DIP\\DIP-dataset\\PCB_DATASET\\binary_images\\07_spurious_copper_10.jpg\n",
      "Saved binary image: D:\\BML Munjal\\3rd Year\\Sem 5\\DIP\\DIP-dataset\\PCB_DATASET\\binary_images\\07_spur_01.jpg\n",
      "Saved binary image: D:\\BML Munjal\\3rd Year\\Sem 5\\DIP\\DIP-dataset\\PCB_DATASET\\binary_images\\07_spur_02.jpg\n",
      "Saved binary image: D:\\BML Munjal\\3rd Year\\Sem 5\\DIP\\DIP-dataset\\PCB_DATASET\\binary_images\\07_spur_03.jpg\n",
      "Saved binary image: D:\\BML Munjal\\3rd Year\\Sem 5\\DIP\\DIP-dataset\\PCB_DATASET\\binary_images\\07_spur_04.jpg\n",
      "Saved binary image: D:\\BML Munjal\\3rd Year\\Sem 5\\DIP\\DIP-dataset\\PCB_DATASET\\binary_images\\07_spur_05.jpg\n",
      "Saved binary image: D:\\BML Munjal\\3rd Year\\Sem 5\\DIP\\DIP-dataset\\PCB_DATASET\\binary_images\\07_spur_06.jpg\n",
      "Saved binary image: D:\\BML Munjal\\3rd Year\\Sem 5\\DIP\\DIP-dataset\\PCB_DATASET\\binary_images\\07_spur_07.jpg\n",
      "Saved binary image: D:\\BML Munjal\\3rd Year\\Sem 5\\DIP\\DIP-dataset\\PCB_DATASET\\binary_images\\07_spur_08.jpg\n",
      "Saved binary image: D:\\BML Munjal\\3rd Year\\Sem 5\\DIP\\DIP-dataset\\PCB_DATASET\\binary_images\\07_spur_09.jpg\n",
      "Saved binary image: D:\\BML Munjal\\3rd Year\\Sem 5\\DIP\\DIP-dataset\\PCB_DATASET\\binary_images\\07_spur_10.jpg\n",
      "Saved binary image: D:\\BML Munjal\\3rd Year\\Sem 5\\DIP\\DIP-dataset\\PCB_DATASET\\binary_images\\08_missing_hole_01.jpg\n",
      "Saved binary image: D:\\BML Munjal\\3rd Year\\Sem 5\\DIP\\DIP-dataset\\PCB_DATASET\\binary_images\\08_missing_hole_02.jpg\n",
      "Saved binary image: D:\\BML Munjal\\3rd Year\\Sem 5\\DIP\\DIP-dataset\\PCB_DATASET\\binary_images\\08_missing_hole_03.jpg\n",
      "Saved binary image: D:\\BML Munjal\\3rd Year\\Sem 5\\DIP\\DIP-dataset\\PCB_DATASET\\binary_images\\08_missing_hole_04.jpg\n",
      "Saved binary image: D:\\BML Munjal\\3rd Year\\Sem 5\\DIP\\DIP-dataset\\PCB_DATASET\\binary_images\\08_missing_hole_05.jpg\n",
      "Saved binary image: D:\\BML Munjal\\3rd Year\\Sem 5\\DIP\\DIP-dataset\\PCB_DATASET\\binary_images\\08_missing_hole_06.jpg\n",
      "Saved binary image: D:\\BML Munjal\\3rd Year\\Sem 5\\DIP\\DIP-dataset\\PCB_DATASET\\binary_images\\08_missing_hole_07.jpg\n",
      "Saved binary image: D:\\BML Munjal\\3rd Year\\Sem 5\\DIP\\DIP-dataset\\PCB_DATASET\\binary_images\\08_missing_hole_08.jpg\n",
      "Saved binary image: D:\\BML Munjal\\3rd Year\\Sem 5\\DIP\\DIP-dataset\\PCB_DATASET\\binary_images\\08_missing_hole_09.jpg\n",
      "Saved binary image: D:\\BML Munjal\\3rd Year\\Sem 5\\DIP\\DIP-dataset\\PCB_DATASET\\binary_images\\08_missing_hole_10.jpg\n",
      "Saved binary image: D:\\BML Munjal\\3rd Year\\Sem 5\\DIP\\DIP-dataset\\PCB_DATASET\\binary_images\\08_mouse_bite_01.jpg\n",
      "Saved binary image: D:\\BML Munjal\\3rd Year\\Sem 5\\DIP\\DIP-dataset\\PCB_DATASET\\binary_images\\08_mouse_bite_02.jpg\n",
      "Saved binary image: D:\\BML Munjal\\3rd Year\\Sem 5\\DIP\\DIP-dataset\\PCB_DATASET\\binary_images\\08_mouse_bite_03.jpg\n",
      "Saved binary image: D:\\BML Munjal\\3rd Year\\Sem 5\\DIP\\DIP-dataset\\PCB_DATASET\\binary_images\\08_mouse_bite_04.jpg\n",
      "Saved binary image: D:\\BML Munjal\\3rd Year\\Sem 5\\DIP\\DIP-dataset\\PCB_DATASET\\binary_images\\08_mouse_bite_05.jpg\n",
      "Saved binary image: D:\\BML Munjal\\3rd Year\\Sem 5\\DIP\\DIP-dataset\\PCB_DATASET\\binary_images\\08_mouse_bite_06.jpg\n",
      "Saved binary image: D:\\BML Munjal\\3rd Year\\Sem 5\\DIP\\DIP-dataset\\PCB_DATASET\\binary_images\\08_mouse_bite_07.jpg\n",
      "Saved binary image: D:\\BML Munjal\\3rd Year\\Sem 5\\DIP\\DIP-dataset\\PCB_DATASET\\binary_images\\08_mouse_bite_08.jpg\n",
      "Saved binary image: D:\\BML Munjal\\3rd Year\\Sem 5\\DIP\\DIP-dataset\\PCB_DATASET\\binary_images\\08_mouse_bite_09.jpg\n",
      "Saved binary image: D:\\BML Munjal\\3rd Year\\Sem 5\\DIP\\DIP-dataset\\PCB_DATASET\\binary_images\\08_mouse_bite_10.jpg\n",
      "Saved binary image: D:\\BML Munjal\\3rd Year\\Sem 5\\DIP\\DIP-dataset\\PCB_DATASET\\binary_images\\08_open_circuit_01.jpg\n",
      "Saved binary image: D:\\BML Munjal\\3rd Year\\Sem 5\\DIP\\DIP-dataset\\PCB_DATASET\\binary_images\\08_open_circuit_02.jpg\n",
      "Saved binary image: D:\\BML Munjal\\3rd Year\\Sem 5\\DIP\\DIP-dataset\\PCB_DATASET\\binary_images\\08_open_circuit_03.jpg\n",
      "Saved binary image: D:\\BML Munjal\\3rd Year\\Sem 5\\DIP\\DIP-dataset\\PCB_DATASET\\binary_images\\08_open_circuit_04.jpg\n",
      "Saved binary image: D:\\BML Munjal\\3rd Year\\Sem 5\\DIP\\DIP-dataset\\PCB_DATASET\\binary_images\\08_open_circuit_05.jpg\n",
      "Saved binary image: D:\\BML Munjal\\3rd Year\\Sem 5\\DIP\\DIP-dataset\\PCB_DATASET\\binary_images\\08_open_circuit_06.jpg\n",
      "Saved binary image: D:\\BML Munjal\\3rd Year\\Sem 5\\DIP\\DIP-dataset\\PCB_DATASET\\binary_images\\08_open_circuit_07.jpg\n",
      "Saved binary image: D:\\BML Munjal\\3rd Year\\Sem 5\\DIP\\DIP-dataset\\PCB_DATASET\\binary_images\\08_open_circuit_08.jpg\n",
      "Saved binary image: D:\\BML Munjal\\3rd Year\\Sem 5\\DIP\\DIP-dataset\\PCB_DATASET\\binary_images\\08_open_circuit_09.jpg\n",
      "Saved binary image: D:\\BML Munjal\\3rd Year\\Sem 5\\DIP\\DIP-dataset\\PCB_DATASET\\binary_images\\08_open_circuit_10.jpg\n",
      "Saved binary image: D:\\BML Munjal\\3rd Year\\Sem 5\\DIP\\DIP-dataset\\PCB_DATASET\\binary_images\\08_short_01.jpg\n",
      "Saved binary image: D:\\BML Munjal\\3rd Year\\Sem 5\\DIP\\DIP-dataset\\PCB_DATASET\\binary_images\\08_short_02.jpg\n",
      "Saved binary image: D:\\BML Munjal\\3rd Year\\Sem 5\\DIP\\DIP-dataset\\PCB_DATASET\\binary_images\\08_short_03.jpg\n",
      "Saved binary image: D:\\BML Munjal\\3rd Year\\Sem 5\\DIP\\DIP-dataset\\PCB_DATASET\\binary_images\\08_short_04.jpg\n",
      "Saved binary image: D:\\BML Munjal\\3rd Year\\Sem 5\\DIP\\DIP-dataset\\PCB_DATASET\\binary_images\\08_short_05.jpg\n",
      "Saved binary image: D:\\BML Munjal\\3rd Year\\Sem 5\\DIP\\DIP-dataset\\PCB_DATASET\\binary_images\\08_short_06.jpg\n",
      "Saved binary image: D:\\BML Munjal\\3rd Year\\Sem 5\\DIP\\DIP-dataset\\PCB_DATASET\\binary_images\\08_short_07.jpg\n",
      "Saved binary image: D:\\BML Munjal\\3rd Year\\Sem 5\\DIP\\DIP-dataset\\PCB_DATASET\\binary_images\\08_short_08.jpg\n",
      "Saved binary image: D:\\BML Munjal\\3rd Year\\Sem 5\\DIP\\DIP-dataset\\PCB_DATASET\\binary_images\\08_short_09.jpg\n",
      "Saved binary image: D:\\BML Munjal\\3rd Year\\Sem 5\\DIP\\DIP-dataset\\PCB_DATASET\\binary_images\\08_short_10.jpg\n",
      "Saved binary image: D:\\BML Munjal\\3rd Year\\Sem 5\\DIP\\DIP-dataset\\PCB_DATASET\\binary_images\\08_spurious_copper_01.jpg\n",
      "Saved binary image: D:\\BML Munjal\\3rd Year\\Sem 5\\DIP\\DIP-dataset\\PCB_DATASET\\binary_images\\08_spurious_copper_02.jpg\n",
      "Saved binary image: D:\\BML Munjal\\3rd Year\\Sem 5\\DIP\\DIP-dataset\\PCB_DATASET\\binary_images\\08_spurious_copper_03.jpg\n",
      "Saved binary image: D:\\BML Munjal\\3rd Year\\Sem 5\\DIP\\DIP-dataset\\PCB_DATASET\\binary_images\\08_spurious_copper_04.jpg\n",
      "Saved binary image: D:\\BML Munjal\\3rd Year\\Sem 5\\DIP\\DIP-dataset\\PCB_DATASET\\binary_images\\08_spurious_copper_05.jpg\n",
      "Saved binary image: D:\\BML Munjal\\3rd Year\\Sem 5\\DIP\\DIP-dataset\\PCB_DATASET\\binary_images\\08_spurious_copper_06.jpg\n",
      "Saved binary image: D:\\BML Munjal\\3rd Year\\Sem 5\\DIP\\DIP-dataset\\PCB_DATASET\\binary_images\\08_spurious_copper_07.jpg\n",
      "Saved binary image: D:\\BML Munjal\\3rd Year\\Sem 5\\DIP\\DIP-dataset\\PCB_DATASET\\binary_images\\08_spurious_copper_08.jpg\n",
      "Saved binary image: D:\\BML Munjal\\3rd Year\\Sem 5\\DIP\\DIP-dataset\\PCB_DATASET\\binary_images\\08_spurious_copper_09.jpg\n",
      "Saved binary image: D:\\BML Munjal\\3rd Year\\Sem 5\\DIP\\DIP-dataset\\PCB_DATASET\\binary_images\\08_spurious_copper_10.jpg\n",
      "Saved binary image: D:\\BML Munjal\\3rd Year\\Sem 5\\DIP\\DIP-dataset\\PCB_DATASET\\binary_images\\08_spur_01.jpg\n",
      "Saved binary image: D:\\BML Munjal\\3rd Year\\Sem 5\\DIP\\DIP-dataset\\PCB_DATASET\\binary_images\\08_spur_02.jpg\n",
      "Saved binary image: D:\\BML Munjal\\3rd Year\\Sem 5\\DIP\\DIP-dataset\\PCB_DATASET\\binary_images\\08_spur_03.jpg\n",
      "Saved binary image: D:\\BML Munjal\\3rd Year\\Sem 5\\DIP\\DIP-dataset\\PCB_DATASET\\binary_images\\08_spur_04.jpg\n",
      "Saved binary image: D:\\BML Munjal\\3rd Year\\Sem 5\\DIP\\DIP-dataset\\PCB_DATASET\\binary_images\\08_spur_05.jpg\n",
      "Saved binary image: D:\\BML Munjal\\3rd Year\\Sem 5\\DIP\\DIP-dataset\\PCB_DATASET\\binary_images\\08_spur_06.jpg\n",
      "Saved binary image: D:\\BML Munjal\\3rd Year\\Sem 5\\DIP\\DIP-dataset\\PCB_DATASET\\binary_images\\08_spur_07.jpg\n",
      "Saved binary image: D:\\BML Munjal\\3rd Year\\Sem 5\\DIP\\DIP-dataset\\PCB_DATASET\\binary_images\\08_spur_08.jpg\n",
      "Saved binary image: D:\\BML Munjal\\3rd Year\\Sem 5\\DIP\\DIP-dataset\\PCB_DATASET\\binary_images\\08_spur_09.jpg\n",
      "Saved binary image: D:\\BML Munjal\\3rd Year\\Sem 5\\DIP\\DIP-dataset\\PCB_DATASET\\binary_images\\08_spur_10.jpg\n",
      "Saved binary image: D:\\BML Munjal\\3rd Year\\Sem 5\\DIP\\DIP-dataset\\PCB_DATASET\\binary_images\\09_missing_hole_01.jpg\n",
      "Saved binary image: D:\\BML Munjal\\3rd Year\\Sem 5\\DIP\\DIP-dataset\\PCB_DATASET\\binary_images\\09_missing_hole_02.jpg\n",
      "Saved binary image: D:\\BML Munjal\\3rd Year\\Sem 5\\DIP\\DIP-dataset\\PCB_DATASET\\binary_images\\09_missing_hole_03.jpg\n",
      "Saved binary image: D:\\BML Munjal\\3rd Year\\Sem 5\\DIP\\DIP-dataset\\PCB_DATASET\\binary_images\\09_missing_hole_04.jpg\n",
      "Saved binary image: D:\\BML Munjal\\3rd Year\\Sem 5\\DIP\\DIP-dataset\\PCB_DATASET\\binary_images\\09_missing_hole_05.jpg\n",
      "Saved binary image: D:\\BML Munjal\\3rd Year\\Sem 5\\DIP\\DIP-dataset\\PCB_DATASET\\binary_images\\09_missing_hole_06.jpg\n",
      "Saved binary image: D:\\BML Munjal\\3rd Year\\Sem 5\\DIP\\DIP-dataset\\PCB_DATASET\\binary_images\\09_missing_hole_07.jpg\n",
      "Saved binary image: D:\\BML Munjal\\3rd Year\\Sem 5\\DIP\\DIP-dataset\\PCB_DATASET\\binary_images\\09_missing_hole_08.jpg\n",
      "Saved binary image: D:\\BML Munjal\\3rd Year\\Sem 5\\DIP\\DIP-dataset\\PCB_DATASET\\binary_images\\09_missing_hole_09.jpg\n",
      "Saved binary image: D:\\BML Munjal\\3rd Year\\Sem 5\\DIP\\DIP-dataset\\PCB_DATASET\\binary_images\\09_missing_hole_10.jpg\n",
      "Saved binary image: D:\\BML Munjal\\3rd Year\\Sem 5\\DIP\\DIP-dataset\\PCB_DATASET\\binary_images\\09_mouse_bite_01.jpg\n",
      "Saved binary image: D:\\BML Munjal\\3rd Year\\Sem 5\\DIP\\DIP-dataset\\PCB_DATASET\\binary_images\\09_mouse_bite_02.jpg\n",
      "Saved binary image: D:\\BML Munjal\\3rd Year\\Sem 5\\DIP\\DIP-dataset\\PCB_DATASET\\binary_images\\09_mouse_bite_03.jpg\n",
      "Saved binary image: D:\\BML Munjal\\3rd Year\\Sem 5\\DIP\\DIP-dataset\\PCB_DATASET\\binary_images\\09_mouse_bite_04.jpg\n",
      "Saved binary image: D:\\BML Munjal\\3rd Year\\Sem 5\\DIP\\DIP-dataset\\PCB_DATASET\\binary_images\\09_mouse_bite_05.jpg\n",
      "Saved binary image: D:\\BML Munjal\\3rd Year\\Sem 5\\DIP\\DIP-dataset\\PCB_DATASET\\binary_images\\09_mouse_bite_06.jpg\n",
      "Saved binary image: D:\\BML Munjal\\3rd Year\\Sem 5\\DIP\\DIP-dataset\\PCB_DATASET\\binary_images\\09_mouse_bite_07.jpg\n",
      "Saved binary image: D:\\BML Munjal\\3rd Year\\Sem 5\\DIP\\DIP-dataset\\PCB_DATASET\\binary_images\\09_mouse_bite_08.jpg\n",
      "Saved binary image: D:\\BML Munjal\\3rd Year\\Sem 5\\DIP\\DIP-dataset\\PCB_DATASET\\binary_images\\09_mouse_bite_09.jpg\n",
      "Saved binary image: D:\\BML Munjal\\3rd Year\\Sem 5\\DIP\\DIP-dataset\\PCB_DATASET\\binary_images\\09_mouse_bite_10.jpg\n",
      "Saved binary image: D:\\BML Munjal\\3rd Year\\Sem 5\\DIP\\DIP-dataset\\PCB_DATASET\\binary_images\\09_open_circuit_01.jpg\n",
      "Saved binary image: D:\\BML Munjal\\3rd Year\\Sem 5\\DIP\\DIP-dataset\\PCB_DATASET\\binary_images\\09_open_circuit_02.jpg\n",
      "Saved binary image: D:\\BML Munjal\\3rd Year\\Sem 5\\DIP\\DIP-dataset\\PCB_DATASET\\binary_images\\09_open_circuit_03.jpg\n",
      "Saved binary image: D:\\BML Munjal\\3rd Year\\Sem 5\\DIP\\DIP-dataset\\PCB_DATASET\\binary_images\\09_open_circuit_04.jpg\n",
      "Saved binary image: D:\\BML Munjal\\3rd Year\\Sem 5\\DIP\\DIP-dataset\\PCB_DATASET\\binary_images\\09_open_circuit_05.jpg\n",
      "Saved binary image: D:\\BML Munjal\\3rd Year\\Sem 5\\DIP\\DIP-dataset\\PCB_DATASET\\binary_images\\09_open_circuit_06.jpg\n",
      "Saved binary image: D:\\BML Munjal\\3rd Year\\Sem 5\\DIP\\DIP-dataset\\PCB_DATASET\\binary_images\\09_open_circuit_07.jpg\n",
      "Saved binary image: D:\\BML Munjal\\3rd Year\\Sem 5\\DIP\\DIP-dataset\\PCB_DATASET\\binary_images\\09_open_circuit_08.jpg\n",
      "Saved binary image: D:\\BML Munjal\\3rd Year\\Sem 5\\DIP\\DIP-dataset\\PCB_DATASET\\binary_images\\09_open_circuit_09.jpg\n",
      "Saved binary image: D:\\BML Munjal\\3rd Year\\Sem 5\\DIP\\DIP-dataset\\PCB_DATASET\\binary_images\\09_open_circuit_10.jpg\n",
      "Saved binary image: D:\\BML Munjal\\3rd Year\\Sem 5\\DIP\\DIP-dataset\\PCB_DATASET\\binary_images\\09_short_01.jpg\n",
      "Saved binary image: D:\\BML Munjal\\3rd Year\\Sem 5\\DIP\\DIP-dataset\\PCB_DATASET\\binary_images\\09_short_02.jpg\n",
      "Saved binary image: D:\\BML Munjal\\3rd Year\\Sem 5\\DIP\\DIP-dataset\\PCB_DATASET\\binary_images\\09_short_03.jpg\n",
      "Saved binary image: D:\\BML Munjal\\3rd Year\\Sem 5\\DIP\\DIP-dataset\\PCB_DATASET\\binary_images\\09_short_04.jpg\n",
      "Saved binary image: D:\\BML Munjal\\3rd Year\\Sem 5\\DIP\\DIP-dataset\\PCB_DATASET\\binary_images\\09_short_05.jpg\n",
      "Saved binary image: D:\\BML Munjal\\3rd Year\\Sem 5\\DIP\\DIP-dataset\\PCB_DATASET\\binary_images\\09_short_06.jpg\n",
      "Saved binary image: D:\\BML Munjal\\3rd Year\\Sem 5\\DIP\\DIP-dataset\\PCB_DATASET\\binary_images\\09_short_07.jpg\n",
      "Saved binary image: D:\\BML Munjal\\3rd Year\\Sem 5\\DIP\\DIP-dataset\\PCB_DATASET\\binary_images\\09_short_08.jpg\n",
      "Saved binary image: D:\\BML Munjal\\3rd Year\\Sem 5\\DIP\\DIP-dataset\\PCB_DATASET\\binary_images\\09_short_09.jpg\n",
      "Saved binary image: D:\\BML Munjal\\3rd Year\\Sem 5\\DIP\\DIP-dataset\\PCB_DATASET\\binary_images\\09_short_10.jpg\n",
      "Saved binary image: D:\\BML Munjal\\3rd Year\\Sem 5\\DIP\\DIP-dataset\\PCB_DATASET\\binary_images\\09_spurious_copper_01.jpg\n",
      "Saved binary image: D:\\BML Munjal\\3rd Year\\Sem 5\\DIP\\DIP-dataset\\PCB_DATASET\\binary_images\\09_spurious_copper_02.jpg\n",
      "Saved binary image: D:\\BML Munjal\\3rd Year\\Sem 5\\DIP\\DIP-dataset\\PCB_DATASET\\binary_images\\09_spurious_copper_03.jpg\n",
      "Saved binary image: D:\\BML Munjal\\3rd Year\\Sem 5\\DIP\\DIP-dataset\\PCB_DATASET\\binary_images\\09_spurious_copper_04.jpg\n",
      "Saved binary image: D:\\BML Munjal\\3rd Year\\Sem 5\\DIP\\DIP-dataset\\PCB_DATASET\\binary_images\\09_spurious_copper_05.jpg\n",
      "Saved binary image: D:\\BML Munjal\\3rd Year\\Sem 5\\DIP\\DIP-dataset\\PCB_DATASET\\binary_images\\09_spurious_copper_06.jpg\n",
      "Saved binary image: D:\\BML Munjal\\3rd Year\\Sem 5\\DIP\\DIP-dataset\\PCB_DATASET\\binary_images\\09_spurious_copper_07.jpg\n",
      "Saved binary image: D:\\BML Munjal\\3rd Year\\Sem 5\\DIP\\DIP-dataset\\PCB_DATASET\\binary_images\\09_spurious_copper_08.jpg\n",
      "Saved binary image: D:\\BML Munjal\\3rd Year\\Sem 5\\DIP\\DIP-dataset\\PCB_DATASET\\binary_images\\09_spurious_copper_09.jpg\n",
      "Saved binary image: D:\\BML Munjal\\3rd Year\\Sem 5\\DIP\\DIP-dataset\\PCB_DATASET\\binary_images\\09_spurious_copper_10.jpg\n",
      "Saved binary image: D:\\BML Munjal\\3rd Year\\Sem 5\\DIP\\DIP-dataset\\PCB_DATASET\\binary_images\\09_spur_01.jpg\n",
      "Saved binary image: D:\\BML Munjal\\3rd Year\\Sem 5\\DIP\\DIP-dataset\\PCB_DATASET\\binary_images\\09_spur_02.jpg\n",
      "Saved binary image: D:\\BML Munjal\\3rd Year\\Sem 5\\DIP\\DIP-dataset\\PCB_DATASET\\binary_images\\09_spur_03.jpg\n",
      "Saved binary image: D:\\BML Munjal\\3rd Year\\Sem 5\\DIP\\DIP-dataset\\PCB_DATASET\\binary_images\\09_spur_04.jpg\n",
      "Saved binary image: D:\\BML Munjal\\3rd Year\\Sem 5\\DIP\\DIP-dataset\\PCB_DATASET\\binary_images\\09_spur_05.jpg\n",
      "Saved binary image: D:\\BML Munjal\\3rd Year\\Sem 5\\DIP\\DIP-dataset\\PCB_DATASET\\binary_images\\09_spur_06.jpg\n",
      "Saved binary image: D:\\BML Munjal\\3rd Year\\Sem 5\\DIP\\DIP-dataset\\PCB_DATASET\\binary_images\\09_spur_07.jpg\n",
      "Saved binary image: D:\\BML Munjal\\3rd Year\\Sem 5\\DIP\\DIP-dataset\\PCB_DATASET\\binary_images\\09_spur_08.jpg\n",
      "Saved binary image: D:\\BML Munjal\\3rd Year\\Sem 5\\DIP\\DIP-dataset\\PCB_DATASET\\binary_images\\09_spur_09.jpg\n",
      "Saved binary image: D:\\BML Munjal\\3rd Year\\Sem 5\\DIP\\DIP-dataset\\PCB_DATASET\\binary_images\\09_spur_10.jpg\n",
      "Saved binary image: D:\\BML Munjal\\3rd Year\\Sem 5\\DIP\\DIP-dataset\\PCB_DATASET\\binary_images\\10_missing_hole_01.jpg\n",
      "Saved binary image: D:\\BML Munjal\\3rd Year\\Sem 5\\DIP\\DIP-dataset\\PCB_DATASET\\binary_images\\10_missing_hole_02.jpg\n",
      "Saved binary image: D:\\BML Munjal\\3rd Year\\Sem 5\\DIP\\DIP-dataset\\PCB_DATASET\\binary_images\\10_missing_hole_03.jpg\n",
      "Saved binary image: D:\\BML Munjal\\3rd Year\\Sem 5\\DIP\\DIP-dataset\\PCB_DATASET\\binary_images\\10_missing_hole_04.jpg\n",
      "Saved binary image: D:\\BML Munjal\\3rd Year\\Sem 5\\DIP\\DIP-dataset\\PCB_DATASET\\binary_images\\10_missing_hole_05.jpg\n",
      "Saved binary image: D:\\BML Munjal\\3rd Year\\Sem 5\\DIP\\DIP-dataset\\PCB_DATASET\\binary_images\\10_mouse_bite_01.jpg\n",
      "Saved binary image: D:\\BML Munjal\\3rd Year\\Sem 5\\DIP\\DIP-dataset\\PCB_DATASET\\binary_images\\10_mouse_bite_02.jpg\n",
      "Saved binary image: D:\\BML Munjal\\3rd Year\\Sem 5\\DIP\\DIP-dataset\\PCB_DATASET\\binary_images\\10_mouse_bite_03.jpg\n",
      "Saved binary image: D:\\BML Munjal\\3rd Year\\Sem 5\\DIP\\DIP-dataset\\PCB_DATASET\\binary_images\\10_mouse_bite_04.jpg\n",
      "Saved binary image: D:\\BML Munjal\\3rd Year\\Sem 5\\DIP\\DIP-dataset\\PCB_DATASET\\binary_images\\10_mouse_bite_05.jpg\n",
      "Saved binary image: D:\\BML Munjal\\3rd Year\\Sem 5\\DIP\\DIP-dataset\\PCB_DATASET\\binary_images\\10_open_circuit_01.jpg\n",
      "Saved binary image: D:\\BML Munjal\\3rd Year\\Sem 5\\DIP\\DIP-dataset\\PCB_DATASET\\binary_images\\10_open_circuit_02.jpg\n",
      "Saved binary image: D:\\BML Munjal\\3rd Year\\Sem 5\\DIP\\DIP-dataset\\PCB_DATASET\\binary_images\\10_open_circuit_03.jpg\n",
      "Saved binary image: D:\\BML Munjal\\3rd Year\\Sem 5\\DIP\\DIP-dataset\\PCB_DATASET\\binary_images\\10_open_circuit_04.jpg\n",
      "Saved binary image: D:\\BML Munjal\\3rd Year\\Sem 5\\DIP\\DIP-dataset\\PCB_DATASET\\binary_images\\10_open_circuit_05.jpg\n",
      "Saved binary image: D:\\BML Munjal\\3rd Year\\Sem 5\\DIP\\DIP-dataset\\PCB_DATASET\\binary_images\\10_open_circuit_06.jpg\n",
      "Saved binary image: D:\\BML Munjal\\3rd Year\\Sem 5\\DIP\\DIP-dataset\\PCB_DATASET\\binary_images\\10_short_01.jpg\n",
      "Saved binary image: D:\\BML Munjal\\3rd Year\\Sem 5\\DIP\\DIP-dataset\\PCB_DATASET\\binary_images\\10_short_02.jpg\n",
      "Saved binary image: D:\\BML Munjal\\3rd Year\\Sem 5\\DIP\\DIP-dataset\\PCB_DATASET\\binary_images\\10_short_03.jpg\n",
      "Saved binary image: D:\\BML Munjal\\3rd Year\\Sem 5\\DIP\\DIP-dataset\\PCB_DATASET\\binary_images\\10_short_04.jpg\n",
      "Saved binary image: D:\\BML Munjal\\3rd Year\\Sem 5\\DIP\\DIP-dataset\\PCB_DATASET\\binary_images\\10_short_05.jpg\n",
      "Saved binary image: D:\\BML Munjal\\3rd Year\\Sem 5\\DIP\\DIP-dataset\\PCB_DATASET\\binary_images\\10_spurious_copper_01.jpg\n",
      "Saved binary image: D:\\BML Munjal\\3rd Year\\Sem 5\\DIP\\DIP-dataset\\PCB_DATASET\\binary_images\\10_spurious_copper_02.jpg\n",
      "Saved binary image: D:\\BML Munjal\\3rd Year\\Sem 5\\DIP\\DIP-dataset\\PCB_DATASET\\binary_images\\10_spurious_copper_03.jpg\n",
      "Saved binary image: D:\\BML Munjal\\3rd Year\\Sem 5\\DIP\\DIP-dataset\\PCB_DATASET\\binary_images\\10_spurious_copper_04.jpg\n",
      "Saved binary image: D:\\BML Munjal\\3rd Year\\Sem 5\\DIP\\DIP-dataset\\PCB_DATASET\\binary_images\\10_spurious_copper_05.jpg\n",
      "Saved binary image: D:\\BML Munjal\\3rd Year\\Sem 5\\DIP\\DIP-dataset\\PCB_DATASET\\binary_images\\10_spurious_copper_06.jpg\n",
      "Saved binary image: D:\\BML Munjal\\3rd Year\\Sem 5\\DIP\\DIP-dataset\\PCB_DATASET\\binary_images\\10_spur_01.jpg\n",
      "Saved binary image: D:\\BML Munjal\\3rd Year\\Sem 5\\DIP\\DIP-dataset\\PCB_DATASET\\binary_images\\10_spur_02.jpg\n",
      "Saved binary image: D:\\BML Munjal\\3rd Year\\Sem 5\\DIP\\DIP-dataset\\PCB_DATASET\\binary_images\\10_spur_03.jpg\n",
      "Saved binary image: D:\\BML Munjal\\3rd Year\\Sem 5\\DIP\\DIP-dataset\\PCB_DATASET\\binary_images\\10_spur_04.jpg\n",
      "Saved binary image: D:\\BML Munjal\\3rd Year\\Sem 5\\DIP\\DIP-dataset\\PCB_DATASET\\binary_images\\10_spur_05.jpg\n",
      "Saved binary image: D:\\BML Munjal\\3rd Year\\Sem 5\\DIP\\DIP-dataset\\PCB_DATASET\\binary_images\\11_missing_hole_01.jpg\n",
      "Saved binary image: D:\\BML Munjal\\3rd Year\\Sem 5\\DIP\\DIP-dataset\\PCB_DATASET\\binary_images\\11_missing_hole_02.jpg\n",
      "Saved binary image: D:\\BML Munjal\\3rd Year\\Sem 5\\DIP\\DIP-dataset\\PCB_DATASET\\binary_images\\11_missing_hole_03.jpg\n",
      "Saved binary image: D:\\BML Munjal\\3rd Year\\Sem 5\\DIP\\DIP-dataset\\PCB_DATASET\\binary_images\\11_missing_hole_04.jpg\n",
      "Saved binary image: D:\\BML Munjal\\3rd Year\\Sem 5\\DIP\\DIP-dataset\\PCB_DATASET\\binary_images\\11_missing_hole_05.jpg\n",
      "Saved binary image: D:\\BML Munjal\\3rd Year\\Sem 5\\DIP\\DIP-dataset\\PCB_DATASET\\binary_images\\11_missing_hole_06.jpg\n",
      "Saved binary image: D:\\BML Munjal\\3rd Year\\Sem 5\\DIP\\DIP-dataset\\PCB_DATASET\\binary_images\\11_missing_hole_07.jpg\n",
      "Saved binary image: D:\\BML Munjal\\3rd Year\\Sem 5\\DIP\\DIP-dataset\\PCB_DATASET\\binary_images\\11_missing_hole_08.jpg\n",
      "Saved binary image: D:\\BML Munjal\\3rd Year\\Sem 5\\DIP\\DIP-dataset\\PCB_DATASET\\binary_images\\11_missing_hole_09.jpg\n",
      "Saved binary image: D:\\BML Munjal\\3rd Year\\Sem 5\\DIP\\DIP-dataset\\PCB_DATASET\\binary_images\\11_missing_hole_10.jpg\n",
      "Saved binary image: D:\\BML Munjal\\3rd Year\\Sem 5\\DIP\\DIP-dataset\\PCB_DATASET\\binary_images\\11_mouse_bite_01.jpg\n",
      "Saved binary image: D:\\BML Munjal\\3rd Year\\Sem 5\\DIP\\DIP-dataset\\PCB_DATASET\\binary_images\\11_mouse_bite_02.jpg\n",
      "Saved binary image: D:\\BML Munjal\\3rd Year\\Sem 5\\DIP\\DIP-dataset\\PCB_DATASET\\binary_images\\11_mouse_bite_03.jpg\n",
      "Saved binary image: D:\\BML Munjal\\3rd Year\\Sem 5\\DIP\\DIP-dataset\\PCB_DATASET\\binary_images\\11_mouse_bite_04.jpg\n",
      "Saved binary image: D:\\BML Munjal\\3rd Year\\Sem 5\\DIP\\DIP-dataset\\PCB_DATASET\\binary_images\\11_mouse_bite_05.jpg\n",
      "Saved binary image: D:\\BML Munjal\\3rd Year\\Sem 5\\DIP\\DIP-dataset\\PCB_DATASET\\binary_images\\11_mouse_bite_06.jpg\n",
      "Saved binary image: D:\\BML Munjal\\3rd Year\\Sem 5\\DIP\\DIP-dataset\\PCB_DATASET\\binary_images\\11_mouse_bite_07.jpg\n",
      "Saved binary image: D:\\BML Munjal\\3rd Year\\Sem 5\\DIP\\DIP-dataset\\PCB_DATASET\\binary_images\\11_mouse_bite_08.jpg\n",
      "Saved binary image: D:\\BML Munjal\\3rd Year\\Sem 5\\DIP\\DIP-dataset\\PCB_DATASET\\binary_images\\11_mouse_bite_09.jpg\n",
      "Saved binary image: D:\\BML Munjal\\3rd Year\\Sem 5\\DIP\\DIP-dataset\\PCB_DATASET\\binary_images\\11_mouse_bite_10.jpg\n",
      "Saved binary image: D:\\BML Munjal\\3rd Year\\Sem 5\\DIP\\DIP-dataset\\PCB_DATASET\\binary_images\\11_open_circuit_01.jpg\n",
      "Saved binary image: D:\\BML Munjal\\3rd Year\\Sem 5\\DIP\\DIP-dataset\\PCB_DATASET\\binary_images\\11_open_circuit_02.jpg\n",
      "Saved binary image: D:\\BML Munjal\\3rd Year\\Sem 5\\DIP\\DIP-dataset\\PCB_DATASET\\binary_images\\11_open_circuit_03.jpg\n",
      "Saved binary image: D:\\BML Munjal\\3rd Year\\Sem 5\\DIP\\DIP-dataset\\PCB_DATASET\\binary_images\\11_open_circuit_04.jpg\n",
      "Saved binary image: D:\\BML Munjal\\3rd Year\\Sem 5\\DIP\\DIP-dataset\\PCB_DATASET\\binary_images\\11_open_circuit_05.jpg\n",
      "Saved binary image: D:\\BML Munjal\\3rd Year\\Sem 5\\DIP\\DIP-dataset\\PCB_DATASET\\binary_images\\11_open_circuit_06.jpg\n",
      "Saved binary image: D:\\BML Munjal\\3rd Year\\Sem 5\\DIP\\DIP-dataset\\PCB_DATASET\\binary_images\\11_open_circuit_07.jpg\n",
      "Saved binary image: D:\\BML Munjal\\3rd Year\\Sem 5\\DIP\\DIP-dataset\\PCB_DATASET\\binary_images\\11_open_circuit_08.jpg\n",
      "Saved binary image: D:\\BML Munjal\\3rd Year\\Sem 5\\DIP\\DIP-dataset\\PCB_DATASET\\binary_images\\11_open_circuit_09.jpg\n",
      "Saved binary image: D:\\BML Munjal\\3rd Year\\Sem 5\\DIP\\DIP-dataset\\PCB_DATASET\\binary_images\\11_open_circuit_10.jpg\n",
      "Saved binary image: D:\\BML Munjal\\3rd Year\\Sem 5\\DIP\\DIP-dataset\\PCB_DATASET\\binary_images\\11_short_01.jpg\n",
      "Saved binary image: D:\\BML Munjal\\3rd Year\\Sem 5\\DIP\\DIP-dataset\\PCB_DATASET\\binary_images\\11_short_02.jpg\n",
      "Saved binary image: D:\\BML Munjal\\3rd Year\\Sem 5\\DIP\\DIP-dataset\\PCB_DATASET\\binary_images\\11_short_03.jpg\n",
      "Saved binary image: D:\\BML Munjal\\3rd Year\\Sem 5\\DIP\\DIP-dataset\\PCB_DATASET\\binary_images\\11_short_04.jpg\n",
      "Saved binary image: D:\\BML Munjal\\3rd Year\\Sem 5\\DIP\\DIP-dataset\\PCB_DATASET\\binary_images\\11_short_05.jpg\n",
      "Saved binary image: D:\\BML Munjal\\3rd Year\\Sem 5\\DIP\\DIP-dataset\\PCB_DATASET\\binary_images\\11_short_06.jpg\n",
      "Saved binary image: D:\\BML Munjal\\3rd Year\\Sem 5\\DIP\\DIP-dataset\\PCB_DATASET\\binary_images\\11_short_07.jpg\n",
      "Saved binary image: D:\\BML Munjal\\3rd Year\\Sem 5\\DIP\\DIP-dataset\\PCB_DATASET\\binary_images\\11_short_08.jpg\n",
      "Saved binary image: D:\\BML Munjal\\3rd Year\\Sem 5\\DIP\\DIP-dataset\\PCB_DATASET\\binary_images\\11_short_09.jpg\n",
      "Saved binary image: D:\\BML Munjal\\3rd Year\\Sem 5\\DIP\\DIP-dataset\\PCB_DATASET\\binary_images\\11_short_10.jpg\n",
      "Saved binary image: D:\\BML Munjal\\3rd Year\\Sem 5\\DIP\\DIP-dataset\\PCB_DATASET\\binary_images\\11_spurious_copper_01.jpg\n",
      "Saved binary image: D:\\BML Munjal\\3rd Year\\Sem 5\\DIP\\DIP-dataset\\PCB_DATASET\\binary_images\\11_spurious_copper_02.jpg\n",
      "Saved binary image: D:\\BML Munjal\\3rd Year\\Sem 5\\DIP\\DIP-dataset\\PCB_DATASET\\binary_images\\11_spurious_copper_03.jpg\n",
      "Saved binary image: D:\\BML Munjal\\3rd Year\\Sem 5\\DIP\\DIP-dataset\\PCB_DATASET\\binary_images\\11_spurious_copper_04.jpg\n",
      "Saved binary image: D:\\BML Munjal\\3rd Year\\Sem 5\\DIP\\DIP-dataset\\PCB_DATASET\\binary_images\\11_spurious_copper_05.jpg\n",
      "Saved binary image: D:\\BML Munjal\\3rd Year\\Sem 5\\DIP\\DIP-dataset\\PCB_DATASET\\binary_images\\11_spurious_copper_06.jpg\n",
      "Saved binary image: D:\\BML Munjal\\3rd Year\\Sem 5\\DIP\\DIP-dataset\\PCB_DATASET\\binary_images\\11_spurious_copper_07.jpg\n",
      "Saved binary image: D:\\BML Munjal\\3rd Year\\Sem 5\\DIP\\DIP-dataset\\PCB_DATASET\\binary_images\\11_spurious_copper_08.jpg\n",
      "Saved binary image: D:\\BML Munjal\\3rd Year\\Sem 5\\DIP\\DIP-dataset\\PCB_DATASET\\binary_images\\11_spurious_copper_09.jpg\n",
      "Saved binary image: D:\\BML Munjal\\3rd Year\\Sem 5\\DIP\\DIP-dataset\\PCB_DATASET\\binary_images\\11_spurious_copper_10.jpg\n",
      "Saved binary image: D:\\BML Munjal\\3rd Year\\Sem 5\\DIP\\DIP-dataset\\PCB_DATASET\\binary_images\\11_spur_01.jpg\n",
      "Saved binary image: D:\\BML Munjal\\3rd Year\\Sem 5\\DIP\\DIP-dataset\\PCB_DATASET\\binary_images\\11_spur_02.jpg\n",
      "Saved binary image: D:\\BML Munjal\\3rd Year\\Sem 5\\DIP\\DIP-dataset\\PCB_DATASET\\binary_images\\11_spur_03.jpg\n",
      "Saved binary image: D:\\BML Munjal\\3rd Year\\Sem 5\\DIP\\DIP-dataset\\PCB_DATASET\\binary_images\\11_spur_04.jpg\n",
      "Saved binary image: D:\\BML Munjal\\3rd Year\\Sem 5\\DIP\\DIP-dataset\\PCB_DATASET\\binary_images\\11_spur_05.jpg\n",
      "Saved binary image: D:\\BML Munjal\\3rd Year\\Sem 5\\DIP\\DIP-dataset\\PCB_DATASET\\binary_images\\11_spur_06.jpg\n",
      "Saved binary image: D:\\BML Munjal\\3rd Year\\Sem 5\\DIP\\DIP-dataset\\PCB_DATASET\\binary_images\\11_spur_07.jpg\n",
      "Saved binary image: D:\\BML Munjal\\3rd Year\\Sem 5\\DIP\\DIP-dataset\\PCB_DATASET\\binary_images\\11_spur_08.jpg\n",
      "Saved binary image: D:\\BML Munjal\\3rd Year\\Sem 5\\DIP\\DIP-dataset\\PCB_DATASET\\binary_images\\11_spur_09.jpg\n",
      "Saved binary image: D:\\BML Munjal\\3rd Year\\Sem 5\\DIP\\DIP-dataset\\PCB_DATASET\\binary_images\\11_spur_10.jpg\n",
      "Saved binary image: D:\\BML Munjal\\3rd Year\\Sem 5\\DIP\\DIP-dataset\\PCB_DATASET\\binary_images\\12_missing_hole_01.jpg\n",
      "Saved binary image: D:\\BML Munjal\\3rd Year\\Sem 5\\DIP\\DIP-dataset\\PCB_DATASET\\binary_images\\12_missing_hole_02.jpg\n",
      "Saved binary image: D:\\BML Munjal\\3rd Year\\Sem 5\\DIP\\DIP-dataset\\PCB_DATASET\\binary_images\\12_missing_hole_03.jpg\n",
      "Saved binary image: D:\\BML Munjal\\3rd Year\\Sem 5\\DIP\\DIP-dataset\\PCB_DATASET\\binary_images\\12_missing_hole_04.jpg\n",
      "Saved binary image: D:\\BML Munjal\\3rd Year\\Sem 5\\DIP\\DIP-dataset\\PCB_DATASET\\binary_images\\12_missing_hole_05.jpg\n",
      "Saved binary image: D:\\BML Munjal\\3rd Year\\Sem 5\\DIP\\DIP-dataset\\PCB_DATASET\\binary_images\\12_missing_hole_06.jpg\n",
      "Saved binary image: D:\\BML Munjal\\3rd Year\\Sem 5\\DIP\\DIP-dataset\\PCB_DATASET\\binary_images\\12_missing_hole_07.jpg\n",
      "Saved binary image: D:\\BML Munjal\\3rd Year\\Sem 5\\DIP\\DIP-dataset\\PCB_DATASET\\binary_images\\12_missing_hole_08.jpg\n",
      "Saved binary image: D:\\BML Munjal\\3rd Year\\Sem 5\\DIP\\DIP-dataset\\PCB_DATASET\\binary_images\\12_missing_hole_09.jpg\n",
      "Saved binary image: D:\\BML Munjal\\3rd Year\\Sem 5\\DIP\\DIP-dataset\\PCB_DATASET\\binary_images\\12_missing_hole_10.jpg\n",
      "Saved binary image: D:\\BML Munjal\\3rd Year\\Sem 5\\DIP\\DIP-dataset\\PCB_DATASET\\binary_images\\12_mouse_bite_01.jpg\n",
      "Saved binary image: D:\\BML Munjal\\3rd Year\\Sem 5\\DIP\\DIP-dataset\\PCB_DATASET\\binary_images\\12_mouse_bite_02.jpg\n",
      "Saved binary image: D:\\BML Munjal\\3rd Year\\Sem 5\\DIP\\DIP-dataset\\PCB_DATASET\\binary_images\\12_mouse_bite_03.jpg\n",
      "Saved binary image: D:\\BML Munjal\\3rd Year\\Sem 5\\DIP\\DIP-dataset\\PCB_DATASET\\binary_images\\12_mouse_bite_04.jpg\n",
      "Saved binary image: D:\\BML Munjal\\3rd Year\\Sem 5\\DIP\\DIP-dataset\\PCB_DATASET\\binary_images\\12_mouse_bite_05.jpg\n",
      "Saved binary image: D:\\BML Munjal\\3rd Year\\Sem 5\\DIP\\DIP-dataset\\PCB_DATASET\\binary_images\\12_mouse_bite_06.jpg\n",
      "Saved binary image: D:\\BML Munjal\\3rd Year\\Sem 5\\DIP\\DIP-dataset\\PCB_DATASET\\binary_images\\12_mouse_bite_07.jpg\n",
      "Saved binary image: D:\\BML Munjal\\3rd Year\\Sem 5\\DIP\\DIP-dataset\\PCB_DATASET\\binary_images\\12_mouse_bite_08.jpg\n",
      "Saved binary image: D:\\BML Munjal\\3rd Year\\Sem 5\\DIP\\DIP-dataset\\PCB_DATASET\\binary_images\\12_mouse_bite_09.jpg\n",
      "Saved binary image: D:\\BML Munjal\\3rd Year\\Sem 5\\DIP\\DIP-dataset\\PCB_DATASET\\binary_images\\12_mouse_bite_10.jpg\n",
      "Saved binary image: D:\\BML Munjal\\3rd Year\\Sem 5\\DIP\\DIP-dataset\\PCB_DATASET\\binary_images\\12_open_circuit_01.jpg\n",
      "Saved binary image: D:\\BML Munjal\\3rd Year\\Sem 5\\DIP\\DIP-dataset\\PCB_DATASET\\binary_images\\12_open_circuit_02.jpg\n",
      "Saved binary image: D:\\BML Munjal\\3rd Year\\Sem 5\\DIP\\DIP-dataset\\PCB_DATASET\\binary_images\\12_open_circuit_03.jpg\n",
      "Saved binary image: D:\\BML Munjal\\3rd Year\\Sem 5\\DIP\\DIP-dataset\\PCB_DATASET\\binary_images\\12_open_circuit_04.jpg\n",
      "Saved binary image: D:\\BML Munjal\\3rd Year\\Sem 5\\DIP\\DIP-dataset\\PCB_DATASET\\binary_images\\12_open_circuit_05.jpg\n",
      "Saved binary image: D:\\BML Munjal\\3rd Year\\Sem 5\\DIP\\DIP-dataset\\PCB_DATASET\\binary_images\\12_open_circuit_06.jpg\n",
      "Saved binary image: D:\\BML Munjal\\3rd Year\\Sem 5\\DIP\\DIP-dataset\\PCB_DATASET\\binary_images\\12_open_circuit_07.jpg\n",
      "Saved binary image: D:\\BML Munjal\\3rd Year\\Sem 5\\DIP\\DIP-dataset\\PCB_DATASET\\binary_images\\12_open_circuit_08.jpg\n",
      "Saved binary image: D:\\BML Munjal\\3rd Year\\Sem 5\\DIP\\DIP-dataset\\PCB_DATASET\\binary_images\\12_open_circuit_09.jpg\n",
      "Saved binary image: D:\\BML Munjal\\3rd Year\\Sem 5\\DIP\\DIP-dataset\\PCB_DATASET\\binary_images\\12_open_circuit_10.jpg\n",
      "Saved binary image: D:\\BML Munjal\\3rd Year\\Sem 5\\DIP\\DIP-dataset\\PCB_DATASET\\binary_images\\12_short_01.jpg\n",
      "Saved binary image: D:\\BML Munjal\\3rd Year\\Sem 5\\DIP\\DIP-dataset\\PCB_DATASET\\binary_images\\12_short_02.jpg\n",
      "Saved binary image: D:\\BML Munjal\\3rd Year\\Sem 5\\DIP\\DIP-dataset\\PCB_DATASET\\binary_images\\12_short_03.jpg\n",
      "Saved binary image: D:\\BML Munjal\\3rd Year\\Sem 5\\DIP\\DIP-dataset\\PCB_DATASET\\binary_images\\12_short_04.jpg\n",
      "Saved binary image: D:\\BML Munjal\\3rd Year\\Sem 5\\DIP\\DIP-dataset\\PCB_DATASET\\binary_images\\12_short_05.jpg\n",
      "Saved binary image: D:\\BML Munjal\\3rd Year\\Sem 5\\DIP\\DIP-dataset\\PCB_DATASET\\binary_images\\12_short_06.jpg\n",
      "Saved binary image: D:\\BML Munjal\\3rd Year\\Sem 5\\DIP\\DIP-dataset\\PCB_DATASET\\binary_images\\12_short_07.jpg\n",
      "Saved binary image: D:\\BML Munjal\\3rd Year\\Sem 5\\DIP\\DIP-dataset\\PCB_DATASET\\binary_images\\12_short_08.jpg\n",
      "Saved binary image: D:\\BML Munjal\\3rd Year\\Sem 5\\DIP\\DIP-dataset\\PCB_DATASET\\binary_images\\12_short_09.jpg\n",
      "Saved binary image: D:\\BML Munjal\\3rd Year\\Sem 5\\DIP\\DIP-dataset\\PCB_DATASET\\binary_images\\12_short_10.jpg\n",
      "Saved binary image: D:\\BML Munjal\\3rd Year\\Sem 5\\DIP\\DIP-dataset\\PCB_DATASET\\binary_images\\12_spurious_copper_01.jpg\n",
      "Saved binary image: D:\\BML Munjal\\3rd Year\\Sem 5\\DIP\\DIP-dataset\\PCB_DATASET\\binary_images\\12_spurious_copper_02.jpg\n",
      "Saved binary image: D:\\BML Munjal\\3rd Year\\Sem 5\\DIP\\DIP-dataset\\PCB_DATASET\\binary_images\\12_spurious_copper_03.jpg\n",
      "Saved binary image: D:\\BML Munjal\\3rd Year\\Sem 5\\DIP\\DIP-dataset\\PCB_DATASET\\binary_images\\12_spurious_copper_04.jpg\n",
      "Saved binary image: D:\\BML Munjal\\3rd Year\\Sem 5\\DIP\\DIP-dataset\\PCB_DATASET\\binary_images\\12_spurious_copper_05.jpg\n",
      "Saved binary image: D:\\BML Munjal\\3rd Year\\Sem 5\\DIP\\DIP-dataset\\PCB_DATASET\\binary_images\\12_spurious_copper_06.jpg\n",
      "Saved binary image: D:\\BML Munjal\\3rd Year\\Sem 5\\DIP\\DIP-dataset\\PCB_DATASET\\binary_images\\12_spurious_copper_07.jpg\n",
      "Saved binary image: D:\\BML Munjal\\3rd Year\\Sem 5\\DIP\\DIP-dataset\\PCB_DATASET\\binary_images\\12_spurious_copper_08.jpg\n",
      "Saved binary image: D:\\BML Munjal\\3rd Year\\Sem 5\\DIP\\DIP-dataset\\PCB_DATASET\\binary_images\\12_spurious_copper_09.jpg\n",
      "Saved binary image: D:\\BML Munjal\\3rd Year\\Sem 5\\DIP\\DIP-dataset\\PCB_DATASET\\binary_images\\12_spurious_copper_10.jpg\n",
      "Saved binary image: D:\\BML Munjal\\3rd Year\\Sem 5\\DIP\\DIP-dataset\\PCB_DATASET\\binary_images\\12_spur_01.jpg\n",
      "Saved binary image: D:\\BML Munjal\\3rd Year\\Sem 5\\DIP\\DIP-dataset\\PCB_DATASET\\binary_images\\12_spur_02.jpg\n",
      "Saved binary image: D:\\BML Munjal\\3rd Year\\Sem 5\\DIP\\DIP-dataset\\PCB_DATASET\\binary_images\\12_spur_03.jpg\n",
      "Saved binary image: D:\\BML Munjal\\3rd Year\\Sem 5\\DIP\\DIP-dataset\\PCB_DATASET\\binary_images\\12_spur_04.jpg\n",
      "Saved binary image: D:\\BML Munjal\\3rd Year\\Sem 5\\DIP\\DIP-dataset\\PCB_DATASET\\binary_images\\12_spur_05.jpg\n",
      "Saved binary image: D:\\BML Munjal\\3rd Year\\Sem 5\\DIP\\DIP-dataset\\PCB_DATASET\\binary_images\\12_spur_06.jpg\n",
      "Saved binary image: D:\\BML Munjal\\3rd Year\\Sem 5\\DIP\\DIP-dataset\\PCB_DATASET\\binary_images\\12_spur_07.jpg\n",
      "Saved binary image: D:\\BML Munjal\\3rd Year\\Sem 5\\DIP\\DIP-dataset\\PCB_DATASET\\binary_images\\12_spur_08.jpg\n",
      "Saved binary image: D:\\BML Munjal\\3rd Year\\Sem 5\\DIP\\DIP-dataset\\PCB_DATASET\\binary_images\\12_spur_09.jpg\n",
      "Saved binary image: D:\\BML Munjal\\3rd Year\\Sem 5\\DIP\\DIP-dataset\\PCB_DATASET\\binary_images\\12_spur_10.jpg\n",
      "Conversion to binary completed.\n"
     ]
    }
   ],
   "source": [
    "# Directory containing all images categorized into types of defects\n",
    "images_dir = os.path.join(dataset_dir, 'grayscale_images')  # Input grayscale images directory\n",
    "\n",
    "# Directory to save binary images\n",
    "binary_img_dir = os.path.join(dataset_dir, 'binary_images')  # Output directory for binary images\n",
    "\n",
    "# Create the output directory if it doesn't exist\n",
    "os.makedirs(binary_img_dir, exist_ok=True)\n",
    "print(f\"Output directory '{binary_img_dir}' created or already exists.\")\n",
    "\n",
    "# Function to apply histogram equalization and convert to binary\n",
    "def process_image(image_path, threshold=128):\n",
    "    \"\"\"\n",
    "    Process an image by applying histogram equalization and binary thresholding.\n",
    "\n",
    "    Args:\n",
    "        image_path (str): Path to the input image.\n",
    "        threshold (int): Threshold value for binary conversion.\n",
    "\n",
    "    Returns:\n",
    "        numpy.ndarray or None: Processed binary image or None if image loading fails.\n",
    "    \"\"\"\n",
    "    # Read the grayscale image\n",
    "    grayscale_image = cv2.imread(image_path, cv2.IMREAD_GRAYSCALE)\n",
    "\n",
    "    # Check if the image was loaded successfully\n",
    "    if grayscale_image is None:\n",
    "        print(f\"Error loading image: {image_path}\")\n",
    "        return None\n",
    "\n",
    "    # Apply histogram equalization to enhance contrast\n",
    "    equalized_image = cv2.equalizeHist(grayscale_image)\n",
    "\n",
    "    # Apply binary thresholding\n",
    "    _, binary_image = cv2.threshold(equalized_image, threshold, 255, cv2.THRESH_BINARY)\n",
    "\n",
    "    return binary_image\n",
    "\n",
    "# Iterate through all files in the input directory\n",
    "for root, dirs, files in os.walk(images_dir):\n",
    "    for filename in files:\n",
    "        if filename.endswith('.jpg') or filename.endswith('.png'):  # Add other formats if necessary\n",
    "            image_path = os.path.join(root, filename)\n",
    "            binary_image = process_image(image_path)\n",
    "\n",
    "            # Save the binary image\n",
    "            if binary_image is not None:\n",
    "                # Create output path preserving the directory structure\n",
    "                output_image_path = os.path.join(binary_img_dir, os.path.relpath(image_path, images_dir))\n",
    "                # Create the necessary directories in the output path\n",
    "                os.makedirs(os.path.dirname(output_image_path), exist_ok=True)\n",
    "                cv2.imwrite(output_image_path, binary_image)\n",
    "                print(f\"Saved binary image: {output_image_path}\")\n",
    "\n",
    "print(\"Conversion to binary completed.\")\n"
   ]
  },
  {
   "cell_type": "markdown",
   "metadata": {},
   "source": [
    "# Splitting to Train, Test and Validate Datasets\n"
   ]
  },
  {
   "cell_type": "markdown",
   "metadata": {},
   "source": [
    "Creating YOLO labels"
   ]
  },
  {
   "cell_type": "code",
   "execution_count": null,
   "metadata": {},
   "outputs": [
    {
     "name": "stdout",
     "output_type": "stream",
     "text": [
      "Created YOLO label: D:\\BML Munjal\\3rd Year\\Sem 5\\DIP\\DIP-dataset\\PCB_DATASET\\yolo_labels\\01_missing_hole_01.txt\n",
      "Created YOLO label: D:\\BML Munjal\\3rd Year\\Sem 5\\DIP\\DIP-dataset\\PCB_DATASET\\yolo_labels\\01_missing_hole_02.txt\n",
      "Created YOLO label: D:\\BML Munjal\\3rd Year\\Sem 5\\DIP\\DIP-dataset\\PCB_DATASET\\yolo_labels\\01_missing_hole_03.txt\n",
      "Created YOLO label: D:\\BML Munjal\\3rd Year\\Sem 5\\DIP\\DIP-dataset\\PCB_DATASET\\yolo_labels\\01_missing_hole_04.txt\n",
      "Created YOLO label: D:\\BML Munjal\\3rd Year\\Sem 5\\DIP\\DIP-dataset\\PCB_DATASET\\yolo_labels\\01_missing_hole_05.txt\n",
      "Created YOLO label: D:\\BML Munjal\\3rd Year\\Sem 5\\DIP\\DIP-dataset\\PCB_DATASET\\yolo_labels\\01_missing_hole_06.txt\n",
      "Created YOLO label: D:\\BML Munjal\\3rd Year\\Sem 5\\DIP\\DIP-dataset\\PCB_DATASET\\yolo_labels\\01_missing_hole_07.txt\n",
      "Created YOLO label: D:\\BML Munjal\\3rd Year\\Sem 5\\DIP\\DIP-dataset\\PCB_DATASET\\yolo_labels\\01_missing_hole_08.txt\n",
      "Created YOLO label: D:\\BML Munjal\\3rd Year\\Sem 5\\DIP\\DIP-dataset\\PCB_DATASET\\yolo_labels\\01_missing_hole_09.txt\n",
      "Created YOLO label: D:\\BML Munjal\\3rd Year\\Sem 5\\DIP\\DIP-dataset\\PCB_DATASET\\yolo_labels\\01_missing_hole_10.txt\n",
      "Created YOLO label: D:\\BML Munjal\\3rd Year\\Sem 5\\DIP\\DIP-dataset\\PCB_DATASET\\yolo_labels\\01_missing_hole_11.txt\n",
      "Created YOLO label: D:\\BML Munjal\\3rd Year\\Sem 5\\DIP\\DIP-dataset\\PCB_DATASET\\yolo_labels\\01_missing_hole_12.txt\n",
      "Created YOLO label: D:\\BML Munjal\\3rd Year\\Sem 5\\DIP\\DIP-dataset\\PCB_DATASET\\yolo_labels\\01_missing_hole_13.txt\n",
      "Created YOLO label: D:\\BML Munjal\\3rd Year\\Sem 5\\DIP\\DIP-dataset\\PCB_DATASET\\yolo_labels\\01_missing_hole_14.txt\n",
      "Created YOLO label: D:\\BML Munjal\\3rd Year\\Sem 5\\DIP\\DIP-dataset\\PCB_DATASET\\yolo_labels\\01_missing_hole_15.txt\n",
      "Created YOLO label: D:\\BML Munjal\\3rd Year\\Sem 5\\DIP\\DIP-dataset\\PCB_DATASET\\yolo_labels\\01_missing_hole_16.txt\n",
      "Created YOLO label: D:\\BML Munjal\\3rd Year\\Sem 5\\DIP\\DIP-dataset\\PCB_DATASET\\yolo_labels\\01_missing_hole_17.txt\n",
      "Created YOLO label: D:\\BML Munjal\\3rd Year\\Sem 5\\DIP\\DIP-dataset\\PCB_DATASET\\yolo_labels\\01_missing_hole_18.txt\n",
      "Created YOLO label: D:\\BML Munjal\\3rd Year\\Sem 5\\DIP\\DIP-dataset\\PCB_DATASET\\yolo_labels\\01_missing_hole_19.txt\n",
      "Created YOLO label: D:\\BML Munjal\\3rd Year\\Sem 5\\DIP\\DIP-dataset\\PCB_DATASET\\yolo_labels\\01_missing_hole_20.txt\n",
      "Created YOLO label: D:\\BML Munjal\\3rd Year\\Sem 5\\DIP\\DIP-dataset\\PCB_DATASET\\yolo_labels\\01_mouse_bite_01.txt\n",
      "Created YOLO label: D:\\BML Munjal\\3rd Year\\Sem 5\\DIP\\DIP-dataset\\PCB_DATASET\\yolo_labels\\01_mouse_bite_02.txt\n",
      "Created YOLO label: D:\\BML Munjal\\3rd Year\\Sem 5\\DIP\\DIP-dataset\\PCB_DATASET\\yolo_labels\\01_mouse_bite_03.txt\n",
      "Created YOLO label: D:\\BML Munjal\\3rd Year\\Sem 5\\DIP\\DIP-dataset\\PCB_DATASET\\yolo_labels\\01_mouse_bite_04.txt\n",
      "Created YOLO label: D:\\BML Munjal\\3rd Year\\Sem 5\\DIP\\DIP-dataset\\PCB_DATASET\\yolo_labels\\01_mouse_bite_05.txt\n",
      "Created YOLO label: D:\\BML Munjal\\3rd Year\\Sem 5\\DIP\\DIP-dataset\\PCB_DATASET\\yolo_labels\\01_mouse_bite_06.txt\n",
      "Created YOLO label: D:\\BML Munjal\\3rd Year\\Sem 5\\DIP\\DIP-dataset\\PCB_DATASET\\yolo_labels\\01_mouse_bite_07.txt\n",
      "Created YOLO label: D:\\BML Munjal\\3rd Year\\Sem 5\\DIP\\DIP-dataset\\PCB_DATASET\\yolo_labels\\01_mouse_bite_08.txt\n",
      "Created YOLO label: D:\\BML Munjal\\3rd Year\\Sem 5\\DIP\\DIP-dataset\\PCB_DATASET\\yolo_labels\\01_mouse_bite_09.txt\n",
      "Created YOLO label: D:\\BML Munjal\\3rd Year\\Sem 5\\DIP\\DIP-dataset\\PCB_DATASET\\yolo_labels\\01_mouse_bite_10.txt\n",
      "Created YOLO label: D:\\BML Munjal\\3rd Year\\Sem 5\\DIP\\DIP-dataset\\PCB_DATASET\\yolo_labels\\01_mouse_bite_11.txt\n",
      "Created YOLO label: D:\\BML Munjal\\3rd Year\\Sem 5\\DIP\\DIP-dataset\\PCB_DATASET\\yolo_labels\\01_mouse_bite_12.txt\n",
      "Created YOLO label: D:\\BML Munjal\\3rd Year\\Sem 5\\DIP\\DIP-dataset\\PCB_DATASET\\yolo_labels\\01_mouse_bite_13.txt\n",
      "Created YOLO label: D:\\BML Munjal\\3rd Year\\Sem 5\\DIP\\DIP-dataset\\PCB_DATASET\\yolo_labels\\01_mouse_bite_14.txt\n",
      "Created YOLO label: D:\\BML Munjal\\3rd Year\\Sem 5\\DIP\\DIP-dataset\\PCB_DATASET\\yolo_labels\\01_mouse_bite_15.txt\n",
      "Created YOLO label: D:\\BML Munjal\\3rd Year\\Sem 5\\DIP\\DIP-dataset\\PCB_DATASET\\yolo_labels\\01_mouse_bite_16.txt\n",
      "Created YOLO label: D:\\BML Munjal\\3rd Year\\Sem 5\\DIP\\DIP-dataset\\PCB_DATASET\\yolo_labels\\01_mouse_bite_17.txt\n",
      "Created YOLO label: D:\\BML Munjal\\3rd Year\\Sem 5\\DIP\\DIP-dataset\\PCB_DATASET\\yolo_labels\\01_mouse_bite_18.txt\n",
      "Created YOLO label: D:\\BML Munjal\\3rd Year\\Sem 5\\DIP\\DIP-dataset\\PCB_DATASET\\yolo_labels\\01_mouse_bite_19.txt\n",
      "Created YOLO label: D:\\BML Munjal\\3rd Year\\Sem 5\\DIP\\DIP-dataset\\PCB_DATASET\\yolo_labels\\01_mouse_bite_20.txt\n",
      "Created YOLO label: D:\\BML Munjal\\3rd Year\\Sem 5\\DIP\\DIP-dataset\\PCB_DATASET\\yolo_labels\\01_open_circuit_01.txt\n",
      "Created YOLO label: D:\\BML Munjal\\3rd Year\\Sem 5\\DIP\\DIP-dataset\\PCB_DATASET\\yolo_labels\\01_open_circuit_02.txt\n",
      "Created YOLO label: D:\\BML Munjal\\3rd Year\\Sem 5\\DIP\\DIP-dataset\\PCB_DATASET\\yolo_labels\\01_open_circuit_03.txt\n",
      "Created YOLO label: D:\\BML Munjal\\3rd Year\\Sem 5\\DIP\\DIP-dataset\\PCB_DATASET\\yolo_labels\\01_open_circuit_04.txt\n",
      "Created YOLO label: D:\\BML Munjal\\3rd Year\\Sem 5\\DIP\\DIP-dataset\\PCB_DATASET\\yolo_labels\\01_open_circuit_05.txt\n",
      "Created YOLO label: D:\\BML Munjal\\3rd Year\\Sem 5\\DIP\\DIP-dataset\\PCB_DATASET\\yolo_labels\\01_open_circuit_06.txt\n",
      "Created YOLO label: D:\\BML Munjal\\3rd Year\\Sem 5\\DIP\\DIP-dataset\\PCB_DATASET\\yolo_labels\\01_open_circuit_07.txt\n",
      "Created YOLO label: D:\\BML Munjal\\3rd Year\\Sem 5\\DIP\\DIP-dataset\\PCB_DATASET\\yolo_labels\\01_open_circuit_08.txt\n",
      "Created YOLO label: D:\\BML Munjal\\3rd Year\\Sem 5\\DIP\\DIP-dataset\\PCB_DATASET\\yolo_labels\\01_open_circuit_09.txt\n",
      "Created YOLO label: D:\\BML Munjal\\3rd Year\\Sem 5\\DIP\\DIP-dataset\\PCB_DATASET\\yolo_labels\\01_open_circuit_10.txt\n",
      "Created YOLO label: D:\\BML Munjal\\3rd Year\\Sem 5\\DIP\\DIP-dataset\\PCB_DATASET\\yolo_labels\\01_open_circuit_11.txt\n",
      "Created YOLO label: D:\\BML Munjal\\3rd Year\\Sem 5\\DIP\\DIP-dataset\\PCB_DATASET\\yolo_labels\\01_open_circuit_12.txt\n",
      "Created YOLO label: D:\\BML Munjal\\3rd Year\\Sem 5\\DIP\\DIP-dataset\\PCB_DATASET\\yolo_labels\\01_open_circuit_13.txt\n",
      "Created YOLO label: D:\\BML Munjal\\3rd Year\\Sem 5\\DIP\\DIP-dataset\\PCB_DATASET\\yolo_labels\\01_open_circuit_14.txt\n",
      "Created YOLO label: D:\\BML Munjal\\3rd Year\\Sem 5\\DIP\\DIP-dataset\\PCB_DATASET\\yolo_labels\\01_open_circuit_15.txt\n",
      "Created YOLO label: D:\\BML Munjal\\3rd Year\\Sem 5\\DIP\\DIP-dataset\\PCB_DATASET\\yolo_labels\\01_open_circuit_16.txt\n",
      "Created YOLO label: D:\\BML Munjal\\3rd Year\\Sem 5\\DIP\\DIP-dataset\\PCB_DATASET\\yolo_labels\\01_open_circuit_17.txt\n",
      "Created YOLO label: D:\\BML Munjal\\3rd Year\\Sem 5\\DIP\\DIP-dataset\\PCB_DATASET\\yolo_labels\\01_open_circuit_18.txt\n",
      "Created YOLO label: D:\\BML Munjal\\3rd Year\\Sem 5\\DIP\\DIP-dataset\\PCB_DATASET\\yolo_labels\\01_open_circuit_19.txt\n",
      "Created YOLO label: D:\\BML Munjal\\3rd Year\\Sem 5\\DIP\\DIP-dataset\\PCB_DATASET\\yolo_labels\\01_open_circuit_20.txt\n",
      "Created YOLO label: D:\\BML Munjal\\3rd Year\\Sem 5\\DIP\\DIP-dataset\\PCB_DATASET\\yolo_labels\\01_short_01.txt\n",
      "Created YOLO label: D:\\BML Munjal\\3rd Year\\Sem 5\\DIP\\DIP-dataset\\PCB_DATASET\\yolo_labels\\01_short_02.txt\n",
      "Created YOLO label: D:\\BML Munjal\\3rd Year\\Sem 5\\DIP\\DIP-dataset\\PCB_DATASET\\yolo_labels\\01_short_03.txt\n",
      "Created YOLO label: D:\\BML Munjal\\3rd Year\\Sem 5\\DIP\\DIP-dataset\\PCB_DATASET\\yolo_labels\\01_short_04.txt\n",
      "Created YOLO label: D:\\BML Munjal\\3rd Year\\Sem 5\\DIP\\DIP-dataset\\PCB_DATASET\\yolo_labels\\01_short_05.txt\n",
      "Created YOLO label: D:\\BML Munjal\\3rd Year\\Sem 5\\DIP\\DIP-dataset\\PCB_DATASET\\yolo_labels\\01_short_06.txt\n",
      "Created YOLO label: D:\\BML Munjal\\3rd Year\\Sem 5\\DIP\\DIP-dataset\\PCB_DATASET\\yolo_labels\\01_short_07.txt\n",
      "Created YOLO label: D:\\BML Munjal\\3rd Year\\Sem 5\\DIP\\DIP-dataset\\PCB_DATASET\\yolo_labels\\01_short_08.txt\n",
      "Created YOLO label: D:\\BML Munjal\\3rd Year\\Sem 5\\DIP\\DIP-dataset\\PCB_DATASET\\yolo_labels\\01_short_09.txt\n",
      "Created YOLO label: D:\\BML Munjal\\3rd Year\\Sem 5\\DIP\\DIP-dataset\\PCB_DATASET\\yolo_labels\\01_short_10.txt\n",
      "Created YOLO label: D:\\BML Munjal\\3rd Year\\Sem 5\\DIP\\DIP-dataset\\PCB_DATASET\\yolo_labels\\01_short_11.txt\n",
      "Created YOLO label: D:\\BML Munjal\\3rd Year\\Sem 5\\DIP\\DIP-dataset\\PCB_DATASET\\yolo_labels\\01_short_12.txt\n",
      "Created YOLO label: D:\\BML Munjal\\3rd Year\\Sem 5\\DIP\\DIP-dataset\\PCB_DATASET\\yolo_labels\\01_short_13.txt\n",
      "Created YOLO label: D:\\BML Munjal\\3rd Year\\Sem 5\\DIP\\DIP-dataset\\PCB_DATASET\\yolo_labels\\01_short_14.txt\n",
      "Created YOLO label: D:\\BML Munjal\\3rd Year\\Sem 5\\DIP\\DIP-dataset\\PCB_DATASET\\yolo_labels\\01_short_15.txt\n",
      "Created YOLO label: D:\\BML Munjal\\3rd Year\\Sem 5\\DIP\\DIP-dataset\\PCB_DATASET\\yolo_labels\\01_short_16.txt\n",
      "Created YOLO label: D:\\BML Munjal\\3rd Year\\Sem 5\\DIP\\DIP-dataset\\PCB_DATASET\\yolo_labels\\01_short_17.txt\n",
      "Created YOLO label: D:\\BML Munjal\\3rd Year\\Sem 5\\DIP\\DIP-dataset\\PCB_DATASET\\yolo_labels\\01_short_18.txt\n",
      "Created YOLO label: D:\\BML Munjal\\3rd Year\\Sem 5\\DIP\\DIP-dataset\\PCB_DATASET\\yolo_labels\\01_short_19.txt\n",
      "Created YOLO label: D:\\BML Munjal\\3rd Year\\Sem 5\\DIP\\DIP-dataset\\PCB_DATASET\\yolo_labels\\01_short_20.txt\n",
      "Created YOLO label: D:\\BML Munjal\\3rd Year\\Sem 5\\DIP\\DIP-dataset\\PCB_DATASET\\yolo_labels\\01_spur_01.txt\n",
      "Created YOLO label: D:\\BML Munjal\\3rd Year\\Sem 5\\DIP\\DIP-dataset\\PCB_DATASET\\yolo_labels\\01_spur_02.txt\n",
      "Created YOLO label: D:\\BML Munjal\\3rd Year\\Sem 5\\DIP\\DIP-dataset\\PCB_DATASET\\yolo_labels\\01_spur_03.txt\n",
      "Created YOLO label: D:\\BML Munjal\\3rd Year\\Sem 5\\DIP\\DIP-dataset\\PCB_DATASET\\yolo_labels\\01_spur_04.txt\n",
      "Created YOLO label: D:\\BML Munjal\\3rd Year\\Sem 5\\DIP\\DIP-dataset\\PCB_DATASET\\yolo_labels\\01_spur_05.txt\n",
      "Created YOLO label: D:\\BML Munjal\\3rd Year\\Sem 5\\DIP\\DIP-dataset\\PCB_DATASET\\yolo_labels\\01_spur_06.txt\n",
      "Created YOLO label: D:\\BML Munjal\\3rd Year\\Sem 5\\DIP\\DIP-dataset\\PCB_DATASET\\yolo_labels\\01_spur_07.txt\n",
      "Created YOLO label: D:\\BML Munjal\\3rd Year\\Sem 5\\DIP\\DIP-dataset\\PCB_DATASET\\yolo_labels\\01_spur_08.txt\n",
      "Created YOLO label: D:\\BML Munjal\\3rd Year\\Sem 5\\DIP\\DIP-dataset\\PCB_DATASET\\yolo_labels\\01_spur_09.txt\n",
      "Created YOLO label: D:\\BML Munjal\\3rd Year\\Sem 5\\DIP\\DIP-dataset\\PCB_DATASET\\yolo_labels\\01_spur_10.txt\n",
      "Created YOLO label: D:\\BML Munjal\\3rd Year\\Sem 5\\DIP\\DIP-dataset\\PCB_DATASET\\yolo_labels\\01_spur_11.txt\n",
      "Created YOLO label: D:\\BML Munjal\\3rd Year\\Sem 5\\DIP\\DIP-dataset\\PCB_DATASET\\yolo_labels\\01_spur_12.txt\n",
      "Created YOLO label: D:\\BML Munjal\\3rd Year\\Sem 5\\DIP\\DIP-dataset\\PCB_DATASET\\yolo_labels\\01_spur_13.txt\n",
      "Created YOLO label: D:\\BML Munjal\\3rd Year\\Sem 5\\DIP\\DIP-dataset\\PCB_DATASET\\yolo_labels\\01_spur_14.txt\n",
      "Created YOLO label: D:\\BML Munjal\\3rd Year\\Sem 5\\DIP\\DIP-dataset\\PCB_DATASET\\yolo_labels\\01_spur_15.txt\n",
      "Created YOLO label: D:\\BML Munjal\\3rd Year\\Sem 5\\DIP\\DIP-dataset\\PCB_DATASET\\yolo_labels\\01_spur_16.txt\n",
      "Created YOLO label: D:\\BML Munjal\\3rd Year\\Sem 5\\DIP\\DIP-dataset\\PCB_DATASET\\yolo_labels\\01_spur_17.txt\n",
      "Created YOLO label: D:\\BML Munjal\\3rd Year\\Sem 5\\DIP\\DIP-dataset\\PCB_DATASET\\yolo_labels\\01_spur_18.txt\n",
      "Created YOLO label: D:\\BML Munjal\\3rd Year\\Sem 5\\DIP\\DIP-dataset\\PCB_DATASET\\yolo_labels\\01_spur_19.txt\n",
      "Created YOLO label: D:\\BML Munjal\\3rd Year\\Sem 5\\DIP\\DIP-dataset\\PCB_DATASET\\yolo_labels\\01_spur_20.txt\n",
      "Created YOLO label: D:\\BML Munjal\\3rd Year\\Sem 5\\DIP\\DIP-dataset\\PCB_DATASET\\yolo_labels\\01_spurious_copper_01.txt\n",
      "Created YOLO label: D:\\BML Munjal\\3rd Year\\Sem 5\\DIP\\DIP-dataset\\PCB_DATASET\\yolo_labels\\01_spurious_copper_02.txt\n",
      "Created YOLO label: D:\\BML Munjal\\3rd Year\\Sem 5\\DIP\\DIP-dataset\\PCB_DATASET\\yolo_labels\\01_spurious_copper_03.txt\n",
      "Created YOLO label: D:\\BML Munjal\\3rd Year\\Sem 5\\DIP\\DIP-dataset\\PCB_DATASET\\yolo_labels\\01_spurious_copper_04.txt\n",
      "Created YOLO label: D:\\BML Munjal\\3rd Year\\Sem 5\\DIP\\DIP-dataset\\PCB_DATASET\\yolo_labels\\01_spurious_copper_05.txt\n",
      "Created YOLO label: D:\\BML Munjal\\3rd Year\\Sem 5\\DIP\\DIP-dataset\\PCB_DATASET\\yolo_labels\\01_spurious_copper_06.txt\n",
      "Created YOLO label: D:\\BML Munjal\\3rd Year\\Sem 5\\DIP\\DIP-dataset\\PCB_DATASET\\yolo_labels\\01_spurious_copper_07.txt\n",
      "Created YOLO label: D:\\BML Munjal\\3rd Year\\Sem 5\\DIP\\DIP-dataset\\PCB_DATASET\\yolo_labels\\01_spurious_copper_08.txt\n",
      "Created YOLO label: D:\\BML Munjal\\3rd Year\\Sem 5\\DIP\\DIP-dataset\\PCB_DATASET\\yolo_labels\\01_spurious_copper_09.txt\n",
      "Created YOLO label: D:\\BML Munjal\\3rd Year\\Sem 5\\DIP\\DIP-dataset\\PCB_DATASET\\yolo_labels\\01_spurious_copper_10.txt\n",
      "Created YOLO label: D:\\BML Munjal\\3rd Year\\Sem 5\\DIP\\DIP-dataset\\PCB_DATASET\\yolo_labels\\01_spurious_copper_11.txt\n",
      "Created YOLO label: D:\\BML Munjal\\3rd Year\\Sem 5\\DIP\\DIP-dataset\\PCB_DATASET\\yolo_labels\\01_spurious_copper_12.txt\n",
      "Created YOLO label: D:\\BML Munjal\\3rd Year\\Sem 5\\DIP\\DIP-dataset\\PCB_DATASET\\yolo_labels\\01_spurious_copper_13.txt\n",
      "Created YOLO label: D:\\BML Munjal\\3rd Year\\Sem 5\\DIP\\DIP-dataset\\PCB_DATASET\\yolo_labels\\01_spurious_copper_14.txt\n",
      "Created YOLO label: D:\\BML Munjal\\3rd Year\\Sem 5\\DIP\\DIP-dataset\\PCB_DATASET\\yolo_labels\\01_spurious_copper_15.txt\n",
      "Created YOLO label: D:\\BML Munjal\\3rd Year\\Sem 5\\DIP\\DIP-dataset\\PCB_DATASET\\yolo_labels\\01_spurious_copper_16.txt\n",
      "Created YOLO label: D:\\BML Munjal\\3rd Year\\Sem 5\\DIP\\DIP-dataset\\PCB_DATASET\\yolo_labels\\01_spurious_copper_17.txt\n",
      "Created YOLO label: D:\\BML Munjal\\3rd Year\\Sem 5\\DIP\\DIP-dataset\\PCB_DATASET\\yolo_labels\\01_spurious_copper_18.txt\n",
      "Created YOLO label: D:\\BML Munjal\\3rd Year\\Sem 5\\DIP\\DIP-dataset\\PCB_DATASET\\yolo_labels\\01_spurious_copper_19.txt\n",
      "Created YOLO label: D:\\BML Munjal\\3rd Year\\Sem 5\\DIP\\DIP-dataset\\PCB_DATASET\\yolo_labels\\01_spurious_copper_20.txt\n",
      "Created YOLO label: D:\\BML Munjal\\3rd Year\\Sem 5\\DIP\\DIP-dataset\\PCB_DATASET\\yolo_labels\\04_missing_hole_01.txt\n",
      "Created YOLO label: D:\\BML Munjal\\3rd Year\\Sem 5\\DIP\\DIP-dataset\\PCB_DATASET\\yolo_labels\\04_missing_hole_02.txt\n",
      "Created YOLO label: D:\\BML Munjal\\3rd Year\\Sem 5\\DIP\\DIP-dataset\\PCB_DATASET\\yolo_labels\\04_missing_hole_03.txt\n",
      "Created YOLO label: D:\\BML Munjal\\3rd Year\\Sem 5\\DIP\\DIP-dataset\\PCB_DATASET\\yolo_labels\\04_missing_hole_04.txt\n",
      "Created YOLO label: D:\\BML Munjal\\3rd Year\\Sem 5\\DIP\\DIP-dataset\\PCB_DATASET\\yolo_labels\\04_missing_hole_05.txt\n",
      "Created YOLO label: D:\\BML Munjal\\3rd Year\\Sem 5\\DIP\\DIP-dataset\\PCB_DATASET\\yolo_labels\\04_missing_hole_06.txt\n",
      "Created YOLO label: D:\\BML Munjal\\3rd Year\\Sem 5\\DIP\\DIP-dataset\\PCB_DATASET\\yolo_labels\\04_missing_hole_07.txt\n",
      "Created YOLO label: D:\\BML Munjal\\3rd Year\\Sem 5\\DIP\\DIP-dataset\\PCB_DATASET\\yolo_labels\\04_missing_hole_08.txt\n",
      "Created YOLO label: D:\\BML Munjal\\3rd Year\\Sem 5\\DIP\\DIP-dataset\\PCB_DATASET\\yolo_labels\\04_missing_hole_09.txt\n",
      "Created YOLO label: D:\\BML Munjal\\3rd Year\\Sem 5\\DIP\\DIP-dataset\\PCB_DATASET\\yolo_labels\\04_missing_hole_10.txt\n",
      "Created YOLO label: D:\\BML Munjal\\3rd Year\\Sem 5\\DIP\\DIP-dataset\\PCB_DATASET\\yolo_labels\\04_missing_hole_11.txt\n",
      "Created YOLO label: D:\\BML Munjal\\3rd Year\\Sem 5\\DIP\\DIP-dataset\\PCB_DATASET\\yolo_labels\\04_missing_hole_12.txt\n",
      "Created YOLO label: D:\\BML Munjal\\3rd Year\\Sem 5\\DIP\\DIP-dataset\\PCB_DATASET\\yolo_labels\\04_missing_hole_13.txt\n",
      "Created YOLO label: D:\\BML Munjal\\3rd Year\\Sem 5\\DIP\\DIP-dataset\\PCB_DATASET\\yolo_labels\\04_missing_hole_14.txt\n",
      "Created YOLO label: D:\\BML Munjal\\3rd Year\\Sem 5\\DIP\\DIP-dataset\\PCB_DATASET\\yolo_labels\\04_missing_hole_15.txt\n",
      "Created YOLO label: D:\\BML Munjal\\3rd Year\\Sem 5\\DIP\\DIP-dataset\\PCB_DATASET\\yolo_labels\\04_missing_hole_16.txt\n",
      "Created YOLO label: D:\\BML Munjal\\3rd Year\\Sem 5\\DIP\\DIP-dataset\\PCB_DATASET\\yolo_labels\\04_missing_hole_17.txt\n",
      "Created YOLO label: D:\\BML Munjal\\3rd Year\\Sem 5\\DIP\\DIP-dataset\\PCB_DATASET\\yolo_labels\\04_missing_hole_18.txt\n",
      "Created YOLO label: D:\\BML Munjal\\3rd Year\\Sem 5\\DIP\\DIP-dataset\\PCB_DATASET\\yolo_labels\\04_missing_hole_19.txt\n",
      "Created YOLO label: D:\\BML Munjal\\3rd Year\\Sem 5\\DIP\\DIP-dataset\\PCB_DATASET\\yolo_labels\\04_missing_hole_20.txt\n",
      "Created YOLO label: D:\\BML Munjal\\3rd Year\\Sem 5\\DIP\\DIP-dataset\\PCB_DATASET\\yolo_labels\\04_mouse_bite_01.txt\n",
      "Created YOLO label: D:\\BML Munjal\\3rd Year\\Sem 5\\DIP\\DIP-dataset\\PCB_DATASET\\yolo_labels\\04_mouse_bite_02.txt\n",
      "Created YOLO label: D:\\BML Munjal\\3rd Year\\Sem 5\\DIP\\DIP-dataset\\PCB_DATASET\\yolo_labels\\04_mouse_bite_03.txt\n",
      "Created YOLO label: D:\\BML Munjal\\3rd Year\\Sem 5\\DIP\\DIP-dataset\\PCB_DATASET\\yolo_labels\\04_mouse_bite_04.txt\n",
      "Created YOLO label: D:\\BML Munjal\\3rd Year\\Sem 5\\DIP\\DIP-dataset\\PCB_DATASET\\yolo_labels\\04_mouse_bite_05.txt\n",
      "Created YOLO label: D:\\BML Munjal\\3rd Year\\Sem 5\\DIP\\DIP-dataset\\PCB_DATASET\\yolo_labels\\04_mouse_bite_06.txt\n",
      "Created YOLO label: D:\\BML Munjal\\3rd Year\\Sem 5\\DIP\\DIP-dataset\\PCB_DATASET\\yolo_labels\\04_mouse_bite_07.txt\n",
      "Created YOLO label: D:\\BML Munjal\\3rd Year\\Sem 5\\DIP\\DIP-dataset\\PCB_DATASET\\yolo_labels\\04_mouse_bite_08.txt\n",
      "Created YOLO label: D:\\BML Munjal\\3rd Year\\Sem 5\\DIP\\DIP-dataset\\PCB_DATASET\\yolo_labels\\04_mouse_bite_09.txt\n",
      "Created YOLO label: D:\\BML Munjal\\3rd Year\\Sem 5\\DIP\\DIP-dataset\\PCB_DATASET\\yolo_labels\\04_mouse_bite_10.txt\n",
      "Created YOLO label: D:\\BML Munjal\\3rd Year\\Sem 5\\DIP\\DIP-dataset\\PCB_DATASET\\yolo_labels\\04_mouse_bite_11.txt\n",
      "Created YOLO label: D:\\BML Munjal\\3rd Year\\Sem 5\\DIP\\DIP-dataset\\PCB_DATASET\\yolo_labels\\04_mouse_bite_12.txt\n",
      "Created YOLO label: D:\\BML Munjal\\3rd Year\\Sem 5\\DIP\\DIP-dataset\\PCB_DATASET\\yolo_labels\\04_mouse_bite_13.txt\n",
      "Created YOLO label: D:\\BML Munjal\\3rd Year\\Sem 5\\DIP\\DIP-dataset\\PCB_DATASET\\yolo_labels\\04_mouse_bite_14.txt\n",
      "Created YOLO label: D:\\BML Munjal\\3rd Year\\Sem 5\\DIP\\DIP-dataset\\PCB_DATASET\\yolo_labels\\04_mouse_bite_15.txt\n",
      "Created YOLO label: D:\\BML Munjal\\3rd Year\\Sem 5\\DIP\\DIP-dataset\\PCB_DATASET\\yolo_labels\\04_mouse_bite_16.txt\n",
      "Created YOLO label: D:\\BML Munjal\\3rd Year\\Sem 5\\DIP\\DIP-dataset\\PCB_DATASET\\yolo_labels\\04_mouse_bite_17.txt\n",
      "Created YOLO label: D:\\BML Munjal\\3rd Year\\Sem 5\\DIP\\DIP-dataset\\PCB_DATASET\\yolo_labels\\04_mouse_bite_18.txt\n",
      "Created YOLO label: D:\\BML Munjal\\3rd Year\\Sem 5\\DIP\\DIP-dataset\\PCB_DATASET\\yolo_labels\\04_mouse_bite_19.txt\n",
      "Created YOLO label: D:\\BML Munjal\\3rd Year\\Sem 5\\DIP\\DIP-dataset\\PCB_DATASET\\yolo_labels\\04_mouse_bite_20.txt\n",
      "Created YOLO label: D:\\BML Munjal\\3rd Year\\Sem 5\\DIP\\DIP-dataset\\PCB_DATASET\\yolo_labels\\04_open_circuit_01.txt\n",
      "Created YOLO label: D:\\BML Munjal\\3rd Year\\Sem 5\\DIP\\DIP-dataset\\PCB_DATASET\\yolo_labels\\04_open_circuit_02.txt\n",
      "Created YOLO label: D:\\BML Munjal\\3rd Year\\Sem 5\\DIP\\DIP-dataset\\PCB_DATASET\\yolo_labels\\04_open_circuit_03.txt\n",
      "Created YOLO label: D:\\BML Munjal\\3rd Year\\Sem 5\\DIP\\DIP-dataset\\PCB_DATASET\\yolo_labels\\04_open_circuit_04.txt\n",
      "Created YOLO label: D:\\BML Munjal\\3rd Year\\Sem 5\\DIP\\DIP-dataset\\PCB_DATASET\\yolo_labels\\04_open_circuit_05.txt\n",
      "Created YOLO label: D:\\BML Munjal\\3rd Year\\Sem 5\\DIP\\DIP-dataset\\PCB_DATASET\\yolo_labels\\04_open_circuit_06.txt\n",
      "Created YOLO label: D:\\BML Munjal\\3rd Year\\Sem 5\\DIP\\DIP-dataset\\PCB_DATASET\\yolo_labels\\04_open_circuit_07.txt\n",
      "Created YOLO label: D:\\BML Munjal\\3rd Year\\Sem 5\\DIP\\DIP-dataset\\PCB_DATASET\\yolo_labels\\04_open_circuit_08.txt\n",
      "Created YOLO label: D:\\BML Munjal\\3rd Year\\Sem 5\\DIP\\DIP-dataset\\PCB_DATASET\\yolo_labels\\04_open_circuit_09.txt\n",
      "Created YOLO label: D:\\BML Munjal\\3rd Year\\Sem 5\\DIP\\DIP-dataset\\PCB_DATASET\\yolo_labels\\04_open_circuit_10.txt\n",
      "Created YOLO label: D:\\BML Munjal\\3rd Year\\Sem 5\\DIP\\DIP-dataset\\PCB_DATASET\\yolo_labels\\04_open_circuit_11.txt\n",
      "Created YOLO label: D:\\BML Munjal\\3rd Year\\Sem 5\\DIP\\DIP-dataset\\PCB_DATASET\\yolo_labels\\04_open_circuit_12.txt\n",
      "Created YOLO label: D:\\BML Munjal\\3rd Year\\Sem 5\\DIP\\DIP-dataset\\PCB_DATASET\\yolo_labels\\04_open_circuit_13.txt\n",
      "Created YOLO label: D:\\BML Munjal\\3rd Year\\Sem 5\\DIP\\DIP-dataset\\PCB_DATASET\\yolo_labels\\04_open_circuit_14.txt\n",
      "Created YOLO label: D:\\BML Munjal\\3rd Year\\Sem 5\\DIP\\DIP-dataset\\PCB_DATASET\\yolo_labels\\04_open_circuit_15.txt\n",
      "Created YOLO label: D:\\BML Munjal\\3rd Year\\Sem 5\\DIP\\DIP-dataset\\PCB_DATASET\\yolo_labels\\04_open_circuit_16.txt\n",
      "Created YOLO label: D:\\BML Munjal\\3rd Year\\Sem 5\\DIP\\DIP-dataset\\PCB_DATASET\\yolo_labels\\04_open_circuit_17.txt\n",
      "Created YOLO label: D:\\BML Munjal\\3rd Year\\Sem 5\\DIP\\DIP-dataset\\PCB_DATASET\\yolo_labels\\04_open_circuit_18.txt\n",
      "Created YOLO label: D:\\BML Munjal\\3rd Year\\Sem 5\\DIP\\DIP-dataset\\PCB_DATASET\\yolo_labels\\04_open_circuit_19.txt\n",
      "Created YOLO label: D:\\BML Munjal\\3rd Year\\Sem 5\\DIP\\DIP-dataset\\PCB_DATASET\\yolo_labels\\04_open_circuit_20.txt\n",
      "Created YOLO label: D:\\BML Munjal\\3rd Year\\Sem 5\\DIP\\DIP-dataset\\PCB_DATASET\\yolo_labels\\04_short_01.txt\n",
      "Created YOLO label: D:\\BML Munjal\\3rd Year\\Sem 5\\DIP\\DIP-dataset\\PCB_DATASET\\yolo_labels\\04_short_02.txt\n",
      "Created YOLO label: D:\\BML Munjal\\3rd Year\\Sem 5\\DIP\\DIP-dataset\\PCB_DATASET\\yolo_labels\\04_short_03.txt\n",
      "Created YOLO label: D:\\BML Munjal\\3rd Year\\Sem 5\\DIP\\DIP-dataset\\PCB_DATASET\\yolo_labels\\04_short_04.txt\n",
      "Created YOLO label: D:\\BML Munjal\\3rd Year\\Sem 5\\DIP\\DIP-dataset\\PCB_DATASET\\yolo_labels\\04_short_05.txt\n",
      "Created YOLO label: D:\\BML Munjal\\3rd Year\\Sem 5\\DIP\\DIP-dataset\\PCB_DATASET\\yolo_labels\\04_short_06.txt\n",
      "Created YOLO label: D:\\BML Munjal\\3rd Year\\Sem 5\\DIP\\DIP-dataset\\PCB_DATASET\\yolo_labels\\04_short_07.txt\n",
      "Created YOLO label: D:\\BML Munjal\\3rd Year\\Sem 5\\DIP\\DIP-dataset\\PCB_DATASET\\yolo_labels\\04_short_08.txt\n",
      "Created YOLO label: D:\\BML Munjal\\3rd Year\\Sem 5\\DIP\\DIP-dataset\\PCB_DATASET\\yolo_labels\\04_short_09.txt\n",
      "Created YOLO label: D:\\BML Munjal\\3rd Year\\Sem 5\\DIP\\DIP-dataset\\PCB_DATASET\\yolo_labels\\04_short_10.txt\n",
      "Created YOLO label: D:\\BML Munjal\\3rd Year\\Sem 5\\DIP\\DIP-dataset\\PCB_DATASET\\yolo_labels\\04_short_11.txt\n",
      "Created YOLO label: D:\\BML Munjal\\3rd Year\\Sem 5\\DIP\\DIP-dataset\\PCB_DATASET\\yolo_labels\\04_short_12.txt\n",
      "Created YOLO label: D:\\BML Munjal\\3rd Year\\Sem 5\\DIP\\DIP-dataset\\PCB_DATASET\\yolo_labels\\04_short_13.txt\n",
      "Created YOLO label: D:\\BML Munjal\\3rd Year\\Sem 5\\DIP\\DIP-dataset\\PCB_DATASET\\yolo_labels\\04_short_14.txt\n",
      "Created YOLO label: D:\\BML Munjal\\3rd Year\\Sem 5\\DIP\\DIP-dataset\\PCB_DATASET\\yolo_labels\\04_short_15.txt\n",
      "Created YOLO label: D:\\BML Munjal\\3rd Year\\Sem 5\\DIP\\DIP-dataset\\PCB_DATASET\\yolo_labels\\04_short_16.txt\n",
      "Created YOLO label: D:\\BML Munjal\\3rd Year\\Sem 5\\DIP\\DIP-dataset\\PCB_DATASET\\yolo_labels\\04_short_17.txt\n",
      "Created YOLO label: D:\\BML Munjal\\3rd Year\\Sem 5\\DIP\\DIP-dataset\\PCB_DATASET\\yolo_labels\\04_short_18.txt\n",
      "Created YOLO label: D:\\BML Munjal\\3rd Year\\Sem 5\\DIP\\DIP-dataset\\PCB_DATASET\\yolo_labels\\04_short_19.txt\n",
      "Created YOLO label: D:\\BML Munjal\\3rd Year\\Sem 5\\DIP\\DIP-dataset\\PCB_DATASET\\yolo_labels\\04_short_20.txt\n",
      "Created YOLO label: D:\\BML Munjal\\3rd Year\\Sem 5\\DIP\\DIP-dataset\\PCB_DATASET\\yolo_labels\\04_spur_01.txt\n",
      "Created YOLO label: D:\\BML Munjal\\3rd Year\\Sem 5\\DIP\\DIP-dataset\\PCB_DATASET\\yolo_labels\\04_spur_02.txt\n",
      "Created YOLO label: D:\\BML Munjal\\3rd Year\\Sem 5\\DIP\\DIP-dataset\\PCB_DATASET\\yolo_labels\\04_spur_03.txt\n",
      "Created YOLO label: D:\\BML Munjal\\3rd Year\\Sem 5\\DIP\\DIP-dataset\\PCB_DATASET\\yolo_labels\\04_spur_04.txt\n",
      "Created YOLO label: D:\\BML Munjal\\3rd Year\\Sem 5\\DIP\\DIP-dataset\\PCB_DATASET\\yolo_labels\\04_spur_05.txt\n",
      "Created YOLO label: D:\\BML Munjal\\3rd Year\\Sem 5\\DIP\\DIP-dataset\\PCB_DATASET\\yolo_labels\\04_spur_06.txt\n",
      "Created YOLO label: D:\\BML Munjal\\3rd Year\\Sem 5\\DIP\\DIP-dataset\\PCB_DATASET\\yolo_labels\\04_spur_07.txt\n",
      "Created YOLO label: D:\\BML Munjal\\3rd Year\\Sem 5\\DIP\\DIP-dataset\\PCB_DATASET\\yolo_labels\\04_spur_08.txt\n",
      "Created YOLO label: D:\\BML Munjal\\3rd Year\\Sem 5\\DIP\\DIP-dataset\\PCB_DATASET\\yolo_labels\\04_spur_09.txt\n",
      "Created YOLO label: D:\\BML Munjal\\3rd Year\\Sem 5\\DIP\\DIP-dataset\\PCB_DATASET\\yolo_labels\\04_spur_10.txt\n",
      "Created YOLO label: D:\\BML Munjal\\3rd Year\\Sem 5\\DIP\\DIP-dataset\\PCB_DATASET\\yolo_labels\\04_spur_11.txt\n",
      "Created YOLO label: D:\\BML Munjal\\3rd Year\\Sem 5\\DIP\\DIP-dataset\\PCB_DATASET\\yolo_labels\\04_spur_12.txt\n",
      "Created YOLO label: D:\\BML Munjal\\3rd Year\\Sem 5\\DIP\\DIP-dataset\\PCB_DATASET\\yolo_labels\\04_spur_13.txt\n",
      "Created YOLO label: D:\\BML Munjal\\3rd Year\\Sem 5\\DIP\\DIP-dataset\\PCB_DATASET\\yolo_labels\\04_spur_14.txt\n",
      "Created YOLO label: D:\\BML Munjal\\3rd Year\\Sem 5\\DIP\\DIP-dataset\\PCB_DATASET\\yolo_labels\\04_spur_15.txt\n",
      "Created YOLO label: D:\\BML Munjal\\3rd Year\\Sem 5\\DIP\\DIP-dataset\\PCB_DATASET\\yolo_labels\\04_spur_16.txt\n",
      "Created YOLO label: D:\\BML Munjal\\3rd Year\\Sem 5\\DIP\\DIP-dataset\\PCB_DATASET\\yolo_labels\\04_spur_17.txt\n",
      "Created YOLO label: D:\\BML Munjal\\3rd Year\\Sem 5\\DIP\\DIP-dataset\\PCB_DATASET\\yolo_labels\\04_spur_18.txt\n",
      "Created YOLO label: D:\\BML Munjal\\3rd Year\\Sem 5\\DIP\\DIP-dataset\\PCB_DATASET\\yolo_labels\\04_spur_19.txt\n",
      "Created YOLO label: D:\\BML Munjal\\3rd Year\\Sem 5\\DIP\\DIP-dataset\\PCB_DATASET\\yolo_labels\\04_spur_20.txt\n",
      "Created YOLO label: D:\\BML Munjal\\3rd Year\\Sem 5\\DIP\\DIP-dataset\\PCB_DATASET\\yolo_labels\\04_spurious_copper_01.txt\n",
      "Created YOLO label: D:\\BML Munjal\\3rd Year\\Sem 5\\DIP\\DIP-dataset\\PCB_DATASET\\yolo_labels\\04_spurious_copper_02.txt\n",
      "Created YOLO label: D:\\BML Munjal\\3rd Year\\Sem 5\\DIP\\DIP-dataset\\PCB_DATASET\\yolo_labels\\04_spurious_copper_03.txt\n",
      "Created YOLO label: D:\\BML Munjal\\3rd Year\\Sem 5\\DIP\\DIP-dataset\\PCB_DATASET\\yolo_labels\\04_spurious_copper_04.txt\n",
      "Created YOLO label: D:\\BML Munjal\\3rd Year\\Sem 5\\DIP\\DIP-dataset\\PCB_DATASET\\yolo_labels\\04_spurious_copper_05.txt\n",
      "Created YOLO label: D:\\BML Munjal\\3rd Year\\Sem 5\\DIP\\DIP-dataset\\PCB_DATASET\\yolo_labels\\04_spurious_copper_06.txt\n",
      "Created YOLO label: D:\\BML Munjal\\3rd Year\\Sem 5\\DIP\\DIP-dataset\\PCB_DATASET\\yolo_labels\\04_spurious_copper_07.txt\n",
      "Created YOLO label: D:\\BML Munjal\\3rd Year\\Sem 5\\DIP\\DIP-dataset\\PCB_DATASET\\yolo_labels\\04_spurious_copper_08.txt\n",
      "Created YOLO label: D:\\BML Munjal\\3rd Year\\Sem 5\\DIP\\DIP-dataset\\PCB_DATASET\\yolo_labels\\04_spurious_copper_09.txt\n",
      "Created YOLO label: D:\\BML Munjal\\3rd Year\\Sem 5\\DIP\\DIP-dataset\\PCB_DATASET\\yolo_labels\\04_spurious_copper_10.txt\n",
      "Created YOLO label: D:\\BML Munjal\\3rd Year\\Sem 5\\DIP\\DIP-dataset\\PCB_DATASET\\yolo_labels\\04_spurious_copper_11.txt\n",
      "Created YOLO label: D:\\BML Munjal\\3rd Year\\Sem 5\\DIP\\DIP-dataset\\PCB_DATASET\\yolo_labels\\04_spurious_copper_12.txt\n",
      "Created YOLO label: D:\\BML Munjal\\3rd Year\\Sem 5\\DIP\\DIP-dataset\\PCB_DATASET\\yolo_labels\\04_spurious_copper_13.txt\n",
      "Created YOLO label: D:\\BML Munjal\\3rd Year\\Sem 5\\DIP\\DIP-dataset\\PCB_DATASET\\yolo_labels\\04_spurious_copper_14.txt\n",
      "Created YOLO label: D:\\BML Munjal\\3rd Year\\Sem 5\\DIP\\DIP-dataset\\PCB_DATASET\\yolo_labels\\04_spurious_copper_15.txt\n",
      "Created YOLO label: D:\\BML Munjal\\3rd Year\\Sem 5\\DIP\\DIP-dataset\\PCB_DATASET\\yolo_labels\\04_spurious_copper_16.txt\n",
      "Created YOLO label: D:\\BML Munjal\\3rd Year\\Sem 5\\DIP\\DIP-dataset\\PCB_DATASET\\yolo_labels\\04_spurious_copper_17.txt\n",
      "Created YOLO label: D:\\BML Munjal\\3rd Year\\Sem 5\\DIP\\DIP-dataset\\PCB_DATASET\\yolo_labels\\04_spurious_copper_18.txt\n",
      "Created YOLO label: D:\\BML Munjal\\3rd Year\\Sem 5\\DIP\\DIP-dataset\\PCB_DATASET\\yolo_labels\\04_spurious_copper_19.txt\n",
      "Created YOLO label: D:\\BML Munjal\\3rd Year\\Sem 5\\DIP\\DIP-dataset\\PCB_DATASET\\yolo_labels\\04_spurious_copper_20.txt\n",
      "Created YOLO label: D:\\BML Munjal\\3rd Year\\Sem 5\\DIP\\DIP-dataset\\PCB_DATASET\\yolo_labels\\05_missing_hole_01.txt\n",
      "Created YOLO label: D:\\BML Munjal\\3rd Year\\Sem 5\\DIP\\DIP-dataset\\PCB_DATASET\\yolo_labels\\05_missing_hole_02.txt\n",
      "Created YOLO label: D:\\BML Munjal\\3rd Year\\Sem 5\\DIP\\DIP-dataset\\PCB_DATASET\\yolo_labels\\05_missing_hole_03.txt\n",
      "Created YOLO label: D:\\BML Munjal\\3rd Year\\Sem 5\\DIP\\DIP-dataset\\PCB_DATASET\\yolo_labels\\05_missing_hole_04.txt\n",
      "Created YOLO label: D:\\BML Munjal\\3rd Year\\Sem 5\\DIP\\DIP-dataset\\PCB_DATASET\\yolo_labels\\05_missing_hole_05.txt\n",
      "Created YOLO label: D:\\BML Munjal\\3rd Year\\Sem 5\\DIP\\DIP-dataset\\PCB_DATASET\\yolo_labels\\05_missing_hole_06.txt\n",
      "Created YOLO label: D:\\BML Munjal\\3rd Year\\Sem 5\\DIP\\DIP-dataset\\PCB_DATASET\\yolo_labels\\05_missing_hole_07.txt\n",
      "Created YOLO label: D:\\BML Munjal\\3rd Year\\Sem 5\\DIP\\DIP-dataset\\PCB_DATASET\\yolo_labels\\05_missing_hole_08.txt\n",
      "Created YOLO label: D:\\BML Munjal\\3rd Year\\Sem 5\\DIP\\DIP-dataset\\PCB_DATASET\\yolo_labels\\05_missing_hole_09.txt\n",
      "Created YOLO label: D:\\BML Munjal\\3rd Year\\Sem 5\\DIP\\DIP-dataset\\PCB_DATASET\\yolo_labels\\05_missing_hole_10.txt\n",
      "Created YOLO label: D:\\BML Munjal\\3rd Year\\Sem 5\\DIP\\DIP-dataset\\PCB_DATASET\\yolo_labels\\05_mouse_bite_01.txt\n",
      "Created YOLO label: D:\\BML Munjal\\3rd Year\\Sem 5\\DIP\\DIP-dataset\\PCB_DATASET\\yolo_labels\\05_mouse_bite_02.txt\n",
      "Created YOLO label: D:\\BML Munjal\\3rd Year\\Sem 5\\DIP\\DIP-dataset\\PCB_DATASET\\yolo_labels\\05_mouse_bite_03.txt\n",
      "Created YOLO label: D:\\BML Munjal\\3rd Year\\Sem 5\\DIP\\DIP-dataset\\PCB_DATASET\\yolo_labels\\05_mouse_bite_04.txt\n",
      "Created YOLO label: D:\\BML Munjal\\3rd Year\\Sem 5\\DIP\\DIP-dataset\\PCB_DATASET\\yolo_labels\\05_mouse_bite_05.txt\n",
      "Created YOLO label: D:\\BML Munjal\\3rd Year\\Sem 5\\DIP\\DIP-dataset\\PCB_DATASET\\yolo_labels\\05_mouse_bite_06.txt\n",
      "Created YOLO label: D:\\BML Munjal\\3rd Year\\Sem 5\\DIP\\DIP-dataset\\PCB_DATASET\\yolo_labels\\05_mouse_bite_07.txt\n",
      "Created YOLO label: D:\\BML Munjal\\3rd Year\\Sem 5\\DIP\\DIP-dataset\\PCB_DATASET\\yolo_labels\\05_mouse_bite_08.txt\n",
      "Created YOLO label: D:\\BML Munjal\\3rd Year\\Sem 5\\DIP\\DIP-dataset\\PCB_DATASET\\yolo_labels\\05_mouse_bite_09.txt\n",
      "Created YOLO label: D:\\BML Munjal\\3rd Year\\Sem 5\\DIP\\DIP-dataset\\PCB_DATASET\\yolo_labels\\05_mouse_bite_10.txt\n",
      "Created YOLO label: D:\\BML Munjal\\3rd Year\\Sem 5\\DIP\\DIP-dataset\\PCB_DATASET\\yolo_labels\\05_open_circuit_01.txt\n",
      "Created YOLO label: D:\\BML Munjal\\3rd Year\\Sem 5\\DIP\\DIP-dataset\\PCB_DATASET\\yolo_labels\\05_open_circuit_02.txt\n",
      "Created YOLO label: D:\\BML Munjal\\3rd Year\\Sem 5\\DIP\\DIP-dataset\\PCB_DATASET\\yolo_labels\\05_open_circuit_03.txt\n",
      "Created YOLO label: D:\\BML Munjal\\3rd Year\\Sem 5\\DIP\\DIP-dataset\\PCB_DATASET\\yolo_labels\\05_open_circuit_04.txt\n",
      "Created YOLO label: D:\\BML Munjal\\3rd Year\\Sem 5\\DIP\\DIP-dataset\\PCB_DATASET\\yolo_labels\\05_open_circuit_05.txt\n",
      "Created YOLO label: D:\\BML Munjal\\3rd Year\\Sem 5\\DIP\\DIP-dataset\\PCB_DATASET\\yolo_labels\\05_open_circuit_06.txt\n",
      "Created YOLO label: D:\\BML Munjal\\3rd Year\\Sem 5\\DIP\\DIP-dataset\\PCB_DATASET\\yolo_labels\\05_open_circuit_07.txt\n",
      "Created YOLO label: D:\\BML Munjal\\3rd Year\\Sem 5\\DIP\\DIP-dataset\\PCB_DATASET\\yolo_labels\\05_open_circuit_08.txt\n",
      "Created YOLO label: D:\\BML Munjal\\3rd Year\\Sem 5\\DIP\\DIP-dataset\\PCB_DATASET\\yolo_labels\\05_open_circuit_09.txt\n",
      "Created YOLO label: D:\\BML Munjal\\3rd Year\\Sem 5\\DIP\\DIP-dataset\\PCB_DATASET\\yolo_labels\\05_open_circuit_10.txt\n",
      "Created YOLO label: D:\\BML Munjal\\3rd Year\\Sem 5\\DIP\\DIP-dataset\\PCB_DATASET\\yolo_labels\\05_short_01.txt\n",
      "Created YOLO label: D:\\BML Munjal\\3rd Year\\Sem 5\\DIP\\DIP-dataset\\PCB_DATASET\\yolo_labels\\05_short_02.txt\n",
      "Created YOLO label: D:\\BML Munjal\\3rd Year\\Sem 5\\DIP\\DIP-dataset\\PCB_DATASET\\yolo_labels\\05_short_03.txt\n",
      "Created YOLO label: D:\\BML Munjal\\3rd Year\\Sem 5\\DIP\\DIP-dataset\\PCB_DATASET\\yolo_labels\\05_short_04.txt\n",
      "Created YOLO label: D:\\BML Munjal\\3rd Year\\Sem 5\\DIP\\DIP-dataset\\PCB_DATASET\\yolo_labels\\05_short_05.txt\n",
      "Created YOLO label: D:\\BML Munjal\\3rd Year\\Sem 5\\DIP\\DIP-dataset\\PCB_DATASET\\yolo_labels\\05_short_06.txt\n",
      "Created YOLO label: D:\\BML Munjal\\3rd Year\\Sem 5\\DIP\\DIP-dataset\\PCB_DATASET\\yolo_labels\\05_short_07.txt\n",
      "Created YOLO label: D:\\BML Munjal\\3rd Year\\Sem 5\\DIP\\DIP-dataset\\PCB_DATASET\\yolo_labels\\05_short_08.txt\n",
      "Created YOLO label: D:\\BML Munjal\\3rd Year\\Sem 5\\DIP\\DIP-dataset\\PCB_DATASET\\yolo_labels\\05_short_09.txt\n",
      "Created YOLO label: D:\\BML Munjal\\3rd Year\\Sem 5\\DIP\\DIP-dataset\\PCB_DATASET\\yolo_labels\\05_short_10.txt\n",
      "Created YOLO label: D:\\BML Munjal\\3rd Year\\Sem 5\\DIP\\DIP-dataset\\PCB_DATASET\\yolo_labels\\05_spur_01.txt\n",
      "Created YOLO label: D:\\BML Munjal\\3rd Year\\Sem 5\\DIP\\DIP-dataset\\PCB_DATASET\\yolo_labels\\05_spur_02.txt\n",
      "Created YOLO label: D:\\BML Munjal\\3rd Year\\Sem 5\\DIP\\DIP-dataset\\PCB_DATASET\\yolo_labels\\05_spur_03.txt\n",
      "Created YOLO label: D:\\BML Munjal\\3rd Year\\Sem 5\\DIP\\DIP-dataset\\PCB_DATASET\\yolo_labels\\05_spur_04.txt\n",
      "Created YOLO label: D:\\BML Munjal\\3rd Year\\Sem 5\\DIP\\DIP-dataset\\PCB_DATASET\\yolo_labels\\05_spur_05.txt\n",
      "Created YOLO label: D:\\BML Munjal\\3rd Year\\Sem 5\\DIP\\DIP-dataset\\PCB_DATASET\\yolo_labels\\05_spur_06.txt\n",
      "Created YOLO label: D:\\BML Munjal\\3rd Year\\Sem 5\\DIP\\DIP-dataset\\PCB_DATASET\\yolo_labels\\05_spur_07.txt\n",
      "Created YOLO label: D:\\BML Munjal\\3rd Year\\Sem 5\\DIP\\DIP-dataset\\PCB_DATASET\\yolo_labels\\05_spur_08.txt\n",
      "Created YOLO label: D:\\BML Munjal\\3rd Year\\Sem 5\\DIP\\DIP-dataset\\PCB_DATASET\\yolo_labels\\05_spur_09.txt\n",
      "Created YOLO label: D:\\BML Munjal\\3rd Year\\Sem 5\\DIP\\DIP-dataset\\PCB_DATASET\\yolo_labels\\05_spur_10.txt\n",
      "Created YOLO label: D:\\BML Munjal\\3rd Year\\Sem 5\\DIP\\DIP-dataset\\PCB_DATASET\\yolo_labels\\05_spurious_copper_01.txt\n",
      "Created YOLO label: D:\\BML Munjal\\3rd Year\\Sem 5\\DIP\\DIP-dataset\\PCB_DATASET\\yolo_labels\\05_spurious_copper_02.txt\n",
      "Created YOLO label: D:\\BML Munjal\\3rd Year\\Sem 5\\DIP\\DIP-dataset\\PCB_DATASET\\yolo_labels\\05_spurious_copper_03.txt\n",
      "Created YOLO label: D:\\BML Munjal\\3rd Year\\Sem 5\\DIP\\DIP-dataset\\PCB_DATASET\\yolo_labels\\05_spurious_copper_04.txt\n",
      "Created YOLO label: D:\\BML Munjal\\3rd Year\\Sem 5\\DIP\\DIP-dataset\\PCB_DATASET\\yolo_labels\\05_spurious_copper_05.txt\n",
      "Created YOLO label: D:\\BML Munjal\\3rd Year\\Sem 5\\DIP\\DIP-dataset\\PCB_DATASET\\yolo_labels\\05_spurious_copper_06.txt\n",
      "Created YOLO label: D:\\BML Munjal\\3rd Year\\Sem 5\\DIP\\DIP-dataset\\PCB_DATASET\\yolo_labels\\05_spurious_copper_07.txt\n",
      "Created YOLO label: D:\\BML Munjal\\3rd Year\\Sem 5\\DIP\\DIP-dataset\\PCB_DATASET\\yolo_labels\\05_spurious_copper_08.txt\n",
      "Created YOLO label: D:\\BML Munjal\\3rd Year\\Sem 5\\DIP\\DIP-dataset\\PCB_DATASET\\yolo_labels\\05_spurious_copper_09.txt\n",
      "Created YOLO label: D:\\BML Munjal\\3rd Year\\Sem 5\\DIP\\DIP-dataset\\PCB_DATASET\\yolo_labels\\05_spurious_copper_10.txt\n",
      "Created YOLO label: D:\\BML Munjal\\3rd Year\\Sem 5\\DIP\\DIP-dataset\\PCB_DATASET\\yolo_labels\\06_missing_hole_01.txt\n",
      "Created YOLO label: D:\\BML Munjal\\3rd Year\\Sem 5\\DIP\\DIP-dataset\\PCB_DATASET\\yolo_labels\\06_missing_hole_02.txt\n",
      "Created YOLO label: D:\\BML Munjal\\3rd Year\\Sem 5\\DIP\\DIP-dataset\\PCB_DATASET\\yolo_labels\\06_missing_hole_03.txt\n",
      "Created YOLO label: D:\\BML Munjal\\3rd Year\\Sem 5\\DIP\\DIP-dataset\\PCB_DATASET\\yolo_labels\\06_missing_hole_04.txt\n",
      "Created YOLO label: D:\\BML Munjal\\3rd Year\\Sem 5\\DIP\\DIP-dataset\\PCB_DATASET\\yolo_labels\\06_missing_hole_05.txt\n",
      "Created YOLO label: D:\\BML Munjal\\3rd Year\\Sem 5\\DIP\\DIP-dataset\\PCB_DATASET\\yolo_labels\\06_missing_hole_06.txt\n",
      "Created YOLO label: D:\\BML Munjal\\3rd Year\\Sem 5\\DIP\\DIP-dataset\\PCB_DATASET\\yolo_labels\\06_missing_hole_07.txt\n",
      "Created YOLO label: D:\\BML Munjal\\3rd Year\\Sem 5\\DIP\\DIP-dataset\\PCB_DATASET\\yolo_labels\\06_missing_hole_08.txt\n",
      "Created YOLO label: D:\\BML Munjal\\3rd Year\\Sem 5\\DIP\\DIP-dataset\\PCB_DATASET\\yolo_labels\\06_missing_hole_09.txt\n",
      "Created YOLO label: D:\\BML Munjal\\3rd Year\\Sem 5\\DIP\\DIP-dataset\\PCB_DATASET\\yolo_labels\\06_missing_hole_10.txt\n",
      "Created YOLO label: D:\\BML Munjal\\3rd Year\\Sem 5\\DIP\\DIP-dataset\\PCB_DATASET\\yolo_labels\\06_mouse_bite_01.txt\n",
      "Created YOLO label: D:\\BML Munjal\\3rd Year\\Sem 5\\DIP\\DIP-dataset\\PCB_DATASET\\yolo_labels\\06_mouse_bite_02.txt\n",
      "Created YOLO label: D:\\BML Munjal\\3rd Year\\Sem 5\\DIP\\DIP-dataset\\PCB_DATASET\\yolo_labels\\06_mouse_bite_03.txt\n",
      "Created YOLO label: D:\\BML Munjal\\3rd Year\\Sem 5\\DIP\\DIP-dataset\\PCB_DATASET\\yolo_labels\\06_mouse_bite_04.txt\n",
      "Created YOLO label: D:\\BML Munjal\\3rd Year\\Sem 5\\DIP\\DIP-dataset\\PCB_DATASET\\yolo_labels\\06_mouse_bite_05.txt\n",
      "Created YOLO label: D:\\BML Munjal\\3rd Year\\Sem 5\\DIP\\DIP-dataset\\PCB_DATASET\\yolo_labels\\06_mouse_bite_06.txt\n",
      "Created YOLO label: D:\\BML Munjal\\3rd Year\\Sem 5\\DIP\\DIP-dataset\\PCB_DATASET\\yolo_labels\\06_mouse_bite_07.txt\n",
      "Created YOLO label: D:\\BML Munjal\\3rd Year\\Sem 5\\DIP\\DIP-dataset\\PCB_DATASET\\yolo_labels\\06_mouse_bite_08.txt\n",
      "Created YOLO label: D:\\BML Munjal\\3rd Year\\Sem 5\\DIP\\DIP-dataset\\PCB_DATASET\\yolo_labels\\06_mouse_bite_09.txt\n",
      "Created YOLO label: D:\\BML Munjal\\3rd Year\\Sem 5\\DIP\\DIP-dataset\\PCB_DATASET\\yolo_labels\\06_mouse_bite_10.txt\n",
      "Created YOLO label: D:\\BML Munjal\\3rd Year\\Sem 5\\DIP\\DIP-dataset\\PCB_DATASET\\yolo_labels\\06_open_circuit_01.txt\n",
      "Created YOLO label: D:\\BML Munjal\\3rd Year\\Sem 5\\DIP\\DIP-dataset\\PCB_DATASET\\yolo_labels\\06_open_circuit_02.txt\n",
      "Created YOLO label: D:\\BML Munjal\\3rd Year\\Sem 5\\DIP\\DIP-dataset\\PCB_DATASET\\yolo_labels\\06_open_circuit_03.txt\n",
      "Created YOLO label: D:\\BML Munjal\\3rd Year\\Sem 5\\DIP\\DIP-dataset\\PCB_DATASET\\yolo_labels\\06_open_circuit_04.txt\n",
      "Created YOLO label: D:\\BML Munjal\\3rd Year\\Sem 5\\DIP\\DIP-dataset\\PCB_DATASET\\yolo_labels\\06_open_circuit_05.txt\n",
      "Created YOLO label: D:\\BML Munjal\\3rd Year\\Sem 5\\DIP\\DIP-dataset\\PCB_DATASET\\yolo_labels\\06_open_circuit_06.txt\n",
      "Created YOLO label: D:\\BML Munjal\\3rd Year\\Sem 5\\DIP\\DIP-dataset\\PCB_DATASET\\yolo_labels\\06_open_circuit_07.txt\n",
      "Created YOLO label: D:\\BML Munjal\\3rd Year\\Sem 5\\DIP\\DIP-dataset\\PCB_DATASET\\yolo_labels\\06_open_circuit_08.txt\n",
      "Created YOLO label: D:\\BML Munjal\\3rd Year\\Sem 5\\DIP\\DIP-dataset\\PCB_DATASET\\yolo_labels\\06_open_circuit_09.txt\n",
      "Created YOLO label: D:\\BML Munjal\\3rd Year\\Sem 5\\DIP\\DIP-dataset\\PCB_DATASET\\yolo_labels\\06_open_circuit_10.txt\n",
      "Created YOLO label: D:\\BML Munjal\\3rd Year\\Sem 5\\DIP\\DIP-dataset\\PCB_DATASET\\yolo_labels\\06_short_01.txt\n",
      "Created YOLO label: D:\\BML Munjal\\3rd Year\\Sem 5\\DIP\\DIP-dataset\\PCB_DATASET\\yolo_labels\\06_short_02.txt\n",
      "Created YOLO label: D:\\BML Munjal\\3rd Year\\Sem 5\\DIP\\DIP-dataset\\PCB_DATASET\\yolo_labels\\06_short_03.txt\n",
      "Created YOLO label: D:\\BML Munjal\\3rd Year\\Sem 5\\DIP\\DIP-dataset\\PCB_DATASET\\yolo_labels\\06_short_04.txt\n",
      "Created YOLO label: D:\\BML Munjal\\3rd Year\\Sem 5\\DIP\\DIP-dataset\\PCB_DATASET\\yolo_labels\\06_short_05.txt\n",
      "Created YOLO label: D:\\BML Munjal\\3rd Year\\Sem 5\\DIP\\DIP-dataset\\PCB_DATASET\\yolo_labels\\06_short_06.txt\n",
      "Created YOLO label: D:\\BML Munjal\\3rd Year\\Sem 5\\DIP\\DIP-dataset\\PCB_DATASET\\yolo_labels\\06_short_07.txt\n",
      "Created YOLO label: D:\\BML Munjal\\3rd Year\\Sem 5\\DIP\\DIP-dataset\\PCB_DATASET\\yolo_labels\\06_short_08.txt\n",
      "Created YOLO label: D:\\BML Munjal\\3rd Year\\Sem 5\\DIP\\DIP-dataset\\PCB_DATASET\\yolo_labels\\06_short_09.txt\n",
      "Created YOLO label: D:\\BML Munjal\\3rd Year\\Sem 5\\DIP\\DIP-dataset\\PCB_DATASET\\yolo_labels\\06_short_10.txt\n",
      "Created YOLO label: D:\\BML Munjal\\3rd Year\\Sem 5\\DIP\\DIP-dataset\\PCB_DATASET\\yolo_labels\\06_short_11.txt\n",
      "Created YOLO label: D:\\BML Munjal\\3rd Year\\Sem 5\\DIP\\DIP-dataset\\PCB_DATASET\\yolo_labels\\06_spur_01.txt\n",
      "Created YOLO label: D:\\BML Munjal\\3rd Year\\Sem 5\\DIP\\DIP-dataset\\PCB_DATASET\\yolo_labels\\06_spur_02.txt\n",
      "Created YOLO label: D:\\BML Munjal\\3rd Year\\Sem 5\\DIP\\DIP-dataset\\PCB_DATASET\\yolo_labels\\06_spur_03.txt\n",
      "Created YOLO label: D:\\BML Munjal\\3rd Year\\Sem 5\\DIP\\DIP-dataset\\PCB_DATASET\\yolo_labels\\06_spur_04.txt\n",
      "Created YOLO label: D:\\BML Munjal\\3rd Year\\Sem 5\\DIP\\DIP-dataset\\PCB_DATASET\\yolo_labels\\06_spur_05.txt\n",
      "Created YOLO label: D:\\BML Munjal\\3rd Year\\Sem 5\\DIP\\DIP-dataset\\PCB_DATASET\\yolo_labels\\06_spur_06.txt\n",
      "Created YOLO label: D:\\BML Munjal\\3rd Year\\Sem 5\\DIP\\DIP-dataset\\PCB_DATASET\\yolo_labels\\06_spur_07.txt\n",
      "Created YOLO label: D:\\BML Munjal\\3rd Year\\Sem 5\\DIP\\DIP-dataset\\PCB_DATASET\\yolo_labels\\06_spur_08.txt\n",
      "Created YOLO label: D:\\BML Munjal\\3rd Year\\Sem 5\\DIP\\DIP-dataset\\PCB_DATASET\\yolo_labels\\06_spur_09.txt\n",
      "Created YOLO label: D:\\BML Munjal\\3rd Year\\Sem 5\\DIP\\DIP-dataset\\PCB_DATASET\\yolo_labels\\06_spur_10.txt\n",
      "Created YOLO label: D:\\BML Munjal\\3rd Year\\Sem 5\\DIP\\DIP-dataset\\PCB_DATASET\\yolo_labels\\06_spurious_copper_01.txt\n",
      "Created YOLO label: D:\\BML Munjal\\3rd Year\\Sem 5\\DIP\\DIP-dataset\\PCB_DATASET\\yolo_labels\\06_spurious_copper_02.txt\n",
      "Created YOLO label: D:\\BML Munjal\\3rd Year\\Sem 5\\DIP\\DIP-dataset\\PCB_DATASET\\yolo_labels\\06_spurious_copper_03.txt\n",
      "Created YOLO label: D:\\BML Munjal\\3rd Year\\Sem 5\\DIP\\DIP-dataset\\PCB_DATASET\\yolo_labels\\06_spurious_copper_04.txt\n",
      "Created YOLO label: D:\\BML Munjal\\3rd Year\\Sem 5\\DIP\\DIP-dataset\\PCB_DATASET\\yolo_labels\\06_spurious_copper_05.txt\n",
      "Created YOLO label: D:\\BML Munjal\\3rd Year\\Sem 5\\DIP\\DIP-dataset\\PCB_DATASET\\yolo_labels\\06_spurious_copper_06.txt\n",
      "Created YOLO label: D:\\BML Munjal\\3rd Year\\Sem 5\\DIP\\DIP-dataset\\PCB_DATASET\\yolo_labels\\06_spurious_copper_07.txt\n",
      "Created YOLO label: D:\\BML Munjal\\3rd Year\\Sem 5\\DIP\\DIP-dataset\\PCB_DATASET\\yolo_labels\\06_spurious_copper_08.txt\n",
      "Created YOLO label: D:\\BML Munjal\\3rd Year\\Sem 5\\DIP\\DIP-dataset\\PCB_DATASET\\yolo_labels\\06_spurious_copper_09.txt\n",
      "Created YOLO label: D:\\BML Munjal\\3rd Year\\Sem 5\\DIP\\DIP-dataset\\PCB_DATASET\\yolo_labels\\06_spurious_copper_10.txt\n",
      "Created YOLO label: D:\\BML Munjal\\3rd Year\\Sem 5\\DIP\\DIP-dataset\\PCB_DATASET\\yolo_labels\\07_missing_hole_01.txt\n",
      "Created YOLO label: D:\\BML Munjal\\3rd Year\\Sem 5\\DIP\\DIP-dataset\\PCB_DATASET\\yolo_labels\\07_missing_hole_02.txt\n",
      "Created YOLO label: D:\\BML Munjal\\3rd Year\\Sem 5\\DIP\\DIP-dataset\\PCB_DATASET\\yolo_labels\\07_missing_hole_03.txt\n",
      "Created YOLO label: D:\\BML Munjal\\3rd Year\\Sem 5\\DIP\\DIP-dataset\\PCB_DATASET\\yolo_labels\\07_missing_hole_04.txt\n",
      "Created YOLO label: D:\\BML Munjal\\3rd Year\\Sem 5\\DIP\\DIP-dataset\\PCB_DATASET\\yolo_labels\\07_missing_hole_05.txt\n",
      "Created YOLO label: D:\\BML Munjal\\3rd Year\\Sem 5\\DIP\\DIP-dataset\\PCB_DATASET\\yolo_labels\\07_missing_hole_06.txt\n",
      "Created YOLO label: D:\\BML Munjal\\3rd Year\\Sem 5\\DIP\\DIP-dataset\\PCB_DATASET\\yolo_labels\\07_missing_hole_07.txt\n",
      "Created YOLO label: D:\\BML Munjal\\3rd Year\\Sem 5\\DIP\\DIP-dataset\\PCB_DATASET\\yolo_labels\\07_missing_hole_08.txt\n",
      "Created YOLO label: D:\\BML Munjal\\3rd Year\\Sem 5\\DIP\\DIP-dataset\\PCB_DATASET\\yolo_labels\\07_missing_hole_09.txt\n",
      "Created YOLO label: D:\\BML Munjal\\3rd Year\\Sem 5\\DIP\\DIP-dataset\\PCB_DATASET\\yolo_labels\\07_missing_hole_10.txt\n",
      "Created YOLO label: D:\\BML Munjal\\3rd Year\\Sem 5\\DIP\\DIP-dataset\\PCB_DATASET\\yolo_labels\\07_mouse_bite_01.txt\n",
      "Created YOLO label: D:\\BML Munjal\\3rd Year\\Sem 5\\DIP\\DIP-dataset\\PCB_DATASET\\yolo_labels\\07_mouse_bite_02.txt\n",
      "Created YOLO label: D:\\BML Munjal\\3rd Year\\Sem 5\\DIP\\DIP-dataset\\PCB_DATASET\\yolo_labels\\07_mouse_bite_03.txt\n",
      "Created YOLO label: D:\\BML Munjal\\3rd Year\\Sem 5\\DIP\\DIP-dataset\\PCB_DATASET\\yolo_labels\\07_mouse_bite_04.txt\n",
      "Created YOLO label: D:\\BML Munjal\\3rd Year\\Sem 5\\DIP\\DIP-dataset\\PCB_DATASET\\yolo_labels\\07_mouse_bite_05.txt\n",
      "Created YOLO label: D:\\BML Munjal\\3rd Year\\Sem 5\\DIP\\DIP-dataset\\PCB_DATASET\\yolo_labels\\07_mouse_bite_06.txt\n",
      "Created YOLO label: D:\\BML Munjal\\3rd Year\\Sem 5\\DIP\\DIP-dataset\\PCB_DATASET\\yolo_labels\\07_mouse_bite_07.txt\n",
      "Created YOLO label: D:\\BML Munjal\\3rd Year\\Sem 5\\DIP\\DIP-dataset\\PCB_DATASET\\yolo_labels\\07_mouse_bite_08.txt\n",
      "Created YOLO label: D:\\BML Munjal\\3rd Year\\Sem 5\\DIP\\DIP-dataset\\PCB_DATASET\\yolo_labels\\07_mouse_bite_09.txt\n",
      "Created YOLO label: D:\\BML Munjal\\3rd Year\\Sem 5\\DIP\\DIP-dataset\\PCB_DATASET\\yolo_labels\\07_mouse_bite_10.txt\n",
      "Created YOLO label: D:\\BML Munjal\\3rd Year\\Sem 5\\DIP\\DIP-dataset\\PCB_DATASET\\yolo_labels\\07_open_circuit_01.txt\n",
      "Created YOLO label: D:\\BML Munjal\\3rd Year\\Sem 5\\DIP\\DIP-dataset\\PCB_DATASET\\yolo_labels\\07_open_circuit_02.txt\n",
      "Created YOLO label: D:\\BML Munjal\\3rd Year\\Sem 5\\DIP\\DIP-dataset\\PCB_DATASET\\yolo_labels\\07_open_circuit_03.txt\n",
      "Created YOLO label: D:\\BML Munjal\\3rd Year\\Sem 5\\DIP\\DIP-dataset\\PCB_DATASET\\yolo_labels\\07_open_circuit_04.txt\n",
      "Created YOLO label: D:\\BML Munjal\\3rd Year\\Sem 5\\DIP\\DIP-dataset\\PCB_DATASET\\yolo_labels\\07_open_circuit_05.txt\n",
      "Created YOLO label: D:\\BML Munjal\\3rd Year\\Sem 5\\DIP\\DIP-dataset\\PCB_DATASET\\yolo_labels\\07_open_circuit_06.txt\n",
      "Created YOLO label: D:\\BML Munjal\\3rd Year\\Sem 5\\DIP\\DIP-dataset\\PCB_DATASET\\yolo_labels\\07_open_circuit_07.txt\n",
      "Created YOLO label: D:\\BML Munjal\\3rd Year\\Sem 5\\DIP\\DIP-dataset\\PCB_DATASET\\yolo_labels\\07_open_circuit_08.txt\n",
      "Created YOLO label: D:\\BML Munjal\\3rd Year\\Sem 5\\DIP\\DIP-dataset\\PCB_DATASET\\yolo_labels\\07_open_circuit_09.txt\n",
      "Created YOLO label: D:\\BML Munjal\\3rd Year\\Sem 5\\DIP\\DIP-dataset\\PCB_DATASET\\yolo_labels\\07_open_circuit_10.txt\n",
      "Created YOLO label: D:\\BML Munjal\\3rd Year\\Sem 5\\DIP\\DIP-dataset\\PCB_DATASET\\yolo_labels\\07_short_01.txt\n",
      "Created YOLO label: D:\\BML Munjal\\3rd Year\\Sem 5\\DIP\\DIP-dataset\\PCB_DATASET\\yolo_labels\\07_short_02.txt\n",
      "Created YOLO label: D:\\BML Munjal\\3rd Year\\Sem 5\\DIP\\DIP-dataset\\PCB_DATASET\\yolo_labels\\07_short_03.txt\n",
      "Created YOLO label: D:\\BML Munjal\\3rd Year\\Sem 5\\DIP\\DIP-dataset\\PCB_DATASET\\yolo_labels\\07_short_04.txt\n",
      "Created YOLO label: D:\\BML Munjal\\3rd Year\\Sem 5\\DIP\\DIP-dataset\\PCB_DATASET\\yolo_labels\\07_short_05.txt\n",
      "Created YOLO label: D:\\BML Munjal\\3rd Year\\Sem 5\\DIP\\DIP-dataset\\PCB_DATASET\\yolo_labels\\07_short_06.txt\n",
      "Created YOLO label: D:\\BML Munjal\\3rd Year\\Sem 5\\DIP\\DIP-dataset\\PCB_DATASET\\yolo_labels\\07_short_07.txt\n",
      "Created YOLO label: D:\\BML Munjal\\3rd Year\\Sem 5\\DIP\\DIP-dataset\\PCB_DATASET\\yolo_labels\\07_short_08.txt\n",
      "Created YOLO label: D:\\BML Munjal\\3rd Year\\Sem 5\\DIP\\DIP-dataset\\PCB_DATASET\\yolo_labels\\07_short_09.txt\n",
      "Created YOLO label: D:\\BML Munjal\\3rd Year\\Sem 5\\DIP\\DIP-dataset\\PCB_DATASET\\yolo_labels\\07_short_10.txt\n",
      "Created YOLO label: D:\\BML Munjal\\3rd Year\\Sem 5\\DIP\\DIP-dataset\\PCB_DATASET\\yolo_labels\\07_spur_01.txt\n",
      "Created YOLO label: D:\\BML Munjal\\3rd Year\\Sem 5\\DIP\\DIP-dataset\\PCB_DATASET\\yolo_labels\\07_spur_02.txt\n",
      "Created YOLO label: D:\\BML Munjal\\3rd Year\\Sem 5\\DIP\\DIP-dataset\\PCB_DATASET\\yolo_labels\\07_spur_03.txt\n",
      "Created YOLO label: D:\\BML Munjal\\3rd Year\\Sem 5\\DIP\\DIP-dataset\\PCB_DATASET\\yolo_labels\\07_spur_04.txt\n",
      "Created YOLO label: D:\\BML Munjal\\3rd Year\\Sem 5\\DIP\\DIP-dataset\\PCB_DATASET\\yolo_labels\\07_spur_05.txt\n",
      "Created YOLO label: D:\\BML Munjal\\3rd Year\\Sem 5\\DIP\\DIP-dataset\\PCB_DATASET\\yolo_labels\\07_spur_06.txt\n",
      "Created YOLO label: D:\\BML Munjal\\3rd Year\\Sem 5\\DIP\\DIP-dataset\\PCB_DATASET\\yolo_labels\\07_spur_07.txt\n",
      "Created YOLO label: D:\\BML Munjal\\3rd Year\\Sem 5\\DIP\\DIP-dataset\\PCB_DATASET\\yolo_labels\\07_spur_08.txt\n",
      "Created YOLO label: D:\\BML Munjal\\3rd Year\\Sem 5\\DIP\\DIP-dataset\\PCB_DATASET\\yolo_labels\\07_spur_09.txt\n",
      "Created YOLO label: D:\\BML Munjal\\3rd Year\\Sem 5\\DIP\\DIP-dataset\\PCB_DATASET\\yolo_labels\\07_spur_10.txt\n",
      "Created YOLO label: D:\\BML Munjal\\3rd Year\\Sem 5\\DIP\\DIP-dataset\\PCB_DATASET\\yolo_labels\\07_spurious_copper_01.txt\n",
      "Created YOLO label: D:\\BML Munjal\\3rd Year\\Sem 5\\DIP\\DIP-dataset\\PCB_DATASET\\yolo_labels\\07_spurious_copper_02.txt\n",
      "Created YOLO label: D:\\BML Munjal\\3rd Year\\Sem 5\\DIP\\DIP-dataset\\PCB_DATASET\\yolo_labels\\07_spurious_copper_03.txt\n",
      "Created YOLO label: D:\\BML Munjal\\3rd Year\\Sem 5\\DIP\\DIP-dataset\\PCB_DATASET\\yolo_labels\\07_spurious_copper_04.txt\n",
      "Created YOLO label: D:\\BML Munjal\\3rd Year\\Sem 5\\DIP\\DIP-dataset\\PCB_DATASET\\yolo_labels\\07_spurious_copper_05.txt\n",
      "Created YOLO label: D:\\BML Munjal\\3rd Year\\Sem 5\\DIP\\DIP-dataset\\PCB_DATASET\\yolo_labels\\07_spurious_copper_06.txt\n",
      "Created YOLO label: D:\\BML Munjal\\3rd Year\\Sem 5\\DIP\\DIP-dataset\\PCB_DATASET\\yolo_labels\\07_spurious_copper_07.txt\n",
      "Created YOLO label: D:\\BML Munjal\\3rd Year\\Sem 5\\DIP\\DIP-dataset\\PCB_DATASET\\yolo_labels\\07_spurious_copper_08.txt\n",
      "Created YOLO label: D:\\BML Munjal\\3rd Year\\Sem 5\\DIP\\DIP-dataset\\PCB_DATASET\\yolo_labels\\07_spurious_copper_09.txt\n",
      "Created YOLO label: D:\\BML Munjal\\3rd Year\\Sem 5\\DIP\\DIP-dataset\\PCB_DATASET\\yolo_labels\\07_spurious_copper_10.txt\n",
      "Created YOLO label: D:\\BML Munjal\\3rd Year\\Sem 5\\DIP\\DIP-dataset\\PCB_DATASET\\yolo_labels\\08_missing_hole_01.txt\n",
      "Created YOLO label: D:\\BML Munjal\\3rd Year\\Sem 5\\DIP\\DIP-dataset\\PCB_DATASET\\yolo_labels\\08_missing_hole_02.txt\n",
      "Created YOLO label: D:\\BML Munjal\\3rd Year\\Sem 5\\DIP\\DIP-dataset\\PCB_DATASET\\yolo_labels\\08_missing_hole_03.txt\n",
      "Created YOLO label: D:\\BML Munjal\\3rd Year\\Sem 5\\DIP\\DIP-dataset\\PCB_DATASET\\yolo_labels\\08_missing_hole_04.txt\n",
      "Created YOLO label: D:\\BML Munjal\\3rd Year\\Sem 5\\DIP\\DIP-dataset\\PCB_DATASET\\yolo_labels\\08_missing_hole_05.txt\n",
      "Created YOLO label: D:\\BML Munjal\\3rd Year\\Sem 5\\DIP\\DIP-dataset\\PCB_DATASET\\yolo_labels\\08_missing_hole_06.txt\n",
      "Created YOLO label: D:\\BML Munjal\\3rd Year\\Sem 5\\DIP\\DIP-dataset\\PCB_DATASET\\yolo_labels\\08_missing_hole_07.txt\n",
      "Created YOLO label: D:\\BML Munjal\\3rd Year\\Sem 5\\DIP\\DIP-dataset\\PCB_DATASET\\yolo_labels\\08_missing_hole_08.txt\n",
      "Created YOLO label: D:\\BML Munjal\\3rd Year\\Sem 5\\DIP\\DIP-dataset\\PCB_DATASET\\yolo_labels\\08_missing_hole_09.txt\n",
      "Created YOLO label: D:\\BML Munjal\\3rd Year\\Sem 5\\DIP\\DIP-dataset\\PCB_DATASET\\yolo_labels\\08_missing_hole_10.txt\n",
      "Created YOLO label: D:\\BML Munjal\\3rd Year\\Sem 5\\DIP\\DIP-dataset\\PCB_DATASET\\yolo_labels\\08_mouse_bite_01.txt\n",
      "Created YOLO label: D:\\BML Munjal\\3rd Year\\Sem 5\\DIP\\DIP-dataset\\PCB_DATASET\\yolo_labels\\08_mouse_bite_02.txt\n",
      "Created YOLO label: D:\\BML Munjal\\3rd Year\\Sem 5\\DIP\\DIP-dataset\\PCB_DATASET\\yolo_labels\\08_mouse_bite_03.txt\n",
      "Created YOLO label: D:\\BML Munjal\\3rd Year\\Sem 5\\DIP\\DIP-dataset\\PCB_DATASET\\yolo_labels\\08_mouse_bite_04.txt\n",
      "Created YOLO label: D:\\BML Munjal\\3rd Year\\Sem 5\\DIP\\DIP-dataset\\PCB_DATASET\\yolo_labels\\08_mouse_bite_05.txt\n",
      "Created YOLO label: D:\\BML Munjal\\3rd Year\\Sem 5\\DIP\\DIP-dataset\\PCB_DATASET\\yolo_labels\\08_mouse_bite_06.txt\n",
      "Created YOLO label: D:\\BML Munjal\\3rd Year\\Sem 5\\DIP\\DIP-dataset\\PCB_DATASET\\yolo_labels\\08_mouse_bite_07.txt\n",
      "Created YOLO label: D:\\BML Munjal\\3rd Year\\Sem 5\\DIP\\DIP-dataset\\PCB_DATASET\\yolo_labels\\08_mouse_bite_08.txt\n",
      "Created YOLO label: D:\\BML Munjal\\3rd Year\\Sem 5\\DIP\\DIP-dataset\\PCB_DATASET\\yolo_labels\\08_mouse_bite_09.txt\n",
      "Created YOLO label: D:\\BML Munjal\\3rd Year\\Sem 5\\DIP\\DIP-dataset\\PCB_DATASET\\yolo_labels\\08_mouse_bite_10.txt\n",
      "Created YOLO label: D:\\BML Munjal\\3rd Year\\Sem 5\\DIP\\DIP-dataset\\PCB_DATASET\\yolo_labels\\08_open_circuit_01.txt\n",
      "Created YOLO label: D:\\BML Munjal\\3rd Year\\Sem 5\\DIP\\DIP-dataset\\PCB_DATASET\\yolo_labels\\08_open_circuit_02.txt\n",
      "Created YOLO label: D:\\BML Munjal\\3rd Year\\Sem 5\\DIP\\DIP-dataset\\PCB_DATASET\\yolo_labels\\08_open_circuit_03.txt\n",
      "Created YOLO label: D:\\BML Munjal\\3rd Year\\Sem 5\\DIP\\DIP-dataset\\PCB_DATASET\\yolo_labels\\08_open_circuit_04.txt\n",
      "Created YOLO label: D:\\BML Munjal\\3rd Year\\Sem 5\\DIP\\DIP-dataset\\PCB_DATASET\\yolo_labels\\08_open_circuit_05.txt\n",
      "Created YOLO label: D:\\BML Munjal\\3rd Year\\Sem 5\\DIP\\DIP-dataset\\PCB_DATASET\\yolo_labels\\08_open_circuit_06.txt\n",
      "Created YOLO label: D:\\BML Munjal\\3rd Year\\Sem 5\\DIP\\DIP-dataset\\PCB_DATASET\\yolo_labels\\08_open_circuit_07.txt\n",
      "Created YOLO label: D:\\BML Munjal\\3rd Year\\Sem 5\\DIP\\DIP-dataset\\PCB_DATASET\\yolo_labels\\08_open_circuit_08.txt\n",
      "Created YOLO label: D:\\BML Munjal\\3rd Year\\Sem 5\\DIP\\DIP-dataset\\PCB_DATASET\\yolo_labels\\08_open_circuit_09.txt\n",
      "Created YOLO label: D:\\BML Munjal\\3rd Year\\Sem 5\\DIP\\DIP-dataset\\PCB_DATASET\\yolo_labels\\08_open_circuit_10.txt\n",
      "Created YOLO label: D:\\BML Munjal\\3rd Year\\Sem 5\\DIP\\DIP-dataset\\PCB_DATASET\\yolo_labels\\08_short_01.txt\n",
      "Created YOLO label: D:\\BML Munjal\\3rd Year\\Sem 5\\DIP\\DIP-dataset\\PCB_DATASET\\yolo_labels\\08_short_02.txt\n",
      "Created YOLO label: D:\\BML Munjal\\3rd Year\\Sem 5\\DIP\\DIP-dataset\\PCB_DATASET\\yolo_labels\\08_short_03.txt\n",
      "Created YOLO label: D:\\BML Munjal\\3rd Year\\Sem 5\\DIP\\DIP-dataset\\PCB_DATASET\\yolo_labels\\08_short_04.txt\n",
      "Created YOLO label: D:\\BML Munjal\\3rd Year\\Sem 5\\DIP\\DIP-dataset\\PCB_DATASET\\yolo_labels\\08_short_05.txt\n",
      "Created YOLO label: D:\\BML Munjal\\3rd Year\\Sem 5\\DIP\\DIP-dataset\\PCB_DATASET\\yolo_labels\\08_short_06.txt\n",
      "Created YOLO label: D:\\BML Munjal\\3rd Year\\Sem 5\\DIP\\DIP-dataset\\PCB_DATASET\\yolo_labels\\08_short_07.txt\n",
      "Created YOLO label: D:\\BML Munjal\\3rd Year\\Sem 5\\DIP\\DIP-dataset\\PCB_DATASET\\yolo_labels\\08_short_08.txt\n",
      "Created YOLO label: D:\\BML Munjal\\3rd Year\\Sem 5\\DIP\\DIP-dataset\\PCB_DATASET\\yolo_labels\\08_short_09.txt\n",
      "Created YOLO label: D:\\BML Munjal\\3rd Year\\Sem 5\\DIP\\DIP-dataset\\PCB_DATASET\\yolo_labels\\08_short_10.txt\n",
      "Created YOLO label: D:\\BML Munjal\\3rd Year\\Sem 5\\DIP\\DIP-dataset\\PCB_DATASET\\yolo_labels\\08_spur_01.txt\n",
      "Created YOLO label: D:\\BML Munjal\\3rd Year\\Sem 5\\DIP\\DIP-dataset\\PCB_DATASET\\yolo_labels\\08_spur_02.txt\n",
      "Created YOLO label: D:\\BML Munjal\\3rd Year\\Sem 5\\DIP\\DIP-dataset\\PCB_DATASET\\yolo_labels\\08_spur_03.txt\n",
      "Created YOLO label: D:\\BML Munjal\\3rd Year\\Sem 5\\DIP\\DIP-dataset\\PCB_DATASET\\yolo_labels\\08_spur_04.txt\n",
      "Created YOLO label: D:\\BML Munjal\\3rd Year\\Sem 5\\DIP\\DIP-dataset\\PCB_DATASET\\yolo_labels\\08_spur_05.txt\n",
      "Created YOLO label: D:\\BML Munjal\\3rd Year\\Sem 5\\DIP\\DIP-dataset\\PCB_DATASET\\yolo_labels\\08_spur_06.txt\n",
      "Created YOLO label: D:\\BML Munjal\\3rd Year\\Sem 5\\DIP\\DIP-dataset\\PCB_DATASET\\yolo_labels\\08_spur_07.txt\n",
      "Created YOLO label: D:\\BML Munjal\\3rd Year\\Sem 5\\DIP\\DIP-dataset\\PCB_DATASET\\yolo_labels\\08_spur_08.txt\n",
      "Created YOLO label: D:\\BML Munjal\\3rd Year\\Sem 5\\DIP\\DIP-dataset\\PCB_DATASET\\yolo_labels\\08_spur_09.txt\n",
      "Created YOLO label: D:\\BML Munjal\\3rd Year\\Sem 5\\DIP\\DIP-dataset\\PCB_DATASET\\yolo_labels\\08_spur_10.txt\n",
      "Created YOLO label: D:\\BML Munjal\\3rd Year\\Sem 5\\DIP\\DIP-dataset\\PCB_DATASET\\yolo_labels\\08_spurious_copper_01.txt\n",
      "Created YOLO label: D:\\BML Munjal\\3rd Year\\Sem 5\\DIP\\DIP-dataset\\PCB_DATASET\\yolo_labels\\08_spurious_copper_02.txt\n",
      "Created YOLO label: D:\\BML Munjal\\3rd Year\\Sem 5\\DIP\\DIP-dataset\\PCB_DATASET\\yolo_labels\\08_spurious_copper_03.txt\n",
      "Created YOLO label: D:\\BML Munjal\\3rd Year\\Sem 5\\DIP\\DIP-dataset\\PCB_DATASET\\yolo_labels\\08_spurious_copper_04.txt\n",
      "Created YOLO label: D:\\BML Munjal\\3rd Year\\Sem 5\\DIP\\DIP-dataset\\PCB_DATASET\\yolo_labels\\08_spurious_copper_05.txt\n",
      "Created YOLO label: D:\\BML Munjal\\3rd Year\\Sem 5\\DIP\\DIP-dataset\\PCB_DATASET\\yolo_labels\\08_spurious_copper_06.txt\n",
      "Created YOLO label: D:\\BML Munjal\\3rd Year\\Sem 5\\DIP\\DIP-dataset\\PCB_DATASET\\yolo_labels\\08_spurious_copper_07.txt\n",
      "Created YOLO label: D:\\BML Munjal\\3rd Year\\Sem 5\\DIP\\DIP-dataset\\PCB_DATASET\\yolo_labels\\08_spurious_copper_08.txt\n",
      "Created YOLO label: D:\\BML Munjal\\3rd Year\\Sem 5\\DIP\\DIP-dataset\\PCB_DATASET\\yolo_labels\\08_spurious_copper_09.txt\n",
      "Created YOLO label: D:\\BML Munjal\\3rd Year\\Sem 5\\DIP\\DIP-dataset\\PCB_DATASET\\yolo_labels\\08_spurious_copper_10.txt\n",
      "Created YOLO label: D:\\BML Munjal\\3rd Year\\Sem 5\\DIP\\DIP-dataset\\PCB_DATASET\\yolo_labels\\09_missing_hole_01.txt\n",
      "Created YOLO label: D:\\BML Munjal\\3rd Year\\Sem 5\\DIP\\DIP-dataset\\PCB_DATASET\\yolo_labels\\09_missing_hole_02.txt\n",
      "Created YOLO label: D:\\BML Munjal\\3rd Year\\Sem 5\\DIP\\DIP-dataset\\PCB_DATASET\\yolo_labels\\09_missing_hole_03.txt\n",
      "Created YOLO label: D:\\BML Munjal\\3rd Year\\Sem 5\\DIP\\DIP-dataset\\PCB_DATASET\\yolo_labels\\09_missing_hole_04.txt\n",
      "Created YOLO label: D:\\BML Munjal\\3rd Year\\Sem 5\\DIP\\DIP-dataset\\PCB_DATASET\\yolo_labels\\09_missing_hole_05.txt\n",
      "Created YOLO label: D:\\BML Munjal\\3rd Year\\Sem 5\\DIP\\DIP-dataset\\PCB_DATASET\\yolo_labels\\09_missing_hole_06.txt\n",
      "Created YOLO label: D:\\BML Munjal\\3rd Year\\Sem 5\\DIP\\DIP-dataset\\PCB_DATASET\\yolo_labels\\09_missing_hole_07.txt\n",
      "Created YOLO label: D:\\BML Munjal\\3rd Year\\Sem 5\\DIP\\DIP-dataset\\PCB_DATASET\\yolo_labels\\09_missing_hole_08.txt\n",
      "Created YOLO label: D:\\BML Munjal\\3rd Year\\Sem 5\\DIP\\DIP-dataset\\PCB_DATASET\\yolo_labels\\09_missing_hole_09.txt\n",
      "Created YOLO label: D:\\BML Munjal\\3rd Year\\Sem 5\\DIP\\DIP-dataset\\PCB_DATASET\\yolo_labels\\09_missing_hole_10.txt\n",
      "Created YOLO label: D:\\BML Munjal\\3rd Year\\Sem 5\\DIP\\DIP-dataset\\PCB_DATASET\\yolo_labels\\09_mouse_bite_01.txt\n",
      "Created YOLO label: D:\\BML Munjal\\3rd Year\\Sem 5\\DIP\\DIP-dataset\\PCB_DATASET\\yolo_labels\\09_mouse_bite_02.txt\n",
      "Created YOLO label: D:\\BML Munjal\\3rd Year\\Sem 5\\DIP\\DIP-dataset\\PCB_DATASET\\yolo_labels\\09_mouse_bite_03.txt\n",
      "Created YOLO label: D:\\BML Munjal\\3rd Year\\Sem 5\\DIP\\DIP-dataset\\PCB_DATASET\\yolo_labels\\09_mouse_bite_04.txt\n",
      "Created YOLO label: D:\\BML Munjal\\3rd Year\\Sem 5\\DIP\\DIP-dataset\\PCB_DATASET\\yolo_labels\\09_mouse_bite_05.txt\n",
      "Created YOLO label: D:\\BML Munjal\\3rd Year\\Sem 5\\DIP\\DIP-dataset\\PCB_DATASET\\yolo_labels\\09_mouse_bite_06.txt\n",
      "Created YOLO label: D:\\BML Munjal\\3rd Year\\Sem 5\\DIP\\DIP-dataset\\PCB_DATASET\\yolo_labels\\09_mouse_bite_07.txt\n",
      "Created YOLO label: D:\\BML Munjal\\3rd Year\\Sem 5\\DIP\\DIP-dataset\\PCB_DATASET\\yolo_labels\\09_mouse_bite_08.txt\n",
      "Created YOLO label: D:\\BML Munjal\\3rd Year\\Sem 5\\DIP\\DIP-dataset\\PCB_DATASET\\yolo_labels\\09_mouse_bite_09.txt\n",
      "Created YOLO label: D:\\BML Munjal\\3rd Year\\Sem 5\\DIP\\DIP-dataset\\PCB_DATASET\\yolo_labels\\09_mouse_bite_10.txt\n",
      "Created YOLO label: D:\\BML Munjal\\3rd Year\\Sem 5\\DIP\\DIP-dataset\\PCB_DATASET\\yolo_labels\\09_open_circuit_01.txt\n",
      "Created YOLO label: D:\\BML Munjal\\3rd Year\\Sem 5\\DIP\\DIP-dataset\\PCB_DATASET\\yolo_labels\\09_open_circuit_02.txt\n",
      "Created YOLO label: D:\\BML Munjal\\3rd Year\\Sem 5\\DIP\\DIP-dataset\\PCB_DATASET\\yolo_labels\\09_open_circuit_03.txt\n",
      "Created YOLO label: D:\\BML Munjal\\3rd Year\\Sem 5\\DIP\\DIP-dataset\\PCB_DATASET\\yolo_labels\\09_open_circuit_04.txt\n",
      "Created YOLO label: D:\\BML Munjal\\3rd Year\\Sem 5\\DIP\\DIP-dataset\\PCB_DATASET\\yolo_labels\\09_open_circuit_05.txt\n",
      "Created YOLO label: D:\\BML Munjal\\3rd Year\\Sem 5\\DIP\\DIP-dataset\\PCB_DATASET\\yolo_labels\\09_open_circuit_06.txt\n",
      "Created YOLO label: D:\\BML Munjal\\3rd Year\\Sem 5\\DIP\\DIP-dataset\\PCB_DATASET\\yolo_labels\\09_open_circuit_07.txt\n",
      "Created YOLO label: D:\\BML Munjal\\3rd Year\\Sem 5\\DIP\\DIP-dataset\\PCB_DATASET\\yolo_labels\\09_open_circuit_08.txt\n",
      "Created YOLO label: D:\\BML Munjal\\3rd Year\\Sem 5\\DIP\\DIP-dataset\\PCB_DATASET\\yolo_labels\\09_open_circuit_09.txt\n",
      "Created YOLO label: D:\\BML Munjal\\3rd Year\\Sem 5\\DIP\\DIP-dataset\\PCB_DATASET\\yolo_labels\\09_open_circuit_10.txt\n",
      "Created YOLO label: D:\\BML Munjal\\3rd Year\\Sem 5\\DIP\\DIP-dataset\\PCB_DATASET\\yolo_labels\\09_short_01.txt\n",
      "Created YOLO label: D:\\BML Munjal\\3rd Year\\Sem 5\\DIP\\DIP-dataset\\PCB_DATASET\\yolo_labels\\09_short_02.txt\n",
      "Created YOLO label: D:\\BML Munjal\\3rd Year\\Sem 5\\DIP\\DIP-dataset\\PCB_DATASET\\yolo_labels\\09_short_03.txt\n",
      "Created YOLO label: D:\\BML Munjal\\3rd Year\\Sem 5\\DIP\\DIP-dataset\\PCB_DATASET\\yolo_labels\\09_short_04.txt\n",
      "Created YOLO label: D:\\BML Munjal\\3rd Year\\Sem 5\\DIP\\DIP-dataset\\PCB_DATASET\\yolo_labels\\09_short_05.txt\n",
      "Created YOLO label: D:\\BML Munjal\\3rd Year\\Sem 5\\DIP\\DIP-dataset\\PCB_DATASET\\yolo_labels\\09_short_06.txt\n",
      "Created YOLO label: D:\\BML Munjal\\3rd Year\\Sem 5\\DIP\\DIP-dataset\\PCB_DATASET\\yolo_labels\\09_short_07.txt\n",
      "Created YOLO label: D:\\BML Munjal\\3rd Year\\Sem 5\\DIP\\DIP-dataset\\PCB_DATASET\\yolo_labels\\09_short_08.txt\n",
      "Created YOLO label: D:\\BML Munjal\\3rd Year\\Sem 5\\DIP\\DIP-dataset\\PCB_DATASET\\yolo_labels\\09_short_09.txt\n",
      "Created YOLO label: D:\\BML Munjal\\3rd Year\\Sem 5\\DIP\\DIP-dataset\\PCB_DATASET\\yolo_labels\\09_short_10.txt\n",
      "Created YOLO label: D:\\BML Munjal\\3rd Year\\Sem 5\\DIP\\DIP-dataset\\PCB_DATASET\\yolo_labels\\09_spur_01.txt\n",
      "Created YOLO label: D:\\BML Munjal\\3rd Year\\Sem 5\\DIP\\DIP-dataset\\PCB_DATASET\\yolo_labels\\09_spur_02.txt\n",
      "Created YOLO label: D:\\BML Munjal\\3rd Year\\Sem 5\\DIP\\DIP-dataset\\PCB_DATASET\\yolo_labels\\09_spur_03.txt\n",
      "Created YOLO label: D:\\BML Munjal\\3rd Year\\Sem 5\\DIP\\DIP-dataset\\PCB_DATASET\\yolo_labels\\09_spur_04.txt\n",
      "Created YOLO label: D:\\BML Munjal\\3rd Year\\Sem 5\\DIP\\DIP-dataset\\PCB_DATASET\\yolo_labels\\09_spur_05.txt\n",
      "Created YOLO label: D:\\BML Munjal\\3rd Year\\Sem 5\\DIP\\DIP-dataset\\PCB_DATASET\\yolo_labels\\09_spur_06.txt\n",
      "Created YOLO label: D:\\BML Munjal\\3rd Year\\Sem 5\\DIP\\DIP-dataset\\PCB_DATASET\\yolo_labels\\09_spur_07.txt\n",
      "Created YOLO label: D:\\BML Munjal\\3rd Year\\Sem 5\\DIP\\DIP-dataset\\PCB_DATASET\\yolo_labels\\09_spur_08.txt\n",
      "Created YOLO label: D:\\BML Munjal\\3rd Year\\Sem 5\\DIP\\DIP-dataset\\PCB_DATASET\\yolo_labels\\09_spur_09.txt\n",
      "Created YOLO label: D:\\BML Munjal\\3rd Year\\Sem 5\\DIP\\DIP-dataset\\PCB_DATASET\\yolo_labels\\09_spur_10.txt\n",
      "Created YOLO label: D:\\BML Munjal\\3rd Year\\Sem 5\\DIP\\DIP-dataset\\PCB_DATASET\\yolo_labels\\09_spurious_copper_01.txt\n",
      "Created YOLO label: D:\\BML Munjal\\3rd Year\\Sem 5\\DIP\\DIP-dataset\\PCB_DATASET\\yolo_labels\\09_spurious_copper_02.txt\n",
      "Created YOLO label: D:\\BML Munjal\\3rd Year\\Sem 5\\DIP\\DIP-dataset\\PCB_DATASET\\yolo_labels\\09_spurious_copper_03.txt\n",
      "Created YOLO label: D:\\BML Munjal\\3rd Year\\Sem 5\\DIP\\DIP-dataset\\PCB_DATASET\\yolo_labels\\09_spurious_copper_04.txt\n",
      "Created YOLO label: D:\\BML Munjal\\3rd Year\\Sem 5\\DIP\\DIP-dataset\\PCB_DATASET\\yolo_labels\\09_spurious_copper_05.txt\n",
      "Created YOLO label: D:\\BML Munjal\\3rd Year\\Sem 5\\DIP\\DIP-dataset\\PCB_DATASET\\yolo_labels\\09_spurious_copper_06.txt\n",
      "Created YOLO label: D:\\BML Munjal\\3rd Year\\Sem 5\\DIP\\DIP-dataset\\PCB_DATASET\\yolo_labels\\09_spurious_copper_07.txt\n",
      "Created YOLO label: D:\\BML Munjal\\3rd Year\\Sem 5\\DIP\\DIP-dataset\\PCB_DATASET\\yolo_labels\\09_spurious_copper_08.txt\n",
      "Created YOLO label: D:\\BML Munjal\\3rd Year\\Sem 5\\DIP\\DIP-dataset\\PCB_DATASET\\yolo_labels\\09_spurious_copper_09.txt\n",
      "Created YOLO label: D:\\BML Munjal\\3rd Year\\Sem 5\\DIP\\DIP-dataset\\PCB_DATASET\\yolo_labels\\09_spurious_copper_10.txt\n",
      "Created YOLO label: D:\\BML Munjal\\3rd Year\\Sem 5\\DIP\\DIP-dataset\\PCB_DATASET\\yolo_labels\\10_missing_hole_01.txt\n",
      "Created YOLO label: D:\\BML Munjal\\3rd Year\\Sem 5\\DIP\\DIP-dataset\\PCB_DATASET\\yolo_labels\\10_missing_hole_02.txt\n",
      "Created YOLO label: D:\\BML Munjal\\3rd Year\\Sem 5\\DIP\\DIP-dataset\\PCB_DATASET\\yolo_labels\\10_missing_hole_03.txt\n",
      "Created YOLO label: D:\\BML Munjal\\3rd Year\\Sem 5\\DIP\\DIP-dataset\\PCB_DATASET\\yolo_labels\\10_missing_hole_04.txt\n",
      "Created YOLO label: D:\\BML Munjal\\3rd Year\\Sem 5\\DIP\\DIP-dataset\\PCB_DATASET\\yolo_labels\\10_missing_hole_05.txt\n",
      "Created YOLO label: D:\\BML Munjal\\3rd Year\\Sem 5\\DIP\\DIP-dataset\\PCB_DATASET\\yolo_labels\\10_mouse_bite_01.txt\n",
      "Created YOLO label: D:\\BML Munjal\\3rd Year\\Sem 5\\DIP\\DIP-dataset\\PCB_DATASET\\yolo_labels\\10_mouse_bite_02.txt\n",
      "Created YOLO label: D:\\BML Munjal\\3rd Year\\Sem 5\\DIP\\DIP-dataset\\PCB_DATASET\\yolo_labels\\10_mouse_bite_03.txt\n",
      "Created YOLO label: D:\\BML Munjal\\3rd Year\\Sem 5\\DIP\\DIP-dataset\\PCB_DATASET\\yolo_labels\\10_mouse_bite_04.txt\n",
      "Created YOLO label: D:\\BML Munjal\\3rd Year\\Sem 5\\DIP\\DIP-dataset\\PCB_DATASET\\yolo_labels\\10_mouse_bite_05.txt\n",
      "Created YOLO label: D:\\BML Munjal\\3rd Year\\Sem 5\\DIP\\DIP-dataset\\PCB_DATASET\\yolo_labels\\10_open_circuit_01.txt\n",
      "Created YOLO label: D:\\BML Munjal\\3rd Year\\Sem 5\\DIP\\DIP-dataset\\PCB_DATASET\\yolo_labels\\10_open_circuit_02.txt\n",
      "Created YOLO label: D:\\BML Munjal\\3rd Year\\Sem 5\\DIP\\DIP-dataset\\PCB_DATASET\\yolo_labels\\10_open_circuit_03.txt\n",
      "Created YOLO label: D:\\BML Munjal\\3rd Year\\Sem 5\\DIP\\DIP-dataset\\PCB_DATASET\\yolo_labels\\10_open_circuit_04.txt\n",
      "Created YOLO label: D:\\BML Munjal\\3rd Year\\Sem 5\\DIP\\DIP-dataset\\PCB_DATASET\\yolo_labels\\10_open_circuit_05.txt\n",
      "Created YOLO label: D:\\BML Munjal\\3rd Year\\Sem 5\\DIP\\DIP-dataset\\PCB_DATASET\\yolo_labels\\10_open_circuit_06.txt\n",
      "Created YOLO label: D:\\BML Munjal\\3rd Year\\Sem 5\\DIP\\DIP-dataset\\PCB_DATASET\\yolo_labels\\10_short_01.txt\n",
      "Created YOLO label: D:\\BML Munjal\\3rd Year\\Sem 5\\DIP\\DIP-dataset\\PCB_DATASET\\yolo_labels\\10_short_02.txt\n",
      "Created YOLO label: D:\\BML Munjal\\3rd Year\\Sem 5\\DIP\\DIP-dataset\\PCB_DATASET\\yolo_labels\\10_short_03.txt\n",
      "Created YOLO label: D:\\BML Munjal\\3rd Year\\Sem 5\\DIP\\DIP-dataset\\PCB_DATASET\\yolo_labels\\10_short_04.txt\n",
      "Created YOLO label: D:\\BML Munjal\\3rd Year\\Sem 5\\DIP\\DIP-dataset\\PCB_DATASET\\yolo_labels\\10_short_05.txt\n",
      "Created YOLO label: D:\\BML Munjal\\3rd Year\\Sem 5\\DIP\\DIP-dataset\\PCB_DATASET\\yolo_labels\\10_spur_01.txt\n",
      "Created YOLO label: D:\\BML Munjal\\3rd Year\\Sem 5\\DIP\\DIP-dataset\\PCB_DATASET\\yolo_labels\\10_spur_02.txt\n",
      "Created YOLO label: D:\\BML Munjal\\3rd Year\\Sem 5\\DIP\\DIP-dataset\\PCB_DATASET\\yolo_labels\\10_spur_03.txt\n",
      "Created YOLO label: D:\\BML Munjal\\3rd Year\\Sem 5\\DIP\\DIP-dataset\\PCB_DATASET\\yolo_labels\\10_spur_04.txt\n",
      "Created YOLO label: D:\\BML Munjal\\3rd Year\\Sem 5\\DIP\\DIP-dataset\\PCB_DATASET\\yolo_labels\\10_spur_05.txt\n",
      "Created YOLO label: D:\\BML Munjal\\3rd Year\\Sem 5\\DIP\\DIP-dataset\\PCB_DATASET\\yolo_labels\\10_spurious_copper_01.txt\n",
      "Created YOLO label: D:\\BML Munjal\\3rd Year\\Sem 5\\DIP\\DIP-dataset\\PCB_DATASET\\yolo_labels\\10_spurious_copper_02.txt\n",
      "Created YOLO label: D:\\BML Munjal\\3rd Year\\Sem 5\\DIP\\DIP-dataset\\PCB_DATASET\\yolo_labels\\10_spurious_copper_03.txt\n",
      "Created YOLO label: D:\\BML Munjal\\3rd Year\\Sem 5\\DIP\\DIP-dataset\\PCB_DATASET\\yolo_labels\\10_spurious_copper_04.txt\n",
      "Created YOLO label: D:\\BML Munjal\\3rd Year\\Sem 5\\DIP\\DIP-dataset\\PCB_DATASET\\yolo_labels\\10_spurious_copper_05.txt\n",
      "Created YOLO label: D:\\BML Munjal\\3rd Year\\Sem 5\\DIP\\DIP-dataset\\PCB_DATASET\\yolo_labels\\10_spurious_copper_06.txt\n",
      "Created YOLO label: D:\\BML Munjal\\3rd Year\\Sem 5\\DIP\\DIP-dataset\\PCB_DATASET\\yolo_labels\\11_missing_hole_01.txt\n",
      "Created YOLO label: D:\\BML Munjal\\3rd Year\\Sem 5\\DIP\\DIP-dataset\\PCB_DATASET\\yolo_labels\\11_missing_hole_02.txt\n",
      "Created YOLO label: D:\\BML Munjal\\3rd Year\\Sem 5\\DIP\\DIP-dataset\\PCB_DATASET\\yolo_labels\\11_missing_hole_03.txt\n",
      "Created YOLO label: D:\\BML Munjal\\3rd Year\\Sem 5\\DIP\\DIP-dataset\\PCB_DATASET\\yolo_labels\\11_missing_hole_04.txt\n",
      "Created YOLO label: D:\\BML Munjal\\3rd Year\\Sem 5\\DIP\\DIP-dataset\\PCB_DATASET\\yolo_labels\\11_missing_hole_05.txt\n",
      "Created YOLO label: D:\\BML Munjal\\3rd Year\\Sem 5\\DIP\\DIP-dataset\\PCB_DATASET\\yolo_labels\\11_missing_hole_06.txt\n",
      "Created YOLO label: D:\\BML Munjal\\3rd Year\\Sem 5\\DIP\\DIP-dataset\\PCB_DATASET\\yolo_labels\\11_missing_hole_07.txt\n",
      "Created YOLO label: D:\\BML Munjal\\3rd Year\\Sem 5\\DIP\\DIP-dataset\\PCB_DATASET\\yolo_labels\\11_missing_hole_08.txt\n",
      "Created YOLO label: D:\\BML Munjal\\3rd Year\\Sem 5\\DIP\\DIP-dataset\\PCB_DATASET\\yolo_labels\\11_missing_hole_09.txt\n",
      "Created YOLO label: D:\\BML Munjal\\3rd Year\\Sem 5\\DIP\\DIP-dataset\\PCB_DATASET\\yolo_labels\\11_missing_hole_10.txt\n",
      "Created YOLO label: D:\\BML Munjal\\3rd Year\\Sem 5\\DIP\\DIP-dataset\\PCB_DATASET\\yolo_labels\\11_mouse_bite_01.txt\n",
      "Created YOLO label: D:\\BML Munjal\\3rd Year\\Sem 5\\DIP\\DIP-dataset\\PCB_DATASET\\yolo_labels\\11_mouse_bite_02.txt\n",
      "Created YOLO label: D:\\BML Munjal\\3rd Year\\Sem 5\\DIP\\DIP-dataset\\PCB_DATASET\\yolo_labels\\11_mouse_bite_03.txt\n",
      "Created YOLO label: D:\\BML Munjal\\3rd Year\\Sem 5\\DIP\\DIP-dataset\\PCB_DATASET\\yolo_labels\\11_mouse_bite_04.txt\n",
      "Created YOLO label: D:\\BML Munjal\\3rd Year\\Sem 5\\DIP\\DIP-dataset\\PCB_DATASET\\yolo_labels\\11_mouse_bite_05.txt\n",
      "Created YOLO label: D:\\BML Munjal\\3rd Year\\Sem 5\\DIP\\DIP-dataset\\PCB_DATASET\\yolo_labels\\11_mouse_bite_06.txt\n",
      "Created YOLO label: D:\\BML Munjal\\3rd Year\\Sem 5\\DIP\\DIP-dataset\\PCB_DATASET\\yolo_labels\\11_mouse_bite_07.txt\n",
      "Created YOLO label: D:\\BML Munjal\\3rd Year\\Sem 5\\DIP\\DIP-dataset\\PCB_DATASET\\yolo_labels\\11_mouse_bite_08.txt\n",
      "Created YOLO label: D:\\BML Munjal\\3rd Year\\Sem 5\\DIP\\DIP-dataset\\PCB_DATASET\\yolo_labels\\11_mouse_bite_09.txt\n",
      "Created YOLO label: D:\\BML Munjal\\3rd Year\\Sem 5\\DIP\\DIP-dataset\\PCB_DATASET\\yolo_labels\\11_mouse_bite_10.txt\n",
      "Created YOLO label: D:\\BML Munjal\\3rd Year\\Sem 5\\DIP\\DIP-dataset\\PCB_DATASET\\yolo_labels\\11_open_circuit_01.txt\n",
      "Created YOLO label: D:\\BML Munjal\\3rd Year\\Sem 5\\DIP\\DIP-dataset\\PCB_DATASET\\yolo_labels\\11_open_circuit_02.txt\n",
      "Created YOLO label: D:\\BML Munjal\\3rd Year\\Sem 5\\DIP\\DIP-dataset\\PCB_DATASET\\yolo_labels\\11_open_circuit_03.txt\n",
      "Created YOLO label: D:\\BML Munjal\\3rd Year\\Sem 5\\DIP\\DIP-dataset\\PCB_DATASET\\yolo_labels\\11_open_circuit_04.txt\n",
      "Created YOLO label: D:\\BML Munjal\\3rd Year\\Sem 5\\DIP\\DIP-dataset\\PCB_DATASET\\yolo_labels\\11_open_circuit_05.txt\n",
      "Created YOLO label: D:\\BML Munjal\\3rd Year\\Sem 5\\DIP\\DIP-dataset\\PCB_DATASET\\yolo_labels\\11_open_circuit_06.txt\n",
      "Created YOLO label: D:\\BML Munjal\\3rd Year\\Sem 5\\DIP\\DIP-dataset\\PCB_DATASET\\yolo_labels\\11_open_circuit_07.txt\n",
      "Created YOLO label: D:\\BML Munjal\\3rd Year\\Sem 5\\DIP\\DIP-dataset\\PCB_DATASET\\yolo_labels\\11_open_circuit_08.txt\n",
      "Created YOLO label: D:\\BML Munjal\\3rd Year\\Sem 5\\DIP\\DIP-dataset\\PCB_DATASET\\yolo_labels\\11_open_circuit_09.txt\n",
      "Created YOLO label: D:\\BML Munjal\\3rd Year\\Sem 5\\DIP\\DIP-dataset\\PCB_DATASET\\yolo_labels\\11_open_circuit_10.txt\n",
      "Created YOLO label: D:\\BML Munjal\\3rd Year\\Sem 5\\DIP\\DIP-dataset\\PCB_DATASET\\yolo_labels\\11_short_01.txt\n",
      "Created YOLO label: D:\\BML Munjal\\3rd Year\\Sem 5\\DIP\\DIP-dataset\\PCB_DATASET\\yolo_labels\\11_short_02.txt\n",
      "Created YOLO label: D:\\BML Munjal\\3rd Year\\Sem 5\\DIP\\DIP-dataset\\PCB_DATASET\\yolo_labels\\11_short_03.txt\n",
      "Created YOLO label: D:\\BML Munjal\\3rd Year\\Sem 5\\DIP\\DIP-dataset\\PCB_DATASET\\yolo_labels\\11_short_04.txt\n",
      "Created YOLO label: D:\\BML Munjal\\3rd Year\\Sem 5\\DIP\\DIP-dataset\\PCB_DATASET\\yolo_labels\\11_short_05.txt\n",
      "Created YOLO label: D:\\BML Munjal\\3rd Year\\Sem 5\\DIP\\DIP-dataset\\PCB_DATASET\\yolo_labels\\11_short_06.txt\n",
      "Created YOLO label: D:\\BML Munjal\\3rd Year\\Sem 5\\DIP\\DIP-dataset\\PCB_DATASET\\yolo_labels\\11_short_07.txt\n",
      "Created YOLO label: D:\\BML Munjal\\3rd Year\\Sem 5\\DIP\\DIP-dataset\\PCB_DATASET\\yolo_labels\\11_short_08.txt\n",
      "Created YOLO label: D:\\BML Munjal\\3rd Year\\Sem 5\\DIP\\DIP-dataset\\PCB_DATASET\\yolo_labels\\11_short_09.txt\n",
      "Created YOLO label: D:\\BML Munjal\\3rd Year\\Sem 5\\DIP\\DIP-dataset\\PCB_DATASET\\yolo_labels\\11_short_10.txt\n",
      "Created YOLO label: D:\\BML Munjal\\3rd Year\\Sem 5\\DIP\\DIP-dataset\\PCB_DATASET\\yolo_labels\\11_spur_01.txt\n",
      "Created YOLO label: D:\\BML Munjal\\3rd Year\\Sem 5\\DIP\\DIP-dataset\\PCB_DATASET\\yolo_labels\\11_spur_02.txt\n",
      "Created YOLO label: D:\\BML Munjal\\3rd Year\\Sem 5\\DIP\\DIP-dataset\\PCB_DATASET\\yolo_labels\\11_spur_03.txt\n",
      "Created YOLO label: D:\\BML Munjal\\3rd Year\\Sem 5\\DIP\\DIP-dataset\\PCB_DATASET\\yolo_labels\\11_spur_04.txt\n",
      "Created YOLO label: D:\\BML Munjal\\3rd Year\\Sem 5\\DIP\\DIP-dataset\\PCB_DATASET\\yolo_labels\\11_spur_05.txt\n",
      "Created YOLO label: D:\\BML Munjal\\3rd Year\\Sem 5\\DIP\\DIP-dataset\\PCB_DATASET\\yolo_labels\\11_spur_06.txt\n",
      "Created YOLO label: D:\\BML Munjal\\3rd Year\\Sem 5\\DIP\\DIP-dataset\\PCB_DATASET\\yolo_labels\\11_spur_07.txt\n",
      "Created YOLO label: D:\\BML Munjal\\3rd Year\\Sem 5\\DIP\\DIP-dataset\\PCB_DATASET\\yolo_labels\\11_spur_08.txt\n",
      "Created YOLO label: D:\\BML Munjal\\3rd Year\\Sem 5\\DIP\\DIP-dataset\\PCB_DATASET\\yolo_labels\\11_spur_09.txt\n",
      "Created YOLO label: D:\\BML Munjal\\3rd Year\\Sem 5\\DIP\\DIP-dataset\\PCB_DATASET\\yolo_labels\\11_spur_10.txt\n",
      "Created YOLO label: D:\\BML Munjal\\3rd Year\\Sem 5\\DIP\\DIP-dataset\\PCB_DATASET\\yolo_labels\\11_spurious_copper_01.txt\n",
      "Created YOLO label: D:\\BML Munjal\\3rd Year\\Sem 5\\DIP\\DIP-dataset\\PCB_DATASET\\yolo_labels\\11_spurious_copper_02.txt\n",
      "Created YOLO label: D:\\BML Munjal\\3rd Year\\Sem 5\\DIP\\DIP-dataset\\PCB_DATASET\\yolo_labels\\11_spurious_copper_03.txt\n",
      "Created YOLO label: D:\\BML Munjal\\3rd Year\\Sem 5\\DIP\\DIP-dataset\\PCB_DATASET\\yolo_labels\\11_spurious_copper_04.txt\n",
      "Created YOLO label: D:\\BML Munjal\\3rd Year\\Sem 5\\DIP\\DIP-dataset\\PCB_DATASET\\yolo_labels\\11_spurious_copper_05.txt\n",
      "Created YOLO label: D:\\BML Munjal\\3rd Year\\Sem 5\\DIP\\DIP-dataset\\PCB_DATASET\\yolo_labels\\11_spurious_copper_06.txt\n",
      "Created YOLO label: D:\\BML Munjal\\3rd Year\\Sem 5\\DIP\\DIP-dataset\\PCB_DATASET\\yolo_labels\\11_spurious_copper_07.txt\n",
      "Created YOLO label: D:\\BML Munjal\\3rd Year\\Sem 5\\DIP\\DIP-dataset\\PCB_DATASET\\yolo_labels\\11_spurious_copper_08.txt\n",
      "Created YOLO label: D:\\BML Munjal\\3rd Year\\Sem 5\\DIP\\DIP-dataset\\PCB_DATASET\\yolo_labels\\11_spurious_copper_09.txt\n",
      "Created YOLO label: D:\\BML Munjal\\3rd Year\\Sem 5\\DIP\\DIP-dataset\\PCB_DATASET\\yolo_labels\\11_spurious_copper_10.txt\n",
      "Created YOLO label: D:\\BML Munjal\\3rd Year\\Sem 5\\DIP\\DIP-dataset\\PCB_DATASET\\yolo_labels\\12_missing_hole_01.txt\n",
      "Created YOLO label: D:\\BML Munjal\\3rd Year\\Sem 5\\DIP\\DIP-dataset\\PCB_DATASET\\yolo_labels\\12_missing_hole_02.txt\n",
      "Created YOLO label: D:\\BML Munjal\\3rd Year\\Sem 5\\DIP\\DIP-dataset\\PCB_DATASET\\yolo_labels\\12_missing_hole_03.txt\n",
      "Created YOLO label: D:\\BML Munjal\\3rd Year\\Sem 5\\DIP\\DIP-dataset\\PCB_DATASET\\yolo_labels\\12_missing_hole_04.txt\n",
      "Created YOLO label: D:\\BML Munjal\\3rd Year\\Sem 5\\DIP\\DIP-dataset\\PCB_DATASET\\yolo_labels\\12_missing_hole_05.txt\n",
      "Created YOLO label: D:\\BML Munjal\\3rd Year\\Sem 5\\DIP\\DIP-dataset\\PCB_DATASET\\yolo_labels\\12_missing_hole_06.txt\n",
      "Created YOLO label: D:\\BML Munjal\\3rd Year\\Sem 5\\DIP\\DIP-dataset\\PCB_DATASET\\yolo_labels\\12_missing_hole_07.txt\n",
      "Created YOLO label: D:\\BML Munjal\\3rd Year\\Sem 5\\DIP\\DIP-dataset\\PCB_DATASET\\yolo_labels\\12_missing_hole_08.txt\n",
      "Created YOLO label: D:\\BML Munjal\\3rd Year\\Sem 5\\DIP\\DIP-dataset\\PCB_DATASET\\yolo_labels\\12_missing_hole_09.txt\n",
      "Created YOLO label: D:\\BML Munjal\\3rd Year\\Sem 5\\DIP\\DIP-dataset\\PCB_DATASET\\yolo_labels\\12_missing_hole_10.txt\n",
      "Created YOLO label: D:\\BML Munjal\\3rd Year\\Sem 5\\DIP\\DIP-dataset\\PCB_DATASET\\yolo_labels\\12_mouse_bite_01.txt\n",
      "Created YOLO label: D:\\BML Munjal\\3rd Year\\Sem 5\\DIP\\DIP-dataset\\PCB_DATASET\\yolo_labels\\12_mouse_bite_02.txt\n",
      "Created YOLO label: D:\\BML Munjal\\3rd Year\\Sem 5\\DIP\\DIP-dataset\\PCB_DATASET\\yolo_labels\\12_mouse_bite_03.txt\n",
      "Created YOLO label: D:\\BML Munjal\\3rd Year\\Sem 5\\DIP\\DIP-dataset\\PCB_DATASET\\yolo_labels\\12_mouse_bite_04.txt\n",
      "Created YOLO label: D:\\BML Munjal\\3rd Year\\Sem 5\\DIP\\DIP-dataset\\PCB_DATASET\\yolo_labels\\12_mouse_bite_05.txt\n",
      "Created YOLO label: D:\\BML Munjal\\3rd Year\\Sem 5\\DIP\\DIP-dataset\\PCB_DATASET\\yolo_labels\\12_mouse_bite_06.txt\n",
      "Created YOLO label: D:\\BML Munjal\\3rd Year\\Sem 5\\DIP\\DIP-dataset\\PCB_DATASET\\yolo_labels\\12_mouse_bite_07.txt\n",
      "Created YOLO label: D:\\BML Munjal\\3rd Year\\Sem 5\\DIP\\DIP-dataset\\PCB_DATASET\\yolo_labels\\12_mouse_bite_08.txt\n",
      "Created YOLO label: D:\\BML Munjal\\3rd Year\\Sem 5\\DIP\\DIP-dataset\\PCB_DATASET\\yolo_labels\\12_mouse_bite_09.txt\n",
      "Created YOLO label: D:\\BML Munjal\\3rd Year\\Sem 5\\DIP\\DIP-dataset\\PCB_DATASET\\yolo_labels\\12_mouse_bite_10.txt\n",
      "Created YOLO label: D:\\BML Munjal\\3rd Year\\Sem 5\\DIP\\DIP-dataset\\PCB_DATASET\\yolo_labels\\12_open_circuit_01.txt\n",
      "Created YOLO label: D:\\BML Munjal\\3rd Year\\Sem 5\\DIP\\DIP-dataset\\PCB_DATASET\\yolo_labels\\12_open_circuit_02.txt\n",
      "Created YOLO label: D:\\BML Munjal\\3rd Year\\Sem 5\\DIP\\DIP-dataset\\PCB_DATASET\\yolo_labels\\12_open_circuit_03.txt\n",
      "Created YOLO label: D:\\BML Munjal\\3rd Year\\Sem 5\\DIP\\DIP-dataset\\PCB_DATASET\\yolo_labels\\12_open_circuit_04.txt\n",
      "Created YOLO label: D:\\BML Munjal\\3rd Year\\Sem 5\\DIP\\DIP-dataset\\PCB_DATASET\\yolo_labels\\12_open_circuit_05.txt\n",
      "Created YOLO label: D:\\BML Munjal\\3rd Year\\Sem 5\\DIP\\DIP-dataset\\PCB_DATASET\\yolo_labels\\12_open_circuit_06.txt\n",
      "Created YOLO label: D:\\BML Munjal\\3rd Year\\Sem 5\\DIP\\DIP-dataset\\PCB_DATASET\\yolo_labels\\12_open_circuit_07.txt\n",
      "Created YOLO label: D:\\BML Munjal\\3rd Year\\Sem 5\\DIP\\DIP-dataset\\PCB_DATASET\\yolo_labels\\12_open_circuit_08.txt\n",
      "Created YOLO label: D:\\BML Munjal\\3rd Year\\Sem 5\\DIP\\DIP-dataset\\PCB_DATASET\\yolo_labels\\12_open_circuit_09.txt\n",
      "Created YOLO label: D:\\BML Munjal\\3rd Year\\Sem 5\\DIP\\DIP-dataset\\PCB_DATASET\\yolo_labels\\12_open_circuit_10.txt\n",
      "Created YOLO label: D:\\BML Munjal\\3rd Year\\Sem 5\\DIP\\DIP-dataset\\PCB_DATASET\\yolo_labels\\12_short_01.txt\n",
      "Created YOLO label: D:\\BML Munjal\\3rd Year\\Sem 5\\DIP\\DIP-dataset\\PCB_DATASET\\yolo_labels\\12_short_02.txt\n",
      "Created YOLO label: D:\\BML Munjal\\3rd Year\\Sem 5\\DIP\\DIP-dataset\\PCB_DATASET\\yolo_labels\\12_short_03.txt\n",
      "Created YOLO label: D:\\BML Munjal\\3rd Year\\Sem 5\\DIP\\DIP-dataset\\PCB_DATASET\\yolo_labels\\12_short_04.txt\n",
      "Created YOLO label: D:\\BML Munjal\\3rd Year\\Sem 5\\DIP\\DIP-dataset\\PCB_DATASET\\yolo_labels\\12_short_05.txt\n",
      "Created YOLO label: D:\\BML Munjal\\3rd Year\\Sem 5\\DIP\\DIP-dataset\\PCB_DATASET\\yolo_labels\\12_short_06.txt\n",
      "Created YOLO label: D:\\BML Munjal\\3rd Year\\Sem 5\\DIP\\DIP-dataset\\PCB_DATASET\\yolo_labels\\12_short_07.txt\n",
      "Created YOLO label: D:\\BML Munjal\\3rd Year\\Sem 5\\DIP\\DIP-dataset\\PCB_DATASET\\yolo_labels\\12_short_08.txt\n",
      "Created YOLO label: D:\\BML Munjal\\3rd Year\\Sem 5\\DIP\\DIP-dataset\\PCB_DATASET\\yolo_labels\\12_short_09.txt\n",
      "Created YOLO label: D:\\BML Munjal\\3rd Year\\Sem 5\\DIP\\DIP-dataset\\PCB_DATASET\\yolo_labels\\12_short_10.txt\n",
      "Created YOLO label: D:\\BML Munjal\\3rd Year\\Sem 5\\DIP\\DIP-dataset\\PCB_DATASET\\yolo_labels\\12_spur_01.txt\n",
      "Created YOLO label: D:\\BML Munjal\\3rd Year\\Sem 5\\DIP\\DIP-dataset\\PCB_DATASET\\yolo_labels\\12_spur_02.txt\n",
      "Created YOLO label: D:\\BML Munjal\\3rd Year\\Sem 5\\DIP\\DIP-dataset\\PCB_DATASET\\yolo_labels\\12_spur_03.txt\n",
      "Created YOLO label: D:\\BML Munjal\\3rd Year\\Sem 5\\DIP\\DIP-dataset\\PCB_DATASET\\yolo_labels\\12_spur_04.txt\n",
      "Created YOLO label: D:\\BML Munjal\\3rd Year\\Sem 5\\DIP\\DIP-dataset\\PCB_DATASET\\yolo_labels\\12_spur_05.txt\n",
      "Created YOLO label: D:\\BML Munjal\\3rd Year\\Sem 5\\DIP\\DIP-dataset\\PCB_DATASET\\yolo_labels\\12_spur_06.txt\n",
      "Created YOLO label: D:\\BML Munjal\\3rd Year\\Sem 5\\DIP\\DIP-dataset\\PCB_DATASET\\yolo_labels\\12_spur_07.txt\n",
      "Created YOLO label: D:\\BML Munjal\\3rd Year\\Sem 5\\DIP\\DIP-dataset\\PCB_DATASET\\yolo_labels\\12_spur_08.txt\n",
      "Created YOLO label: D:\\BML Munjal\\3rd Year\\Sem 5\\DIP\\DIP-dataset\\PCB_DATASET\\yolo_labels\\12_spur_09.txt\n",
      "Created YOLO label: D:\\BML Munjal\\3rd Year\\Sem 5\\DIP\\DIP-dataset\\PCB_DATASET\\yolo_labels\\12_spur_10.txt\n",
      "Created YOLO label: D:\\BML Munjal\\3rd Year\\Sem 5\\DIP\\DIP-dataset\\PCB_DATASET\\yolo_labels\\12_spurious_copper_01.txt\n",
      "Created YOLO label: D:\\BML Munjal\\3rd Year\\Sem 5\\DIP\\DIP-dataset\\PCB_DATASET\\yolo_labels\\12_spurious_copper_02.txt\n",
      "Created YOLO label: D:\\BML Munjal\\3rd Year\\Sem 5\\DIP\\DIP-dataset\\PCB_DATASET\\yolo_labels\\12_spurious_copper_03.txt\n",
      "Created YOLO label: D:\\BML Munjal\\3rd Year\\Sem 5\\DIP\\DIP-dataset\\PCB_DATASET\\yolo_labels\\12_spurious_copper_04.txt\n",
      "Created YOLO label: D:\\BML Munjal\\3rd Year\\Sem 5\\DIP\\DIP-dataset\\PCB_DATASET\\yolo_labels\\12_spurious_copper_05.txt\n",
      "Created YOLO label: D:\\BML Munjal\\3rd Year\\Sem 5\\DIP\\DIP-dataset\\PCB_DATASET\\yolo_labels\\12_spurious_copper_06.txt\n",
      "Created YOLO label: D:\\BML Munjal\\3rd Year\\Sem 5\\DIP\\DIP-dataset\\PCB_DATASET\\yolo_labels\\12_spurious_copper_07.txt\n",
      "Created YOLO label: D:\\BML Munjal\\3rd Year\\Sem 5\\DIP\\DIP-dataset\\PCB_DATASET\\yolo_labels\\12_spurious_copper_08.txt\n",
      "Created YOLO label: D:\\BML Munjal\\3rd Year\\Sem 5\\DIP\\DIP-dataset\\PCB_DATASET\\yolo_labels\\12_spurious_copper_09.txt\n",
      "Created YOLO label: D:\\BML Munjal\\3rd Year\\Sem 5\\DIP\\DIP-dataset\\PCB_DATASET\\yolo_labels\\12_spurious_copper_10.txt\n"
     ]
    }
   ],
   "source": [
    "    import os\n",
    "    import pandas as pd\n",
    "    import xml.etree.ElementTree as ET\n",
    "\n",
    "    # Class mapping (adjust according to your dataset)\n",
    "    class_map = {\n",
    "        'missing_hole': 0,\n",
    "        'mouse_bite': 1,\n",
    "        'open_circuit': 2,\n",
    "        'short': 3,\n",
    "        'spur': 4,\n",
    "        'spurious_copper': 5\n",
    "    }\n",
    "\n",
    "    def parse_xml(xml_file):\n",
    "        \"\"\"\n",
    "        Parse a single PASCAL VOC XML file and extract annotation data.\n",
    "        \"\"\"\n",
    "        tree = ET.parse(xml_file)\n",
    "        root = tree.getroot()\n",
    "        data = []\n",
    "\n",
    "        filename = root.find('filename').text\n",
    "        width = int(root.find('size/width').text)\n",
    "        height = int(root.find('size/height').text)\n",
    "\n",
    "        for obj in root.findall('object'):\n",
    "            name = obj.find('name').text\n",
    "            xmin = int(obj.find('bndbox/xmin').text)\n",
    "            ymin = int(obj.find('bndbox/ymin').text)\n",
    "            xmax = int(obj.find('bndbox/xmax').text)\n",
    "            ymax = int(obj.find('bndbox/ymax').text)\n",
    "\n",
    "            data.append({\n",
    "                'filename': filename,\n",
    "                'width': width,\n",
    "                'height': height,\n",
    "                'class': name,\n",
    "                'xmin': xmin,\n",
    "                'ymin': ymin,\n",
    "                'xmax': xmax,\n",
    "                'ymax': ymax\n",
    "            })\n",
    "\n",
    "        return data\n",
    "\n",
    "    def create_yolo_labels(data, output_dir):\n",
    "        \"\"\"\n",
    "        Create YOLO label files from the parsed annotation data.\n",
    "        \"\"\"\n",
    "        os.makedirs(output_dir, exist_ok=True)  # Ensure the output directory exists\n",
    "\n",
    "        # Group data by filename to create one label file per image\n",
    "        for filename, group in data.groupby('filename'):\n",
    "            label_file_path = os.path.join(output_dir, f\"{os.path.splitext(filename)[0]}.txt\")\n",
    "\n",
    "            with open(label_file_path, 'w') as label_file:\n",
    "                for _, row in group.iterrows():\n",
    "                    class_id = class_map[row['class']]\n",
    "                    # Convert VOC to YOLO format\n",
    "                    center_x = ((row['xmin'] + row['xmax']) / 2) / row['width']\n",
    "                    center_y = ((row['ymin'] + row['ymax']) / 2) / row['height']\n",
    "                    bbox_width = (row['xmax'] - row['xmin']) / row['width']\n",
    "                    bbox_height = (row['ymax'] - row['ymin']) / row['height']\n",
    "\n",
    "                    # Write to label file\n",
    "                    label_file.write(f\"{class_id} {center_x:.6f} {center_y:.6f} {bbox_width:.6f} {bbox_height:.6f}\\n\")\n",
    "\n",
    "            print(f\"Created YOLO label: {label_file_path}\")\n",
    "\n",
    "    # Directory containing XML annotations\n",
    "    annot_dir = r\"D:\\BML Munjal\\3rd Year\\Sem 5\\DIP\\DIP-dataset\\PCB_DATASET\\Annotations\"  # Replace with your XML annotations directory path\n",
    "    output_labels_dir = r\"D:\\BML Munjal\\3rd Year\\Sem 5\\DIP\\DIP-dataset\\PCB_DATASET\\yolo_labels\"  # Replace with your desired output labels directory path\n",
    "\n",
    "    # Parse all XML files and load data into a DataFrame\n",
    "    all_data = []\n",
    "    for root, dirs, files in os.walk(annot_dir):\n",
    "        for name in files:\n",
    "            if name.endswith('.xml'):\n",
    "                xml_path = os.path.join(root, name)\n",
    "                all_data.extend(parse_xml(xml_path))\n",
    "\n",
    "    # Convert the list of dictionaries into a DataFrame\n",
    "    annot_df = pd.DataFrame(all_data)\n",
    "\n",
    "    # Generate YOLO labels\n",
    "    create_yolo_labels(annot_df, output_labels_dir)\n"
   ]
  },
  {
   "cell_type": "markdown",
   "metadata": {},
   "source": [
    "Splitting the Greyscale Images"
   ]
  },
  {
   "cell_type": "code",
   "execution_count": 21,
   "metadata": {},
   "outputs": [
    {
     "name": "stdout",
     "output_type": "stream",
     "text": [
      "Dataset split completed!\n",
      "Train: 554, Validation: 69, Test: 70\n"
     ]
    }
   ],
   "source": [
    "import os\n",
    "import random\n",
    "import shutil\n",
    "\n",
    "def split_images_and_labels(greyscale_images_dir, labels_dir, output_dir, train_split=0.8, val_split=0.1, test_split=0.1):\n",
    "    \"\"\"\n",
    "    Split images and labels into train, validation, and test datasets.\n",
    "    \"\"\"\n",
    "\n",
    "    # Ensure the splits sum to 1\n",
    "    if train_split + val_split + test_split != 1:\n",
    "        raise ValueError(\"Train, validation, and test splits must sum to 1.\")\n",
    "\n",
    "    # Create necessary directories for splits\n",
    "    os.makedirs(os.path.join(output_dir, 'images/train'), exist_ok=True)\n",
    "    os.makedirs(os.path.join(output_dir, 'images/val'), exist_ok=True)\n",
    "    os.makedirs(os.path.join(output_dir, 'images/test'), exist_ok=True)\n",
    "    os.makedirs(os.path.join(output_dir, 'labels/train'), exist_ok=True)\n",
    "    os.makedirs(os.path.join(output_dir, 'labels/val'), exist_ok=True)\n",
    "    os.makedirs(os.path.join(output_dir, 'labels/test'), exist_ok=True)\n",
    "\n",
    "    # Get all YOLO label files\n",
    "    label_files = [f for f in os.listdir(labels_dir) if f.endswith('.txt')]\n",
    "\n",
    "    # Shuffle the filenames for randomness\n",
    "    random.shuffle(label_files)\n",
    "\n",
    "    # Calculate split sizes\n",
    "    num_files = len(label_files)\n",
    "    num_train = int(num_files * train_split)\n",
    "    num_val = int(num_files * val_split)\n",
    "    num_test = num_files - num_train - num_val\n",
    "\n",
    "    train_files = label_files[:num_train]\n",
    "    val_files = label_files[num_train:num_train + num_val]\n",
    "    test_files = label_files[num_train + num_val:]\n",
    "\n",
    "    # Helper to save images and labels\n",
    "    def save_dataset(file_list, dataset):\n",
    "        for label_file in file_list:\n",
    "            # Paths for the label and corresponding image\n",
    "            label_path = os.path.join(labels_dir, label_file)\n",
    "            image_filename = os.path.splitext(label_file)[0] + '.jpg'  # Assuming images are in .jpg format\n",
    "            image_path = os.path.join(greyscale_images_dir, image_filename)\n",
    "\n",
    "            # Copy label file\n",
    "            shutil.copy(label_path, os.path.join(output_dir, f'labels/{dataset}/{label_file}'))\n",
    "\n",
    "            # Copy corresponding image if it exists\n",
    "            if os.path.exists(image_path):\n",
    "                shutil.copy(image_path, os.path.join(output_dir, f'images/{dataset}/{image_filename}'))\n",
    "            else:\n",
    "                print(f\"Warning: Image {image_filename} not found for label {label_file}.\")\n",
    "\n",
    "    # Save splits\n",
    "    save_dataset(train_files, 'train')\n",
    "    save_dataset(val_files, 'val')\n",
    "    save_dataset(test_files, 'test')\n",
    "\n",
    "    print(\"Dataset split completed!\")\n",
    "    print(f\"Train: {len(train_files)}, Validation: {len(val_files)}, Test: {len(test_files)}\")\n",
    "\n",
    "# Directories for grayscale images and YOLO labels\n",
    "greyscale_images_dir = r\"D:\\BML Munjal\\3rd Year\\Sem 5\\DIP\\DIP-dataset\\PCB_DATASET\\grayscale_images\"\n",
    "labels_dir = r\"D:\\BML Munjal\\3rd Year\\Sem 5\\DIP\\DIP-dataset\\PCB_DATASET\\yolo_labels\"\n",
    "output_dir = r\"D:\\BML Munjal\\3rd Year\\Sem 5\\DIP\\DIP-dataset\\PCB_DATASET\\split_dataset\\greyscale\"\n",
    "\n",
    "# Split the dataset\n",
    "split_images_and_labels(greyscale_images_dir, labels_dir, output_dir)\n"
   ]
  },
  {
   "cell_type": "markdown",
   "metadata": {},
   "source": [
    "Splitting the Binary Images"
   ]
  },
  {
   "cell_type": "code",
   "execution_count": 22,
   "metadata": {},
   "outputs": [
    {
     "name": "stdout",
     "output_type": "stream",
     "text": [
      "Dataset split completed!\n",
      "Train: 554, Validation: 69, Test: 70\n"
     ]
    }
   ],
   "source": [
    "import os\n",
    "import random\n",
    "import shutil\n",
    "\n",
    "def split_images_and_labels(binary_images_dir, labels_dir, output_dir, train_split=0.8, val_split=0.1, test_split=0.1):\n",
    "    \"\"\"\n",
    "    Split images and labels into train, validation, and test datasets.\n",
    "    \"\"\"\n",
    "\n",
    "    # Ensure the splits sum to 1\n",
    "    if train_split + val_split + test_split != 1:\n",
    "        raise ValueError(\"Train, validation, and test splits must sum to 1.\")\n",
    "\n",
    "    # Create necessary directories for splits\n",
    "    os.makedirs(os.path.join(output_dir, 'images/train'), exist_ok=True)\n",
    "    os.makedirs(os.path.join(output_dir, 'images/val'), exist_ok=True)\n",
    "    os.makedirs(os.path.join(output_dir, 'images/test'), exist_ok=True)\n",
    "    os.makedirs(os.path.join(output_dir, 'labels/train'), exist_ok=True)\n",
    "    os.makedirs(os.path.join(output_dir, 'labels/val'), exist_ok=True)\n",
    "    os.makedirs(os.path.join(output_dir, 'labels/test'), exist_ok=True)\n",
    "\n",
    "    # Get all YOLO label files\n",
    "    label_files = [f for f in os.listdir(labels_dir) if f.endswith('.txt')]\n",
    "\n",
    "    # Shuffle the filenames for randomness\n",
    "    random.shuffle(label_files)\n",
    "\n",
    "    # Calculate split sizes\n",
    "    num_files = len(label_files)\n",
    "    num_train = int(num_files * train_split)\n",
    "    num_val = int(num_files * val_split)\n",
    "    num_test = num_files - num_train - num_val\n",
    "\n",
    "    train_files = label_files[:num_train]\n",
    "    val_files = label_files[num_train:num_train + num_val]\n",
    "    test_files = label_files[num_train + num_val:]\n",
    "\n",
    "    # Helper to save images and labels\n",
    "    def save_dataset(file_list, dataset):\n",
    "        for label_file in file_list:\n",
    "            # Paths for the label and corresponding image\n",
    "            label_path = os.path.join(labels_dir, label_file)\n",
    "            image_filename = os.path.splitext(label_file)[0] + '.jpg'  # Assuming images are in .jpg format\n",
    "            image_path = os.path.join(binary_images_dir, image_filename)\n",
    "\n",
    "            # Copy label file\n",
    "            shutil.copy(label_path, os.path.join(output_dir, f'labels/{dataset}/{label_file}'))\n",
    "\n",
    "            # Copy corresponding image if it exists\n",
    "            if os.path.exists(image_path):\n",
    "                shutil.copy(image_path, os.path.join(output_dir, f'images/{dataset}/{image_filename}'))\n",
    "            else:\n",
    "                print(f\"Warning: Image {image_filename} not found for label {label_file}.\")\n",
    "\n",
    "    # Save splits\n",
    "    save_dataset(train_files, 'train')\n",
    "    save_dataset(val_files, 'val')\n",
    "    save_dataset(test_files, 'test')\n",
    "\n",
    "    print(\"Dataset split completed!\")\n",
    "    print(f\"Train: {len(train_files)}, Validation: {len(val_files)}, Test: {len(test_files)}\")\n",
    "\n",
    "# Directories for grayscale images and YOLO labels\n",
    "binary_images_dir = r\"D:\\BML Munjal\\3rd Year\\Sem 5\\DIP\\DIP-dataset\\PCB_DATASET\\grayscale_images\"\n",
    "labels_dir = r\"D:\\BML Munjal\\3rd Year\\Sem 5\\DIP\\DIP-dataset\\PCB_DATASET\\yolo_labels\"\n",
    "output_dir = r\"D:\\BML Munjal\\3rd Year\\Sem 5\\DIP\\DIP-dataset\\PCB_DATASET\\split_dataset\\binary\"\n",
    "\n",
    "# Split the dataset\n",
    "split_images_and_labels(binary_images_dir, labels_dir, output_dir)\n"
   ]
  },
  {
   "cell_type": "markdown",
   "metadata": {},
   "source": [
    "# Model Training"
   ]
  },
  {
   "cell_type": "markdown",
   "metadata": {},
   "source": [
    "K-Fold Cross Validation for Greyscale Images"
   ]
  },
  {
   "cell_type": "code",
   "execution_count": 11,
   "metadata": {},
   "outputs": [
    {
     "name": "stdout",
     "output_type": "stream",
     "text": [
      "Number of labels found: 554\n",
      "Number of images found: 554\n",
      "Labels DataFrame:\n",
      "                      0    1    2    3    4    5\n",
      "01_missing_hole_01  3.0  0.0  0.0  0.0  0.0  0.0\n",
      "01_missing_hole_03  3.0  0.0  0.0  0.0  0.0  0.0\n",
      "01_missing_hole_04  3.0  0.0  0.0  0.0  0.0  0.0\n",
      "01_missing_hole_05  4.0  0.0  0.0  0.0  0.0  0.0\n",
      "01_missing_hole_06  3.0  0.0  0.0  0.0  0.0  0.0\n",
      "Label Distribution Across Folds:\n",
      "                0         1         2         3         4         5\n",
      "split_1  0.464684  0.456274  0.642553  0.416058  0.437037  0.592453\n",
      "split_2  0.539062  0.467433  0.462121   0.48659  0.651064  0.455172\n",
      "split_3  0.498099  0.582645  0.413919  0.609959  0.431734  0.460208\n",
      "K-Fold Cross Validation setup completed successfully.\n"
     ]
    }
   ],
   "source": [
    "import os\n",
    "import shutil\n",
    "from pathlib import Path\n",
    "import pandas as pd\n",
    "from collections import Counter\n",
    "from sklearn.model_selection import KFold\n",
    "import yaml\n",
    "\n",
    "# Define the classes (e.g., defect types in the dataset)\n",
    "classes = ['missing_hole', 'mouse_bite', 'open_circuit', 'short', 'spur', 'spurious_copper']\n",
    "\n",
    "# Map class indices\n",
    "cls_idx = list(range(len(classes)))\n",
    "\n",
    "# Dataset directory\n",
    "dataset_dir = r\"D:\\BML Munjal\\3rd Year\\Sem 5\\DIP\\DIP-dataset\\PCB_DATASET\"\n",
    "output_dir = os.path.join(dataset_dir, 'split_dataset', 'greyscale')  # Update the output directory path\n",
    "dataset_path = Path(output_dir)\n",
    "\n",
    "# Step 1: Collect labels and images from the correct directories\n",
    "labels = sorted(dataset_path.rglob(\"labels/train/*.txt\"))  # All YOLO label files in 'labels/train'\n",
    "images = sorted(dataset_path.rglob(\"images/train/*.jpg\"))  # All images in 'images/train'\n",
    "\n",
    "print(f\"Number of labels found: {len(labels)}\")\n",
    "print(f\"Number of images found: {len(images)}\")\n",
    "\n",
    "# Check if the images and labels exist\n",
    "if len(labels) == 0 or len(images) == 0:\n",
    "    raise ValueError(\"No images or labels found. Please check the paths.\")\n",
    "\n",
    "# Use base filename (without extension) as ID\n",
    "indx = [l.stem for l in labels]\n",
    "\n",
    "# Create a DataFrame for labels with class indices as columns\n",
    "labels_df = pd.DataFrame([], columns=cls_idx, index=indx)\n",
    "\n",
    "for label in labels:\n",
    "    lbl_counter = Counter()\n",
    "\n",
    "    # Read each label file\n",
    "    with open(label, 'r') as lf:\n",
    "        lines = lf.readlines()\n",
    "\n",
    "    # Count class occurrences (YOLO format: class_index x_center y_center bbox_width bbox_height)\n",
    "    for l in lines:\n",
    "        lbl_counter[int(l.split(' ')[0])] += 1\n",
    "\n",
    "    # Add counts to DataFrame\n",
    "    labels_df.loc[label.stem] = lbl_counter\n",
    "\n",
    "# Replace NaN values with 0.0 (indicates no instances of a class for a given image)\n",
    "labels_df = labels_df.fillna(0.0)\n",
    "print(\"Labels DataFrame:\")\n",
    "print(labels_df.head())\n",
    "\n",
    "# Step 2: K-Fold Cross Validation\n",
    "ksplit = 3  # Number of folds\n",
    "kf = KFold(n_splits=ksplit, shuffle=True, random_state=20)  # Shuffle for randomness\n",
    "\n",
    "# If the number of samples is 0, this will cause an error, so we check the number of labels\n",
    "if len(labels_df) == 0:\n",
    "    raise ValueError(\"No samples to split. Please check the labels.\")\n",
    "\n",
    "kfolds = list(kf.split(labels_df))\n",
    "folds = [f'split_{n}' for n in range(1, ksplit + 1)]\n",
    "folds_df = pd.DataFrame(index=indx, columns=folds)\n",
    "\n",
    "# Assign train/val splits\n",
    "for idx, (train, val) in enumerate(kfolds, start=1):\n",
    "    folds_df[f'split_{idx}'].loc[labels_df.iloc[train].index] = 'train'\n",
    "    folds_df[f'split_{idx}'].loc[labels_df.iloc[val].index] = 'val'\n",
    "\n",
    "# Calculate label distribution for each fold\n",
    "fold_lbl_distrb = pd.DataFrame(index=folds, columns=cls_idx)\n",
    "for n, (train_indices, val_indices) in enumerate(kfolds, start=1):\n",
    "    train_totals = labels_df.iloc[train_indices].sum()\n",
    "    val_totals = labels_df.iloc[val_indices].sum()\n",
    "\n",
    "    # To avoid division by zero, add a small value (1E-7) to the denominator\n",
    "    ratio = val_totals / (train_totals + 1E-7)\n",
    "    fold_lbl_distrb.loc[f'split_{n}'] = ratio\n",
    "\n",
    "print(\"Label Distribution Across Folds:\")\n",
    "print(fold_lbl_distrb)\n",
    "\n",
    "# Step 3: Organize Images and Labels\n",
    "save_path = Path(dataset_path / f'{ksplit}fold_crossval')  # Directory to save splits\n",
    "save_path.mkdir(parents=True, exist_ok=True)\n",
    "\n",
    "# Create directories and dataset YAML files for each fold\n",
    "ds_yamls = []\n",
    "for split in folds_df.columns:\n",
    "    split_dir = save_path / split\n",
    "    split_dir.mkdir(parents=True, exist_ok=True)\n",
    "    (split_dir / 'train' / 'images').mkdir(parents=True, exist_ok=True)\n",
    "    (split_dir / 'train' / 'labels').mkdir(parents=True, exist_ok=True)\n",
    "    (split_dir / 'val' / 'images').mkdir(parents=True, exist_ok=True)\n",
    "    (split_dir / 'val' / 'labels').mkdir(parents=True, exist_ok=True)\n",
    "\n",
    "    # Create dataset YAML file for each split\n",
    "    dataset_yaml = split_dir / f'{split}_greyscale_dataset.yaml'\n",
    "    ds_yamls.append(dataset_yaml)\n",
    "\n",
    "    with open(dataset_yaml, 'w') as ds_y:\n",
    "        yaml.safe_dump({\n",
    "            'path': split_dir.as_posix(),\n",
    "            'train': 'train',\n",
    "            'val': 'val',\n",
    "            'names': classes\n",
    "        }, ds_y)\n",
    "\n",
    "# Step 4: Copy Images and Labels to Folds\n",
    "for image, label in zip(images, labels):\n",
    "    for split, k_split in folds_df.loc[image.stem].items():\n",
    "        # Destination directories\n",
    "        img_to_path = save_path / split / k_split / 'images'\n",
    "        lbl_to_path = save_path / split / k_split / 'labels'\n",
    "\n",
    "        # Copy image and label files to their respective directories\n",
    "        shutil.copy(image, img_to_path / image.name)\n",
    "        shutil.copy(label, lbl_to_path / label.name)\n",
    "\n",
    "# Step 5: Save Summary CSV Files\n",
    "folds_df.to_csv(save_path / \"kfold_datasplit.csv\")\n",
    "fold_lbl_distrb.to_csv(save_path / \"kfold_label_distribution.csv\")\n",
    "\n",
    "print(\"K-Fold Cross Validation setup completed successfully.\")\n"
   ]
  },
  {
   "cell_type": "markdown",
   "metadata": {},
   "source": [
    "K-Fold Cross Validation for Binary Images"
   ]
  },
  {
   "cell_type": "code",
   "execution_count": 3,
   "metadata": {},
   "outputs": [
    {
     "name": "stdout",
     "output_type": "stream",
     "text": [
      "Number of labels found: 554\n",
      "Number of images found: 554\n"
     ]
    },
    {
     "name": "stderr",
     "output_type": "stream",
     "text": [
      "C:\\Users\\prana\\AppData\\Local\\Temp\\ipykernel_23932\\3897760524.py:52: FutureWarning: Downcasting object dtype arrays on .fillna, .ffill, .bfill is deprecated and will change in a future version. Call result.infer_objects(copy=False) instead. To opt-in to the future behavior, set `pd.set_option('future.no_silent_downcasting', True)`\n",
      "  labels_df = labels_df.fillna(0.0)\n",
      "C:\\Users\\prana\\AppData\\Local\\Temp\\ipykernel_23932\\3897760524.py:70: FutureWarning: ChainedAssignmentError: behaviour will change in pandas 3.0!\n",
      "You are setting values through chained assignment. Currently this works in certain cases, but when using Copy-on-Write (which will become the default behaviour in pandas 3.0) this will never work to update the original DataFrame or Series, because the intermediate object on which we are setting values will behave as a copy.\n",
      "A typical example is when you are setting values in a column of a DataFrame, like:\n",
      "\n",
      "df[\"col\"][row_indexer] = value\n",
      "\n",
      "Use `df.loc[row_indexer, \"col\"] = values` instead, to perform the assignment in a single step and ensure this keeps updating the original `df`.\n",
      "\n",
      "See the caveats in the documentation: https://pandas.pydata.org/pandas-docs/stable/user_guide/indexing.html#returning-a-view-versus-a-copy\n",
      "\n",
      "  folds_df[f'split_{idx}'].loc[labels_df.iloc[train].index] = 'train'\n",
      "C:\\Users\\prana\\AppData\\Local\\Temp\\ipykernel_23932\\3897760524.py:71: FutureWarning: ChainedAssignmentError: behaviour will change in pandas 3.0!\n",
      "You are setting values through chained assignment. Currently this works in certain cases, but when using Copy-on-Write (which will become the default behaviour in pandas 3.0) this will never work to update the original DataFrame or Series, because the intermediate object on which we are setting values will behave as a copy.\n",
      "A typical example is when you are setting values in a column of a DataFrame, like:\n",
      "\n",
      "df[\"col\"][row_indexer] = value\n",
      "\n",
      "Use `df.loc[row_indexer, \"col\"] = values` instead, to perform the assignment in a single step and ensure this keeps updating the original `df`.\n",
      "\n",
      "See the caveats in the documentation: https://pandas.pydata.org/pandas-docs/stable/user_guide/indexing.html#returning-a-view-versus-a-copy\n",
      "\n",
      "  folds_df[f'split_{idx}'].loc[labels_df.iloc[val].index] = 'val'\n"
     ]
    },
    {
     "name": "stdout",
     "output_type": "stream",
     "text": [
      "Labels DataFrame:\n",
      "                      0    1    2    3    4    5\n",
      "01_missing_hole_01  3.0  0.0  0.0  0.0  0.0  0.0\n",
      "01_missing_hole_03  3.0  0.0  0.0  0.0  0.0  0.0\n",
      "01_missing_hole_04  3.0  0.0  0.0  0.0  0.0  0.0\n",
      "01_missing_hole_05  4.0  0.0  0.0  0.0  0.0  0.0\n",
      "01_missing_hole_08  3.0  0.0  0.0  0.0  0.0  0.0\n",
      "Label Distribution Across Folds:\n",
      "                0         1         2         3         4         5\n",
      "split_1  0.528958  0.386986  0.555102  0.460937  0.640167   0.47079\n",
      "split_2  0.546875  0.613546  0.488281  0.449612  0.405018  0.523132\n",
      "split_3  0.429603  0.516854   0.45977  0.598291  0.473684  0.507042\n",
      "K-Fold Cross Validation setup completed successfully.\n"
     ]
    }
   ],
   "source": [
    "import os\n",
    "import shutil\n",
    "from pathlib import Path\n",
    "import pandas as pd\n",
    "from collections import Counter\n",
    "from sklearn.model_selection import KFold\n",
    "import yaml\n",
    "\n",
    "# Define the classes (e.g., defect types in the dataset)\n",
    "classes = ['missing_hole', 'mouse_bite', 'open_circuit', 'short', 'spur', 'spurious_copper']\n",
    "\n",
    "# Map class indices\n",
    "cls_idx = list(range(len(classes)))\n",
    "\n",
    "# Dataset directory\n",
    "dataset_dir = r\"D:\\BML Munjal\\3rd Year\\Sem 5\\DIP\\DIP-dataset\\PCB_DATASET\"\n",
    "output_dir = os.path.join(dataset_dir, 'split_dataset', 'binary')  # Updated the path to binary folder\n",
    "dataset_path = Path(output_dir)\n",
    "\n",
    "# Step 1: Collect labels and images from the correct directories\n",
    "labels = sorted(dataset_path.rglob(\"labels/train/*.txt\"))  # All YOLO label files in 'labels/train'\n",
    "images = sorted(dataset_path.rglob(\"images/train/*.jpg\"))  # All images in 'images/train'\n",
    "\n",
    "print(f\"Number of labels found: {len(labels)}\")\n",
    "print(f\"Number of images found: {len(images)}\")\n",
    "\n",
    "# Check if the images and labels exist\n",
    "if len(labels) == 0 or len(images) == 0:\n",
    "    raise ValueError(\"No images or labels found. Please check the paths.\")\n",
    "\n",
    "# Use base filename (without extension) as ID\n",
    "indx = [l.stem for l in labels]\n",
    "\n",
    "# Create a DataFrame for labels with class indices as columns\n",
    "labels_df = pd.DataFrame([], columns=cls_idx, index=indx)\n",
    "\n",
    "for label in labels:\n",
    "    lbl_counter = Counter()\n",
    "\n",
    "    # Read each label file\n",
    "    with open(label, 'r') as lf:\n",
    "        lines = lf.readlines()\n",
    "\n",
    "    # Count class occurrences (YOLO format: class_index x_center y_center bbox_width bbox_height)\n",
    "    for l in lines:\n",
    "        lbl_counter[int(l.split(' ')[0])] += 1\n",
    "\n",
    "    # Add counts to DataFrame\n",
    "    labels_df.loc[label.stem] = lbl_counter\n",
    "\n",
    "# Replace NaN values with 0.0 (indicates no instances of a class for a given image)\n",
    "labels_df = labels_df.fillna(0.0)\n",
    "print(\"Labels DataFrame:\")\n",
    "print(labels_df.head())\n",
    "\n",
    "# Step 2: K-Fold Cross Validation\n",
    "ksplit = 3  # Number of folds\n",
    "kf = KFold(n_splits=ksplit, shuffle=True, random_state=20)  # Shuffle for randomness\n",
    "\n",
    "# If the number of samples is 0, this will cause an error, so we check the number of labels\n",
    "if len(labels_df) == 0:\n",
    "    raise ValueError(\"No samples to split. Please check the labels.\")\n",
    "\n",
    "kfolds = list(kf.split(labels_df))\n",
    "folds = [f'split_{n}' for n in range(1, ksplit + 1)]\n",
    "folds_df = pd.DataFrame(index=indx, columns=folds)\n",
    "\n",
    "# Assign train/val splits\n",
    "for idx, (train, val) in enumerate(kfolds, start=1):\n",
    "    folds_df[f'split_{idx}'].loc[labels_df.iloc[train].index] = 'train'\n",
    "    folds_df[f'split_{idx}'].loc[labels_df.iloc[val].index] = 'val'\n",
    "\n",
    "# Calculate label distribution for each fold\n",
    "fold_lbl_distrb = pd.DataFrame(index=folds, columns=cls_idx)\n",
    "for n, (train_indices, val_indices) in enumerate(kfolds, start=1):\n",
    "    train_totals = labels_df.iloc[train_indices].sum()\n",
    "    val_totals = labels_df.iloc[val_indices].sum()\n",
    "\n",
    "    # To avoid division by zero, add a small value (1E-7) to the denominator\n",
    "    ratio = val_totals / (train_totals + 1E-7)\n",
    "    fold_lbl_distrb.loc[f'split_{n}'] = ratio\n",
    "\n",
    "print(\"Label Distribution Across Folds:\")\n",
    "print(fold_lbl_distrb)\n",
    "\n",
    "# Step 3: Organize Images and Labels\n",
    "save_path = Path(dataset_path / f'{ksplit}fold_crossval')  # Directory to save splits\n",
    "save_path.mkdir(parents=True, exist_ok=True)\n",
    "\n",
    "# Create directories and dataset YAML files for each fold\n",
    "ds_yamls = []\n",
    "for split in folds_df.columns:\n",
    "    split_dir = save_path / split\n",
    "    split_dir.mkdir(parents=True, exist_ok=True)\n",
    "    (split_dir / 'train' / 'images').mkdir(parents=True, exist_ok=True)\n",
    "    (split_dir / 'train' / 'labels').mkdir(parents=True, exist_ok=True)\n",
    "    (split_dir / 'val' / 'images').mkdir(parents=True, exist_ok=True)\n",
    "    (split_dir / 'val' / 'labels').mkdir(parents=True, exist_ok=True)\n",
    "\n",
    "    # Create dataset YAML file for each split\n",
    "    dataset_yaml = split_dir / f'{split}_binary_dataset.yaml'\n",
    "    ds_yamls.append(dataset_yaml)\n",
    "\n",
    "    with open(dataset_yaml, 'w') as ds_y:\n",
    "        yaml.safe_dump({\n",
    "            'path': split_dir.as_posix(),\n",
    "            'train': 'train',\n",
    "            'val': 'val',\n",
    "            'names': classes\n",
    "        }, ds_y)\n",
    "\n",
    "# Step 4: Copy Images and Labels to Folds\n",
    "for image, label in zip(images, labels):\n",
    "    for split, k_split in folds_df.loc[image.stem].items():\n",
    "        # Destination directories\n",
    "        img_to_path = save_path / split / k_split / 'images'\n",
    "        lbl_to_path = save_path / split / k_split / 'labels'\n",
    "\n",
    "        # Copy image and label files to their respective directories\n",
    "        shutil.copy(image, img_to_path / image.name)\n",
    "        shutil.copy(label, lbl_to_path / label.name)\n",
    "\n",
    "# Step 5: Save Summary CSV Files\n",
    "folds_df.to_csv(save_path / \"kfold_datasplit.csv\")\n",
    "fold_lbl_distrb.to_csv(save_path / \"kfold_label_distribution.csv\")\n",
    "\n",
    "print(\"K-Fold Cross Validation setup completed successfully.\")\n"
   ]
  },
  {
   "cell_type": "markdown",
   "metadata": {},
   "source": [
    "YOLO on Greyscale Images\n"
   ]
  },
  {
   "cell_type": "code",
   "execution_count": 5,
   "metadata": {},
   "outputs": [
    {
     "name": "stdout",
     "output_type": "stream",
     "text": [
      "New https://pypi.org/project/ultralytics/8.3.36 available  Update with 'pip install -U ultralytics'\n",
      "Ultralytics 8.3.35  Python-3.12.4 torch-2.5.1+cpu CPU (11th Gen Intel Core(TM) i5-11400H 2.70GHz)\n",
      "\u001b[34m\u001b[1mengine\\trainer: \u001b[0mtask=detect, mode=train, model=yolov8s.pt, data=D:/BML Munjal/3rd Year/Sem 5/DIP/DIP-dataset/PCB_DATASET/split_dataset/greyscale/3fold_crossval\\split_1\\split_1_greyscale_dataset.yaml, epochs=10, time=None, patience=100, batch=16, imgsz=640, save=True, save_period=1, cache=False, device=None, workers=8, project=pcb, name=train8, exist_ok=False, pretrained=True, optimizer=auto, verbose=True, seed=0, deterministic=True, single_cls=False, rect=False, cos_lr=False, close_mosaic=10, resume=False, amp=True, fraction=1.0, profile=False, freeze=None, multi_scale=False, overlap_mask=True, mask_ratio=4, dropout=0.0, val=True, split=val, save_json=False, save_hybrid=False, conf=None, iou=0.7, max_det=300, half=False, dnn=False, plots=True, source=None, vid_stride=1, stream_buffer=False, visualize=False, augment=False, agnostic_nms=False, classes=None, retina_masks=False, embed=None, show=False, save_frames=False, save_txt=False, save_conf=False, save_crop=False, show_labels=True, show_conf=True, show_boxes=True, line_width=None, format=torchscript, keras=False, optimize=False, int8=False, dynamic=False, simplify=True, opset=None, workspace=4, nms=False, lr0=0.001, lrf=0.0001, momentum=0.937, weight_decay=0.0005, warmup_epochs=3.0, warmup_momentum=0.8, warmup_bias_lr=0.1, box=7.5, cls=0.5, dfl=1.5, pose=12.0, kobj=1.0, label_smoothing=0.0, nbs=64, hsv_h=0.015, hsv_s=0.7, hsv_v=0.4, degrees=0.0, translate=0.1, scale=0.5, shear=0.0, perspective=0.0, flipud=0.0, fliplr=0.5, bgr=0.0, mosaic=1.0, mixup=0.3, copy_paste=0.0, copy_paste_mode=flip, auto_augment=randaugment, erasing=0.4, crop_fraction=1.0, cfg=None, tracker=botsort.yaml, save_dir=pcb\\train8\n",
      "Overriding model.yaml nc=80 with nc=6\n",
      "\n",
      "                   from  n    params  module                                       arguments                     \n",
      "  0                  -1  1       928  ultralytics.nn.modules.conv.Conv             [3, 32, 3, 2]                 \n",
      "  1                  -1  1     18560  ultralytics.nn.modules.conv.Conv             [32, 64, 3, 2]                \n",
      "  2                  -1  1     29056  ultralytics.nn.modules.block.C2f             [64, 64, 1, True]             \n",
      "  3                  -1  1     73984  ultralytics.nn.modules.conv.Conv             [64, 128, 3, 2]               \n",
      "  4                  -1  2    197632  ultralytics.nn.modules.block.C2f             [128, 128, 2, True]           \n",
      "  5                  -1  1    295424  ultralytics.nn.modules.conv.Conv             [128, 256, 3, 2]              \n",
      "  6                  -1  2    788480  ultralytics.nn.modules.block.C2f             [256, 256, 2, True]           \n",
      "  7                  -1  1   1180672  ultralytics.nn.modules.conv.Conv             [256, 512, 3, 2]              \n",
      "  8                  -1  1   1838080  ultralytics.nn.modules.block.C2f             [512, 512, 1, True]           \n",
      "  9                  -1  1    656896  ultralytics.nn.modules.block.SPPF            [512, 512, 5]                 \n",
      " 10                  -1  1         0  torch.nn.modules.upsampling.Upsample         [None, 2, 'nearest']          \n",
      " 11             [-1, 6]  1         0  ultralytics.nn.modules.conv.Concat           [1]                           \n",
      " 12                  -1  1    591360  ultralytics.nn.modules.block.C2f             [768, 256, 1]                 \n",
      " 13                  -1  1         0  torch.nn.modules.upsampling.Upsample         [None, 2, 'nearest']          \n",
      " 14             [-1, 4]  1         0  ultralytics.nn.modules.conv.Concat           [1]                           \n",
      " 15                  -1  1    148224  ultralytics.nn.modules.block.C2f             [384, 128, 1]                 \n",
      " 16                  -1  1    147712  ultralytics.nn.modules.conv.Conv             [128, 128, 3, 2]              \n",
      " 17            [-1, 12]  1         0  ultralytics.nn.modules.conv.Concat           [1]                           \n",
      " 18                  -1  1    493056  ultralytics.nn.modules.block.C2f             [384, 256, 1]                 \n",
      " 19                  -1  1    590336  ultralytics.nn.modules.conv.Conv             [256, 256, 3, 2]              \n",
      " 20             [-1, 9]  1         0  ultralytics.nn.modules.conv.Concat           [1]                           \n",
      " 21                  -1  1   1969152  ultralytics.nn.modules.block.C2f             [768, 512, 1]                 \n",
      " 22        [15, 18, 21]  1   2118370  ultralytics.nn.modules.head.Detect           [6, [128, 256, 512]]          \n",
      "Model summary: 225 layers, 11,137,922 parameters, 11,137,906 gradients, 28.7 GFLOPs\n",
      "\n",
      "Transferred 349/355 items from pretrained weights\n",
      "Freezing layer 'model.22.dfl.conv.weight'\n"
     ]
    },
    {
     "name": "stderr",
     "output_type": "stream",
     "text": [
      "\u001b[34m\u001b[1mtrain: \u001b[0mScanning D:\\BML Munjal\\3rd Year\\Sem 5\\DIP\\DIP-dataset\\PCB_DATASET\\split_dataset\\greyscale\\3fold_crossval\\split_1\\train\\labels.cache... 369 images, 0 backgrounds, 0 corrupt: 100%|██████████| 369/369 [00:00<?, ?it/s]\n",
      "\u001b[34m\u001b[1mval: \u001b[0mScanning D:\\BML Munjal\\3rd Year\\Sem 5\\DIP\\DIP-dataset\\PCB_DATASET\\split_dataset\\greyscale\\3fold_crossval\\split_1\\val\\labels.cache... 185 images, 0 backgrounds, 0 corrupt: 100%|██████████| 185/185 [00:00<?, ?it/s]"
     ]
    },
    {
     "name": "stdout",
     "output_type": "stream",
     "text": [
      "Plotting labels to pcb\\train8\\labels.jpg... \n"
     ]
    },
    {
     "name": "stderr",
     "output_type": "stream",
     "text": [
      "\n"
     ]
    },
    {
     "name": "stdout",
     "output_type": "stream",
     "text": [
      "\u001b[34m\u001b[1moptimizer:\u001b[0m 'optimizer=auto' found, ignoring 'lr0=0.001' and 'momentum=0.937' and determining best 'optimizer', 'lr0' and 'momentum' automatically... \n",
      "\u001b[34m\u001b[1moptimizer:\u001b[0m AdamW(lr=0.001, momentum=0.9) with parameter groups 57 weight(decay=0.0), 64 weight(decay=0.0005), 63 bias(decay=0.0)\n",
      "Image sizes 640 train, 640 val\n",
      "Using 0 dataloader workers\n",
      "Logging results to \u001b[1mpcb\\train8\u001b[0m\n",
      "Starting training for 10 epochs...\n",
      "Closing dataloader mosaic\n",
      "\n",
      "      Epoch    GPU_mem   box_loss   cls_loss   dfl_loss  Instances       Size\n"
     ]
    },
    {
     "name": "stderr",
     "output_type": "stream",
     "text": [
      "       1/10         0G      3.826      16.58      1.948          5        640: 100%|██████████| 24/24 [03:00<00:00,  7.52s/it]\n",
      "                 Class     Images  Instances      Box(P          R      mAP50  mAP50-95):   0%|          | 0/6 [00:00<?, ?it/s]"
     ]
    },
    {
     "name": "stdout",
     "output_type": "stream",
     "text": [
      "WARNING  NMS time limit 3.600s exceeded\n"
     ]
    },
    {
     "name": "stderr",
     "output_type": "stream",
     "text": [
      "                 Class     Images  Instances      Box(P          R      mAP50  mAP50-95):  17%|█▋        | 1/6 [00:09<00:48,  9.78s/it]"
     ]
    },
    {
     "name": "stdout",
     "output_type": "stream",
     "text": [
      "WARNING  NMS time limit 3.600s exceeded\n"
     ]
    },
    {
     "name": "stderr",
     "output_type": "stream",
     "text": [
      "                 Class     Images  Instances      Box(P          R      mAP50  mAP50-95):  33%|███▎      | 2/6 [00:19<00:38,  9.74s/it]"
     ]
    },
    {
     "name": "stdout",
     "output_type": "stream",
     "text": [
      "WARNING  NMS time limit 3.600s exceeded\n"
     ]
    },
    {
     "name": "stderr",
     "output_type": "stream",
     "text": [
      "                 Class     Images  Instances      Box(P          R      mAP50  mAP50-95):  50%|█████     | 3/6 [00:29<00:29,  9.73s/it]"
     ]
    },
    {
     "name": "stdout",
     "output_type": "stream",
     "text": [
      "WARNING  NMS time limit 3.600s exceeded\n"
     ]
    },
    {
     "name": "stderr",
     "output_type": "stream",
     "text": [
      "                 Class     Images  Instances      Box(P          R      mAP50  mAP50-95):  67%|██████▋   | 4/6 [00:38<00:19,  9.74s/it]"
     ]
    },
    {
     "name": "stdout",
     "output_type": "stream",
     "text": [
      "WARNING  NMS time limit 3.600s exceeded\n"
     ]
    },
    {
     "name": "stderr",
     "output_type": "stream",
     "text": [
      "                 Class     Images  Instances      Box(P          R      mAP50  mAP50-95):  83%|████████▎ | 5/6 [00:48<00:09,  9.75s/it]"
     ]
    },
    {
     "name": "stdout",
     "output_type": "stream",
     "text": [
      "WARNING  NMS time limit 3.250s exceeded\n"
     ]
    },
    {
     "name": "stderr",
     "output_type": "stream",
     "text": [
      "                 Class     Images  Instances      Box(P          R      mAP50  mAP50-95): 100%|██████████| 6/6 [00:56<00:00,  9.47s/it]"
     ]
    },
    {
     "name": "stdout",
     "output_type": "stream",
     "text": [
      "                   all        185        785      0.511     0.0173    0.00263    0.00136\n"
     ]
    },
    {
     "name": "stderr",
     "output_type": "stream",
     "text": [
      "\n"
     ]
    },
    {
     "name": "stdout",
     "output_type": "stream",
     "text": [
      "\n",
      "      Epoch    GPU_mem   box_loss   cls_loss   dfl_loss  Instances       Size\n"
     ]
    },
    {
     "name": "stderr",
     "output_type": "stream",
     "text": [
      "       2/10         0G       2.79      4.904      1.328          3        640: 100%|██████████| 24/24 [03:01<00:00,  7.54s/it]\n",
      "                 Class     Images  Instances      Box(P          R      mAP50  mAP50-95): 100%|██████████| 6/6 [00:44<00:00,  7.34s/it]"
     ]
    },
    {
     "name": "stdout",
     "output_type": "stream",
     "text": [
      "                   all        185        785      0.276      0.173      0.137     0.0578\n"
     ]
    },
    {
     "name": "stderr",
     "output_type": "stream",
     "text": [
      "\n"
     ]
    },
    {
     "name": "stdout",
     "output_type": "stream",
     "text": [
      "\n",
      "      Epoch    GPU_mem   box_loss   cls_loss   dfl_loss  Instances       Size\n"
     ]
    },
    {
     "name": "stderr",
     "output_type": "stream",
     "text": [
      "       3/10         0G      2.385      3.178      1.181          4        640: 100%|██████████| 24/24 [03:01<00:00,  7.58s/it]\n",
      "                 Class     Images  Instances      Box(P          R      mAP50  mAP50-95): 100%|██████████| 6/6 [00:37<00:00,  6.23s/it]"
     ]
    },
    {
     "name": "stdout",
     "output_type": "stream",
     "text": [
      "                   all        185        785      0.374       0.43      0.334      0.131\n"
     ]
    },
    {
     "name": "stderr",
     "output_type": "stream",
     "text": [
      "\n"
     ]
    },
    {
     "name": "stdout",
     "output_type": "stream",
     "text": [
      "\n",
      "      Epoch    GPU_mem   box_loss   cls_loss   dfl_loss  Instances       Size\n"
     ]
    },
    {
     "name": "stderr",
     "output_type": "stream",
     "text": [
      "       4/10         0G      2.273      2.459      1.137          3        640: 100%|██████████| 24/24 [03:02<00:00,  7.59s/it]\n",
      "                 Class     Images  Instances      Box(P          R      mAP50  mAP50-95): 100%|██████████| 6/6 [00:36<00:00,  6.02s/it]"
     ]
    },
    {
     "name": "stdout",
     "output_type": "stream",
     "text": [
      "                   all        185        785      0.503      0.506      0.452       0.18\n"
     ]
    },
    {
     "name": "stderr",
     "output_type": "stream",
     "text": [
      "\n"
     ]
    },
    {
     "name": "stdout",
     "output_type": "stream",
     "text": [
      "\n",
      "      Epoch    GPU_mem   box_loss   cls_loss   dfl_loss  Instances       Size\n"
     ]
    },
    {
     "name": "stderr",
     "output_type": "stream",
     "text": [
      "       5/10         0G      2.092       1.96      1.102          5        640: 100%|██████████| 24/24 [03:00<00:00,  7.51s/it]\n",
      "                 Class     Images  Instances      Box(P          R      mAP50  mAP50-95): 100%|██████████| 6/6 [00:35<00:00,  5.98s/it]"
     ]
    },
    {
     "name": "stdout",
     "output_type": "stream",
     "text": [
      "                   all        185        785      0.658      0.519      0.589       0.25\n"
     ]
    },
    {
     "name": "stderr",
     "output_type": "stream",
     "text": [
      "\n"
     ]
    },
    {
     "name": "stdout",
     "output_type": "stream",
     "text": [
      "\n",
      "      Epoch    GPU_mem   box_loss   cls_loss   dfl_loss  Instances       Size\n"
     ]
    },
    {
     "name": "stderr",
     "output_type": "stream",
     "text": [
      "       6/10         0G      2.083       1.71      1.068          5        640: 100%|██████████| 24/24 [03:01<00:00,  7.57s/it]\n",
      "                 Class     Images  Instances      Box(P          R      mAP50  mAP50-95): 100%|██████████| 6/6 [00:35<00:00,  5.96s/it]"
     ]
    },
    {
     "name": "stdout",
     "output_type": "stream",
     "text": [
      "                   all        185        785      0.758       0.58      0.664      0.289\n"
     ]
    },
    {
     "name": "stderr",
     "output_type": "stream",
     "text": [
      "\n"
     ]
    },
    {
     "name": "stdout",
     "output_type": "stream",
     "text": [
      "\n",
      "      Epoch    GPU_mem   box_loss   cls_loss   dfl_loss  Instances       Size\n"
     ]
    },
    {
     "name": "stderr",
     "output_type": "stream",
     "text": [
      "       7/10         0G      1.931      1.586      1.048          5        640: 100%|██████████| 24/24 [02:59<00:00,  7.49s/it]\n",
      "                 Class     Images  Instances      Box(P          R      mAP50  mAP50-95): 100%|██████████| 6/6 [00:35<00:00,  5.92s/it]"
     ]
    },
    {
     "name": "stdout",
     "output_type": "stream",
     "text": [
      "                   all        185        785      0.811       0.66      0.722      0.333\n"
     ]
    },
    {
     "name": "stderr",
     "output_type": "stream",
     "text": [
      "\n"
     ]
    },
    {
     "name": "stdout",
     "output_type": "stream",
     "text": [
      "\n",
      "      Epoch    GPU_mem   box_loss   cls_loss   dfl_loss  Instances       Size\n"
     ]
    },
    {
     "name": "stderr",
     "output_type": "stream",
     "text": [
      "       8/10         0G      1.865      1.439      1.021          5        640: 100%|██████████| 24/24 [03:01<00:00,  7.56s/it]\n",
      "                 Class     Images  Instances      Box(P          R      mAP50  mAP50-95): 100%|██████████| 6/6 [00:35<00:00,  5.98s/it]"
     ]
    },
    {
     "name": "stdout",
     "output_type": "stream",
     "text": [
      "                   all        185        785      0.849      0.682      0.771      0.349\n"
     ]
    },
    {
     "name": "stderr",
     "output_type": "stream",
     "text": [
      "\n"
     ]
    },
    {
     "name": "stdout",
     "output_type": "stream",
     "text": [
      "\n",
      "      Epoch    GPU_mem   box_loss   cls_loss   dfl_loss  Instances       Size\n"
     ]
    },
    {
     "name": "stderr",
     "output_type": "stream",
     "text": [
      "       9/10         0G      1.852      1.359      1.019          5        640: 100%|██████████| 24/24 [03:00<00:00,  7.52s/it]\n",
      "                 Class     Images  Instances      Box(P          R      mAP50  mAP50-95): 100%|██████████| 6/6 [00:35<00:00,  5.94s/it]"
     ]
    },
    {
     "name": "stdout",
     "output_type": "stream",
     "text": [
      "                   all        185        785      0.854       0.69      0.792       0.37\n"
     ]
    },
    {
     "name": "stderr",
     "output_type": "stream",
     "text": [
      "\n"
     ]
    },
    {
     "name": "stdout",
     "output_type": "stream",
     "text": [
      "\n",
      "      Epoch    GPU_mem   box_loss   cls_loss   dfl_loss  Instances       Size\n"
     ]
    },
    {
     "name": "stderr",
     "output_type": "stream",
     "text": [
      "      10/10         0G      1.811      1.297      1.009          3        640: 100%|██████████| 24/24 [03:00<00:00,  7.53s/it]\n",
      "                 Class     Images  Instances      Box(P          R      mAP50  mAP50-95): 100%|██████████| 6/6 [00:36<00:00,  6.07s/it]"
     ]
    },
    {
     "name": "stdout",
     "output_type": "stream",
     "text": [
      "                   all        185        785      0.896      0.697      0.806      0.381\n"
     ]
    },
    {
     "name": "stderr",
     "output_type": "stream",
     "text": [
      "\n"
     ]
    },
    {
     "name": "stdout",
     "output_type": "stream",
     "text": [
      "\n",
      "10 epochs completed in 0.613 hours.\n",
      "Optimizer stripped from pcb\\train8\\weights\\last.pt, 22.5MB\n",
      "Optimizer stripped from pcb\\train8\\weights\\best.pt, 22.5MB\n",
      "\n",
      "Validating pcb\\train8\\weights\\best.pt...\n",
      "Ultralytics 8.3.35  Python-3.12.4 torch-2.5.1+cpu CPU (11th Gen Intel Core(TM) i5-11400H 2.70GHz)\n",
      "Model summary (fused): 168 layers, 11,127,906 parameters, 0 gradients, 28.4 GFLOPs\n"
     ]
    },
    {
     "name": "stderr",
     "output_type": "stream",
     "text": [
      "                 Class     Images  Instances      Box(P          R      mAP50  mAP50-95): 100%|██████████| 6/6 [00:30<00:00,  5.09s/it]\n"
     ]
    },
    {
     "name": "stdout",
     "output_type": "stream",
     "text": [
      "                   all        185        785      0.896      0.696      0.805      0.381\n",
      "          missing_hole         29        125      0.985       0.88      0.956      0.527\n",
      "            mouse_bite         28        120       0.86      0.708      0.765      0.335\n",
      "          open_circuit         35        151      0.925      0.629      0.806      0.357\n",
      "                 short         28        114      0.806      0.719      0.843       0.37\n",
      "                  spur         29        118      0.891        0.5      0.624      0.299\n",
      "       spurious_copper         36        157      0.906      0.739      0.838        0.4\n",
      "Speed: 2.8ms preprocess, 153.4ms inference, 0.0ms loss, 0.4ms postprocess per image\n",
      "Results saved to \u001b[1mpcb\\train8\u001b[0m\n",
      "New https://pypi.org/project/ultralytics/8.3.36 available  Update with 'pip install -U ultralytics'\n",
      "Ultralytics 8.3.35  Python-3.12.4 torch-2.5.1+cpu CPU (11th Gen Intel Core(TM) i5-11400H 2.70GHz)\n",
      "\u001b[34m\u001b[1mengine\\trainer: \u001b[0mtask=detect, mode=train, model=yolov8s.pt, data=D:/BML Munjal/3rd Year/Sem 5/DIP/DIP-dataset/PCB_DATASET/split_dataset/greyscale/3fold_crossval\\split_2\\split_2_greyscale_dataset.yaml, epochs=10, time=None, patience=100, batch=16, imgsz=640, save=True, save_period=1, cache=False, device=None, workers=0, project=pcb, name=train82, exist_ok=False, pretrained=True, optimizer=auto, verbose=True, seed=0, deterministic=True, single_cls=False, rect=False, cos_lr=False, close_mosaic=10, resume=False, amp=True, fraction=1.0, profile=False, freeze=None, multi_scale=False, overlap_mask=True, mask_ratio=4, dropout=0.0, val=True, split=val, save_json=False, save_hybrid=False, conf=None, iou=0.7, max_det=300, half=False, dnn=False, plots=True, source=None, vid_stride=1, stream_buffer=False, visualize=False, augment=False, agnostic_nms=False, classes=None, retina_masks=False, embed=None, show=False, save_frames=False, save_txt=False, save_conf=False, save_crop=False, show_labels=True, show_conf=True, show_boxes=True, line_width=None, format=torchscript, keras=False, optimize=False, int8=False, dynamic=False, simplify=True, opset=None, workspace=4, nms=False, lr0=0.001, lrf=0.0001, momentum=0.937, weight_decay=0.0005, warmup_epochs=3.0, warmup_momentum=0.8, warmup_bias_lr=0.0, box=7.5, cls=0.5, dfl=1.5, pose=12.0, kobj=1.0, label_smoothing=0.0, nbs=64, hsv_h=0.015, hsv_s=0.7, hsv_v=0.4, degrees=0.0, translate=0.1, scale=0.5, shear=0.0, perspective=0.0, flipud=0.0, fliplr=0.5, bgr=0.0, mosaic=1.0, mixup=0.3, copy_paste=0.0, copy_paste_mode=flip, auto_augment=randaugment, erasing=0.4, crop_fraction=1.0, cfg=None, tracker=botsort.yaml, save_dir=pcb\\train82\n",
      "\n",
      "                   from  n    params  module                                       arguments                     \n",
      "  0                  -1  1       928  ultralytics.nn.modules.conv.Conv             [3, 32, 3, 2]                 \n",
      "  1                  -1  1     18560  ultralytics.nn.modules.conv.Conv             [32, 64, 3, 2]                \n",
      "  2                  -1  1     29056  ultralytics.nn.modules.block.C2f             [64, 64, 1, True]             \n",
      "  3                  -1  1     73984  ultralytics.nn.modules.conv.Conv             [64, 128, 3, 2]               \n",
      "  4                  -1  2    197632  ultralytics.nn.modules.block.C2f             [128, 128, 2, True]           \n",
      "  5                  -1  1    295424  ultralytics.nn.modules.conv.Conv             [128, 256, 3, 2]              \n",
      "  6                  -1  2    788480  ultralytics.nn.modules.block.C2f             [256, 256, 2, True]           \n",
      "  7                  -1  1   1180672  ultralytics.nn.modules.conv.Conv             [256, 512, 3, 2]              \n",
      "  8                  -1  1   1838080  ultralytics.nn.modules.block.C2f             [512, 512, 1, True]           \n",
      "  9                  -1  1    656896  ultralytics.nn.modules.block.SPPF            [512, 512, 5]                 \n",
      " 10                  -1  1         0  torch.nn.modules.upsampling.Upsample         [None, 2, 'nearest']          \n",
      " 11             [-1, 6]  1         0  ultralytics.nn.modules.conv.Concat           [1]                           \n",
      " 12                  -1  1    591360  ultralytics.nn.modules.block.C2f             [768, 256, 1]                 \n",
      " 13                  -1  1         0  torch.nn.modules.upsampling.Upsample         [None, 2, 'nearest']          \n",
      " 14             [-1, 4]  1         0  ultralytics.nn.modules.conv.Concat           [1]                           \n",
      " 15                  -1  1    148224  ultralytics.nn.modules.block.C2f             [384, 128, 1]                 \n",
      " 16                  -1  1    147712  ultralytics.nn.modules.conv.Conv             [128, 128, 3, 2]              \n",
      " 17            [-1, 12]  1         0  ultralytics.nn.modules.conv.Concat           [1]                           \n",
      " 18                  -1  1    493056  ultralytics.nn.modules.block.C2f             [384, 256, 1]                 \n",
      " 19                  -1  1    590336  ultralytics.nn.modules.conv.Conv             [256, 256, 3, 2]              \n",
      " 20             [-1, 9]  1         0  ultralytics.nn.modules.conv.Concat           [1]                           \n",
      " 21                  -1  1   1969152  ultralytics.nn.modules.block.C2f             [768, 512, 1]                 \n",
      " 22        [15, 18, 21]  1   2118370  ultralytics.nn.modules.head.Detect           [6, [128, 256, 512]]          \n",
      "Model summary: 225 layers, 11,137,922 parameters, 11,137,906 gradients, 28.7 GFLOPs\n",
      "\n",
      "Transferred 355/355 items from pretrained weights\n",
      "Freezing layer 'model.22.dfl.conv.weight'\n"
     ]
    },
    {
     "name": "stderr",
     "output_type": "stream",
     "text": [
      "\u001b[34m\u001b[1mtrain: \u001b[0mScanning D:\\BML Munjal\\3rd Year\\Sem 5\\DIP\\DIP-dataset\\PCB_DATASET\\split_dataset\\greyscale\\3fold_crossval\\split_2\\train\\labels.cache... 369 images, 0 backgrounds, 0 corrupt: 100%|██████████| 369/369 [00:00<?, ?it/s]\n",
      "\u001b[34m\u001b[1mval: \u001b[0mScanning D:\\BML Munjal\\3rd Year\\Sem 5\\DIP\\DIP-dataset\\PCB_DATASET\\split_dataset\\greyscale\\3fold_crossval\\split_2\\val\\labels.cache... 185 images, 0 backgrounds, 0 corrupt: 100%|██████████| 185/185 [00:00<?, ?it/s]"
     ]
    },
    {
     "name": "stdout",
     "output_type": "stream",
     "text": [
      "Plotting labels to pcb\\train82\\labels.jpg... \n"
     ]
    },
    {
     "name": "stderr",
     "output_type": "stream",
     "text": [
      "\n"
     ]
    },
    {
     "name": "stdout",
     "output_type": "stream",
     "text": [
      "\u001b[34m\u001b[1moptimizer:\u001b[0m 'optimizer=auto' found, ignoring 'lr0=0.001' and 'momentum=0.937' and determining best 'optimizer', 'lr0' and 'momentum' automatically... \n",
      "\u001b[34m\u001b[1moptimizer:\u001b[0m AdamW(lr=0.001, momentum=0.9) with parameter groups 57 weight(decay=0.0), 64 weight(decay=0.0005), 63 bias(decay=0.0)\n",
      "Image sizes 640 train, 640 val\n",
      "Using 0 dataloader workers\n",
      "Logging results to \u001b[1mpcb\\train82\u001b[0m\n",
      "Starting training for 10 epochs...\n",
      "Closing dataloader mosaic\n",
      "\n",
      "      Epoch    GPU_mem   box_loss   cls_loss   dfl_loss  Instances       Size\n"
     ]
    },
    {
     "name": "stderr",
     "output_type": "stream",
     "text": [
      "       1/10         0G      1.919      1.358      1.028          5        640: 100%|██████████| 24/24 [02:58<00:00,  7.45s/it]\n",
      "                 Class     Images  Instances      Box(P          R      mAP50  mAP50-95): 100%|██████████| 6/6 [00:34<00:00,  5.76s/it]"
     ]
    },
    {
     "name": "stdout",
     "output_type": "stream",
     "text": [
      "                   all        185        794      0.906      0.762      0.844      0.413\n"
     ]
    },
    {
     "name": "stderr",
     "output_type": "stream",
     "text": [
      "\n"
     ]
    },
    {
     "name": "stdout",
     "output_type": "stream",
     "text": [
      "\n",
      "      Epoch    GPU_mem   box_loss   cls_loss   dfl_loss  Instances       Size\n"
     ]
    },
    {
     "name": "stderr",
     "output_type": "stream",
     "text": [
      "       2/10         0G      1.876      1.285      1.033          2        640: 100%|██████████| 24/24 [03:01<00:00,  7.55s/it]\n",
      "                 Class     Images  Instances      Box(P          R      mAP50  mAP50-95): 100%|██████████| 6/6 [00:35<00:00,  5.89s/it]"
     ]
    },
    {
     "name": "stdout",
     "output_type": "stream",
     "text": [
      "                   all        185        794      0.764      0.723       0.78      0.331\n"
     ]
    },
    {
     "name": "stderr",
     "output_type": "stream",
     "text": [
      "\n"
     ]
    },
    {
     "name": "stdout",
     "output_type": "stream",
     "text": [
      "\n",
      "      Epoch    GPU_mem   box_loss   cls_loss   dfl_loss  Instances       Size\n"
     ]
    },
    {
     "name": "stderr",
     "output_type": "stream",
     "text": [
      "       3/10         0G      1.824      1.229      1.014          5        640: 100%|██████████| 24/24 [03:01<00:00,  7.56s/it]\n",
      "                 Class     Images  Instances      Box(P          R      mAP50  mAP50-95): 100%|██████████| 6/6 [00:35<00:00,  5.88s/it]"
     ]
    },
    {
     "name": "stdout",
     "output_type": "stream",
     "text": [
      "                   all        185        794       0.82      0.722      0.763      0.315\n"
     ]
    },
    {
     "name": "stderr",
     "output_type": "stream",
     "text": [
      "\n"
     ]
    },
    {
     "name": "stdout",
     "output_type": "stream",
     "text": [
      "\n",
      "      Epoch    GPU_mem   box_loss   cls_loss   dfl_loss  Instances       Size\n"
     ]
    },
    {
     "name": "stderr",
     "output_type": "stream",
     "text": [
      "       4/10         0G      1.779       1.18      1.025          3        640: 100%|██████████| 24/24 [03:01<00:00,  7.55s/it]\n",
      "                 Class     Images  Instances      Box(P          R      mAP50  mAP50-95): 100%|██████████| 6/6 [00:35<00:00,  5.89s/it]"
     ]
    },
    {
     "name": "stdout",
     "output_type": "stream",
     "text": [
      "                   all        185        794      0.876      0.749      0.833      0.413\n"
     ]
    },
    {
     "name": "stderr",
     "output_type": "stream",
     "text": [
      "\n"
     ]
    },
    {
     "name": "stdout",
     "output_type": "stream",
     "text": [
      "\n",
      "      Epoch    GPU_mem   box_loss   cls_loss   dfl_loss  Instances       Size\n"
     ]
    },
    {
     "name": "stderr",
     "output_type": "stream",
     "text": [
      "       5/10         0G      1.838       1.18      1.021          5        640: 100%|██████████| 24/24 [03:01<00:00,  7.58s/it]\n",
      "                 Class     Images  Instances      Box(P          R      mAP50  mAP50-95): 100%|██████████| 6/6 [00:35<00:00,  5.89s/it]"
     ]
    },
    {
     "name": "stdout",
     "output_type": "stream",
     "text": [
      "                   all        185        794      0.887      0.699      0.799      0.344\n"
     ]
    },
    {
     "name": "stderr",
     "output_type": "stream",
     "text": [
      "\n"
     ]
    },
    {
     "name": "stdout",
     "output_type": "stream",
     "text": [
      "\n",
      "      Epoch    GPU_mem   box_loss   cls_loss   dfl_loss  Instances       Size\n"
     ]
    },
    {
     "name": "stderr",
     "output_type": "stream",
     "text": [
      "       6/10         0G      1.753      1.098     0.9946          5        640: 100%|██████████| 24/24 [03:00<00:00,  7.53s/it]\n",
      "                 Class     Images  Instances      Box(P          R      mAP50  mAP50-95): 100%|██████████| 6/6 [00:35<00:00,  5.88s/it]"
     ]
    },
    {
     "name": "stdout",
     "output_type": "stream",
     "text": [
      "                   all        185        794      0.898      0.786      0.858      0.416\n"
     ]
    },
    {
     "name": "stderr",
     "output_type": "stream",
     "text": [
      "\n"
     ]
    },
    {
     "name": "stdout",
     "output_type": "stream",
     "text": [
      "\n",
      "      Epoch    GPU_mem   box_loss   cls_loss   dfl_loss  Instances       Size\n"
     ]
    },
    {
     "name": "stderr",
     "output_type": "stream",
     "text": [
      "       7/10         0G      1.717      1.079     0.9792          5        640: 100%|██████████| 24/24 [02:59<00:00,  7.49s/it]\n",
      "                 Class     Images  Instances      Box(P          R      mAP50  mAP50-95): 100%|██████████| 6/6 [00:34<00:00,  5.79s/it]"
     ]
    },
    {
     "name": "stdout",
     "output_type": "stream",
     "text": [
      "                   all        185        794      0.918      0.783       0.85      0.411\n"
     ]
    },
    {
     "name": "stderr",
     "output_type": "stream",
     "text": [
      "\n"
     ]
    },
    {
     "name": "stdout",
     "output_type": "stream",
     "text": [
      "\n",
      "      Epoch    GPU_mem   box_loss   cls_loss   dfl_loss  Instances       Size\n"
     ]
    },
    {
     "name": "stderr",
     "output_type": "stream",
     "text": [
      "       8/10         0G      1.714      0.992     0.9833          6        640: 100%|██████████| 24/24 [02:59<00:00,  7.50s/it]\n",
      "                 Class     Images  Instances      Box(P          R      mAP50  mAP50-95): 100%|██████████| 6/6 [00:35<00:00,  5.93s/it]"
     ]
    },
    {
     "name": "stdout",
     "output_type": "stream",
     "text": [
      "                   all        185        794      0.912      0.804      0.866      0.436\n"
     ]
    },
    {
     "name": "stderr",
     "output_type": "stream",
     "text": [
      "\n"
     ]
    },
    {
     "name": "stdout",
     "output_type": "stream",
     "text": [
      "\n",
      "      Epoch    GPU_mem   box_loss   cls_loss   dfl_loss  Instances       Size\n"
     ]
    },
    {
     "name": "stderr",
     "output_type": "stream",
     "text": [
      "       9/10         0G      1.679      1.037     0.9675          3        640: 100%|██████████| 24/24 [03:01<00:00,  7.55s/it]\n",
      "                 Class     Images  Instances      Box(P          R      mAP50  mAP50-95): 100%|██████████| 6/6 [00:35<00:00,  5.84s/it]"
     ]
    },
    {
     "name": "stdout",
     "output_type": "stream",
     "text": [
      "                   all        185        794      0.926      0.816      0.877      0.439\n"
     ]
    },
    {
     "name": "stderr",
     "output_type": "stream",
     "text": [
      "\n"
     ]
    },
    {
     "name": "stdout",
     "output_type": "stream",
     "text": [
      "\n",
      "      Epoch    GPU_mem   box_loss   cls_loss   dfl_loss  Instances       Size\n"
     ]
    },
    {
     "name": "stderr",
     "output_type": "stream",
     "text": [
      "      10/10         0G      1.666       0.95     0.9793          3        640: 100%|██████████| 24/24 [02:59<00:00,  7.49s/it]\n",
      "                 Class     Images  Instances      Box(P          R      mAP50  mAP50-95): 100%|██████████| 6/6 [00:34<00:00,  5.82s/it]"
     ]
    },
    {
     "name": "stdout",
     "output_type": "stream",
     "text": [
      "                   all        185        794      0.944      0.806      0.888      0.456\n"
     ]
    },
    {
     "name": "stderr",
     "output_type": "stream",
     "text": [
      "\n"
     ]
    },
    {
     "name": "stdout",
     "output_type": "stream",
     "text": [
      "\n",
      "10 epochs completed in 0.601 hours.\n",
      "Optimizer stripped from pcb\\train82\\weights\\last.pt, 22.5MB\n",
      "Optimizer stripped from pcb\\train82\\weights\\best.pt, 22.5MB\n",
      "\n",
      "Validating pcb\\train82\\weights\\best.pt...\n",
      "Ultralytics 8.3.35  Python-3.12.4 torch-2.5.1+cpu CPU (11th Gen Intel Core(TM) i5-11400H 2.70GHz)\n",
      "Model summary (fused): 168 layers, 11,127,906 parameters, 0 gradients, 28.4 GFLOPs\n"
     ]
    },
    {
     "name": "stderr",
     "output_type": "stream",
     "text": [
      "                 Class     Images  Instances      Box(P          R      mAP50  mAP50-95): 100%|██████████| 6/6 [00:31<00:00,  5.17s/it]\n"
     ]
    },
    {
     "name": "stdout",
     "output_type": "stream",
     "text": [
      "                   all        185        794      0.944      0.806      0.888      0.456\n",
      "          missing_hole         33        138      0.992      0.944      0.993      0.536\n",
      "            mouse_bite         29        122      0.946       0.72      0.834      0.441\n",
      "          open_circuit         30        122      0.932      0.789      0.836      0.397\n",
      "                 short         28        127      0.936      0.921      0.957      0.515\n",
      "                  spur         34        153      0.963      0.677      0.823      0.414\n",
      "       spurious_copper         31        132      0.895      0.788      0.881      0.432\n",
      "Speed: 2.4ms preprocess, 155.5ms inference, 0.0ms loss, 0.4ms postprocess per image\n",
      "Results saved to \u001b[1mpcb\\train82\u001b[0m\n",
      "New https://pypi.org/project/ultralytics/8.3.36 available  Update with 'pip install -U ultralytics'\n",
      "Ultralytics 8.3.35  Python-3.12.4 torch-2.5.1+cpu CPU (11th Gen Intel Core(TM) i5-11400H 2.70GHz)\n",
      "\u001b[34m\u001b[1mengine\\trainer: \u001b[0mtask=detect, mode=train, model=yolov8s.pt, data=D:/BML Munjal/3rd Year/Sem 5/DIP/DIP-dataset/PCB_DATASET/split_dataset/greyscale/3fold_crossval\\split_3\\split_3_greyscale_dataset.yaml, epochs=10, time=None, patience=100, batch=16, imgsz=640, save=True, save_period=1, cache=False, device=None, workers=0, project=pcb, name=train822, exist_ok=False, pretrained=True, optimizer=auto, verbose=True, seed=0, deterministic=True, single_cls=False, rect=False, cos_lr=False, close_mosaic=10, resume=False, amp=True, fraction=1.0, profile=False, freeze=None, multi_scale=False, overlap_mask=True, mask_ratio=4, dropout=0.0, val=True, split=val, save_json=False, save_hybrid=False, conf=None, iou=0.7, max_det=300, half=False, dnn=False, plots=True, source=None, vid_stride=1, stream_buffer=False, visualize=False, augment=False, agnostic_nms=False, classes=None, retina_masks=False, embed=None, show=False, save_frames=False, save_txt=False, save_conf=False, save_crop=False, show_labels=True, show_conf=True, show_boxes=True, line_width=None, format=torchscript, keras=False, optimize=False, int8=False, dynamic=False, simplify=True, opset=None, workspace=4, nms=False, lr0=0.001, lrf=0.0001, momentum=0.937, weight_decay=0.0005, warmup_epochs=3.0, warmup_momentum=0.8, warmup_bias_lr=0.0, box=7.5, cls=0.5, dfl=1.5, pose=12.0, kobj=1.0, label_smoothing=0.0, nbs=64, hsv_h=0.015, hsv_s=0.7, hsv_v=0.4, degrees=0.0, translate=0.1, scale=0.5, shear=0.0, perspective=0.0, flipud=0.0, fliplr=0.5, bgr=0.0, mosaic=1.0, mixup=0.3, copy_paste=0.0, copy_paste_mode=flip, auto_augment=randaugment, erasing=0.4, crop_fraction=1.0, cfg=None, tracker=botsort.yaml, save_dir=pcb\\train822\n",
      "\n",
      "                   from  n    params  module                                       arguments                     \n",
      "  0                  -1  1       928  ultralytics.nn.modules.conv.Conv             [3, 32, 3, 2]                 \n",
      "  1                  -1  1     18560  ultralytics.nn.modules.conv.Conv             [32, 64, 3, 2]                \n",
      "  2                  -1  1     29056  ultralytics.nn.modules.block.C2f             [64, 64, 1, True]             \n",
      "  3                  -1  1     73984  ultralytics.nn.modules.conv.Conv             [64, 128, 3, 2]               \n",
      "  4                  -1  2    197632  ultralytics.nn.modules.block.C2f             [128, 128, 2, True]           \n",
      "  5                  -1  1    295424  ultralytics.nn.modules.conv.Conv             [128, 256, 3, 2]              \n",
      "  6                  -1  2    788480  ultralytics.nn.modules.block.C2f             [256, 256, 2, True]           \n",
      "  7                  -1  1   1180672  ultralytics.nn.modules.conv.Conv             [256, 512, 3, 2]              \n",
      "  8                  -1  1   1838080  ultralytics.nn.modules.block.C2f             [512, 512, 1, True]           \n",
      "  9                  -1  1    656896  ultralytics.nn.modules.block.SPPF            [512, 512, 5]                 \n",
      " 10                  -1  1         0  torch.nn.modules.upsampling.Upsample         [None, 2, 'nearest']          \n",
      " 11             [-1, 6]  1         0  ultralytics.nn.modules.conv.Concat           [1]                           \n",
      " 12                  -1  1    591360  ultralytics.nn.modules.block.C2f             [768, 256, 1]                 \n",
      " 13                  -1  1         0  torch.nn.modules.upsampling.Upsample         [None, 2, 'nearest']          \n",
      " 14             [-1, 4]  1         0  ultralytics.nn.modules.conv.Concat           [1]                           \n",
      " 15                  -1  1    148224  ultralytics.nn.modules.block.C2f             [384, 128, 1]                 \n",
      " 16                  -1  1    147712  ultralytics.nn.modules.conv.Conv             [128, 128, 3, 2]              \n",
      " 17            [-1, 12]  1         0  ultralytics.nn.modules.conv.Concat           [1]                           \n",
      " 18                  -1  1    493056  ultralytics.nn.modules.block.C2f             [384, 256, 1]                 \n",
      " 19                  -1  1    590336  ultralytics.nn.modules.conv.Conv             [256, 256, 3, 2]              \n",
      " 20             [-1, 9]  1         0  ultralytics.nn.modules.conv.Concat           [1]                           \n",
      " 21                  -1  1   1969152  ultralytics.nn.modules.block.C2f             [768, 512, 1]                 \n",
      " 22        [15, 18, 21]  1   2118370  ultralytics.nn.modules.head.Detect           [6, [128, 256, 512]]          \n",
      "Model summary: 225 layers, 11,137,922 parameters, 11,137,906 gradients, 28.7 GFLOPs\n",
      "\n",
      "Transferred 355/355 items from pretrained weights\n",
      "Freezing layer 'model.22.dfl.conv.weight'\n"
     ]
    },
    {
     "name": "stderr",
     "output_type": "stream",
     "text": [
      "\u001b[34m\u001b[1mtrain: \u001b[0mScanning D:\\BML Munjal\\3rd Year\\Sem 5\\DIP\\DIP-dataset\\PCB_DATASET\\split_dataset\\greyscale\\3fold_crossval\\split_3\\train\\labels... 370 images, 0 backgrounds, 0 corrupt: 100%|██████████| 370/370 [00:00<00:00, 2061.68it/s]"
     ]
    },
    {
     "name": "stdout",
     "output_type": "stream",
     "text": [
      "\u001b[34m\u001b[1mtrain: \u001b[0mNew cache created: D:\\BML Munjal\\3rd Year\\Sem 5\\DIP\\DIP-dataset\\PCB_DATASET\\split_dataset\\greyscale\\3fold_crossval\\split_3\\train\\labels.cache\n"
     ]
    },
    {
     "name": "stderr",
     "output_type": "stream",
     "text": [
      "\n",
      "\u001b[34m\u001b[1mval: \u001b[0mScanning D:\\BML Munjal\\3rd Year\\Sem 5\\DIP\\DIP-dataset\\PCB_DATASET\\split_dataset\\greyscale\\3fold_crossval\\split_3\\val\\labels... 184 images, 0 backgrounds, 0 corrupt: 100%|██████████| 184/184 [00:00<00:00, 2148.92it/s]\n"
     ]
    },
    {
     "name": "stdout",
     "output_type": "stream",
     "text": [
      "\u001b[34m\u001b[1mval: \u001b[0mNew cache created: D:\\BML Munjal\\3rd Year\\Sem 5\\DIP\\DIP-dataset\\PCB_DATASET\\split_dataset\\greyscale\\3fold_crossval\\split_3\\val\\labels.cache\n",
      "Plotting labels to pcb\\train822\\labels.jpg... \n",
      "\u001b[34m\u001b[1moptimizer:\u001b[0m 'optimizer=auto' found, ignoring 'lr0=0.001' and 'momentum=0.937' and determining best 'optimizer', 'lr0' and 'momentum' automatically... \n",
      "\u001b[34m\u001b[1moptimizer:\u001b[0m AdamW(lr=0.001, momentum=0.9) with parameter groups 57 weight(decay=0.0), 64 weight(decay=0.0005), 63 bias(decay=0.0)\n",
      "Image sizes 640 train, 640 val\n",
      "Using 0 dataloader workers\n",
      "Logging results to \u001b[1mpcb\\train822\u001b[0m\n",
      "Starting training for 10 epochs...\n",
      "Closing dataloader mosaic\n",
      "\n",
      "      Epoch    GPU_mem   box_loss   cls_loss   dfl_loss  Instances       Size\n"
     ]
    },
    {
     "name": "stderr",
     "output_type": "stream",
     "text": [
      "       1/10         0G      1.652      0.927     0.9594         10        640: 100%|██████████| 24/24 [02:59<00:00,  7.48s/it]\n",
      "                 Class     Images  Instances      Box(P          R      mAP50  mAP50-95): 100%|██████████| 6/6 [00:34<00:00,  5.69s/it]"
     ]
    },
    {
     "name": "stdout",
     "output_type": "stream",
     "text": [
      "                   all        184        782      0.909      0.868      0.913      0.469\n"
     ]
    },
    {
     "name": "stderr",
     "output_type": "stream",
     "text": [
      "\n"
     ]
    },
    {
     "name": "stdout",
     "output_type": "stream",
     "text": [
      "\n",
      "      Epoch    GPU_mem   box_loss   cls_loss   dfl_loss  Instances       Size\n"
     ]
    },
    {
     "name": "stderr",
     "output_type": "stream",
     "text": [
      "       2/10         0G      1.663     0.9429     0.9722         10        640: 100%|██████████| 24/24 [02:59<00:00,  7.50s/it]\n",
      "                 Class     Images  Instances      Box(P          R      mAP50  mAP50-95): 100%|██████████| 6/6 [00:34<00:00,  5.77s/it]"
     ]
    },
    {
     "name": "stdout",
     "output_type": "stream",
     "text": [
      "                   all        184        782      0.881      0.818      0.872      0.432\n"
     ]
    },
    {
     "name": "stderr",
     "output_type": "stream",
     "text": [
      "\n"
     ]
    },
    {
     "name": "stdout",
     "output_type": "stream",
     "text": [
      "\n",
      "      Epoch    GPU_mem   box_loss   cls_loss   dfl_loss  Instances       Size\n"
     ]
    },
    {
     "name": "stderr",
     "output_type": "stream",
     "text": [
      "       3/10         0G      1.747      1.028     0.9709          6        640: 100%|██████████| 24/24 [02:58<00:00,  7.44s/it]\n",
      "                 Class     Images  Instances      Box(P          R      mAP50  mAP50-95): 100%|██████████| 6/6 [00:34<00:00,  5.68s/it]"
     ]
    },
    {
     "name": "stdout",
     "output_type": "stream",
     "text": [
      "                   all        184        782       0.95      0.778      0.869      0.413\n"
     ]
    },
    {
     "name": "stderr",
     "output_type": "stream",
     "text": [
      "\n"
     ]
    },
    {
     "name": "stdout",
     "output_type": "stream",
     "text": [
      "\n",
      "      Epoch    GPU_mem   box_loss   cls_loss   dfl_loss  Instances       Size\n"
     ]
    },
    {
     "name": "stderr",
     "output_type": "stream",
     "text": [
      "       4/10         0G      1.702      1.029     0.9794          8        640: 100%|██████████| 24/24 [02:58<00:00,  7.44s/it]\n",
      "                 Class     Images  Instances      Box(P          R      mAP50  mAP50-95): 100%|██████████| 6/6 [00:34<00:00,  5.68s/it]"
     ]
    },
    {
     "name": "stdout",
     "output_type": "stream",
     "text": [
      "                   all        184        782      0.906      0.839      0.887      0.432\n"
     ]
    },
    {
     "name": "stderr",
     "output_type": "stream",
     "text": [
      "\n"
     ]
    },
    {
     "name": "stdout",
     "output_type": "stream",
     "text": [
      "\n",
      "      Epoch    GPU_mem   box_loss   cls_loss   dfl_loss  Instances       Size\n"
     ]
    },
    {
     "name": "stderr",
     "output_type": "stream",
     "text": [
      "       5/10         0G      1.723      1.018     0.9805          9        640: 100%|██████████| 24/24 [02:59<00:00,  7.48s/it]\n",
      "                 Class     Images  Instances      Box(P          R      mAP50  mAP50-95): 100%|██████████| 6/6 [00:34<00:00,  5.68s/it]"
     ]
    },
    {
     "name": "stdout",
     "output_type": "stream",
     "text": [
      "                   all        184        782      0.884      0.829      0.879      0.422\n"
     ]
    },
    {
     "name": "stderr",
     "output_type": "stream",
     "text": [
      "\n"
     ]
    },
    {
     "name": "stdout",
     "output_type": "stream",
     "text": [
      "\n",
      "      Epoch    GPU_mem   box_loss   cls_loss   dfl_loss  Instances       Size\n"
     ]
    },
    {
     "name": "stderr",
     "output_type": "stream",
     "text": [
      "       6/10         0G      1.672     0.9947     0.9803          8        640: 100%|██████████| 24/24 [02:58<00:00,  7.42s/it]\n",
      "                 Class     Images  Instances      Box(P          R      mAP50  mAP50-95): 100%|██████████| 6/6 [00:33<00:00,  5.66s/it]"
     ]
    },
    {
     "name": "stdout",
     "output_type": "stream",
     "text": [
      "                   all        184        782      0.883       0.83      0.879       0.42\n"
     ]
    },
    {
     "name": "stderr",
     "output_type": "stream",
     "text": [
      "\n"
     ]
    },
    {
     "name": "stdout",
     "output_type": "stream",
     "text": [
      "\n",
      "      Epoch    GPU_mem   box_loss   cls_loss   dfl_loss  Instances       Size\n"
     ]
    },
    {
     "name": "stderr",
     "output_type": "stream",
     "text": [
      "       7/10         0G      1.653     0.9599     0.9547          8        640: 100%|██████████| 24/24 [02:58<00:00,  7.45s/it]\n",
      "                 Class     Images  Instances      Box(P          R      mAP50  mAP50-95): 100%|██████████| 6/6 [00:34<00:00,  5.70s/it]"
     ]
    },
    {
     "name": "stdout",
     "output_type": "stream",
     "text": [
      "                   all        184        782      0.929      0.883      0.909      0.453\n"
     ]
    },
    {
     "name": "stderr",
     "output_type": "stream",
     "text": [
      "\n"
     ]
    },
    {
     "name": "stdout",
     "output_type": "stream",
     "text": [
      "\n",
      "      Epoch    GPU_mem   box_loss   cls_loss   dfl_loss  Instances       Size\n"
     ]
    },
    {
     "name": "stderr",
     "output_type": "stream",
     "text": [
      "       8/10         0G      1.564     0.8832     0.9368          9        640: 100%|██████████| 24/24 [02:58<00:00,  7.46s/it]\n",
      "                 Class     Images  Instances      Box(P          R      mAP50  mAP50-95): 100%|██████████| 6/6 [00:34<00:00,  5.67s/it]"
     ]
    },
    {
     "name": "stdout",
     "output_type": "stream",
     "text": [
      "                   all        184        782      0.937      0.899      0.925      0.472\n"
     ]
    },
    {
     "name": "stderr",
     "output_type": "stream",
     "text": [
      "\n"
     ]
    },
    {
     "name": "stdout",
     "output_type": "stream",
     "text": [
      "\n",
      "      Epoch    GPU_mem   box_loss   cls_loss   dfl_loss  Instances       Size\n"
     ]
    },
    {
     "name": "stderr",
     "output_type": "stream",
     "text": [
      "       9/10         0G      1.561     0.8868     0.9451         10        640: 100%|██████████| 24/24 [02:57<00:00,  7.41s/it]\n",
      "                 Class     Images  Instances      Box(P          R      mAP50  mAP50-95): 100%|██████████| 6/6 [00:34<00:00,  5.67s/it]"
     ]
    },
    {
     "name": "stdout",
     "output_type": "stream",
     "text": [
      "                   all        184        782      0.945      0.861      0.917      0.475\n"
     ]
    },
    {
     "name": "stderr",
     "output_type": "stream",
     "text": [
      "\n"
     ]
    },
    {
     "name": "stdout",
     "output_type": "stream",
     "text": [
      "\n",
      "      Epoch    GPU_mem   box_loss   cls_loss   dfl_loss  Instances       Size\n"
     ]
    },
    {
     "name": "stderr",
     "output_type": "stream",
     "text": [
      "      10/10         0G      1.529     0.8665     0.9367          7        640: 100%|██████████| 24/24 [02:58<00:00,  7.45s/it]\n",
      "                 Class     Images  Instances      Box(P          R      mAP50  mAP50-95): 100%|██████████| 6/6 [00:34<00:00,  5.70s/it]"
     ]
    },
    {
     "name": "stdout",
     "output_type": "stream",
     "text": [
      "                   all        184        782       0.94      0.874      0.922      0.481\n"
     ]
    },
    {
     "name": "stderr",
     "output_type": "stream",
     "text": [
      "\n"
     ]
    },
    {
     "name": "stdout",
     "output_type": "stream",
     "text": [
      "\n",
      "10 epochs completed in 0.593 hours.\n",
      "Optimizer stripped from pcb\\train822\\weights\\last.pt, 22.5MB\n",
      "Optimizer stripped from pcb\\train822\\weights\\best.pt, 22.5MB\n",
      "\n",
      "Validating pcb\\train822\\weights\\best.pt...\n",
      "Ultralytics 8.3.35  Python-3.12.4 torch-2.5.1+cpu CPU (11th Gen Intel Core(TM) i5-11400H 2.70GHz)\n",
      "Model summary (fused): 168 layers, 11,127,906 parameters, 0 gradients, 28.4 GFLOPs\n"
     ]
    },
    {
     "name": "stderr",
     "output_type": "stream",
     "text": [
      "                 Class     Images  Instances      Box(P          R      mAP50  mAP50-95): 100%|██████████| 6/6 [00:31<00:00,  5.18s/it]\n"
     ]
    },
    {
     "name": "stdout",
     "output_type": "stream",
     "text": [
      "                   all        184        782      0.939      0.871      0.921      0.481\n",
      "          missing_hole         29        131      0.963      0.977      0.977      0.594\n",
      "            mouse_bite         31        141      0.941      0.887      0.944      0.472\n",
      "          open_circuit         29        113      0.956       0.85      0.893      0.427\n",
      "                 short         36        147      0.957      0.915      0.972      0.494\n",
      "                  spur         29        117      0.858      0.692       0.78      0.392\n",
      "       spurious_copper         30        133       0.96      0.908      0.962      0.508\n",
      "Speed: 3.1ms preprocess, 156.3ms inference, 0.0ms loss, 0.3ms postprocess per image\n",
      "Results saved to \u001b[1mpcb\\train822\u001b[0m\n",
      "Training completed for all folds.\n"
     ]
    }
   ],
   "source": [
    "from ultralytics import YOLO\n",
    "\n",
    "model = YOLO('yolov8s.pt')\n",
    "results = {}\n",
    "\n",
    "# Additional arguments\n",
    "batch = 16\n",
    "project = 'pcb'\n",
    "epochs = 10\n",
    "imgsz = 640\n",
    "save_period = 1\n",
    "verbose = True\n",
    "mixup = 0.3\n",
    "\n",
    "# Path to the parent folder containing all splits\n",
    "parent_folder_path = \"D:/BML Munjal/3rd Year/Sem 5/DIP/DIP-dataset/PCB_DATASET/split_dataset/greyscale/3fold_crossval\"\n",
    "\n",
    "# Loop for each split (3 splits in this case)\n",
    "for k in range(ksplit):\n",
    "    # Get the path to the current split's dataset YAML file\n",
    "    dataset_yaml = os.path.join(parent_folder_path, f\"split_{k+1}\", f\"split_{k+1}_greyscale_dataset.yaml\")\n",
    "    \n",
    "    # Ensure the YAML file exists before training\n",
    "    if not os.path.exists(dataset_yaml):\n",
    "        raise FileNotFoundError(f\"Dataset YAML file not found: {dataset_yaml}\")\n",
    "    \n",
    "    # Train the model on the current split\n",
    "    model.train(data=dataset_yaml,  # Pointing directly to the dataset.yaml for the current split\n",
    "                epochs=epochs,\n",
    "                batch=batch,\n",
    "                lr0=0.001,\n",
    "                lrf=0.0001,\n",
    "                imgsz=imgsz,\n",
    "                save_period=save_period,\n",
    "                verbose=verbose,\n",
    "                project=project,\n",
    "                mixup=mixup)\n",
    "    \n",
    "    # Save the results for the current fold\n",
    "    results[k] = model.metrics\n",
    "\n",
    "print(\"Training completed for all folds.\")\n"
   ]
  },
  {
   "cell_type": "markdown",
   "metadata": {},
   "source": [
    "YOLO on Binary Images"
   ]
  },
  {
   "cell_type": "code",
   "execution_count": 6,
   "metadata": {},
   "outputs": [
    {
     "name": "stdout",
     "output_type": "stream",
     "text": [
      "New https://pypi.org/project/ultralytics/8.3.36 available  Update with 'pip install -U ultralytics'\n",
      "Ultralytics 8.3.35  Python-3.12.4 torch-2.5.1+cpu CPU (11th Gen Intel Core(TM) i5-11400H 2.70GHz)\n",
      "\u001b[34m\u001b[1mengine\\trainer: \u001b[0mtask=detect, mode=train, model=yolov8s.pt, data=D:/BML Munjal/3rd Year/Sem 5/DIP/DIP-dataset/PCB_DATASET/split_dataset/binary/3fold_crossval\\split_1\\split_1_binary_dataset.yaml, epochs=10, time=None, patience=100, batch=16, imgsz=640, save=True, save_period=1, cache=False, device=None, workers=8, project=pcb, name=train9, exist_ok=False, pretrained=True, optimizer=auto, verbose=True, seed=0, deterministic=True, single_cls=False, rect=False, cos_lr=False, close_mosaic=10, resume=False, amp=True, fraction=1.0, profile=False, freeze=None, multi_scale=False, overlap_mask=True, mask_ratio=4, dropout=0.0, val=True, split=val, save_json=False, save_hybrid=False, conf=None, iou=0.7, max_det=300, half=False, dnn=False, plots=True, source=None, vid_stride=1, stream_buffer=False, visualize=False, augment=False, agnostic_nms=False, classes=None, retina_masks=False, embed=None, show=False, save_frames=False, save_txt=False, save_conf=False, save_crop=False, show_labels=True, show_conf=True, show_boxes=True, line_width=None, format=torchscript, keras=False, optimize=False, int8=False, dynamic=False, simplify=True, opset=None, workspace=4, nms=False, lr0=0.001, lrf=0.0001, momentum=0.937, weight_decay=0.0005, warmup_epochs=3.0, warmup_momentum=0.8, warmup_bias_lr=0.1, box=7.5, cls=0.5, dfl=1.5, pose=12.0, kobj=1.0, label_smoothing=0.0, nbs=64, hsv_h=0.015, hsv_s=0.7, hsv_v=0.4, degrees=0.0, translate=0.1, scale=0.5, shear=0.0, perspective=0.0, flipud=0.0, fliplr=0.5, bgr=0.0, mosaic=1.0, mixup=0.3, copy_paste=0.0, copy_paste_mode=flip, auto_augment=randaugment, erasing=0.4, crop_fraction=1.0, cfg=None, tracker=botsort.yaml, save_dir=pcb\\train9\n",
      "Overriding model.yaml nc=80 with nc=6\n",
      "\n",
      "                   from  n    params  module                                       arguments                     \n",
      "  0                  -1  1       928  ultralytics.nn.modules.conv.Conv             [3, 32, 3, 2]                 \n",
      "  1                  -1  1     18560  ultralytics.nn.modules.conv.Conv             [32, 64, 3, 2]                \n",
      "  2                  -1  1     29056  ultralytics.nn.modules.block.C2f             [64, 64, 1, True]             \n",
      "  3                  -1  1     73984  ultralytics.nn.modules.conv.Conv             [64, 128, 3, 2]               \n",
      "  4                  -1  2    197632  ultralytics.nn.modules.block.C2f             [128, 128, 2, True]           \n",
      "  5                  -1  1    295424  ultralytics.nn.modules.conv.Conv             [128, 256, 3, 2]              \n",
      "  6                  -1  2    788480  ultralytics.nn.modules.block.C2f             [256, 256, 2, True]           \n",
      "  7                  -1  1   1180672  ultralytics.nn.modules.conv.Conv             [256, 512, 3, 2]              \n",
      "  8                  -1  1   1838080  ultralytics.nn.modules.block.C2f             [512, 512, 1, True]           \n",
      "  9                  -1  1    656896  ultralytics.nn.modules.block.SPPF            [512, 512, 5]                 \n",
      " 10                  -1  1         0  torch.nn.modules.upsampling.Upsample         [None, 2, 'nearest']          \n",
      " 11             [-1, 6]  1         0  ultralytics.nn.modules.conv.Concat           [1]                           \n",
      " 12                  -1  1    591360  ultralytics.nn.modules.block.C2f             [768, 256, 1]                 \n",
      " 13                  -1  1         0  torch.nn.modules.upsampling.Upsample         [None, 2, 'nearest']          \n",
      " 14             [-1, 4]  1         0  ultralytics.nn.modules.conv.Concat           [1]                           \n",
      " 15                  -1  1    148224  ultralytics.nn.modules.block.C2f             [384, 128, 1]                 \n",
      " 16                  -1  1    147712  ultralytics.nn.modules.conv.Conv             [128, 128, 3, 2]              \n",
      " 17            [-1, 12]  1         0  ultralytics.nn.modules.conv.Concat           [1]                           \n",
      " 18                  -1  1    493056  ultralytics.nn.modules.block.C2f             [384, 256, 1]                 \n",
      " 19                  -1  1    590336  ultralytics.nn.modules.conv.Conv             [256, 256, 3, 2]              \n",
      " 20             [-1, 9]  1         0  ultralytics.nn.modules.conv.Concat           [1]                           \n",
      " 21                  -1  1   1969152  ultralytics.nn.modules.block.C2f             [768, 512, 1]                 \n",
      " 22        [15, 18, 21]  1   2118370  ultralytics.nn.modules.head.Detect           [6, [128, 256, 512]]          \n",
      "Model summary: 225 layers, 11,137,922 parameters, 11,137,906 gradients, 28.7 GFLOPs\n",
      "\n",
      "Transferred 349/355 items from pretrained weights\n",
      "Freezing layer 'model.22.dfl.conv.weight'\n"
     ]
    },
    {
     "name": "stderr",
     "output_type": "stream",
     "text": [
      "\u001b[34m\u001b[1mtrain: \u001b[0mScanning D:\\BML Munjal\\3rd Year\\Sem 5\\DIP\\DIP-dataset\\PCB_DATASET\\split_dataset\\binary\\3fold_crossval\\split_1\\train\\labels... 369 images, 0 backgrounds, 0 corrupt: 100%|██████████| 369/369 [00:00<00:00, 1965.59it/s]"
     ]
    },
    {
     "name": "stdout",
     "output_type": "stream",
     "text": [
      "\u001b[34m\u001b[1mtrain: \u001b[0mNew cache created: D:\\BML Munjal\\3rd Year\\Sem 5\\DIP\\DIP-dataset\\PCB_DATASET\\split_dataset\\binary\\3fold_crossval\\split_1\\train\\labels.cache\n"
     ]
    },
    {
     "name": "stderr",
     "output_type": "stream",
     "text": [
      "\n",
      "\u001b[34m\u001b[1mval: \u001b[0mScanning D:\\BML Munjal\\3rd Year\\Sem 5\\DIP\\DIP-dataset\\PCB_DATASET\\split_dataset\\binary\\3fold_crossval\\split_1\\val\\labels... 185 images, 0 backgrounds, 0 corrupt: 100%|██████████| 185/185 [00:00<00:00, 2007.80it/s]"
     ]
    },
    {
     "name": "stdout",
     "output_type": "stream",
     "text": [
      "\u001b[34m\u001b[1mval: \u001b[0mNew cache created: D:\\BML Munjal\\3rd Year\\Sem 5\\DIP\\DIP-dataset\\PCB_DATASET\\split_dataset\\binary\\3fold_crossval\\split_1\\val\\labels.cache\n",
      "Plotting labels to pcb\\train9\\labels.jpg... \n"
     ]
    },
    {
     "name": "stderr",
     "output_type": "stream",
     "text": [
      "\n"
     ]
    },
    {
     "name": "stdout",
     "output_type": "stream",
     "text": [
      "\u001b[34m\u001b[1moptimizer:\u001b[0m 'optimizer=auto' found, ignoring 'lr0=0.001' and 'momentum=0.937' and determining best 'optimizer', 'lr0' and 'momentum' automatically... \n",
      "\u001b[34m\u001b[1moptimizer:\u001b[0m AdamW(lr=0.001, momentum=0.9) with parameter groups 57 weight(decay=0.0), 64 weight(decay=0.0005), 63 bias(decay=0.0)\n",
      "Image sizes 640 train, 640 val\n",
      "Using 0 dataloader workers\n",
      "Logging results to \u001b[1mpcb\\train9\u001b[0m\n",
      "Starting training for 10 epochs...\n",
      "Closing dataloader mosaic\n",
      "\n",
      "      Epoch    GPU_mem   box_loss   cls_loss   dfl_loss  Instances       Size\n"
     ]
    },
    {
     "name": "stderr",
     "output_type": "stream",
     "text": [
      "       1/10         0G      3.772      15.87       1.94          5        640: 100%|██████████| 24/24 [03:01<00:00,  7.55s/it]\n",
      "                 Class     Images  Instances      Box(P          R      mAP50  mAP50-95):   0%|          | 0/6 [00:00<?, ?it/s]"
     ]
    },
    {
     "name": "stdout",
     "output_type": "stream",
     "text": [
      "WARNING  NMS time limit 3.600s exceeded\n"
     ]
    },
    {
     "name": "stderr",
     "output_type": "stream",
     "text": [
      "                 Class     Images  Instances      Box(P          R      mAP50  mAP50-95):  17%|█▋        | 1/6 [00:09<00:47,  9.58s/it]"
     ]
    },
    {
     "name": "stdout",
     "output_type": "stream",
     "text": [
      "WARNING  NMS time limit 3.600s exceeded\n"
     ]
    },
    {
     "name": "stderr",
     "output_type": "stream",
     "text": [
      "                 Class     Images  Instances      Box(P          R      mAP50  mAP50-95):  33%|███▎      | 2/6 [00:19<00:38,  9.69s/it]"
     ]
    },
    {
     "name": "stdout",
     "output_type": "stream",
     "text": [
      "WARNING  NMS time limit 3.600s exceeded\n"
     ]
    },
    {
     "name": "stderr",
     "output_type": "stream",
     "text": [
      "                 Class     Images  Instances      Box(P          R      mAP50  mAP50-95):  50%|█████     | 3/6 [00:28<00:28,  9.63s/it]"
     ]
    },
    {
     "name": "stdout",
     "output_type": "stream",
     "text": [
      "WARNING  NMS time limit 3.600s exceeded\n"
     ]
    },
    {
     "name": "stderr",
     "output_type": "stream",
     "text": [
      "                 Class     Images  Instances      Box(P          R      mAP50  mAP50-95):  67%|██████▋   | 4/6 [00:38<00:19,  9.70s/it]"
     ]
    },
    {
     "name": "stdout",
     "output_type": "stream",
     "text": [
      "WARNING  NMS time limit 3.600s exceeded\n"
     ]
    },
    {
     "name": "stderr",
     "output_type": "stream",
     "text": [
      "                 Class     Images  Instances      Box(P          R      mAP50  mAP50-95):  83%|████████▎ | 5/6 [00:48<00:09,  9.64s/it]"
     ]
    },
    {
     "name": "stdout",
     "output_type": "stream",
     "text": [
      "WARNING  NMS time limit 3.250s exceeded\n"
     ]
    },
    {
     "name": "stderr",
     "output_type": "stream",
     "text": [
      "                 Class     Images  Instances      Box(P          R      mAP50  mAP50-95): 100%|██████████| 6/6 [00:56<00:00,  9.37s/it]"
     ]
    },
    {
     "name": "stdout",
     "output_type": "stream",
     "text": [
      "                   all        185        794      0.341      0.028    0.00242    0.00109\n"
     ]
    },
    {
     "name": "stderr",
     "output_type": "stream",
     "text": [
      "\n"
     ]
    },
    {
     "name": "stdout",
     "output_type": "stream",
     "text": [
      "\n",
      "      Epoch    GPU_mem   box_loss   cls_loss   dfl_loss  Instances       Size\n"
     ]
    },
    {
     "name": "stderr",
     "output_type": "stream",
     "text": [
      "       2/10         0G      2.724      4.971      1.334          4        640: 100%|██████████| 24/24 [02:59<00:00,  7.47s/it]\n",
      "                 Class     Images  Instances      Box(P          R      mAP50  mAP50-95):   0%|          | 0/6 [00:00<?, ?it/s]"
     ]
    },
    {
     "name": "stdout",
     "output_type": "stream",
     "text": [
      "WARNING  NMS time limit 3.600s exceeded\n"
     ]
    },
    {
     "name": "stderr",
     "output_type": "stream",
     "text": [
      "                 Class     Images  Instances      Box(P          R      mAP50  mAP50-95):  17%|█▋        | 1/6 [00:09<00:48,  9.60s/it]"
     ]
    },
    {
     "name": "stdout",
     "output_type": "stream",
     "text": [
      "WARNING  NMS time limit 3.600s exceeded\n"
     ]
    },
    {
     "name": "stderr",
     "output_type": "stream",
     "text": [
      "                 Class     Images  Instances      Box(P          R      mAP50  mAP50-95):  50%|█████     | 3/6 [00:28<00:28,  9.53s/it]"
     ]
    },
    {
     "name": "stdout",
     "output_type": "stream",
     "text": [
      "WARNING  NMS time limit 3.600s exceeded\n"
     ]
    },
    {
     "name": "stderr",
     "output_type": "stream",
     "text": [
      "                 Class     Images  Instances      Box(P          R      mAP50  mAP50-95):  67%|██████▋   | 4/6 [00:38<00:19,  9.60s/it]"
     ]
    },
    {
     "name": "stdout",
     "output_type": "stream",
     "text": [
      "WARNING  NMS time limit 3.600s exceeded\n"
     ]
    },
    {
     "name": "stderr",
     "output_type": "stream",
     "text": [
      "                 Class     Images  Instances      Box(P          R      mAP50  mAP50-95): 100%|██████████| 6/6 [00:55<00:00,  9.23s/it]"
     ]
    },
    {
     "name": "stdout",
     "output_type": "stream",
     "text": [
      "                   all        185        794      0.163      0.146     0.0883     0.0337\n"
     ]
    },
    {
     "name": "stderr",
     "output_type": "stream",
     "text": [
      "\n"
     ]
    },
    {
     "name": "stdout",
     "output_type": "stream",
     "text": [
      "\n",
      "      Epoch    GPU_mem   box_loss   cls_loss   dfl_loss  Instances       Size\n"
     ]
    },
    {
     "name": "stderr",
     "output_type": "stream",
     "text": [
      "       3/10         0G       2.34      3.343      1.167          4        640: 100%|██████████| 24/24 [03:00<00:00,  7.52s/it]\n",
      "                 Class     Images  Instances      Box(P          R      mAP50  mAP50-95): 100%|██████████| 6/6 [00:36<00:00,  6.10s/it]"
     ]
    },
    {
     "name": "stdout",
     "output_type": "stream",
     "text": [
      "                   all        185        794      0.358       0.28       0.26      0.105\n"
     ]
    },
    {
     "name": "stderr",
     "output_type": "stream",
     "text": [
      "\n"
     ]
    },
    {
     "name": "stdout",
     "output_type": "stream",
     "text": [
      "\n",
      "      Epoch    GPU_mem   box_loss   cls_loss   dfl_loss  Instances       Size\n"
     ]
    },
    {
     "name": "stderr",
     "output_type": "stream",
     "text": [
      "       4/10         0G      2.301      2.637      1.148          4        640: 100%|██████████| 24/24 [02:57<00:00,  7.41s/it]\n",
      "                 Class     Images  Instances      Box(P          R      mAP50  mAP50-95):  50%|█████     | 3/6 [00:18<00:19,  6.36s/it]"
     ]
    },
    {
     "name": "stdout",
     "output_type": "stream",
     "text": [
      "WARNING  NMS time limit 3.600s exceeded\n"
     ]
    },
    {
     "name": "stderr",
     "output_type": "stream",
     "text": [
      "                 Class     Images  Instances      Box(P          R      mAP50  mAP50-95): 100%|██████████| 6/6 [00:41<00:00,  6.94s/it]"
     ]
    },
    {
     "name": "stdout",
     "output_type": "stream",
     "text": [
      "                   all        185        794      0.279      0.294      0.191     0.0752\n"
     ]
    },
    {
     "name": "stderr",
     "output_type": "stream",
     "text": [
      "\n"
     ]
    },
    {
     "name": "stdout",
     "output_type": "stream",
     "text": [
      "\n",
      "      Epoch    GPU_mem   box_loss   cls_loss   dfl_loss  Instances       Size\n"
     ]
    },
    {
     "name": "stderr",
     "output_type": "stream",
     "text": [
      "       5/10         0G      2.133      2.177       1.11          5        640: 100%|██████████| 24/24 [02:58<00:00,  7.46s/it]\n",
      "                 Class     Images  Instances      Box(P          R      mAP50  mAP50-95): 100%|██████████| 6/6 [00:36<00:00,  6.01s/it]"
     ]
    },
    {
     "name": "stdout",
     "output_type": "stream",
     "text": [
      "                   all        185        794      0.508      0.453      0.447      0.188\n"
     ]
    },
    {
     "name": "stderr",
     "output_type": "stream",
     "text": [
      "\n"
     ]
    },
    {
     "name": "stdout",
     "output_type": "stream",
     "text": [
      "\n",
      "      Epoch    GPU_mem   box_loss   cls_loss   dfl_loss  Instances       Size\n"
     ]
    },
    {
     "name": "stderr",
     "output_type": "stream",
     "text": [
      "       6/10         0G      2.067      1.932      1.079          5        640: 100%|██████████| 24/24 [02:58<00:00,  7.45s/it]\n",
      "                 Class     Images  Instances      Box(P          R      mAP50  mAP50-95): 100%|██████████| 6/6 [00:34<00:00,  5.79s/it]"
     ]
    },
    {
     "name": "stdout",
     "output_type": "stream",
     "text": [
      "                   all        185        794       0.67      0.529      0.583      0.261\n"
     ]
    },
    {
     "name": "stderr",
     "output_type": "stream",
     "text": [
      "\n"
     ]
    },
    {
     "name": "stdout",
     "output_type": "stream",
     "text": [
      "\n",
      "      Epoch    GPU_mem   box_loss   cls_loss   dfl_loss  Instances       Size\n"
     ]
    },
    {
     "name": "stderr",
     "output_type": "stream",
     "text": [
      "       7/10         0G      2.011      1.658      1.065          5        640: 100%|██████████| 24/24 [02:58<00:00,  7.45s/it]\n",
      "                 Class     Images  Instances      Box(P          R      mAP50  mAP50-95): 100%|██████████| 6/6 [00:35<00:00,  5.84s/it]"
     ]
    },
    {
     "name": "stdout",
     "output_type": "stream",
     "text": [
      "                   all        185        794      0.739      0.534      0.604      0.261\n"
     ]
    },
    {
     "name": "stderr",
     "output_type": "stream",
     "text": [
      "\n"
     ]
    },
    {
     "name": "stdout",
     "output_type": "stream",
     "text": [
      "\n",
      "      Epoch    GPU_mem   box_loss   cls_loss   dfl_loss  Instances       Size\n"
     ]
    },
    {
     "name": "stderr",
     "output_type": "stream",
     "text": [
      "       8/10         0G      1.925      1.488      1.044          6        640: 100%|██████████| 24/24 [02:59<00:00,  7.47s/it]\n",
      "                 Class     Images  Instances      Box(P          R      mAP50  mAP50-95): 100%|██████████| 6/6 [00:35<00:00,  5.86s/it]"
     ]
    },
    {
     "name": "stdout",
     "output_type": "stream",
     "text": [
      "                   all        185        794      0.784       0.63      0.708      0.331\n"
     ]
    },
    {
     "name": "stderr",
     "output_type": "stream",
     "text": [
      "\n"
     ]
    },
    {
     "name": "stdout",
     "output_type": "stream",
     "text": [
      "\n",
      "      Epoch    GPU_mem   box_loss   cls_loss   dfl_loss  Instances       Size\n"
     ]
    },
    {
     "name": "stderr",
     "output_type": "stream",
     "text": [
      "       9/10         0G      1.849      1.472      1.033          3        640: 100%|██████████| 24/24 [02:58<00:00,  7.44s/it]\n",
      "                 Class     Images  Instances      Box(P          R      mAP50  mAP50-95): 100%|██████████| 6/6 [00:34<00:00,  5.82s/it]"
     ]
    },
    {
     "name": "stdout",
     "output_type": "stream",
     "text": [
      "                   all        185        794       0.82      0.675      0.761      0.347\n"
     ]
    },
    {
     "name": "stderr",
     "output_type": "stream",
     "text": [
      "\n"
     ]
    },
    {
     "name": "stdout",
     "output_type": "stream",
     "text": [
      "\n",
      "      Epoch    GPU_mem   box_loss   cls_loss   dfl_loss  Instances       Size\n"
     ]
    },
    {
     "name": "stderr",
     "output_type": "stream",
     "text": [
      "      10/10         0G        1.8      1.351      1.004          3        640: 100%|██████████| 24/24 [02:58<00:00,  7.46s/it]\n",
      "                 Class     Images  Instances      Box(P          R      mAP50  mAP50-95): 100%|██████████| 6/6 [00:34<00:00,  5.79s/it]"
     ]
    },
    {
     "name": "stdout",
     "output_type": "stream",
     "text": [
      "                   all        185        794      0.829      0.713      0.783      0.371\n"
     ]
    },
    {
     "name": "stderr",
     "output_type": "stream",
     "text": [
      "\n"
     ]
    },
    {
     "name": "stdout",
     "output_type": "stream",
     "text": [
      "\n",
      "10 epochs completed in 0.611 hours.\n",
      "Optimizer stripped from pcb\\train9\\weights\\last.pt, 22.5MB\n",
      "Optimizer stripped from pcb\\train9\\weights\\best.pt, 22.5MB\n",
      "\n",
      "Validating pcb\\train9\\weights\\best.pt...\n",
      "Ultralytics 8.3.35  Python-3.12.4 torch-2.5.1+cpu CPU (11th Gen Intel Core(TM) i5-11400H 2.70GHz)\n",
      "Model summary (fused): 168 layers, 11,127,906 parameters, 0 gradients, 28.4 GFLOPs\n"
     ]
    },
    {
     "name": "stderr",
     "output_type": "stream",
     "text": [
      "                 Class     Images  Instances      Box(P          R      mAP50  mAP50-95): 100%|██████████| 6/6 [00:30<00:00,  5.16s/it]\n"
     ]
    },
    {
     "name": "stdout",
     "output_type": "stream",
     "text": [
      "                   all        185        794      0.829      0.713      0.783      0.371\n",
      "          missing_hole         32        137       0.98      0.949      0.972      0.519\n",
      "            mouse_bite         27        113      0.621      0.584      0.627      0.275\n",
      "          open_circuit         31        136      0.909      0.661       0.78      0.315\n",
      "                 short         28        118      0.816      0.763      0.842      0.382\n",
      "                  spur         35        153      0.773      0.582      0.675      0.331\n",
      "       spurious_copper         32        137      0.876      0.737      0.803        0.4\n",
      "Speed: 2.8ms preprocess, 155.3ms inference, 0.0ms loss, 0.3ms postprocess per image\n",
      "Results saved to \u001b[1mpcb\\train9\u001b[0m\n",
      "New https://pypi.org/project/ultralytics/8.3.36 available  Update with 'pip install -U ultralytics'\n",
      "Ultralytics 8.3.35  Python-3.12.4 torch-2.5.1+cpu CPU (11th Gen Intel Core(TM) i5-11400H 2.70GHz)\n",
      "\u001b[34m\u001b[1mengine\\trainer: \u001b[0mtask=detect, mode=train, model=yolov8s.pt, data=D:/BML Munjal/3rd Year/Sem 5/DIP/DIP-dataset/PCB_DATASET/split_dataset/binary/3fold_crossval\\split_2\\split_2_binary_dataset.yaml, epochs=10, time=None, patience=100, batch=16, imgsz=640, save=True, save_period=1, cache=False, device=None, workers=0, project=pcb, name=train92, exist_ok=False, pretrained=True, optimizer=auto, verbose=True, seed=0, deterministic=True, single_cls=False, rect=False, cos_lr=False, close_mosaic=10, resume=False, amp=True, fraction=1.0, profile=False, freeze=None, multi_scale=False, overlap_mask=True, mask_ratio=4, dropout=0.0, val=True, split=val, save_json=False, save_hybrid=False, conf=None, iou=0.7, max_det=300, half=False, dnn=False, plots=True, source=None, vid_stride=1, stream_buffer=False, visualize=False, augment=False, agnostic_nms=False, classes=None, retina_masks=False, embed=None, show=False, save_frames=False, save_txt=False, save_conf=False, save_crop=False, show_labels=True, show_conf=True, show_boxes=True, line_width=None, format=torchscript, keras=False, optimize=False, int8=False, dynamic=False, simplify=True, opset=None, workspace=4, nms=False, lr0=0.001, lrf=0.0001, momentum=0.937, weight_decay=0.0005, warmup_epochs=3.0, warmup_momentum=0.8, warmup_bias_lr=0.0, box=7.5, cls=0.5, dfl=1.5, pose=12.0, kobj=1.0, label_smoothing=0.0, nbs=64, hsv_h=0.015, hsv_s=0.7, hsv_v=0.4, degrees=0.0, translate=0.1, scale=0.5, shear=0.0, perspective=0.0, flipud=0.0, fliplr=0.5, bgr=0.0, mosaic=1.0, mixup=0.3, copy_paste=0.0, copy_paste_mode=flip, auto_augment=randaugment, erasing=0.4, crop_fraction=1.0, cfg=None, tracker=botsort.yaml, save_dir=pcb\\train92\n",
      "\n",
      "                   from  n    params  module                                       arguments                     \n",
      "  0                  -1  1       928  ultralytics.nn.modules.conv.Conv             [3, 32, 3, 2]                 \n",
      "  1                  -1  1     18560  ultralytics.nn.modules.conv.Conv             [32, 64, 3, 2]                \n",
      "  2                  -1  1     29056  ultralytics.nn.modules.block.C2f             [64, 64, 1, True]             \n",
      "  3                  -1  1     73984  ultralytics.nn.modules.conv.Conv             [64, 128, 3, 2]               \n",
      "  4                  -1  2    197632  ultralytics.nn.modules.block.C2f             [128, 128, 2, True]           \n",
      "  5                  -1  1    295424  ultralytics.nn.modules.conv.Conv             [128, 256, 3, 2]              \n",
      "  6                  -1  2    788480  ultralytics.nn.modules.block.C2f             [256, 256, 2, True]           \n",
      "  7                  -1  1   1180672  ultralytics.nn.modules.conv.Conv             [256, 512, 3, 2]              \n",
      "  8                  -1  1   1838080  ultralytics.nn.modules.block.C2f             [512, 512, 1, True]           \n",
      "  9                  -1  1    656896  ultralytics.nn.modules.block.SPPF            [512, 512, 5]                 \n",
      " 10                  -1  1         0  torch.nn.modules.upsampling.Upsample         [None, 2, 'nearest']          \n",
      " 11             [-1, 6]  1         0  ultralytics.nn.modules.conv.Concat           [1]                           \n",
      " 12                  -1  1    591360  ultralytics.nn.modules.block.C2f             [768, 256, 1]                 \n",
      " 13                  -1  1         0  torch.nn.modules.upsampling.Upsample         [None, 2, 'nearest']          \n",
      " 14             [-1, 4]  1         0  ultralytics.nn.modules.conv.Concat           [1]                           \n",
      " 15                  -1  1    148224  ultralytics.nn.modules.block.C2f             [384, 128, 1]                 \n",
      " 16                  -1  1    147712  ultralytics.nn.modules.conv.Conv             [128, 128, 3, 2]              \n",
      " 17            [-1, 12]  1         0  ultralytics.nn.modules.conv.Concat           [1]                           \n",
      " 18                  -1  1    493056  ultralytics.nn.modules.block.C2f             [384, 256, 1]                 \n",
      " 19                  -1  1    590336  ultralytics.nn.modules.conv.Conv             [256, 256, 3, 2]              \n",
      " 20             [-1, 9]  1         0  ultralytics.nn.modules.conv.Concat           [1]                           \n",
      " 21                  -1  1   1969152  ultralytics.nn.modules.block.C2f             [768, 512, 1]                 \n",
      " 22        [15, 18, 21]  1   2118370  ultralytics.nn.modules.head.Detect           [6, [128, 256, 512]]          \n",
      "Model summary: 225 layers, 11,137,922 parameters, 11,137,906 gradients, 28.7 GFLOPs\n",
      "\n",
      "Transferred 355/355 items from pretrained weights\n",
      "Freezing layer 'model.22.dfl.conv.weight'\n"
     ]
    },
    {
     "name": "stderr",
     "output_type": "stream",
     "text": [
      "\u001b[34m\u001b[1mtrain: \u001b[0mScanning D:\\BML Munjal\\3rd Year\\Sem 5\\DIP\\DIP-dataset\\PCB_DATASET\\split_dataset\\binary\\3fold_crossval\\split_2\\train\\labels... 369 images, 0 backgrounds, 0 corrupt: 100%|██████████| 369/369 [00:00<00:00, 2048.25it/s]"
     ]
    },
    {
     "name": "stdout",
     "output_type": "stream",
     "text": [
      "\u001b[34m\u001b[1mtrain: \u001b[0mNew cache created: D:\\BML Munjal\\3rd Year\\Sem 5\\DIP\\DIP-dataset\\PCB_DATASET\\split_dataset\\binary\\3fold_crossval\\split_2\\train\\labels.cache\n"
     ]
    },
    {
     "name": "stderr",
     "output_type": "stream",
     "text": [
      "\n",
      "\u001b[34m\u001b[1mval: \u001b[0mScanning D:\\BML Munjal\\3rd Year\\Sem 5\\DIP\\DIP-dataset\\PCB_DATASET\\split_dataset\\binary\\3fold_crossval\\split_2\\val\\labels... 185 images, 0 backgrounds, 0 corrupt: 100%|██████████| 185/185 [00:00<00:00, 2197.84it/s]"
     ]
    },
    {
     "name": "stdout",
     "output_type": "stream",
     "text": [
      "\u001b[34m\u001b[1mval: \u001b[0mNew cache created: D:\\BML Munjal\\3rd Year\\Sem 5\\DIP\\DIP-dataset\\PCB_DATASET\\split_dataset\\binary\\3fold_crossval\\split_2\\val\\labels.cache\n"
     ]
    },
    {
     "name": "stderr",
     "output_type": "stream",
     "text": [
      "\n"
     ]
    },
    {
     "name": "stdout",
     "output_type": "stream",
     "text": [
      "Plotting labels to pcb\\train92\\labels.jpg... \n",
      "\u001b[34m\u001b[1moptimizer:\u001b[0m 'optimizer=auto' found, ignoring 'lr0=0.001' and 'momentum=0.937' and determining best 'optimizer', 'lr0' and 'momentum' automatically... \n",
      "\u001b[34m\u001b[1moptimizer:\u001b[0m AdamW(lr=0.001, momentum=0.9) with parameter groups 57 weight(decay=0.0), 64 weight(decay=0.0005), 63 bias(decay=0.0)\n",
      "Image sizes 640 train, 640 val\n",
      "Using 0 dataloader workers\n",
      "Logging results to \u001b[1mpcb\\train92\u001b[0m\n",
      "Starting training for 10 epochs...\n",
      "Closing dataloader mosaic\n",
      "\n",
      "      Epoch    GPU_mem   box_loss   cls_loss   dfl_loss  Instances       Size\n"
     ]
    },
    {
     "name": "stderr",
     "output_type": "stream",
     "text": [
      "       1/10         0G      1.887      1.343      1.024          5        640: 100%|██████████| 24/24 [03:01<00:00,  7.55s/it]\n",
      "                 Class     Images  Instances      Box(P          R      mAP50  mAP50-95): 100%|██████████| 6/6 [00:35<00:00,  5.83s/it]"
     ]
    },
    {
     "name": "stdout",
     "output_type": "stream",
     "text": [
      "                   all        185        795       0.83      0.755      0.812      0.401\n"
     ]
    },
    {
     "name": "stderr",
     "output_type": "stream",
     "text": [
      "\n"
     ]
    },
    {
     "name": "stdout",
     "output_type": "stream",
     "text": [
      "\n",
      "      Epoch    GPU_mem   box_loss   cls_loss   dfl_loss  Instances       Size\n"
     ]
    },
    {
     "name": "stderr",
     "output_type": "stream",
     "text": [
      "       2/10         0G        1.8       1.29       1.02          3        640: 100%|██████████| 24/24 [03:00<00:00,  7.53s/it]\n",
      "                 Class     Images  Instances      Box(P          R      mAP50  mAP50-95): 100%|██████████| 6/6 [00:34<00:00,  5.82s/it]"
     ]
    },
    {
     "name": "stdout",
     "output_type": "stream",
     "text": [
      "                   all        185        795      0.869      0.659       0.79      0.363\n"
     ]
    },
    {
     "name": "stderr",
     "output_type": "stream",
     "text": [
      "\n"
     ]
    },
    {
     "name": "stdout",
     "output_type": "stream",
     "text": [
      "\n",
      "      Epoch    GPU_mem   box_loss   cls_loss   dfl_loss  Instances       Size\n"
     ]
    },
    {
     "name": "stderr",
     "output_type": "stream",
     "text": [
      "       3/10         0G      1.892      1.307      1.039          5        640: 100%|██████████| 24/24 [03:00<00:00,  7.53s/it]\n",
      "                 Class     Images  Instances      Box(P          R      mAP50  mAP50-95): 100%|██████████| 6/6 [00:34<00:00,  5.79s/it]"
     ]
    },
    {
     "name": "stdout",
     "output_type": "stream",
     "text": [
      "                   all        185        795      0.806      0.673       0.77      0.358\n"
     ]
    },
    {
     "name": "stderr",
     "output_type": "stream",
     "text": [
      "\n"
     ]
    },
    {
     "name": "stdout",
     "output_type": "stream",
     "text": [
      "\n",
      "      Epoch    GPU_mem   box_loss   cls_loss   dfl_loss  Instances       Size\n"
     ]
    },
    {
     "name": "stderr",
     "output_type": "stream",
     "text": [
      "       4/10         0G       1.86      1.274      1.031          3        640: 100%|██████████| 24/24 [03:00<00:00,  7.52s/it]\n",
      "                 Class     Images  Instances      Box(P          R      mAP50  mAP50-95): 100%|██████████| 6/6 [00:34<00:00,  5.83s/it]"
     ]
    },
    {
     "name": "stdout",
     "output_type": "stream",
     "text": [
      "                   all        185        795      0.848      0.697      0.786      0.349\n"
     ]
    },
    {
     "name": "stderr",
     "output_type": "stream",
     "text": [
      "\n"
     ]
    },
    {
     "name": "stdout",
     "output_type": "stream",
     "text": [
      "\n",
      "      Epoch    GPU_mem   box_loss   cls_loss   dfl_loss  Instances       Size\n"
     ]
    },
    {
     "name": "stderr",
     "output_type": "stream",
     "text": [
      "       5/10         0G      1.808      1.188      1.018          5        640: 100%|██████████| 24/24 [02:59<00:00,  7.47s/it]\n",
      "                 Class     Images  Instances      Box(P          R      mAP50  mAP50-95): 100%|██████████| 6/6 [00:34<00:00,  5.78s/it]"
     ]
    },
    {
     "name": "stdout",
     "output_type": "stream",
     "text": [
      "                   all        185        795      0.882      0.733      0.811      0.365\n"
     ]
    },
    {
     "name": "stderr",
     "output_type": "stream",
     "text": [
      "\n"
     ]
    },
    {
     "name": "stdout",
     "output_type": "stream",
     "text": [
      "\n",
      "      Epoch    GPU_mem   box_loss   cls_loss   dfl_loss  Instances       Size\n"
     ]
    },
    {
     "name": "stderr",
     "output_type": "stream",
     "text": [
      "       6/10         0G      1.832      1.229     0.9952          5        640: 100%|██████████| 24/24 [02:59<00:00,  7.49s/it]\n",
      "                 Class     Images  Instances      Box(P          R      mAP50  mAP50-95): 100%|██████████| 6/6 [00:35<00:00,  5.87s/it]"
     ]
    },
    {
     "name": "stdout",
     "output_type": "stream",
     "text": [
      "                   all        185        795      0.907      0.743       0.83      0.405\n"
     ]
    },
    {
     "name": "stderr",
     "output_type": "stream",
     "text": [
      "\n"
     ]
    },
    {
     "name": "stdout",
     "output_type": "stream",
     "text": [
      "\n",
      "      Epoch    GPU_mem   box_loss   cls_loss   dfl_loss  Instances       Size\n"
     ]
    },
    {
     "name": "stderr",
     "output_type": "stream",
     "text": [
      "       7/10         0G      1.728      1.061     0.9938          5        640: 100%|██████████| 24/24 [02:57<00:00,  7.39s/it]\n",
      "                 Class     Images  Instances      Box(P          R      mAP50  mAP50-95): 100%|██████████| 6/6 [00:34<00:00,  5.73s/it]"
     ]
    },
    {
     "name": "stdout",
     "output_type": "stream",
     "text": [
      "                   all        185        795      0.919      0.771      0.858      0.417\n"
     ]
    },
    {
     "name": "stderr",
     "output_type": "stream",
     "text": [
      "\n"
     ]
    },
    {
     "name": "stdout",
     "output_type": "stream",
     "text": [
      "\n",
      "      Epoch    GPU_mem   box_loss   cls_loss   dfl_loss  Instances       Size\n"
     ]
    },
    {
     "name": "stderr",
     "output_type": "stream",
     "text": [
      "       8/10         0G      1.673     0.9959     0.9769          5        640: 100%|██████████| 24/24 [02:59<00:00,  7.48s/it]\n",
      "                 Class     Images  Instances      Box(P          R      mAP50  mAP50-95): 100%|██████████| 6/6 [00:34<00:00,  5.77s/it]"
     ]
    },
    {
     "name": "stdout",
     "output_type": "stream",
     "text": [
      "                   all        185        795      0.938      0.785      0.861      0.434\n"
     ]
    },
    {
     "name": "stderr",
     "output_type": "stream",
     "text": [
      "\n"
     ]
    },
    {
     "name": "stdout",
     "output_type": "stream",
     "text": [
      "\n",
      "      Epoch    GPU_mem   box_loss   cls_loss   dfl_loss  Instances       Size\n"
     ]
    },
    {
     "name": "stderr",
     "output_type": "stream",
     "text": [
      "       9/10         0G      1.679     0.9514     0.9911          3        640: 100%|██████████| 24/24 [03:00<00:00,  7.50s/it]\n",
      "                 Class     Images  Instances      Box(P          R      mAP50  mAP50-95): 100%|██████████| 6/6 [00:34<00:00,  5.81s/it]"
     ]
    },
    {
     "name": "stdout",
     "output_type": "stream",
     "text": [
      "                   all        185        795      0.937      0.807      0.872      0.433\n"
     ]
    },
    {
     "name": "stderr",
     "output_type": "stream",
     "text": [
      "\n"
     ]
    },
    {
     "name": "stdout",
     "output_type": "stream",
     "text": [
      "\n",
      "      Epoch    GPU_mem   box_loss   cls_loss   dfl_loss  Instances       Size\n"
     ]
    },
    {
     "name": "stderr",
     "output_type": "stream",
     "text": [
      "      10/10         0G      1.666     0.9602     0.9837          3        640: 100%|██████████| 24/24 [02:58<00:00,  7.44s/it]\n",
      "                 Class     Images  Instances      Box(P          R      mAP50  mAP50-95): 100%|██████████| 6/6 [00:34<00:00,  5.78s/it]"
     ]
    },
    {
     "name": "stdout",
     "output_type": "stream",
     "text": [
      "                   all        185        795      0.934      0.819      0.889      0.445\n"
     ]
    },
    {
     "name": "stderr",
     "output_type": "stream",
     "text": [
      "\n"
     ]
    },
    {
     "name": "stdout",
     "output_type": "stream",
     "text": [
      "\n",
      "10 epochs completed in 0.598 hours.\n",
      "Optimizer stripped from pcb\\train92\\weights\\last.pt, 22.5MB\n",
      "Optimizer stripped from pcb\\train92\\weights\\best.pt, 22.5MB\n",
      "\n",
      "Validating pcb\\train92\\weights\\best.pt...\n",
      "Ultralytics 8.3.35  Python-3.12.4 torch-2.5.1+cpu CPU (11th Gen Intel Core(TM) i5-11400H 2.70GHz)\n",
      "Model summary (fused): 168 layers, 11,127,906 parameters, 0 gradients, 28.4 GFLOPs\n"
     ]
    },
    {
     "name": "stderr",
     "output_type": "stream",
     "text": [
      "                 Class     Images  Instances      Box(P          R      mAP50  mAP50-95): 100%|██████████| 6/6 [00:31<00:00,  5.20s/it]\n"
     ]
    },
    {
     "name": "stdout",
     "output_type": "stream",
     "text": [
      "                   all        185        795      0.933      0.817      0.889      0.444\n",
      "          missing_hole         32        140      0.996      0.964      0.992      0.553\n",
      "            mouse_bite         36        154      0.871      0.791      0.868      0.428\n",
      "          open_circuit         30        125      0.924      0.744      0.849      0.401\n",
      "                 short         26        116      0.947      0.914      0.953      0.463\n",
      "                  spur         27        113      0.927      0.676      0.769      0.388\n",
      "       spurious_copper         34        147       0.93      0.814      0.901      0.434\n",
      "Speed: 2.7ms preprocess, 156.4ms inference, 0.0ms loss, 0.4ms postprocess per image\n",
      "Results saved to \u001b[1mpcb\\train92\u001b[0m\n",
      "New https://pypi.org/project/ultralytics/8.3.36 available  Update with 'pip install -U ultralytics'\n",
      "Ultralytics 8.3.35  Python-3.12.4 torch-2.5.1+cpu CPU (11th Gen Intel Core(TM) i5-11400H 2.70GHz)\n",
      "\u001b[34m\u001b[1mengine\\trainer: \u001b[0mtask=detect, mode=train, model=yolov8s.pt, data=D:/BML Munjal/3rd Year/Sem 5/DIP/DIP-dataset/PCB_DATASET/split_dataset/binary/3fold_crossval\\split_3\\split_3_binary_dataset.yaml, epochs=10, time=None, patience=100, batch=16, imgsz=640, save=True, save_period=1, cache=False, device=None, workers=0, project=pcb, name=train922, exist_ok=False, pretrained=True, optimizer=auto, verbose=True, seed=0, deterministic=True, single_cls=False, rect=False, cos_lr=False, close_mosaic=10, resume=False, amp=True, fraction=1.0, profile=False, freeze=None, multi_scale=False, overlap_mask=True, mask_ratio=4, dropout=0.0, val=True, split=val, save_json=False, save_hybrid=False, conf=None, iou=0.7, max_det=300, half=False, dnn=False, plots=True, source=None, vid_stride=1, stream_buffer=False, visualize=False, augment=False, agnostic_nms=False, classes=None, retina_masks=False, embed=None, show=False, save_frames=False, save_txt=False, save_conf=False, save_crop=False, show_labels=True, show_conf=True, show_boxes=True, line_width=None, format=torchscript, keras=False, optimize=False, int8=False, dynamic=False, simplify=True, opset=None, workspace=4, nms=False, lr0=0.001, lrf=0.0001, momentum=0.937, weight_decay=0.0005, warmup_epochs=3.0, warmup_momentum=0.8, warmup_bias_lr=0.0, box=7.5, cls=0.5, dfl=1.5, pose=12.0, kobj=1.0, label_smoothing=0.0, nbs=64, hsv_h=0.015, hsv_s=0.7, hsv_v=0.4, degrees=0.0, translate=0.1, scale=0.5, shear=0.0, perspective=0.0, flipud=0.0, fliplr=0.5, bgr=0.0, mosaic=1.0, mixup=0.3, copy_paste=0.0, copy_paste_mode=flip, auto_augment=randaugment, erasing=0.4, crop_fraction=1.0, cfg=None, tracker=botsort.yaml, save_dir=pcb\\train922\n",
      "\n",
      "                   from  n    params  module                                       arguments                     \n",
      "  0                  -1  1       928  ultralytics.nn.modules.conv.Conv             [3, 32, 3, 2]                 \n",
      "  1                  -1  1     18560  ultralytics.nn.modules.conv.Conv             [32, 64, 3, 2]                \n",
      "  2                  -1  1     29056  ultralytics.nn.modules.block.C2f             [64, 64, 1, True]             \n",
      "  3                  -1  1     73984  ultralytics.nn.modules.conv.Conv             [64, 128, 3, 2]               \n",
      "  4                  -1  2    197632  ultralytics.nn.modules.block.C2f             [128, 128, 2, True]           \n",
      "  5                  -1  1    295424  ultralytics.nn.modules.conv.Conv             [128, 256, 3, 2]              \n",
      "  6                  -1  2    788480  ultralytics.nn.modules.block.C2f             [256, 256, 2, True]           \n",
      "  7                  -1  1   1180672  ultralytics.nn.modules.conv.Conv             [256, 512, 3, 2]              \n",
      "  8                  -1  1   1838080  ultralytics.nn.modules.block.C2f             [512, 512, 1, True]           \n",
      "  9                  -1  1    656896  ultralytics.nn.modules.block.SPPF            [512, 512, 5]                 \n",
      " 10                  -1  1         0  torch.nn.modules.upsampling.Upsample         [None, 2, 'nearest']          \n",
      " 11             [-1, 6]  1         0  ultralytics.nn.modules.conv.Concat           [1]                           \n",
      " 12                  -1  1    591360  ultralytics.nn.modules.block.C2f             [768, 256, 1]                 \n",
      " 13                  -1  1         0  torch.nn.modules.upsampling.Upsample         [None, 2, 'nearest']          \n",
      " 14             [-1, 4]  1         0  ultralytics.nn.modules.conv.Concat           [1]                           \n",
      " 15                  -1  1    148224  ultralytics.nn.modules.block.C2f             [384, 128, 1]                 \n",
      " 16                  -1  1    147712  ultralytics.nn.modules.conv.Conv             [128, 128, 3, 2]              \n",
      " 17            [-1, 12]  1         0  ultralytics.nn.modules.conv.Concat           [1]                           \n",
      " 18                  -1  1    493056  ultralytics.nn.modules.block.C2f             [384, 256, 1]                 \n",
      " 19                  -1  1    590336  ultralytics.nn.modules.conv.Conv             [256, 256, 3, 2]              \n",
      " 20             [-1, 9]  1         0  ultralytics.nn.modules.conv.Concat           [1]                           \n",
      " 21                  -1  1   1969152  ultralytics.nn.modules.block.C2f             [768, 512, 1]                 \n",
      " 22        [15, 18, 21]  1   2118370  ultralytics.nn.modules.head.Detect           [6, [128, 256, 512]]          \n",
      "Model summary: 225 layers, 11,137,922 parameters, 11,137,906 gradients, 28.7 GFLOPs\n",
      "\n",
      "Transferred 355/355 items from pretrained weights\n",
      "Freezing layer 'model.22.dfl.conv.weight'\n"
     ]
    },
    {
     "name": "stderr",
     "output_type": "stream",
     "text": [
      "\u001b[34m\u001b[1mtrain: \u001b[0mScanning D:\\BML Munjal\\3rd Year\\Sem 5\\DIP\\DIP-dataset\\PCB_DATASET\\split_dataset\\binary\\3fold_crossval\\split_3\\train\\labels... 370 images, 0 backgrounds, 0 corrupt: 100%|██████████| 370/370 [00:00<00:00, 2036.58it/s]"
     ]
    },
    {
     "name": "stdout",
     "output_type": "stream",
     "text": [
      "\u001b[34m\u001b[1mtrain: \u001b[0mNew cache created: D:\\BML Munjal\\3rd Year\\Sem 5\\DIP\\DIP-dataset\\PCB_DATASET\\split_dataset\\binary\\3fold_crossval\\split_3\\train\\labels.cache\n"
     ]
    },
    {
     "name": "stderr",
     "output_type": "stream",
     "text": [
      "\n",
      "\u001b[34m\u001b[1mval: \u001b[0mScanning D:\\BML Munjal\\3rd Year\\Sem 5\\DIP\\DIP-dataset\\PCB_DATASET\\split_dataset\\binary\\3fold_crossval\\split_3\\val\\labels... 184 images, 0 backgrounds, 0 corrupt: 100%|██████████| 184/184 [00:00<00:00, 1783.38it/s]"
     ]
    },
    {
     "name": "stdout",
     "output_type": "stream",
     "text": [
      "\u001b[34m\u001b[1mval: \u001b[0mNew cache created: D:\\BML Munjal\\3rd Year\\Sem 5\\DIP\\DIP-dataset\\PCB_DATASET\\split_dataset\\binary\\3fold_crossval\\split_3\\val\\labels.cache\n",
      "Plotting labels to pcb\\train922\\labels.jpg... \n"
     ]
    },
    {
     "name": "stderr",
     "output_type": "stream",
     "text": [
      "\n"
     ]
    },
    {
     "name": "stdout",
     "output_type": "stream",
     "text": [
      "\u001b[34m\u001b[1moptimizer:\u001b[0m 'optimizer=auto' found, ignoring 'lr0=0.001' and 'momentum=0.937' and determining best 'optimizer', 'lr0' and 'momentum' automatically... \n",
      "\u001b[34m\u001b[1moptimizer:\u001b[0m AdamW(lr=0.001, momentum=0.9) with parameter groups 57 weight(decay=0.0), 64 weight(decay=0.0005), 63 bias(decay=0.0)\n",
      "Image sizes 640 train, 640 val\n",
      "Using 0 dataloader workers\n",
      "Logging results to \u001b[1mpcb\\train922\u001b[0m\n",
      "Starting training for 10 epochs...\n",
      "Closing dataloader mosaic\n",
      "\n",
      "      Epoch    GPU_mem   box_loss   cls_loss   dfl_loss  Instances       Size\n"
     ]
    },
    {
     "name": "stderr",
     "output_type": "stream",
     "text": [
      "       1/10         0G      1.649     0.9691     0.9726         10        640: 100%|██████████| 24/24 [02:59<00:00,  7.49s/it]\n",
      "                 Class     Images  Instances      Box(P          R      mAP50  mAP50-95): 100%|██████████| 6/6 [00:33<00:00,  5.64s/it]"
     ]
    },
    {
     "name": "stdout",
     "output_type": "stream",
     "text": [
      "                   all        184        787      0.911      0.817        0.9       0.45\n"
     ]
    },
    {
     "name": "stderr",
     "output_type": "stream",
     "text": [
      "\n"
     ]
    },
    {
     "name": "stdout",
     "output_type": "stream",
     "text": [
      "\n",
      "      Epoch    GPU_mem   box_loss   cls_loss   dfl_loss  Instances       Size\n"
     ]
    },
    {
     "name": "stderr",
     "output_type": "stream",
     "text": [
      "       2/10         0G      1.671     0.9714     0.9835         10        640: 100%|██████████| 24/24 [03:00<00:00,  7.53s/it]\n",
      "                 Class     Images  Instances      Box(P          R      mAP50  mAP50-95): 100%|██████████| 6/6 [00:34<00:00,  5.74s/it]"
     ]
    },
    {
     "name": "stdout",
     "output_type": "stream",
     "text": [
      "                   all        184        787      0.931      0.777      0.885      0.448\n"
     ]
    },
    {
     "name": "stderr",
     "output_type": "stream",
     "text": [
      "\n"
     ]
    },
    {
     "name": "stdout",
     "output_type": "stream",
     "text": [
      "\n",
      "      Epoch    GPU_mem   box_loss   cls_loss   dfl_loss  Instances       Size\n"
     ]
    },
    {
     "name": "stderr",
     "output_type": "stream",
     "text": [
      "       3/10         0G      1.715      1.006      0.982          7        640: 100%|██████████| 24/24 [03:01<00:00,  7.55s/it]\n",
      "                 Class     Images  Instances      Box(P          R      mAP50  mAP50-95): 100%|██████████| 6/6 [00:34<00:00,  5.68s/it]"
     ]
    },
    {
     "name": "stdout",
     "output_type": "stream",
     "text": [
      "                   all        184        787      0.875      0.778      0.847      0.406\n"
     ]
    },
    {
     "name": "stderr",
     "output_type": "stream",
     "text": [
      "\n"
     ]
    },
    {
     "name": "stdout",
     "output_type": "stream",
     "text": [
      "\n",
      "      Epoch    GPU_mem   box_loss   cls_loss   dfl_loss  Instances       Size\n"
     ]
    },
    {
     "name": "stderr",
     "output_type": "stream",
     "text": [
      "       4/10         0G      1.679      1.006     0.9851          8        640: 100%|██████████| 24/24 [02:59<00:00,  7.49s/it]\n",
      "                 Class     Images  Instances      Box(P          R      mAP50  mAP50-95): 100%|██████████| 6/6 [00:34<00:00,  5.70s/it]"
     ]
    },
    {
     "name": "stdout",
     "output_type": "stream",
     "text": [
      "                   all        184        787      0.882      0.809      0.863      0.427\n"
     ]
    },
    {
     "name": "stderr",
     "output_type": "stream",
     "text": [
      "\n"
     ]
    },
    {
     "name": "stdout",
     "output_type": "stream",
     "text": [
      "\n",
      "      Epoch    GPU_mem   box_loss   cls_loss   dfl_loss  Instances       Size\n"
     ]
    },
    {
     "name": "stderr",
     "output_type": "stream",
     "text": [
      "       5/10         0G      1.723     0.9981     0.9901          9        640: 100%|██████████| 24/24 [02:59<00:00,  7.46s/it]\n",
      "                 Class     Images  Instances      Box(P          R      mAP50  mAP50-95): 100%|██████████| 6/6 [00:34<00:00,  5.67s/it]"
     ]
    },
    {
     "name": "stdout",
     "output_type": "stream",
     "text": [
      "                   all        184        787      0.839      0.783      0.844      0.388\n"
     ]
    },
    {
     "name": "stderr",
     "output_type": "stream",
     "text": [
      "\n"
     ]
    },
    {
     "name": "stdout",
     "output_type": "stream",
     "text": [
      "\n",
      "      Epoch    GPU_mem   box_loss   cls_loss   dfl_loss  Instances       Size\n"
     ]
    },
    {
     "name": "stderr",
     "output_type": "stream",
     "text": [
      "       6/10         0G      1.709     0.9946     0.9797          8        640: 100%|██████████| 24/24 [03:01<00:00,  7.55s/it]\n",
      "                 Class     Images  Instances      Box(P          R      mAP50  mAP50-95): 100%|██████████| 6/6 [00:34<00:00,  5.71s/it]"
     ]
    },
    {
     "name": "stdout",
     "output_type": "stream",
     "text": [
      "                   all        184        787      0.926      0.801      0.892      0.447\n"
     ]
    },
    {
     "name": "stderr",
     "output_type": "stream",
     "text": [
      "\n"
     ]
    },
    {
     "name": "stdout",
     "output_type": "stream",
     "text": [
      "\n",
      "      Epoch    GPU_mem   box_loss   cls_loss   dfl_loss  Instances       Size\n"
     ]
    },
    {
     "name": "stderr",
     "output_type": "stream",
     "text": [
      "       7/10         0G      1.621     0.9391     0.9498          7        640: 100%|██████████| 24/24 [03:00<00:00,  7.52s/it]\n",
      "                 Class     Images  Instances      Box(P          R      mAP50  mAP50-95): 100%|██████████| 6/6 [00:34<00:00,  5.72s/it]"
     ]
    },
    {
     "name": "stdout",
     "output_type": "stream",
     "text": [
      "                   all        184        787      0.921      0.822      0.897      0.453\n"
     ]
    },
    {
     "name": "stderr",
     "output_type": "stream",
     "text": [
      "\n"
     ]
    },
    {
     "name": "stdout",
     "output_type": "stream",
     "text": [
      "\n",
      "      Epoch    GPU_mem   box_loss   cls_loss   dfl_loss  Instances       Size\n"
     ]
    },
    {
     "name": "stderr",
     "output_type": "stream",
     "text": [
      "       8/10         0G      1.611     0.9002     0.9502          8        640: 100%|██████████| 24/24 [03:00<00:00,  7.51s/it]\n",
      "                 Class     Images  Instances      Box(P          R      mAP50  mAP50-95): 100%|██████████| 6/6 [00:34<00:00,  5.79s/it]"
     ]
    },
    {
     "name": "stdout",
     "output_type": "stream",
     "text": [
      "                   all        184        787       0.94      0.811      0.899      0.449\n"
     ]
    },
    {
     "name": "stderr",
     "output_type": "stream",
     "text": [
      "\n"
     ]
    },
    {
     "name": "stdout",
     "output_type": "stream",
     "text": [
      "\n",
      "      Epoch    GPU_mem   box_loss   cls_loss   dfl_loss  Instances       Size\n"
     ]
    },
    {
     "name": "stderr",
     "output_type": "stream",
     "text": [
      "       9/10         0G      1.544     0.8504     0.9522          9        640: 100%|██████████| 24/24 [03:01<00:00,  7.56s/it]\n",
      "                 Class     Images  Instances      Box(P          R      mAP50  mAP50-95): 100%|██████████| 6/6 [00:34<00:00,  5.73s/it]"
     ]
    },
    {
     "name": "stdout",
     "output_type": "stream",
     "text": [
      "                   all        184        787      0.935      0.859      0.908      0.487\n"
     ]
    },
    {
     "name": "stderr",
     "output_type": "stream",
     "text": [
      "\n"
     ]
    },
    {
     "name": "stdout",
     "output_type": "stream",
     "text": [
      "\n",
      "      Epoch    GPU_mem   box_loss   cls_loss   dfl_loss  Instances       Size\n"
     ]
    },
    {
     "name": "stderr",
     "output_type": "stream",
     "text": [
      "      10/10         0G      1.541     0.8314     0.9449          8        640: 100%|██████████| 24/24 [02:57<00:00,  7.42s/it]\n",
      "                 Class     Images  Instances      Box(P          R      mAP50  mAP50-95): 100%|██████████| 6/6 [00:33<00:00,  5.64s/it]"
     ]
    },
    {
     "name": "stdout",
     "output_type": "stream",
     "text": [
      "                   all        184        787      0.945      0.863      0.914       0.48\n"
     ]
    },
    {
     "name": "stderr",
     "output_type": "stream",
     "text": [
      "\n"
     ]
    },
    {
     "name": "stdout",
     "output_type": "stream",
     "text": [
      "\n",
      "10 epochs completed in 0.597 hours.\n",
      "Optimizer stripped from pcb\\train922\\weights\\last.pt, 22.5MB\n",
      "Optimizer stripped from pcb\\train922\\weights\\best.pt, 22.5MB\n",
      "\n",
      "Validating pcb\\train922\\weights\\best.pt...\n",
      "Ultralytics 8.3.35  Python-3.12.4 torch-2.5.1+cpu CPU (11th Gen Intel Core(TM) i5-11400H 2.70GHz)\n",
      "Model summary (fused): 168 layers, 11,127,906 parameters, 0 gradients, 28.4 GFLOPs\n"
     ]
    },
    {
     "name": "stderr",
     "output_type": "stream",
     "text": [
      "                 Class     Images  Instances      Box(P          R      mAP50  mAP50-95): 100%|██████████| 6/6 [00:30<00:00,  5.10s/it]\n"
     ]
    },
    {
     "name": "stdout",
     "output_type": "stream",
     "text": [
      "                   all        184        787      0.936      0.859      0.908      0.488\n",
      "          missing_hole         27        119      0.983      0.995       0.99      0.615\n",
      "            mouse_bite         30        138      0.889      0.891      0.914      0.455\n",
      "          open_circuit         30        120      0.961      0.811      0.884      0.462\n",
      "                 short         33        140      0.948      0.907      0.951      0.495\n",
      "                  spur         31        126      0.898        0.7       0.78      0.392\n",
      "       spurious_copper         33        144      0.939       0.85      0.929      0.509\n",
      "Speed: 2.9ms preprocess, 154.1ms inference, 0.0ms loss, 0.3ms postprocess per image\n",
      "Results saved to \u001b[1mpcb\\train922\u001b[0m\n",
      "Training completed for all folds.\n"
     ]
    }
   ],
   "source": [
    "from ultralytics import YOLO\n",
    "\n",
    "model = YOLO('yolov8s.pt')\n",
    "results = {}\n",
    "\n",
    "# Additional arguments\n",
    "batch = 16\n",
    "project = 'pcb'\n",
    "epochs = 10\n",
    "imgsz = 640\n",
    "save_period = 1\n",
    "verbose = True\n",
    "mixup = 0.3\n",
    "\n",
    "# Path to the parent folder containing all splits\n",
    "parent_folder_path = \"D:/BML Munjal/3rd Year/Sem 5/DIP/DIP-dataset/PCB_DATASET/split_dataset/binary/3fold_crossval\"\n",
    "\n",
    "# Loop for each split (3 splits in this case)\n",
    "for k in range(ksplit):\n",
    "    # Get the path to the current split's dataset YAML file\n",
    "    dataset_yaml = os.path.join(parent_folder_path, f\"split_{k+1}\", f\"split_{k+1}_binary_dataset.yaml\")\n",
    "    \n",
    "    # Ensure the YAML file exists before training\n",
    "    if not os.path.exists(dataset_yaml):\n",
    "        raise FileNotFoundError(f\"Dataset YAML file not found: {dataset_yaml}\")\n",
    "    \n",
    "    # Train the model on the current split\n",
    "    model.train(data=dataset_yaml,  # Pointing directly to the dataset.yaml for the current split\n",
    "                epochs=epochs,\n",
    "                batch=batch,\n",
    "                lr0=0.001,\n",
    "                lrf=0.0001,\n",
    "                imgsz=imgsz,\n",
    "                save_period=save_period,\n",
    "                verbose=verbose,\n",
    "                project=project,\n",
    "                mixup=mixup)\n",
    "    \n",
    "    # Save the results for the current fold\n",
    "    results[k] = model.metrics\n",
    "\n",
    "print(\"Training completed for all folds.\")\n"
   ]
  },
  {
   "cell_type": "markdown",
   "metadata": {},
   "source": [
    "Model Training for greyscale\n"
   ]
  },
  {
   "cell_type": "code",
   "execution_count": null,
   "metadata": {},
   "outputs": [
    {
     "name": "stdout",
     "output_type": "stream",
     "text": [
      "Ultralytics 8.3.36  Python-3.12.4 torch-2.5.1+cpu CPU (11th Gen Intel Core(TM) i5-11400H 2.70GHz)\n",
      "\u001b[34m\u001b[1mengine\\trainer: \u001b[0mtask=detect, mode=train, model=yolov8s.pt, data=D:\\BML Munjal\\3rd Year\\Sem 5\\DIP\\DIP-dataset\\greyscale_dataset.yaml, epochs=20, time=None, patience=100, batch=16, imgsz=640, save=True, save_period=1, cache=False, device=None, workers=8, project=pcb_project_greyscale, name=train, exist_ok=False, pretrained=True, optimizer=auto, verbose=True, seed=0, deterministic=True, single_cls=False, rect=False, cos_lr=False, close_mosaic=10, resume=False, amp=True, fraction=1.0, profile=False, freeze=None, multi_scale=False, overlap_mask=True, mask_ratio=4, dropout=0.0, val=True, split=val, save_json=False, save_hybrid=False, conf=None, iou=0.7, max_det=300, half=False, dnn=False, plots=True, source=None, vid_stride=1, stream_buffer=False, visualize=False, augment=False, agnostic_nms=False, classes=None, retina_masks=False, embed=None, show=False, save_frames=False, save_txt=False, save_conf=False, save_crop=False, show_labels=True, show_conf=True, show_boxes=True, line_width=None, format=torchscript, keras=False, optimize=False, int8=False, dynamic=False, simplify=True, opset=None, workspace=4, nms=False, lr0=0.001, lrf=0.0001, momentum=0.937, weight_decay=0.0005, warmup_epochs=3.0, warmup_momentum=0.8, warmup_bias_lr=0.1, box=7.5, cls=0.5, dfl=1.5, pose=12.0, kobj=1.0, label_smoothing=0.0, nbs=64, hsv_h=0.015, hsv_s=0.7, hsv_v=0.4, degrees=0.0, translate=0.1, scale=0.5, shear=0.0, perspective=0.0, flipud=0.0, fliplr=0.5, bgr=0.0, mosaic=1.0, mixup=0.3, copy_paste=0.0, copy_paste_mode=flip, auto_augment=randaugment, erasing=0.4, crop_fraction=1.0, cfg=None, tracker=botsort.yaml, save_dir=pcb_project_greyscale\\train\n",
      "Overriding model.yaml nc=80 with nc=6\n",
      "\n",
      "                   from  n    params  module                                       arguments                     \n",
      "  0                  -1  1       928  ultralytics.nn.modules.conv.Conv             [3, 32, 3, 2]                 \n",
      "  1                  -1  1     18560  ultralytics.nn.modules.conv.Conv             [32, 64, 3, 2]                \n",
      "  2                  -1  1     29056  ultralytics.nn.modules.block.C2f             [64, 64, 1, True]             \n",
      "  3                  -1  1     73984  ultralytics.nn.modules.conv.Conv             [64, 128, 3, 2]               \n",
      "  4                  -1  2    197632  ultralytics.nn.modules.block.C2f             [128, 128, 2, True]           \n",
      "  5                  -1  1    295424  ultralytics.nn.modules.conv.Conv             [128, 256, 3, 2]              \n",
      "  6                  -1  2    788480  ultralytics.nn.modules.block.C2f             [256, 256, 2, True]           \n",
      "  7                  -1  1   1180672  ultralytics.nn.modules.conv.Conv             [256, 512, 3, 2]              \n",
      "  8                  -1  1   1838080  ultralytics.nn.modules.block.C2f             [512, 512, 1, True]           \n",
      "  9                  -1  1    656896  ultralytics.nn.modules.block.SPPF            [512, 512, 5]                 \n",
      " 10                  -1  1         0  torch.nn.modules.upsampling.Upsample         [None, 2, 'nearest']          \n",
      " 11             [-1, 6]  1         0  ultralytics.nn.modules.conv.Concat           [1]                           \n",
      " 12                  -1  1    591360  ultralytics.nn.modules.block.C2f             [768, 256, 1]                 \n",
      " 13                  -1  1         0  torch.nn.modules.upsampling.Upsample         [None, 2, 'nearest']          \n",
      " 14             [-1, 4]  1         0  ultralytics.nn.modules.conv.Concat           [1]                           \n",
      " 15                  -1  1    148224  ultralytics.nn.modules.block.C2f             [384, 128, 1]                 \n",
      " 16                  -1  1    147712  ultralytics.nn.modules.conv.Conv             [128, 128, 3, 2]              \n",
      " 17            [-1, 12]  1         0  ultralytics.nn.modules.conv.Concat           [1]                           \n",
      " 18                  -1  1    493056  ultralytics.nn.modules.block.C2f             [384, 256, 1]                 \n",
      " 19                  -1  1    590336  ultralytics.nn.modules.conv.Conv             [256, 256, 3, 2]              \n",
      " 20             [-1, 9]  1         0  ultralytics.nn.modules.conv.Concat           [1]                           \n",
      " 21                  -1  1   1969152  ultralytics.nn.modules.block.C2f             [768, 512, 1]                 \n",
      " 22        [15, 18, 21]  1   2118370  ultralytics.nn.modules.head.Detect           [6, [128, 256, 512]]          \n",
      "Model summary: 225 layers, 11,137,922 parameters, 11,137,906 gradients, 28.7 GFLOPs\n",
      "\n",
      "Transferred 349/355 items from pretrained weights\n",
      "Freezing layer 'model.22.dfl.conv.weight'\n"
     ]
    },
    {
     "name": "stderr",
     "output_type": "stream",
     "text": [
      "\u001b[34m\u001b[1mtrain: \u001b[0mScanning D:\\BML Munjal\\3rd Year\\Sem 5\\DIP\\DIP-dataset\\PCB_DATASET\\split_dataset\\greyscale\\labels\\train.cache... 554 images, 0 backgrounds, 0 corrupt: 100%|██████████| 554/554 [00:00<?, ?it/s]\n",
      "\u001b[34m\u001b[1mval: \u001b[0mScanning D:\\BML Munjal\\3rd Year\\Sem 5\\DIP\\DIP-dataset\\PCB_DATASET\\split_dataset\\greyscale\\labels\\val.cache... 69 images, 0 backgrounds, 0 corrupt: 100%|██████████| 69/69 [00:00<?, ?it/s]"
     ]
    },
    {
     "name": "stdout",
     "output_type": "stream",
     "text": [
      "Plotting labels to pcb_project_greyscale\\train\\labels.jpg... \n"
     ]
    },
    {
     "name": "stderr",
     "output_type": "stream",
     "text": [
      "\n"
     ]
    },
    {
     "name": "stdout",
     "output_type": "stream",
     "text": [
      "\u001b[34m\u001b[1moptimizer:\u001b[0m 'optimizer=auto' found, ignoring 'lr0=0.001' and 'momentum=0.937' and determining best 'optimizer', 'lr0' and 'momentum' automatically... \n",
      "\u001b[34m\u001b[1moptimizer:\u001b[0m AdamW(lr=0.001, momentum=0.9) with parameter groups 57 weight(decay=0.0), 64 weight(decay=0.0005), 63 bias(decay=0.0)\n",
      "Image sizes 640 train, 640 val\n",
      "Using 0 dataloader workers\n",
      "Logging results to \u001b[1mpcb_project_greyscale\\train\u001b[0m\n",
      "Starting training for 20 epochs...\n",
      "\n",
      "      Epoch    GPU_mem   box_loss   cls_loss   dfl_loss  Instances       Size\n"
     ]
    },
    {
     "name": "stderr",
     "output_type": "stream",
     "text": [
      "       1/20         0G      3.841      12.13      1.815         75        640: 100%|██████████| 35/35 [04:42<00:00,  8.06s/it]\n",
      "                 Class     Images  Instances      Box(P          R      mAP50  mAP50-95): 100%|██████████| 3/3 [00:20<00:00,  6.86s/it]"
     ]
    },
    {
     "name": "stdout",
     "output_type": "stream",
     "text": [
      "                   all         69        286   0.000723      0.157   0.000727   0.000297\n"
     ]
    },
    {
     "name": "stderr",
     "output_type": "stream",
     "text": [
      "\n"
     ]
    },
    {
     "name": "stdout",
     "output_type": "stream",
     "text": [
      "\n",
      "      Epoch    GPU_mem   box_loss   cls_loss   dfl_loss  Instances       Size\n"
     ]
    },
    {
     "name": "stderr",
     "output_type": "stream",
     "text": [
      "       2/20         0G      2.976      4.041      1.274         52        640: 100%|██████████| 35/35 [04:37<00:00,  7.93s/it]\n",
      "                 Class     Images  Instances      Box(P          R      mAP50  mAP50-95): 100%|██████████| 3/3 [00:15<00:00,  5.07s/it]"
     ]
    },
    {
     "name": "stdout",
     "output_type": "stream",
     "text": [
      "                   all         69        286      0.289      0.253      0.133     0.0493\n"
     ]
    },
    {
     "name": "stderr",
     "output_type": "stream",
     "text": [
      "\n"
     ]
    },
    {
     "name": "stdout",
     "output_type": "stream",
     "text": [
      "\n",
      "      Epoch    GPU_mem   box_loss   cls_loss   dfl_loss  Instances       Size\n"
     ]
    },
    {
     "name": "stderr",
     "output_type": "stream",
     "text": [
      "       3/20         0G      2.577      3.008      1.162         85        640: 100%|██████████| 35/35 [04:52<00:00,  8.35s/it]\n",
      "                 Class     Images  Instances      Box(P          R      mAP50  mAP50-95): 100%|██████████| 3/3 [00:13<00:00,  4.36s/it]"
     ]
    },
    {
     "name": "stdout",
     "output_type": "stream",
     "text": [
      "                   all         69        286      0.407      0.441      0.393      0.161\n"
     ]
    },
    {
     "name": "stderr",
     "output_type": "stream",
     "text": [
      "\n"
     ]
    },
    {
     "name": "stdout",
     "output_type": "stream",
     "text": [
      "\n",
      "      Epoch    GPU_mem   box_loss   cls_loss   dfl_loss  Instances       Size\n"
     ]
    },
    {
     "name": "stderr",
     "output_type": "stream",
     "text": [
      "       4/20         0G      2.504      2.704      1.143         78        640: 100%|██████████| 35/35 [04:35<00:00,  7.86s/it]\n",
      "                 Class     Images  Instances      Box(P          R      mAP50  mAP50-95): 100%|██████████| 3/3 [00:12<00:00,  4.26s/it]"
     ]
    },
    {
     "name": "stdout",
     "output_type": "stream",
     "text": [
      "                   all         69        286      0.558      0.467      0.466      0.212\n"
     ]
    },
    {
     "name": "stderr",
     "output_type": "stream",
     "text": [
      "\n"
     ]
    },
    {
     "name": "stdout",
     "output_type": "stream",
     "text": [
      "\n",
      "      Epoch    GPU_mem   box_loss   cls_loss   dfl_loss  Instances       Size\n"
     ]
    },
    {
     "name": "stderr",
     "output_type": "stream",
     "text": [
      "       5/20         0G      2.396      2.416        1.1         62        640: 100%|██████████| 35/35 [04:35<00:00,  7.88s/it]\n",
      "                 Class     Images  Instances      Box(P          R      mAP50  mAP50-95): 100%|██████████| 3/3 [00:12<00:00,  4.26s/it]"
     ]
    },
    {
     "name": "stdout",
     "output_type": "stream",
     "text": [
      "                   all         69        286      0.682      0.537      0.574      0.239\n"
     ]
    },
    {
     "name": "stderr",
     "output_type": "stream",
     "text": [
      "\n"
     ]
    },
    {
     "name": "stdout",
     "output_type": "stream",
     "text": [
      "\n",
      "      Epoch    GPU_mem   box_loss   cls_loss   dfl_loss  Instances       Size\n"
     ]
    },
    {
     "name": "stderr",
     "output_type": "stream",
     "text": [
      "       6/20         0G      2.321      2.235      1.092         84        640: 100%|██████████| 35/35 [04:33<00:00,  7.80s/it]\n",
      "                 Class     Images  Instances      Box(P          R      mAP50  mAP50-95): 100%|██████████| 3/3 [00:12<00:00,  4.26s/it]"
     ]
    },
    {
     "name": "stdout",
     "output_type": "stream",
     "text": [
      "                   all         69        286      0.614      0.625      0.628      0.294\n"
     ]
    },
    {
     "name": "stderr",
     "output_type": "stream",
     "text": [
      "\n"
     ]
    },
    {
     "name": "stdout",
     "output_type": "stream",
     "text": [
      "\n",
      "      Epoch    GPU_mem   box_loss   cls_loss   dfl_loss  Instances       Size\n"
     ]
    },
    {
     "name": "stderr",
     "output_type": "stream",
     "text": [
      "       7/20         0G      2.158      1.995      1.058         56        640: 100%|██████████| 35/35 [04:33<00:00,  7.83s/it]\n",
      "                 Class     Images  Instances      Box(P          R      mAP50  mAP50-95): 100%|██████████| 3/3 [00:12<00:00,  4.24s/it]"
     ]
    },
    {
     "name": "stdout",
     "output_type": "stream",
     "text": [
      "                   all         69        286      0.852      0.622      0.731      0.315\n"
     ]
    },
    {
     "name": "stderr",
     "output_type": "stream",
     "text": [
      "\n"
     ]
    },
    {
     "name": "stdout",
     "output_type": "stream",
     "text": [
      "\n",
      "      Epoch    GPU_mem   box_loss   cls_loss   dfl_loss  Instances       Size\n"
     ]
    },
    {
     "name": "stderr",
     "output_type": "stream",
     "text": [
      "       8/20         0G       2.19       1.93      1.069         54        640: 100%|██████████| 35/35 [04:33<00:00,  7.81s/it]\n",
      "                 Class     Images  Instances      Box(P          R      mAP50  mAP50-95): 100%|██████████| 3/3 [00:12<00:00,  4.22s/it]"
     ]
    },
    {
     "name": "stdout",
     "output_type": "stream",
     "text": [
      "                   all         69        286       0.79      0.607      0.725      0.355\n"
     ]
    },
    {
     "name": "stderr",
     "output_type": "stream",
     "text": [
      "\n"
     ]
    },
    {
     "name": "stdout",
     "output_type": "stream",
     "text": [
      "\n",
      "      Epoch    GPU_mem   box_loss   cls_loss   dfl_loss  Instances       Size\n"
     ]
    },
    {
     "name": "stderr",
     "output_type": "stream",
     "text": [
      "       9/20         0G      2.163      1.887      1.071         58        640: 100%|██████████| 35/35 [04:32<00:00,  7.79s/it]\n",
      "                 Class     Images  Instances      Box(P          R      mAP50  mAP50-95): 100%|██████████| 3/3 [00:12<00:00,  4.23s/it]"
     ]
    },
    {
     "name": "stdout",
     "output_type": "stream",
     "text": [
      "                   all         69        286      0.837      0.678      0.782      0.369\n"
     ]
    },
    {
     "name": "stderr",
     "output_type": "stream",
     "text": [
      "\n"
     ]
    },
    {
     "name": "stdout",
     "output_type": "stream",
     "text": [
      "\n",
      "      Epoch    GPU_mem   box_loss   cls_loss   dfl_loss  Instances       Size\n"
     ]
    },
    {
     "name": "stderr",
     "output_type": "stream",
     "text": [
      "      10/20         0G      2.108      1.746      1.046         67        640: 100%|██████████| 35/35 [04:32<00:00,  7.80s/it]\n",
      "                 Class     Images  Instances      Box(P          R      mAP50  mAP50-95): 100%|██████████| 3/3 [00:12<00:00,  4.18s/it]"
     ]
    },
    {
     "name": "stdout",
     "output_type": "stream",
     "text": [
      "                   all         69        286      0.878      0.714      0.805      0.391\n"
     ]
    },
    {
     "name": "stderr",
     "output_type": "stream",
     "text": [
      "\n"
     ]
    },
    {
     "name": "stdout",
     "output_type": "stream",
     "text": [
      "Closing dataloader mosaic\n",
      "\n",
      "      Epoch    GPU_mem   box_loss   cls_loss   dfl_loss  Instances       Size\n"
     ]
    },
    {
     "name": "stderr",
     "output_type": "stream",
     "text": [
      "      11/20         0G      1.808      1.241      1.017         41        640: 100%|██████████| 35/35 [04:29<00:00,  7.70s/it]\n",
      "                 Class     Images  Instances      Box(P          R      mAP50  mAP50-95): 100%|██████████| 3/3 [00:12<00:00,  4.24s/it]"
     ]
    },
    {
     "name": "stdout",
     "output_type": "stream",
     "text": [
      "                   all         69        286       0.93      0.719      0.803      0.388\n"
     ]
    },
    {
     "name": "stderr",
     "output_type": "stream",
     "text": [
      "\n"
     ]
    },
    {
     "name": "stdout",
     "output_type": "stream",
     "text": [
      "\n",
      "      Epoch    GPU_mem   box_loss   cls_loss   dfl_loss  Instances       Size\n"
     ]
    },
    {
     "name": "stderr",
     "output_type": "stream",
     "text": [
      "      12/20         0G      1.754      1.159      1.001         42        640: 100%|██████████| 35/35 [04:28<00:00,  7.67s/it]\n",
      "                 Class     Images  Instances      Box(P          R      mAP50  mAP50-95): 100%|██████████| 3/3 [00:12<00:00,  4.26s/it]"
     ]
    },
    {
     "name": "stdout",
     "output_type": "stream",
     "text": [
      "                   all         69        286      0.903      0.758      0.815      0.403\n"
     ]
    },
    {
     "name": "stderr",
     "output_type": "stream",
     "text": [
      "\n"
     ]
    },
    {
     "name": "stdout",
     "output_type": "stream",
     "text": [
      "\n",
      "      Epoch    GPU_mem   box_loss   cls_loss   dfl_loss  Instances       Size\n"
     ]
    },
    {
     "name": "stderr",
     "output_type": "stream",
     "text": [
      "      13/20         0G      1.714      1.082     0.9748         40        640: 100%|██████████| 35/35 [04:27<00:00,  7.64s/it]\n",
      "                 Class     Images  Instances      Box(P          R      mAP50  mAP50-95): 100%|██████████| 3/3 [00:12<00:00,  4.21s/it]"
     ]
    },
    {
     "name": "stdout",
     "output_type": "stream",
     "text": [
      "                   all         69        286      0.949      0.741      0.841      0.436\n"
     ]
    },
    {
     "name": "stderr",
     "output_type": "stream",
     "text": [
      "\n"
     ]
    },
    {
     "name": "stdout",
     "output_type": "stream",
     "text": [
      "\n",
      "      Epoch    GPU_mem   box_loss   cls_loss   dfl_loss  Instances       Size\n"
     ]
    },
    {
     "name": "stderr",
     "output_type": "stream",
     "text": [
      "      14/20         0G      1.683      1.055     0.9875         39        640: 100%|██████████| 35/35 [04:30<00:00,  7.74s/it]\n",
      "                 Class     Images  Instances      Box(P          R      mAP50  mAP50-95): 100%|██████████| 3/3 [00:12<00:00,  4.24s/it]"
     ]
    },
    {
     "name": "stdout",
     "output_type": "stream",
     "text": [
      "                   all         69        286       0.95      0.795      0.879      0.444\n"
     ]
    },
    {
     "name": "stderr",
     "output_type": "stream",
     "text": [
      "\n"
     ]
    },
    {
     "name": "stdout",
     "output_type": "stream",
     "text": [
      "\n",
      "      Epoch    GPU_mem   box_loss   cls_loss   dfl_loss  Instances       Size\n"
     ]
    },
    {
     "name": "stderr",
     "output_type": "stream",
     "text": [
      "      15/20         0G      1.648     0.9543     0.9722         42        640: 100%|██████████| 35/35 [04:29<00:00,  7.69s/it]\n",
      "                 Class     Images  Instances      Box(P          R      mAP50  mAP50-95): 100%|██████████| 3/3 [00:12<00:00,  4.24s/it]"
     ]
    },
    {
     "name": "stdout",
     "output_type": "stream",
     "text": [
      "                   all         69        286      0.927      0.829      0.891       0.46\n"
     ]
    },
    {
     "name": "stderr",
     "output_type": "stream",
     "text": [
      "\n"
     ]
    },
    {
     "name": "stdout",
     "output_type": "stream",
     "text": [
      "\n",
      "      Epoch    GPU_mem   box_loss   cls_loss   dfl_loss  Instances       Size\n"
     ]
    },
    {
     "name": "stderr",
     "output_type": "stream",
     "text": [
      "      16/20         0G      1.648     0.9432     0.9649         43        640: 100%|██████████| 35/35 [04:29<00:00,  7.69s/it]\n",
      "                 Class     Images  Instances      Box(P          R      mAP50  mAP50-95): 100%|██████████| 3/3 [00:12<00:00,  4.24s/it]"
     ]
    },
    {
     "name": "stdout",
     "output_type": "stream",
     "text": [
      "                   all         69        286      0.927      0.814      0.883      0.455\n"
     ]
    },
    {
     "name": "stderr",
     "output_type": "stream",
     "text": [
      "\n"
     ]
    },
    {
     "name": "stdout",
     "output_type": "stream",
     "text": [
      "\n",
      "      Epoch    GPU_mem   box_loss   cls_loss   dfl_loss  Instances       Size\n"
     ]
    },
    {
     "name": "stderr",
     "output_type": "stream",
     "text": [
      "      17/20         0G      1.619     0.9154     0.9543         39        640: 100%|██████████| 35/35 [04:27<00:00,  7.63s/it]\n",
      "                 Class     Images  Instances      Box(P          R      mAP50  mAP50-95): 100%|██████████| 3/3 [00:12<00:00,  4.21s/it]"
     ]
    },
    {
     "name": "stdout",
     "output_type": "stream",
     "text": [
      "                   all         69        286      0.958      0.795      0.901      0.452\n"
     ]
    },
    {
     "name": "stderr",
     "output_type": "stream",
     "text": [
      "\n"
     ]
    },
    {
     "name": "stdout",
     "output_type": "stream",
     "text": [
      "\n",
      "      Epoch    GPU_mem   box_loss   cls_loss   dfl_loss  Instances       Size\n"
     ]
    },
    {
     "name": "stderr",
     "output_type": "stream",
     "text": [
      "      18/20         0G      1.613     0.8915     0.9659         32        640: 100%|██████████| 35/35 [04:30<00:00,  7.73s/it]\n",
      "                 Class     Images  Instances      Box(P          R      mAP50  mAP50-95): 100%|██████████| 3/3 [00:12<00:00,  4.22s/it]"
     ]
    },
    {
     "name": "stdout",
     "output_type": "stream",
     "text": [
      "                   all         69        286      0.944        0.8        0.9      0.466\n"
     ]
    },
    {
     "name": "stderr",
     "output_type": "stream",
     "text": [
      "\n"
     ]
    },
    {
     "name": "stdout",
     "output_type": "stream",
     "text": [
      "\n",
      "      Epoch    GPU_mem   box_loss   cls_loss   dfl_loss  Instances       Size\n"
     ]
    },
    {
     "name": "stderr",
     "output_type": "stream",
     "text": [
      "      19/20         0G      1.561     0.8813     0.9419         45        640: 100%|██████████| 35/35 [04:27<00:00,  7.66s/it]\n",
      "                 Class     Images  Instances      Box(P          R      mAP50  mAP50-95): 100%|██████████| 3/3 [00:12<00:00,  4.15s/it]"
     ]
    },
    {
     "name": "stdout",
     "output_type": "stream",
     "text": [
      "                   all         69        286      0.958      0.817      0.907      0.472\n"
     ]
    },
    {
     "name": "stderr",
     "output_type": "stream",
     "text": [
      "\n"
     ]
    },
    {
     "name": "stdout",
     "output_type": "stream",
     "text": [
      "\n",
      "      Epoch    GPU_mem   box_loss   cls_loss   dfl_loss  Instances       Size\n"
     ]
    },
    {
     "name": "stderr",
     "output_type": "stream",
     "text": [
      "      20/20         0G      1.544     0.8338     0.9382         45        640: 100%|██████████| 35/35 [04:27<00:00,  7.64s/it]\n",
      "                 Class     Images  Instances      Box(P          R      mAP50  mAP50-95): 100%|██████████| 3/3 [00:12<00:00,  4.23s/it]"
     ]
    },
    {
     "name": "stdout",
     "output_type": "stream",
     "text": [
      "                   all         69        286      0.965      0.823      0.919      0.481\n"
     ]
    },
    {
     "name": "stderr",
     "output_type": "stream",
     "text": [
      "\n"
     ]
    },
    {
     "name": "stdout",
     "output_type": "stream",
     "text": [
      "\n",
      "20 epochs completed in 1.593 hours.\n",
      "Optimizer stripped from pcb_project_greyscale\\train\\weights\\last.pt, 22.5MB\n",
      "Optimizer stripped from pcb_project_greyscale\\train\\weights\\best.pt, 22.5MB\n",
      "\n",
      "Validating pcb_project_greyscale\\train\\weights\\best.pt...\n",
      "Ultralytics 8.3.36  Python-3.12.4 torch-2.5.1+cpu CPU (11th Gen Intel Core(TM) i5-11400H 2.70GHz)\n",
      "Model summary (fused): 168 layers, 11,127,906 parameters, 0 gradients, 28.4 GFLOPs\n"
     ]
    },
    {
     "name": "stderr",
     "output_type": "stream",
     "text": [
      "                 Class     Images  Instances      Box(P          R      mAP50  mAP50-95): 100%|██████████| 3/3 [00:10<00:00,  3.67s/it]\n"
     ]
    },
    {
     "name": "stdout",
     "output_type": "stream",
     "text": [
      "                   all         69        286      0.965      0.823      0.919      0.481\n",
      "          missing_hole         10         47      0.988      0.979      0.995      0.629\n",
      "            mouse_bite         21         81       0.93      0.655      0.841      0.401\n",
      "          open_circuit         10         42       0.98      0.738      0.864      0.428\n",
      "                 short         11         46      0.952      0.826      0.933      0.499\n",
      "                  spur          8         29      0.941      0.862       0.92      0.447\n",
      "       spurious_copper          9         41          1      0.877      0.964      0.483\n",
      "Speed: 2.0ms preprocess, 148.2ms inference, 0.0ms loss, 0.3ms postprocess per image\n",
      "Results saved to \u001b[1mpcb_project_greyscale\\train\u001b[0m\n"
     ]
    }
   ],
   "source": [
    "model = YOLO('yolov8s.pt')\n",
    "\n",
    "# Configuration Parameters\n",
    "batch = 16\n",
    "project = 'pcb_project_greyscale'\n",
    "epochs = 20\n",
    "imgsz = 640\n",
    "save_period = 1\n",
    "verbose = True\n",
    "mixup = 0.3  # Image blending augmentation\n",
    "\n",
    "# Define paths for dataset YAML\n",
    "output_dir = r\"D:\\BML Munjal\\3rd Year\\Sem 5\\DIP\\DIP-dataset\\PCB_DATASET\\split_dataset\\greyscale\" # Replace with the path to your dataset directory\n",
    "root_dir = r\"D:\\BML Munjal\\3rd Year\\Sem 5\\DIP\\DIP-dataset\"  # Replace with the path to your project directory\n",
    "\n",
    "# Prepare YAML content\n",
    "all_data_yaml = f\"\"\"\n",
    "path: {output_dir}\n",
    "train: images/train\n",
    "val: images/val\n",
    "\n",
    "names:\n",
    "    0: missing_hole\n",
    "    1: mouse_bite\n",
    "    2: open_circuit\n",
    "    3: short\n",
    "    4: spur \n",
    "    5: spurious_copper\n",
    "\"\"\"\n",
    "\n",
    "# Save YAML file\n",
    "data_path = os.path.join(root_dir, 'greyscale_dataset.yaml')  # Updated filename to avoid confusion\n",
    "with open(data_path, 'w') as f:\n",
    "    f.write(all_data_yaml)\n",
    "\n",
    "# Train the model using the defined YAML\n",
    "result = model.train(data=data_path,\n",
    "                     epochs=epochs,\n",
    "                     batch=batch,\n",
    "                     lr0=0.001,\n",
    "                     lrf=0.0001,\n",
    "                     imgsz=imgsz,\n",
    "                     save_period=save_period,\n",
    "                     verbose=verbose,\n",
    "                     project=project,\n",
    "                     mixup=mixup)\n"
   ]
  },
  {
   "cell_type": "markdown",
   "metadata": {},
   "source": [
    "Model Training for Binary Images\n"
   ]
  },
  {
   "cell_type": "code",
   "execution_count": 5,
   "metadata": {},
   "outputs": [
    {
     "name": "stdout",
     "output_type": "stream",
     "text": [
      "Ultralytics 8.3.36  Python-3.12.4 torch-2.5.1+cpu CPU (11th Gen Intel Core(TM) i5-11400H 2.70GHz)\n",
      "\u001b[34m\u001b[1mengine\\trainer: \u001b[0mtask=detect, mode=train, model=yolov8s.pt, data=D:\\BML Munjal\\3rd Year\\Sem 5\\DIP\\DIP-dataset\\binary_dataset.yaml, epochs=100, time=None, patience=100, batch=16, imgsz=640, save=True, save_period=1, cache=False, device=None, workers=8, project=pcb_project, name=train2, exist_ok=False, pretrained=True, optimizer=auto, verbose=True, seed=0, deterministic=True, single_cls=False, rect=False, cos_lr=False, close_mosaic=10, resume=False, amp=True, fraction=1.0, profile=False, freeze=None, multi_scale=False, overlap_mask=True, mask_ratio=4, dropout=0.0, val=True, split=val, save_json=False, save_hybrid=False, conf=None, iou=0.7, max_det=300, half=False, dnn=False, plots=True, source=None, vid_stride=1, stream_buffer=False, visualize=False, augment=False, agnostic_nms=False, classes=None, retina_masks=False, embed=None, show=False, save_frames=False, save_txt=False, save_conf=False, save_crop=False, show_labels=True, show_conf=True, show_boxes=True, line_width=None, format=torchscript, keras=False, optimize=False, int8=False, dynamic=False, simplify=True, opset=None, workspace=4, nms=False, lr0=0.001, lrf=0.0001, momentum=0.937, weight_decay=0.0005, warmup_epochs=3.0, warmup_momentum=0.8, warmup_bias_lr=0.1, box=7.5, cls=0.5, dfl=1.5, pose=12.0, kobj=1.0, label_smoothing=0.0, nbs=64, hsv_h=0.015, hsv_s=0.7, hsv_v=0.4, degrees=0.0, translate=0.1, scale=0.5, shear=0.0, perspective=0.0, flipud=0.0, fliplr=0.5, bgr=0.0, mosaic=1.0, mixup=0.3, copy_paste=0.0, copy_paste_mode=flip, auto_augment=randaugment, erasing=0.4, crop_fraction=1.0, cfg=None, tracker=botsort.yaml, save_dir=pcb_project\\train2\n",
      "Overriding model.yaml nc=80 with nc=6\n",
      "\n",
      "                   from  n    params  module                                       arguments                     \n",
      "  0                  -1  1       928  ultralytics.nn.modules.conv.Conv             [3, 32, 3, 2]                 \n",
      "  1                  -1  1     18560  ultralytics.nn.modules.conv.Conv             [32, 64, 3, 2]                \n",
      "  2                  -1  1     29056  ultralytics.nn.modules.block.C2f             [64, 64, 1, True]             \n",
      "  3                  -1  1     73984  ultralytics.nn.modules.conv.Conv             [64, 128, 3, 2]               \n",
      "  4                  -1  2    197632  ultralytics.nn.modules.block.C2f             [128, 128, 2, True]           \n",
      "  5                  -1  1    295424  ultralytics.nn.modules.conv.Conv             [128, 256, 3, 2]              \n",
      "  6                  -1  2    788480  ultralytics.nn.modules.block.C2f             [256, 256, 2, True]           \n",
      "  7                  -1  1   1180672  ultralytics.nn.modules.conv.Conv             [256, 512, 3, 2]              \n",
      "  8                  -1  1   1838080  ultralytics.nn.modules.block.C2f             [512, 512, 1, True]           \n",
      "  9                  -1  1    656896  ultralytics.nn.modules.block.SPPF            [512, 512, 5]                 \n",
      " 10                  -1  1         0  torch.nn.modules.upsampling.Upsample         [None, 2, 'nearest']          \n",
      " 11             [-1, 6]  1         0  ultralytics.nn.modules.conv.Concat           [1]                           \n",
      " 12                  -1  1    591360  ultralytics.nn.modules.block.C2f             [768, 256, 1]                 \n",
      " 13                  -1  1         0  torch.nn.modules.upsampling.Upsample         [None, 2, 'nearest']          \n",
      " 14             [-1, 4]  1         0  ultralytics.nn.modules.conv.Concat           [1]                           \n",
      " 15                  -1  1    148224  ultralytics.nn.modules.block.C2f             [384, 128, 1]                 \n",
      " 16                  -1  1    147712  ultralytics.nn.modules.conv.Conv             [128, 128, 3, 2]              \n",
      " 17            [-1, 12]  1         0  ultralytics.nn.modules.conv.Concat           [1]                           \n",
      " 18                  -1  1    493056  ultralytics.nn.modules.block.C2f             [384, 256, 1]                 \n",
      " 19                  -1  1    590336  ultralytics.nn.modules.conv.Conv             [256, 256, 3, 2]              \n",
      " 20             [-1, 9]  1         0  ultralytics.nn.modules.conv.Concat           [1]                           \n",
      " 21                  -1  1   1969152  ultralytics.nn.modules.block.C2f             [768, 512, 1]                 \n",
      " 22        [15, 18, 21]  1   2118370  ultralytics.nn.modules.head.Detect           [6, [128, 256, 512]]          \n",
      "Model summary: 225 layers, 11,137,922 parameters, 11,137,906 gradients, 28.7 GFLOPs\n",
      "\n",
      "Transferred 349/355 items from pretrained weights\n",
      "Freezing layer 'model.22.dfl.conv.weight'\n"
     ]
    },
    {
     "name": "stderr",
     "output_type": "stream",
     "text": [
      "\u001b[34m\u001b[1mtrain: \u001b[0mScanning D:\\BML Munjal\\3rd Year\\Sem 5\\DIP\\DIP-dataset\\PCB_DATASET\\split_dataset\\binary\\labels\\train.cache... 554 images, 0 backgrounds, 0 corrupt: 100%|██████████| 554/554 [00:00<?, ?it/s]\n",
      "\u001b[34m\u001b[1mval: \u001b[0mScanning D:\\BML Munjal\\3rd Year\\Sem 5\\DIP\\DIP-dataset\\PCB_DATASET\\split_dataset\\binary\\labels\\val.cache... 69 images, 0 backgrounds, 0 corrupt: 100%|██████████| 69/69 [00:00<?, ?it/s]\n"
     ]
    },
    {
     "name": "stdout",
     "output_type": "stream",
     "text": [
      "Plotting labels to pcb_project\\train2\\labels.jpg... \n",
      "\u001b[34m\u001b[1moptimizer:\u001b[0m 'optimizer=auto' found, ignoring 'lr0=0.001' and 'momentum=0.937' and determining best 'optimizer', 'lr0' and 'momentum' automatically... \n",
      "\u001b[34m\u001b[1moptimizer:\u001b[0m AdamW(lr=0.001, momentum=0.9) with parameter groups 57 weight(decay=0.0), 64 weight(decay=0.0005), 63 bias(decay=0.0)\n",
      "Image sizes 640 train, 640 val\n",
      "Using 0 dataloader workers\n",
      "Logging results to \u001b[1mpcb_project\\train2\u001b[0m\n",
      "Starting training for 100 epochs...\n",
      "\n",
      "      Epoch    GPU_mem   box_loss   cls_loss   dfl_loss  Instances       Size\n"
     ]
    },
    {
     "name": "stderr",
     "output_type": "stream",
     "text": [
      "      1/100         0G      3.747      10.61       1.84         70        640: 100%|██████████| 35/35 [04:35<00:00,  7.86s/it]\n",
      "                 Class     Images  Instances      Box(P          R      mAP50  mAP50-95): 100%|██████████| 3/3 [00:15<00:00,  5.09s/it]"
     ]
    },
    {
     "name": "stdout",
     "output_type": "stream",
     "text": [
      "                   all         69        283      0.678     0.0189    0.00438    0.00174\n"
     ]
    },
    {
     "name": "stderr",
     "output_type": "stream",
     "text": [
      "\n"
     ]
    },
    {
     "name": "stdout",
     "output_type": "stream",
     "text": [
      "\n",
      "      Epoch    GPU_mem   box_loss   cls_loss   dfl_loss  Instances       Size\n"
     ]
    },
    {
     "name": "stderr",
     "output_type": "stream",
     "text": [
      "      2/100         0G       2.94      4.055      1.299         63        640: 100%|██████████| 35/35 [04:34<00:00,  7.85s/it]\n",
      "                 Class     Images  Instances      Box(P          R      mAP50  mAP50-95): 100%|██████████| 3/3 [00:13<00:00,  4.38s/it]"
     ]
    },
    {
     "name": "stdout",
     "output_type": "stream",
     "text": [
      "                   all         69        283       0.29      0.178      0.174      0.066\n"
     ]
    },
    {
     "name": "stderr",
     "output_type": "stream",
     "text": [
      "\n"
     ]
    },
    {
     "name": "stdout",
     "output_type": "stream",
     "text": [
      "\n",
      "      Epoch    GPU_mem   box_loss   cls_loss   dfl_loss  Instances       Size\n"
     ]
    },
    {
     "name": "stderr",
     "output_type": "stream",
     "text": [
      "      3/100         0G      2.658      3.114      1.188         76        640: 100%|██████████| 35/35 [04:32<00:00,  7.79s/it]\n",
      "                 Class     Images  Instances      Box(P          R      mAP50  mAP50-95): 100%|██████████| 3/3 [00:12<00:00,  4.30s/it]"
     ]
    },
    {
     "name": "stdout",
     "output_type": "stream",
     "text": [
      "                   all         69        283      0.318        0.3      0.244      0.101\n"
     ]
    },
    {
     "name": "stderr",
     "output_type": "stream",
     "text": [
      "\n"
     ]
    },
    {
     "name": "stdout",
     "output_type": "stream",
     "text": [
      "\n",
      "      Epoch    GPU_mem   box_loss   cls_loss   dfl_loss  Instances       Size\n"
     ]
    },
    {
     "name": "stderr",
     "output_type": "stream",
     "text": [
      "      4/100         0G      2.531      2.781      1.142         72        640: 100%|██████████| 35/35 [04:33<00:00,  7.80s/it]\n",
      "                 Class     Images  Instances      Box(P          R      mAP50  mAP50-95): 100%|██████████| 3/3 [00:12<00:00,  4.28s/it]"
     ]
    },
    {
     "name": "stdout",
     "output_type": "stream",
     "text": [
      "                   all         69        283      0.352      0.419      0.341      0.115\n"
     ]
    },
    {
     "name": "stderr",
     "output_type": "stream",
     "text": [
      "\n"
     ]
    },
    {
     "name": "stdout",
     "output_type": "stream",
     "text": [
      "\n",
      "      Epoch    GPU_mem   box_loss   cls_loss   dfl_loss  Instances       Size\n"
     ]
    },
    {
     "name": "stderr",
     "output_type": "stream",
     "text": [
      "      5/100         0G       2.46      2.574      1.133         68        640: 100%|██████████| 35/35 [04:34<00:00,  7.85s/it]\n",
      "                 Class     Images  Instances      Box(P          R      mAP50  mAP50-95): 100%|██████████| 3/3 [00:12<00:00,  4.29s/it]"
     ]
    },
    {
     "name": "stdout",
     "output_type": "stream",
     "text": [
      "                   all         69        283      0.584      0.525      0.516      0.211\n"
     ]
    },
    {
     "name": "stderr",
     "output_type": "stream",
     "text": [
      "\n"
     ]
    },
    {
     "name": "stdout",
     "output_type": "stream",
     "text": [
      "\n",
      "      Epoch    GPU_mem   box_loss   cls_loss   dfl_loss  Instances       Size\n"
     ]
    },
    {
     "name": "stderr",
     "output_type": "stream",
     "text": [
      "      6/100         0G      2.329      2.275      1.095         74        640: 100%|██████████| 35/35 [04:31<00:00,  7.76s/it]\n",
      "                 Class     Images  Instances      Box(P          R      mAP50  mAP50-95): 100%|██████████| 3/3 [00:12<00:00,  4.27s/it]"
     ]
    },
    {
     "name": "stdout",
     "output_type": "stream",
     "text": [
      "                   all         69        283      0.747      0.628      0.682       0.31\n"
     ]
    },
    {
     "name": "stderr",
     "output_type": "stream",
     "text": [
      "\n"
     ]
    },
    {
     "name": "stdout",
     "output_type": "stream",
     "text": [
      "\n",
      "      Epoch    GPU_mem   box_loss   cls_loss   dfl_loss  Instances       Size\n"
     ]
    },
    {
     "name": "stderr",
     "output_type": "stream",
     "text": [
      "      7/100         0G      2.326      2.179      1.099         56        640: 100%|██████████| 35/35 [04:33<00:00,  7.82s/it]\n",
      "                 Class     Images  Instances      Box(P          R      mAP50  mAP50-95): 100%|██████████| 3/3 [00:13<00:00,  4.34s/it]"
     ]
    },
    {
     "name": "stdout",
     "output_type": "stream",
     "text": [
      "                   all         69        283      0.773      0.611      0.635      0.265\n"
     ]
    },
    {
     "name": "stderr",
     "output_type": "stream",
     "text": [
      "\n"
     ]
    },
    {
     "name": "stdout",
     "output_type": "stream",
     "text": [
      "\n",
      "      Epoch    GPU_mem   box_loss   cls_loss   dfl_loss  Instances       Size\n"
     ]
    },
    {
     "name": "stderr",
     "output_type": "stream",
     "text": [
      "      8/100         0G      2.213      1.981      1.074         53        640: 100%|██████████| 35/35 [04:37<00:00,  7.92s/it]\n",
      "                 Class     Images  Instances      Box(P          R      mAP50  mAP50-95): 100%|██████████| 3/3 [00:13<00:00,  4.63s/it]"
     ]
    },
    {
     "name": "stdout",
     "output_type": "stream",
     "text": [
      "                   all         69        283      0.891      0.658      0.766      0.359\n"
     ]
    },
    {
     "name": "stderr",
     "output_type": "stream",
     "text": [
      "\n"
     ]
    },
    {
     "name": "stdout",
     "output_type": "stream",
     "text": [
      "\n",
      "      Epoch    GPU_mem   box_loss   cls_loss   dfl_loss  Instances       Size\n"
     ]
    },
    {
     "name": "stderr",
     "output_type": "stream",
     "text": [
      "      9/100         0G      2.117      1.819      1.067         61        640: 100%|██████████| 35/35 [04:29<00:00,  7.70s/it]\n",
      "                 Class     Images  Instances      Box(P          R      mAP50  mAP50-95): 100%|██████████| 3/3 [00:12<00:00,  4.25s/it]"
     ]
    },
    {
     "name": "stdout",
     "output_type": "stream",
     "text": [
      "                   all         69        283      0.904      0.715      0.809      0.377\n"
     ]
    },
    {
     "name": "stderr",
     "output_type": "stream",
     "text": [
      "\n"
     ]
    },
    {
     "name": "stdout",
     "output_type": "stream",
     "text": [
      "\n",
      "      Epoch    GPU_mem   box_loss   cls_loss   dfl_loss  Instances       Size\n"
     ]
    },
    {
     "name": "stderr",
     "output_type": "stream",
     "text": [
      "     10/100         0G      2.121      1.816      1.053         61        640: 100%|██████████| 35/35 [04:29<00:00,  7.70s/it]\n",
      "                 Class     Images  Instances      Box(P          R      mAP50  mAP50-95): 100%|██████████| 3/3 [00:12<00:00,  4.24s/it]"
     ]
    },
    {
     "name": "stdout",
     "output_type": "stream",
     "text": [
      "                   all         69        283       0.86      0.748       0.83      0.385\n"
     ]
    },
    {
     "name": "stderr",
     "output_type": "stream",
     "text": [
      "\n"
     ]
    },
    {
     "name": "stdout",
     "output_type": "stream",
     "text": [
      "\n",
      "      Epoch    GPU_mem   box_loss   cls_loss   dfl_loss  Instances       Size\n"
     ]
    },
    {
     "name": "stderr",
     "output_type": "stream",
     "text": [
      "     11/100         0G      2.087      1.742      1.033         74        640: 100%|██████████| 35/35 [04:31<00:00,  7.76s/it]\n",
      "                 Class     Images  Instances      Box(P          R      mAP50  mAP50-95): 100%|██████████| 3/3 [00:12<00:00,  4.31s/it]"
     ]
    },
    {
     "name": "stdout",
     "output_type": "stream",
     "text": [
      "                   all         69        283      0.881      0.702       0.81      0.372\n"
     ]
    },
    {
     "name": "stderr",
     "output_type": "stream",
     "text": [
      "\n"
     ]
    },
    {
     "name": "stdout",
     "output_type": "stream",
     "text": [
      "\n",
      "      Epoch    GPU_mem   box_loss   cls_loss   dfl_loss  Instances       Size\n"
     ]
    },
    {
     "name": "stderr",
     "output_type": "stream",
     "text": [
      "     12/100         0G      2.149      1.717      1.055         74        640: 100%|██████████| 35/35 [04:31<00:00,  7.75s/it]\n",
      "                 Class     Images  Instances      Box(P          R      mAP50  mAP50-95): 100%|██████████| 3/3 [00:12<00:00,  4.27s/it]"
     ]
    },
    {
     "name": "stdout",
     "output_type": "stream",
     "text": [
      "                   all         69        283      0.852      0.724      0.813      0.384\n"
     ]
    },
    {
     "name": "stderr",
     "output_type": "stream",
     "text": [
      "\n"
     ]
    },
    {
     "name": "stdout",
     "output_type": "stream",
     "text": [
      "\n",
      "      Epoch    GPU_mem   box_loss   cls_loss   dfl_loss  Instances       Size\n"
     ]
    },
    {
     "name": "stderr",
     "output_type": "stream",
     "text": [
      "     13/100         0G      2.069      1.653      1.033         91        640: 100%|██████████| 35/35 [04:30<00:00,  7.74s/it]\n",
      "                 Class     Images  Instances      Box(P          R      mAP50  mAP50-95): 100%|██████████| 3/3 [00:12<00:00,  4.23s/it]"
     ]
    },
    {
     "name": "stdout",
     "output_type": "stream",
     "text": [
      "                   all         69        283      0.929      0.782      0.862      0.419\n"
     ]
    },
    {
     "name": "stderr",
     "output_type": "stream",
     "text": [
      "\n"
     ]
    },
    {
     "name": "stdout",
     "output_type": "stream",
     "text": [
      "\n",
      "      Epoch    GPU_mem   box_loss   cls_loss   dfl_loss  Instances       Size\n"
     ]
    },
    {
     "name": "stderr",
     "output_type": "stream",
     "text": [
      "     14/100         0G      2.061      1.643      1.028         75        640: 100%|██████████| 35/35 [04:29<00:00,  7.71s/it]\n",
      "                 Class     Images  Instances      Box(P          R      mAP50  mAP50-95): 100%|██████████| 3/3 [00:12<00:00,  4.26s/it]"
     ]
    },
    {
     "name": "stdout",
     "output_type": "stream",
     "text": [
      "                   all         69        283      0.872      0.764      0.819      0.392\n"
     ]
    },
    {
     "name": "stderr",
     "output_type": "stream",
     "text": [
      "\n"
     ]
    },
    {
     "name": "stdout",
     "output_type": "stream",
     "text": [
      "\n",
      "      Epoch    GPU_mem   box_loss   cls_loss   dfl_loss  Instances       Size\n"
     ]
    },
    {
     "name": "stderr",
     "output_type": "stream",
     "text": [
      "     15/100         0G      2.046      1.627      1.022         86        640: 100%|██████████| 35/35 [04:33<00:00,  7.82s/it]\n",
      "                 Class     Images  Instances      Box(P          R      mAP50  mAP50-95): 100%|██████████| 3/3 [00:12<00:00,  4.30s/it]"
     ]
    },
    {
     "name": "stdout",
     "output_type": "stream",
     "text": [
      "                   all         69        283      0.862      0.779       0.84      0.395\n"
     ]
    },
    {
     "name": "stderr",
     "output_type": "stream",
     "text": [
      "\n"
     ]
    },
    {
     "name": "stdout",
     "output_type": "stream",
     "text": [
      "\n",
      "      Epoch    GPU_mem   box_loss   cls_loss   dfl_loss  Instances       Size\n"
     ]
    },
    {
     "name": "stderr",
     "output_type": "stream",
     "text": [
      "     16/100         0G      2.016      1.564      1.015         45        640: 100%|██████████| 35/35 [04:29<00:00,  7.71s/it]\n",
      "                 Class     Images  Instances      Box(P          R      mAP50  mAP50-95): 100%|██████████| 3/3 [00:12<00:00,  4.20s/it]"
     ]
    },
    {
     "name": "stdout",
     "output_type": "stream",
     "text": [
      "                   all         69        283      0.945      0.739      0.848      0.418\n"
     ]
    },
    {
     "name": "stderr",
     "output_type": "stream",
     "text": [
      "\n"
     ]
    },
    {
     "name": "stdout",
     "output_type": "stream",
     "text": [
      "\n",
      "      Epoch    GPU_mem   box_loss   cls_loss   dfl_loss  Instances       Size\n"
     ]
    },
    {
     "name": "stderr",
     "output_type": "stream",
     "text": [
      "     17/100         0G      1.979      1.543      1.009         80        640: 100%|██████████| 35/35 [04:32<00:00,  7.79s/it]\n",
      "                 Class     Images  Instances      Box(P          R      mAP50  mAP50-95): 100%|██████████| 3/3 [00:12<00:00,  4.29s/it]"
     ]
    },
    {
     "name": "stdout",
     "output_type": "stream",
     "text": [
      "                   all         69        283      0.952      0.778      0.852      0.424\n"
     ]
    },
    {
     "name": "stderr",
     "output_type": "stream",
     "text": [
      "\n"
     ]
    },
    {
     "name": "stdout",
     "output_type": "stream",
     "text": [
      "\n",
      "      Epoch    GPU_mem   box_loss   cls_loss   dfl_loss  Instances       Size\n"
     ]
    },
    {
     "name": "stderr",
     "output_type": "stream",
     "text": [
      "     18/100         0G      1.955      1.525      1.003         69        640: 100%|██████████| 35/35 [04:30<00:00,  7.72s/it]\n",
      "                 Class     Images  Instances      Box(P          R      mAP50  mAP50-95): 100%|██████████| 3/3 [00:12<00:00,  4.23s/it]"
     ]
    },
    {
     "name": "stdout",
     "output_type": "stream",
     "text": [
      "                   all         69        283      0.921      0.784      0.868      0.414\n"
     ]
    },
    {
     "name": "stderr",
     "output_type": "stream",
     "text": [
      "\n"
     ]
    },
    {
     "name": "stdout",
     "output_type": "stream",
     "text": [
      "\n",
      "      Epoch    GPU_mem   box_loss   cls_loss   dfl_loss  Instances       Size\n"
     ]
    },
    {
     "name": "stderr",
     "output_type": "stream",
     "text": [
      "     19/100         0G       1.95      1.475      1.015         64        640: 100%|██████████| 35/35 [04:31<00:00,  7.75s/it]\n",
      "                 Class     Images  Instances      Box(P          R      mAP50  mAP50-95): 100%|██████████| 3/3 [00:12<00:00,  4.28s/it]"
     ]
    },
    {
     "name": "stdout",
     "output_type": "stream",
     "text": [
      "                   all         69        283      0.912      0.754      0.874      0.417\n"
     ]
    },
    {
     "name": "stderr",
     "output_type": "stream",
     "text": [
      "\n"
     ]
    },
    {
     "name": "stdout",
     "output_type": "stream",
     "text": [
      "\n",
      "      Epoch    GPU_mem   box_loss   cls_loss   dfl_loss  Instances       Size\n"
     ]
    },
    {
     "name": "stderr",
     "output_type": "stream",
     "text": [
      "     20/100         0G      1.957      1.519      1.007         64        640: 100%|██████████| 35/35 [04:30<00:00,  7.73s/it]\n",
      "                 Class     Images  Instances      Box(P          R      mAP50  mAP50-95): 100%|██████████| 3/3 [00:12<00:00,  4.23s/it]"
     ]
    },
    {
     "name": "stdout",
     "output_type": "stream",
     "text": [
      "                   all         69        283      0.898      0.756      0.862      0.436\n"
     ]
    },
    {
     "name": "stderr",
     "output_type": "stream",
     "text": [
      "\n"
     ]
    },
    {
     "name": "stdout",
     "output_type": "stream",
     "text": [
      "\n",
      "      Epoch    GPU_mem   box_loss   cls_loss   dfl_loss  Instances       Size\n"
     ]
    },
    {
     "name": "stderr",
     "output_type": "stream",
     "text": [
      "     21/100         0G      1.934      1.462      1.002         50        640: 100%|██████████| 35/35 [04:31<00:00,  7.75s/it]\n",
      "                 Class     Images  Instances      Box(P          R      mAP50  mAP50-95): 100%|██████████| 3/3 [00:12<00:00,  4.25s/it]"
     ]
    },
    {
     "name": "stdout",
     "output_type": "stream",
     "text": [
      "                   all         69        283      0.927       0.81      0.899      0.455\n"
     ]
    },
    {
     "name": "stderr",
     "output_type": "stream",
     "text": [
      "\n"
     ]
    },
    {
     "name": "stdout",
     "output_type": "stream",
     "text": [
      "\n",
      "      Epoch    GPU_mem   box_loss   cls_loss   dfl_loss  Instances       Size\n"
     ]
    },
    {
     "name": "stderr",
     "output_type": "stream",
     "text": [
      "     22/100         0G       1.94      1.473      1.001         97        640: 100%|██████████| 35/35 [04:29<00:00,  7.71s/it]\n",
      "                 Class     Images  Instances      Box(P          R      mAP50  mAP50-95): 100%|██████████| 3/3 [00:12<00:00,  4.28s/it]"
     ]
    },
    {
     "name": "stdout",
     "output_type": "stream",
     "text": [
      "                   all         69        283      0.907       0.82      0.881      0.438\n"
     ]
    },
    {
     "name": "stderr",
     "output_type": "stream",
     "text": [
      "\n"
     ]
    },
    {
     "name": "stdout",
     "output_type": "stream",
     "text": [
      "\n",
      "      Epoch    GPU_mem   box_loss   cls_loss   dfl_loss  Instances       Size\n"
     ]
    },
    {
     "name": "stderr",
     "output_type": "stream",
     "text": [
      "     23/100         0G      1.924      1.423     0.9983         95        640: 100%|██████████| 35/35 [04:31<00:00,  7.74s/it]\n",
      "                 Class     Images  Instances      Box(P          R      mAP50  mAP50-95): 100%|██████████| 3/3 [00:12<00:00,  4.29s/it]"
     ]
    },
    {
     "name": "stdout",
     "output_type": "stream",
     "text": [
      "                   all         69        283      0.917      0.819      0.887      0.451\n"
     ]
    },
    {
     "name": "stderr",
     "output_type": "stream",
     "text": [
      "\n"
     ]
    },
    {
     "name": "stdout",
     "output_type": "stream",
     "text": [
      "\n",
      "      Epoch    GPU_mem   box_loss   cls_loss   dfl_loss  Instances       Size\n"
     ]
    },
    {
     "name": "stderr",
     "output_type": "stream",
     "text": [
      "     24/100         0G      1.924      1.434     0.9978         52        640: 100%|██████████| 35/35 [04:33<00:00,  7.83s/it]\n",
      "                 Class     Images  Instances      Box(P          R      mAP50  mAP50-95): 100%|██████████| 3/3 [00:12<00:00,  4.31s/it]"
     ]
    },
    {
     "name": "stdout",
     "output_type": "stream",
     "text": [
      "                   all         69        283      0.886       0.84      0.896      0.478\n"
     ]
    },
    {
     "name": "stderr",
     "output_type": "stream",
     "text": [
      "\n"
     ]
    },
    {
     "name": "stdout",
     "output_type": "stream",
     "text": [
      "\n",
      "      Epoch    GPU_mem   box_loss   cls_loss   dfl_loss  Instances       Size\n"
     ]
    },
    {
     "name": "stderr",
     "output_type": "stream",
     "text": [
      "     25/100         0G       1.89      1.432     0.9865         47        640: 100%|██████████| 35/35 [04:33<00:00,  7.81s/it]\n",
      "                 Class     Images  Instances      Box(P          R      mAP50  mAP50-95): 100%|██████████| 3/3 [00:12<00:00,  4.22s/it]"
     ]
    },
    {
     "name": "stdout",
     "output_type": "stream",
     "text": [
      "                   all         69        283      0.945      0.825      0.898      0.455\n"
     ]
    },
    {
     "name": "stderr",
     "output_type": "stream",
     "text": [
      "\n"
     ]
    },
    {
     "name": "stdout",
     "output_type": "stream",
     "text": [
      "\n",
      "      Epoch    GPU_mem   box_loss   cls_loss   dfl_loss  Instances       Size\n"
     ]
    },
    {
     "name": "stderr",
     "output_type": "stream",
     "text": [
      "     26/100         0G      1.876      1.383     0.9941         65        640: 100%|██████████| 35/35 [04:31<00:00,  7.76s/it]\n",
      "                 Class     Images  Instances      Box(P          R      mAP50  mAP50-95): 100%|██████████| 3/3 [00:12<00:00,  4.25s/it]"
     ]
    },
    {
     "name": "stdout",
     "output_type": "stream",
     "text": [
      "                   all         69        283      0.955      0.853      0.913      0.448\n"
     ]
    },
    {
     "name": "stderr",
     "output_type": "stream",
     "text": [
      "\n"
     ]
    },
    {
     "name": "stdout",
     "output_type": "stream",
     "text": [
      "\n",
      "      Epoch    GPU_mem   box_loss   cls_loss   dfl_loss  Instances       Size\n"
     ]
    },
    {
     "name": "stderr",
     "output_type": "stream",
     "text": [
      "     27/100         0G      1.881      1.362     0.9871         48        640: 100%|██████████| 35/35 [04:31<00:00,  7.75s/it]\n",
      "                 Class     Images  Instances      Box(P          R      mAP50  mAP50-95): 100%|██████████| 3/3 [00:12<00:00,  4.24s/it]"
     ]
    },
    {
     "name": "stdout",
     "output_type": "stream",
     "text": [
      "                   all         69        283      0.948      0.802      0.886      0.433\n"
     ]
    },
    {
     "name": "stderr",
     "output_type": "stream",
     "text": [
      "\n"
     ]
    },
    {
     "name": "stdout",
     "output_type": "stream",
     "text": [
      "\n",
      "      Epoch    GPU_mem   box_loss   cls_loss   dfl_loss  Instances       Size\n"
     ]
    },
    {
     "name": "stderr",
     "output_type": "stream",
     "text": [
      "     28/100         0G      1.849      1.316     0.9777         59        640: 100%|██████████| 35/35 [04:34<00:00,  7.85s/it]\n",
      "                 Class     Images  Instances      Box(P          R      mAP50  mAP50-95): 100%|██████████| 3/3 [00:12<00:00,  4.25s/it]"
     ]
    },
    {
     "name": "stdout",
     "output_type": "stream",
     "text": [
      "                   all         69        283      0.921      0.868      0.922      0.481\n"
     ]
    },
    {
     "name": "stderr",
     "output_type": "stream",
     "text": [
      "\n"
     ]
    },
    {
     "name": "stdout",
     "output_type": "stream",
     "text": [
      "\n",
      "      Epoch    GPU_mem   box_loss   cls_loss   dfl_loss  Instances       Size\n"
     ]
    },
    {
     "name": "stderr",
     "output_type": "stream",
     "text": [
      "     29/100         0G      1.871      1.393     0.9869         80        640: 100%|██████████| 35/35 [04:30<00:00,  7.73s/it]\n",
      "                 Class     Images  Instances      Box(P          R      mAP50  mAP50-95): 100%|██████████| 3/3 [00:12<00:00,  4.28s/it]"
     ]
    },
    {
     "name": "stdout",
     "output_type": "stream",
     "text": [
      "                   all         69        283      0.922      0.864      0.917      0.477\n"
     ]
    },
    {
     "name": "stderr",
     "output_type": "stream",
     "text": [
      "\n"
     ]
    },
    {
     "name": "stdout",
     "output_type": "stream",
     "text": [
      "\n",
      "      Epoch    GPU_mem   box_loss   cls_loss   dfl_loss  Instances       Size\n"
     ]
    },
    {
     "name": "stderr",
     "output_type": "stream",
     "text": [
      "     30/100         0G      1.875      1.373     0.9931        101        640: 100%|██████████| 35/35 [04:32<00:00,  7.78s/it]\n",
      "                 Class     Images  Instances      Box(P          R      mAP50  mAP50-95): 100%|██████████| 3/3 [00:12<00:00,  4.21s/it]"
     ]
    },
    {
     "name": "stdout",
     "output_type": "stream",
     "text": [
      "                   all         69        283      0.917      0.867      0.917      0.487\n"
     ]
    },
    {
     "name": "stderr",
     "output_type": "stream",
     "text": [
      "\n"
     ]
    },
    {
     "name": "stdout",
     "output_type": "stream",
     "text": [
      "\n",
      "      Epoch    GPU_mem   box_loss   cls_loss   dfl_loss  Instances       Size\n"
     ]
    },
    {
     "name": "stderr",
     "output_type": "stream",
     "text": [
      "     31/100         0G      1.815      1.296     0.9655         86        640: 100%|██████████| 35/35 [04:30<00:00,  7.74s/it]\n",
      "                 Class     Images  Instances      Box(P          R      mAP50  mAP50-95): 100%|██████████| 3/3 [00:12<00:00,  4.23s/it]"
     ]
    },
    {
     "name": "stdout",
     "output_type": "stream",
     "text": [
      "                   all         69        283      0.928      0.851      0.919       0.48\n"
     ]
    },
    {
     "name": "stderr",
     "output_type": "stream",
     "text": [
      "\n"
     ]
    },
    {
     "name": "stdout",
     "output_type": "stream",
     "text": [
      "\n",
      "      Epoch    GPU_mem   box_loss   cls_loss   dfl_loss  Instances       Size\n"
     ]
    },
    {
     "name": "stderr",
     "output_type": "stream",
     "text": [
      "     32/100         0G      1.861      1.389     0.9732         45        640: 100%|██████████| 35/35 [04:32<00:00,  7.78s/it]\n",
      "                 Class     Images  Instances      Box(P          R      mAP50  mAP50-95): 100%|██████████| 3/3 [00:12<00:00,  4.24s/it]"
     ]
    },
    {
     "name": "stdout",
     "output_type": "stream",
     "text": [
      "                   all         69        283      0.903      0.868      0.915       0.49\n"
     ]
    },
    {
     "name": "stderr",
     "output_type": "stream",
     "text": [
      "\n"
     ]
    },
    {
     "name": "stdout",
     "output_type": "stream",
     "text": [
      "\n",
      "      Epoch    GPU_mem   box_loss   cls_loss   dfl_loss  Instances       Size\n"
     ]
    },
    {
     "name": "stderr",
     "output_type": "stream",
     "text": [
      "     33/100         0G       1.79      1.234     0.9759         64        640: 100%|██████████| 35/35 [04:30<00:00,  7.72s/it]\n",
      "                 Class     Images  Instances      Box(P          R      mAP50  mAP50-95): 100%|██████████| 3/3 [00:12<00:00,  4.27s/it]"
     ]
    },
    {
     "name": "stdout",
     "output_type": "stream",
     "text": [
      "                   all         69        283      0.964      0.876      0.933      0.493\n"
     ]
    },
    {
     "name": "stderr",
     "output_type": "stream",
     "text": [
      "\n"
     ]
    },
    {
     "name": "stdout",
     "output_type": "stream",
     "text": [
      "\n",
      "      Epoch    GPU_mem   box_loss   cls_loss   dfl_loss  Instances       Size\n"
     ]
    },
    {
     "name": "stderr",
     "output_type": "stream",
     "text": [
      "     34/100         0G      1.776      1.226     0.9639         46        640: 100%|██████████| 35/35 [04:33<00:00,  7.80s/it]\n",
      "                 Class     Images  Instances      Box(P          R      mAP50  mAP50-95): 100%|██████████| 3/3 [00:12<00:00,  4.31s/it]"
     ]
    },
    {
     "name": "stdout",
     "output_type": "stream",
     "text": [
      "                   all         69        283      0.941      0.859      0.913      0.477\n"
     ]
    },
    {
     "name": "stderr",
     "output_type": "stream",
     "text": [
      "\n"
     ]
    },
    {
     "name": "stdout",
     "output_type": "stream",
     "text": [
      "\n",
      "      Epoch    GPU_mem   box_loss   cls_loss   dfl_loss  Instances       Size\n"
     ]
    },
    {
     "name": "stderr",
     "output_type": "stream",
     "text": [
      "     35/100         0G      1.794      1.274     0.9695         96        640: 100%|██████████| 35/35 [04:33<00:00,  7.81s/it]\n",
      "                 Class     Images  Instances      Box(P          R      mAP50  mAP50-95): 100%|██████████| 3/3 [00:13<00:00,  4.41s/it]"
     ]
    },
    {
     "name": "stdout",
     "output_type": "stream",
     "text": [
      "                   all         69        283      0.944      0.855       0.93       0.49\n"
     ]
    },
    {
     "name": "stderr",
     "output_type": "stream",
     "text": [
      "\n"
     ]
    },
    {
     "name": "stdout",
     "output_type": "stream",
     "text": [
      "\n",
      "      Epoch    GPU_mem   box_loss   cls_loss   dfl_loss  Instances       Size\n"
     ]
    },
    {
     "name": "stderr",
     "output_type": "stream",
     "text": [
      "     36/100         0G      1.732      1.191     0.9528         67        640: 100%|██████████| 35/35 [04:29<00:00,  7.71s/it]\n",
      "                 Class     Images  Instances      Box(P          R      mAP50  mAP50-95): 100%|██████████| 3/3 [00:12<00:00,  4.25s/it]"
     ]
    },
    {
     "name": "stdout",
     "output_type": "stream",
     "text": [
      "                   all         69        283      0.914      0.853      0.925       0.49\n"
     ]
    },
    {
     "name": "stderr",
     "output_type": "stream",
     "text": [
      "\n"
     ]
    },
    {
     "name": "stdout",
     "output_type": "stream",
     "text": [
      "\n",
      "      Epoch    GPU_mem   box_loss   cls_loss   dfl_loss  Instances       Size\n"
     ]
    },
    {
     "name": "stderr",
     "output_type": "stream",
     "text": [
      "     37/100         0G      1.784      1.259     0.9677         97        640: 100%|██████████| 35/35 [04:28<00:00,  7.66s/it]\n",
      "                 Class     Images  Instances      Box(P          R      mAP50  mAP50-95): 100%|██████████| 3/3 [00:12<00:00,  4.16s/it]"
     ]
    },
    {
     "name": "stdout",
     "output_type": "stream",
     "text": [
      "                   all         69        283       0.96      0.843      0.927      0.479\n"
     ]
    },
    {
     "name": "stderr",
     "output_type": "stream",
     "text": [
      "\n"
     ]
    },
    {
     "name": "stdout",
     "output_type": "stream",
     "text": [
      "\n",
      "      Epoch    GPU_mem   box_loss   cls_loss   dfl_loss  Instances       Size\n"
     ]
    },
    {
     "name": "stderr",
     "output_type": "stream",
     "text": [
      "     38/100         0G      1.806      1.302     0.9752        107        640: 100%|██████████| 35/35 [04:30<00:00,  7.73s/it]\n",
      "                 Class     Images  Instances      Box(P          R      mAP50  mAP50-95): 100%|██████████| 3/3 [00:12<00:00,  4.28s/it]"
     ]
    },
    {
     "name": "stdout",
     "output_type": "stream",
     "text": [
      "                   all         69        283      0.928      0.851      0.918      0.487\n"
     ]
    },
    {
     "name": "stderr",
     "output_type": "stream",
     "text": [
      "\n"
     ]
    },
    {
     "name": "stdout",
     "output_type": "stream",
     "text": [
      "\n",
      "      Epoch    GPU_mem   box_loss   cls_loss   dfl_loss  Instances       Size\n"
     ]
    },
    {
     "name": "stderr",
     "output_type": "stream",
     "text": [
      "     39/100         0G       1.78      1.228     0.9697         73        640: 100%|██████████| 35/35 [04:30<00:00,  7.72s/it]\n",
      "                 Class     Images  Instances      Box(P          R      mAP50  mAP50-95): 100%|██████████| 3/3 [00:12<00:00,  4.25s/it]"
     ]
    },
    {
     "name": "stdout",
     "output_type": "stream",
     "text": [
      "                   all         69        283       0.93      0.865      0.925      0.504\n"
     ]
    },
    {
     "name": "stderr",
     "output_type": "stream",
     "text": [
      "\n"
     ]
    },
    {
     "name": "stdout",
     "output_type": "stream",
     "text": [
      "\n",
      "      Epoch    GPU_mem   box_loss   cls_loss   dfl_loss  Instances       Size\n"
     ]
    },
    {
     "name": "stderr",
     "output_type": "stream",
     "text": [
      "     40/100         0G       1.78      1.249     0.9584         80        640: 100%|██████████| 35/35 [04:31<00:00,  7.75s/it]\n",
      "                 Class     Images  Instances      Box(P          R      mAP50  mAP50-95): 100%|██████████| 3/3 [00:12<00:00,  4.24s/it]"
     ]
    },
    {
     "name": "stdout",
     "output_type": "stream",
     "text": [
      "                   all         69        283      0.889      0.887      0.927      0.502\n"
     ]
    },
    {
     "name": "stderr",
     "output_type": "stream",
     "text": [
      "\n"
     ]
    },
    {
     "name": "stdout",
     "output_type": "stream",
     "text": [
      "\n",
      "      Epoch    GPU_mem   box_loss   cls_loss   dfl_loss  Instances       Size\n"
     ]
    },
    {
     "name": "stderr",
     "output_type": "stream",
     "text": [
      "     41/100         0G      1.751      1.211     0.9507         55        640: 100%|██████████| 35/35 [04:30<00:00,  7.73s/it]\n",
      "                 Class     Images  Instances      Box(P          R      mAP50  mAP50-95): 100%|██████████| 3/3 [00:12<00:00,  4.26s/it]"
     ]
    },
    {
     "name": "stdout",
     "output_type": "stream",
     "text": [
      "                   all         69        283      0.924      0.876      0.922      0.497\n"
     ]
    },
    {
     "name": "stderr",
     "output_type": "stream",
     "text": [
      "\n"
     ]
    },
    {
     "name": "stdout",
     "output_type": "stream",
     "text": [
      "\n",
      "      Epoch    GPU_mem   box_loss   cls_loss   dfl_loss  Instances       Size\n"
     ]
    },
    {
     "name": "stderr",
     "output_type": "stream",
     "text": [
      "     42/100         0G      1.748      1.223     0.9522         50        640: 100%|██████████| 35/35 [04:29<00:00,  7.70s/it]\n",
      "                 Class     Images  Instances      Box(P          R      mAP50  mAP50-95): 100%|██████████| 3/3 [00:12<00:00,  4.18s/it]"
     ]
    },
    {
     "name": "stdout",
     "output_type": "stream",
     "text": [
      "                   all         69        283      0.909      0.878       0.93       0.51\n"
     ]
    },
    {
     "name": "stderr",
     "output_type": "stream",
     "text": [
      "\n"
     ]
    },
    {
     "name": "stdout",
     "output_type": "stream",
     "text": [
      "\n",
      "      Epoch    GPU_mem   box_loss   cls_loss   dfl_loss  Instances       Size\n"
     ]
    },
    {
     "name": "stderr",
     "output_type": "stream",
     "text": [
      "     43/100         0G      1.748      1.221     0.9544         74        640: 100%|██████████| 35/35 [04:29<00:00,  7.70s/it]\n",
      "                 Class     Images  Instances      Box(P          R      mAP50  mAP50-95): 100%|██████████| 3/3 [00:12<00:00,  4.31s/it]"
     ]
    },
    {
     "name": "stdout",
     "output_type": "stream",
     "text": [
      "                   all         69        283      0.953      0.914      0.946       0.52\n"
     ]
    },
    {
     "name": "stderr",
     "output_type": "stream",
     "text": [
      "\n"
     ]
    },
    {
     "name": "stdout",
     "output_type": "stream",
     "text": [
      "\n",
      "      Epoch    GPU_mem   box_loss   cls_loss   dfl_loss  Instances       Size\n"
     ]
    },
    {
     "name": "stderr",
     "output_type": "stream",
     "text": [
      "     44/100         0G      1.741      1.206     0.9492         80        640: 100%|██████████| 35/35 [04:31<00:00,  7.77s/it]\n",
      "                 Class     Images  Instances      Box(P          R      mAP50  mAP50-95): 100%|██████████| 3/3 [00:12<00:00,  4.21s/it]"
     ]
    },
    {
     "name": "stdout",
     "output_type": "stream",
     "text": [
      "                   all         69        283      0.952      0.916      0.943      0.516\n"
     ]
    },
    {
     "name": "stderr",
     "output_type": "stream",
     "text": [
      "\n"
     ]
    },
    {
     "name": "stdout",
     "output_type": "stream",
     "text": [
      "\n",
      "      Epoch    GPU_mem   box_loss   cls_loss   dfl_loss  Instances       Size\n"
     ]
    },
    {
     "name": "stderr",
     "output_type": "stream",
     "text": [
      "     45/100         0G      1.734      1.165     0.9442         80        640: 100%|██████████| 35/35 [04:32<00:00,  7.78s/it]\n",
      "                 Class     Images  Instances      Box(P          R      mAP50  mAP50-95): 100%|██████████| 3/3 [00:12<00:00,  4.31s/it]"
     ]
    },
    {
     "name": "stdout",
     "output_type": "stream",
     "text": [
      "                   all         69        283      0.949      0.879      0.942      0.512\n"
     ]
    },
    {
     "name": "stderr",
     "output_type": "stream",
     "text": [
      "\n"
     ]
    },
    {
     "name": "stdout",
     "output_type": "stream",
     "text": [
      "\n",
      "      Epoch    GPU_mem   box_loss   cls_loss   dfl_loss  Instances       Size\n"
     ]
    },
    {
     "name": "stderr",
     "output_type": "stream",
     "text": [
      "     46/100         0G      1.757      1.179     0.9524         54        640: 100%|██████████| 35/35 [04:32<00:00,  7.79s/it]\n",
      "                 Class     Images  Instances      Box(P          R      mAP50  mAP50-95): 100%|██████████| 3/3 [00:12<00:00,  4.30s/it]"
     ]
    },
    {
     "name": "stdout",
     "output_type": "stream",
     "text": [
      "                   all         69        283      0.958      0.883      0.946      0.507\n"
     ]
    },
    {
     "name": "stderr",
     "output_type": "stream",
     "text": [
      "\n"
     ]
    },
    {
     "name": "stdout",
     "output_type": "stream",
     "text": [
      "\n",
      "      Epoch    GPU_mem   box_loss   cls_loss   dfl_loss  Instances       Size\n"
     ]
    },
    {
     "name": "stderr",
     "output_type": "stream",
     "text": [
      "     47/100         0G      1.712      1.155     0.9452         78        640: 100%|██████████| 35/35 [04:30<00:00,  7.73s/it]\n",
      "                 Class     Images  Instances      Box(P          R      mAP50  mAP50-95): 100%|██████████| 3/3 [00:12<00:00,  4.24s/it]"
     ]
    },
    {
     "name": "stdout",
     "output_type": "stream",
     "text": [
      "                   all         69        283      0.922      0.874      0.932       0.49\n"
     ]
    },
    {
     "name": "stderr",
     "output_type": "stream",
     "text": [
      "\n"
     ]
    },
    {
     "name": "stdout",
     "output_type": "stream",
     "text": [
      "\n",
      "      Epoch    GPU_mem   box_loss   cls_loss   dfl_loss  Instances       Size\n"
     ]
    },
    {
     "name": "stderr",
     "output_type": "stream",
     "text": [
      "     48/100         0G      1.678      1.109     0.9465         77        640: 100%|██████████| 35/35 [04:30<00:00,  7.72s/it]\n",
      "                 Class     Images  Instances      Box(P          R      mAP50  mAP50-95): 100%|██████████| 3/3 [00:12<00:00,  4.20s/it]"
     ]
    },
    {
     "name": "stdout",
     "output_type": "stream",
     "text": [
      "                   all         69        283      0.918      0.879      0.935      0.504\n"
     ]
    },
    {
     "name": "stderr",
     "output_type": "stream",
     "text": [
      "\n"
     ]
    },
    {
     "name": "stdout",
     "output_type": "stream",
     "text": [
      "\n",
      "      Epoch    GPU_mem   box_loss   cls_loss   dfl_loss  Instances       Size\n"
     ]
    },
    {
     "name": "stderr",
     "output_type": "stream",
     "text": [
      "     49/100         0G      1.686      1.105     0.9477         65        640: 100%|██████████| 35/35 [04:32<00:00,  7.77s/it]\n",
      "                 Class     Images  Instances      Box(P          R      mAP50  mAP50-95): 100%|██████████| 3/3 [00:12<00:00,  4.28s/it]"
     ]
    },
    {
     "name": "stdout",
     "output_type": "stream",
     "text": [
      "                   all         69        283      0.936      0.892      0.936      0.525\n"
     ]
    },
    {
     "name": "stderr",
     "output_type": "stream",
     "text": [
      "\n"
     ]
    },
    {
     "name": "stdout",
     "output_type": "stream",
     "text": [
      "\n",
      "      Epoch    GPU_mem   box_loss   cls_loss   dfl_loss  Instances       Size\n"
     ]
    },
    {
     "name": "stderr",
     "output_type": "stream",
     "text": [
      "     50/100         0G      1.688      1.148     0.9427         88        640: 100%|██████████| 35/35 [04:30<00:00,  7.74s/it]\n",
      "                 Class     Images  Instances      Box(P          R      mAP50  mAP50-95): 100%|██████████| 3/3 [00:12<00:00,  4.21s/it]"
     ]
    },
    {
     "name": "stdout",
     "output_type": "stream",
     "text": [
      "                   all         69        283       0.92      0.911       0.94      0.525\n"
     ]
    },
    {
     "name": "stderr",
     "output_type": "stream",
     "text": [
      "\n"
     ]
    },
    {
     "name": "stdout",
     "output_type": "stream",
     "text": [
      "\n",
      "      Epoch    GPU_mem   box_loss   cls_loss   dfl_loss  Instances       Size\n"
     ]
    },
    {
     "name": "stderr",
     "output_type": "stream",
     "text": [
      "     51/100         0G       1.68      1.134     0.9455         75        640: 100%|██████████| 35/35 [04:31<00:00,  7.75s/it]\n",
      "                 Class     Images  Instances      Box(P          R      mAP50  mAP50-95): 100%|██████████| 3/3 [00:12<00:00,  4.27s/it]"
     ]
    },
    {
     "name": "stdout",
     "output_type": "stream",
     "text": [
      "                   all         69        283      0.938      0.885      0.942      0.513\n"
     ]
    },
    {
     "name": "stderr",
     "output_type": "stream",
     "text": [
      "\n"
     ]
    },
    {
     "name": "stdout",
     "output_type": "stream",
     "text": [
      "\n",
      "      Epoch    GPU_mem   box_loss   cls_loss   dfl_loss  Instances       Size\n"
     ]
    },
    {
     "name": "stderr",
     "output_type": "stream",
     "text": [
      "     52/100         0G        1.7      1.125     0.9388         73        640: 100%|██████████| 35/35 [04:29<00:00,  7.71s/it]\n",
      "                 Class     Images  Instances      Box(P          R      mAP50  mAP50-95): 100%|██████████| 3/3 [00:12<00:00,  4.21s/it]"
     ]
    },
    {
     "name": "stdout",
     "output_type": "stream",
     "text": [
      "                   all         69        283      0.954      0.906      0.945      0.532\n"
     ]
    },
    {
     "name": "stderr",
     "output_type": "stream",
     "text": [
      "\n"
     ]
    },
    {
     "name": "stdout",
     "output_type": "stream",
     "text": [
      "\n",
      "      Epoch    GPU_mem   box_loss   cls_loss   dfl_loss  Instances       Size\n"
     ]
    },
    {
     "name": "stderr",
     "output_type": "stream",
     "text": [
      "     53/100         0G      1.706      1.171     0.9522         72        640: 100%|██████████| 35/35 [04:29<00:00,  7.69s/it]\n",
      "                 Class     Images  Instances      Box(P          R      mAP50  mAP50-95): 100%|██████████| 3/3 [00:12<00:00,  4.16s/it]"
     ]
    },
    {
     "name": "stdout",
     "output_type": "stream",
     "text": [
      "                   all         69        283      0.912      0.899      0.947      0.514\n"
     ]
    },
    {
     "name": "stderr",
     "output_type": "stream",
     "text": [
      "\n"
     ]
    },
    {
     "name": "stdout",
     "output_type": "stream",
     "text": [
      "\n",
      "      Epoch    GPU_mem   box_loss   cls_loss   dfl_loss  Instances       Size\n"
     ]
    },
    {
     "name": "stderr",
     "output_type": "stream",
     "text": [
      "     54/100         0G      1.688      1.117     0.9418         82        640: 100%|██████████| 35/35 [04:29<00:00,  7.71s/it]\n",
      "                 Class     Images  Instances      Box(P          R      mAP50  mAP50-95): 100%|██████████| 3/3 [00:12<00:00,  4.16s/it]"
     ]
    },
    {
     "name": "stdout",
     "output_type": "stream",
     "text": [
      "                   all         69        283      0.963      0.891      0.947       0.53\n"
     ]
    },
    {
     "name": "stderr",
     "output_type": "stream",
     "text": [
      "\n"
     ]
    },
    {
     "name": "stdout",
     "output_type": "stream",
     "text": [
      "\n",
      "      Epoch    GPU_mem   box_loss   cls_loss   dfl_loss  Instances       Size\n"
     ]
    },
    {
     "name": "stderr",
     "output_type": "stream",
     "text": [
      "     55/100         0G      1.672      1.118     0.9257         68        640: 100%|██████████| 35/35 [04:31<00:00,  7.75s/it]\n",
      "                 Class     Images  Instances      Box(P          R      mAP50  mAP50-95): 100%|██████████| 3/3 [00:12<00:00,  4.22s/it]"
     ]
    },
    {
     "name": "stdout",
     "output_type": "stream",
     "text": [
      "                   all         69        283      0.943      0.907      0.948      0.503\n"
     ]
    },
    {
     "name": "stderr",
     "output_type": "stream",
     "text": [
      "\n"
     ]
    },
    {
     "name": "stdout",
     "output_type": "stream",
     "text": [
      "\n",
      "      Epoch    GPU_mem   box_loss   cls_loss   dfl_loss  Instances       Size\n"
     ]
    },
    {
     "name": "stderr",
     "output_type": "stream",
     "text": [
      "     56/100         0G      1.676      1.121     0.9342         90        640: 100%|██████████| 35/35 [04:30<00:00,  7.74s/it]\n",
      "                 Class     Images  Instances      Box(P          R      mAP50  mAP50-95): 100%|██████████| 3/3 [00:12<00:00,  4.22s/it]"
     ]
    },
    {
     "name": "stdout",
     "output_type": "stream",
     "text": [
      "                   all         69        283      0.957      0.881      0.951      0.523\n"
     ]
    },
    {
     "name": "stderr",
     "output_type": "stream",
     "text": [
      "\n"
     ]
    },
    {
     "name": "stdout",
     "output_type": "stream",
     "text": [
      "\n",
      "      Epoch    GPU_mem   box_loss   cls_loss   dfl_loss  Instances       Size\n"
     ]
    },
    {
     "name": "stderr",
     "output_type": "stream",
     "text": [
      "     57/100         0G      1.666      1.101     0.9434         64        640: 100%|██████████| 35/35 [04:29<00:00,  7.70s/it]\n",
      "                 Class     Images  Instances      Box(P          R      mAP50  mAP50-95): 100%|██████████| 3/3 [00:12<00:00,  4.26s/it]"
     ]
    },
    {
     "name": "stdout",
     "output_type": "stream",
     "text": [
      "                   all         69        283       0.94      0.891      0.944       0.51\n"
     ]
    },
    {
     "name": "stderr",
     "output_type": "stream",
     "text": [
      "\n"
     ]
    },
    {
     "name": "stdout",
     "output_type": "stream",
     "text": [
      "\n",
      "      Epoch    GPU_mem   box_loss   cls_loss   dfl_loss  Instances       Size\n"
     ]
    },
    {
     "name": "stderr",
     "output_type": "stream",
     "text": [
      "     58/100         0G      1.661      1.072     0.9362         60        640: 100%|██████████| 35/35 [04:32<00:00,  7.79s/it]\n",
      "                 Class     Images  Instances      Box(P          R      mAP50  mAP50-95): 100%|██████████| 3/3 [00:12<00:00,  4.21s/it]"
     ]
    },
    {
     "name": "stdout",
     "output_type": "stream",
     "text": [
      "                   all         69        283       0.93      0.914      0.949      0.516\n"
     ]
    },
    {
     "name": "stderr",
     "output_type": "stream",
     "text": [
      "\n"
     ]
    },
    {
     "name": "stdout",
     "output_type": "stream",
     "text": [
      "\n",
      "      Epoch    GPU_mem   box_loss   cls_loss   dfl_loss  Instances       Size\n"
     ]
    },
    {
     "name": "stderr",
     "output_type": "stream",
     "text": [
      "     59/100         0G      1.641      1.058     0.9321         84        640: 100%|██████████| 35/35 [04:30<00:00,  7.72s/it]\n",
      "                 Class     Images  Instances      Box(P          R      mAP50  mAP50-95): 100%|██████████| 3/3 [00:12<00:00,  4.26s/it]"
     ]
    },
    {
     "name": "stdout",
     "output_type": "stream",
     "text": [
      "                   all         69        283      0.921      0.919      0.952      0.524\n"
     ]
    },
    {
     "name": "stderr",
     "output_type": "stream",
     "text": [
      "\n"
     ]
    },
    {
     "name": "stdout",
     "output_type": "stream",
     "text": [
      "\n",
      "      Epoch    GPU_mem   box_loss   cls_loss   dfl_loss  Instances       Size\n"
     ]
    },
    {
     "name": "stderr",
     "output_type": "stream",
     "text": [
      "     60/100         0G      1.641      1.087     0.9332         55        640: 100%|██████████| 35/35 [04:33<00:00,  7.81s/it]\n",
      "                 Class     Images  Instances      Box(P          R      mAP50  mAP50-95): 100%|██████████| 3/3 [00:12<00:00,  4.27s/it]"
     ]
    },
    {
     "name": "stdout",
     "output_type": "stream",
     "text": [
      "                   all         69        283      0.917      0.912      0.948      0.526\n"
     ]
    },
    {
     "name": "stderr",
     "output_type": "stream",
     "text": [
      "\n"
     ]
    },
    {
     "name": "stdout",
     "output_type": "stream",
     "text": [
      "\n",
      "      Epoch    GPU_mem   box_loss   cls_loss   dfl_loss  Instances       Size\n"
     ]
    },
    {
     "name": "stderr",
     "output_type": "stream",
     "text": [
      "     61/100         0G      1.638      1.074     0.9372        106        640: 100%|██████████| 35/35 [04:29<00:00,  7.71s/it]\n",
      "                 Class     Images  Instances      Box(P          R      mAP50  mAP50-95): 100%|██████████| 3/3 [00:13<00:00,  4.38s/it]"
     ]
    },
    {
     "name": "stdout",
     "output_type": "stream",
     "text": [
      "                   all         69        283      0.945      0.919      0.949      0.524\n"
     ]
    },
    {
     "name": "stderr",
     "output_type": "stream",
     "text": [
      "\n"
     ]
    },
    {
     "name": "stdout",
     "output_type": "stream",
     "text": [
      "\n",
      "      Epoch    GPU_mem   box_loss   cls_loss   dfl_loss  Instances       Size\n"
     ]
    },
    {
     "name": "stderr",
     "output_type": "stream",
     "text": [
      "     62/100         0G      1.589      1.012     0.9194         65        640: 100%|██████████| 35/35 [04:33<00:00,  7.80s/it]\n",
      "                 Class     Images  Instances      Box(P          R      mAP50  mAP50-95): 100%|██████████| 3/3 [00:12<00:00,  4.29s/it]"
     ]
    },
    {
     "name": "stdout",
     "output_type": "stream",
     "text": [
      "                   all         69        283      0.959      0.913      0.959      0.514\n"
     ]
    },
    {
     "name": "stderr",
     "output_type": "stream",
     "text": [
      "\n"
     ]
    },
    {
     "name": "stdout",
     "output_type": "stream",
     "text": [
      "\n",
      "      Epoch    GPU_mem   box_loss   cls_loss   dfl_loss  Instances       Size\n"
     ]
    },
    {
     "name": "stderr",
     "output_type": "stream",
     "text": [
      "     63/100         0G      1.601       1.03     0.9233         75        640: 100%|██████████| 35/35 [04:33<00:00,  7.82s/it]\n",
      "                 Class     Images  Instances      Box(P          R      mAP50  mAP50-95): 100%|██████████| 3/3 [00:12<00:00,  4.32s/it]"
     ]
    },
    {
     "name": "stdout",
     "output_type": "stream",
     "text": [
      "                   all         69        283      0.966      0.915      0.955       0.52\n"
     ]
    },
    {
     "name": "stderr",
     "output_type": "stream",
     "text": [
      "\n"
     ]
    },
    {
     "name": "stdout",
     "output_type": "stream",
     "text": [
      "\n",
      "      Epoch    GPU_mem   box_loss   cls_loss   dfl_loss  Instances       Size\n"
     ]
    },
    {
     "name": "stderr",
     "output_type": "stream",
     "text": [
      "     64/100         0G       1.58      1.024     0.9343         64        640: 100%|██████████| 35/35 [04:28<00:00,  7.68s/it]\n",
      "                 Class     Images  Instances      Box(P          R      mAP50  mAP50-95): 100%|██████████| 3/3 [00:12<00:00,  4.22s/it]"
     ]
    },
    {
     "name": "stdout",
     "output_type": "stream",
     "text": [
      "                   all         69        283      0.976      0.906      0.959      0.524\n"
     ]
    },
    {
     "name": "stderr",
     "output_type": "stream",
     "text": [
      "\n"
     ]
    },
    {
     "name": "stdout",
     "output_type": "stream",
     "text": [
      "\n",
      "      Epoch    GPU_mem   box_loss   cls_loss   dfl_loss  Instances       Size\n"
     ]
    },
    {
     "name": "stderr",
     "output_type": "stream",
     "text": [
      "     65/100         0G      1.629      1.047     0.9312         73        640: 100%|██████████| 35/35 [04:28<00:00,  7.68s/it]\n",
      "                 Class     Images  Instances      Box(P          R      mAP50  mAP50-95): 100%|██████████| 3/3 [00:12<00:00,  4.24s/it]"
     ]
    },
    {
     "name": "stdout",
     "output_type": "stream",
     "text": [
      "                   all         69        283      0.964      0.904      0.955      0.528\n"
     ]
    },
    {
     "name": "stderr",
     "output_type": "stream",
     "text": [
      "\n"
     ]
    },
    {
     "name": "stdout",
     "output_type": "stream",
     "text": [
      "\n",
      "      Epoch    GPU_mem   box_loss   cls_loss   dfl_loss  Instances       Size\n"
     ]
    },
    {
     "name": "stderr",
     "output_type": "stream",
     "text": [
      "     66/100         0G      1.593      1.002     0.9243         68        640: 100%|██████████| 35/35 [04:29<00:00,  7.71s/it]\n",
      "                 Class     Images  Instances      Box(P          R      mAP50  mAP50-95): 100%|██████████| 3/3 [00:12<00:00,  4.22s/it]"
     ]
    },
    {
     "name": "stdout",
     "output_type": "stream",
     "text": [
      "                   all         69        283      0.955      0.921      0.957      0.522\n"
     ]
    },
    {
     "name": "stderr",
     "output_type": "stream",
     "text": [
      "\n"
     ]
    },
    {
     "name": "stdout",
     "output_type": "stream",
     "text": [
      "\n",
      "      Epoch    GPU_mem   box_loss   cls_loss   dfl_loss  Instances       Size\n"
     ]
    },
    {
     "name": "stderr",
     "output_type": "stream",
     "text": [
      "     67/100         0G      1.593      1.005      0.923         65        640: 100%|██████████| 35/35 [04:30<00:00,  7.72s/it]\n",
      "                 Class     Images  Instances      Box(P          R      mAP50  mAP50-95): 100%|██████████| 3/3 [00:12<00:00,  4.22s/it]"
     ]
    },
    {
     "name": "stdout",
     "output_type": "stream",
     "text": [
      "                   all         69        283      0.953      0.928       0.95      0.519\n"
     ]
    },
    {
     "name": "stderr",
     "output_type": "stream",
     "text": [
      "\n"
     ]
    },
    {
     "name": "stdout",
     "output_type": "stream",
     "text": [
      "\n",
      "      Epoch    GPU_mem   box_loss   cls_loss   dfl_loss  Instances       Size\n"
     ]
    },
    {
     "name": "stderr",
     "output_type": "stream",
     "text": [
      "     68/100         0G      1.601      1.023     0.9276         84        640: 100%|██████████| 35/35 [04:30<00:00,  7.72s/it]\n",
      "                 Class     Images  Instances      Box(P          R      mAP50  mAP50-95): 100%|██████████| 3/3 [00:12<00:00,  4.27s/it]"
     ]
    },
    {
     "name": "stdout",
     "output_type": "stream",
     "text": [
      "                   all         69        283      0.941      0.925       0.95      0.536\n"
     ]
    },
    {
     "name": "stderr",
     "output_type": "stream",
     "text": [
      "\n"
     ]
    },
    {
     "name": "stdout",
     "output_type": "stream",
     "text": [
      "\n",
      "      Epoch    GPU_mem   box_loss   cls_loss   dfl_loss  Instances       Size\n"
     ]
    },
    {
     "name": "stderr",
     "output_type": "stream",
     "text": [
      "     69/100         0G      1.576     0.9866     0.9123         68        640: 100%|██████████| 35/35 [04:31<00:00,  7.74s/it]\n",
      "                 Class     Images  Instances      Box(P          R      mAP50  mAP50-95): 100%|██████████| 3/3 [00:12<00:00,  4.23s/it]"
     ]
    },
    {
     "name": "stdout",
     "output_type": "stream",
     "text": [
      "                   all         69        283      0.963      0.926      0.954      0.544\n"
     ]
    },
    {
     "name": "stderr",
     "output_type": "stream",
     "text": [
      "\n"
     ]
    },
    {
     "name": "stdout",
     "output_type": "stream",
     "text": [
      "\n",
      "      Epoch    GPU_mem   box_loss   cls_loss   dfl_loss  Instances       Size\n"
     ]
    },
    {
     "name": "stderr",
     "output_type": "stream",
     "text": [
      "     70/100         0G      1.618      1.023     0.9232         73        640: 100%|██████████| 35/35 [04:31<00:00,  7.75s/it]\n",
      "                 Class     Images  Instances      Box(P          R      mAP50  mAP50-95): 100%|██████████| 3/3 [00:12<00:00,  4.25s/it]"
     ]
    },
    {
     "name": "stdout",
     "output_type": "stream",
     "text": [
      "                   all         69        283      0.962      0.937      0.956      0.538\n"
     ]
    },
    {
     "name": "stderr",
     "output_type": "stream",
     "text": [
      "\n"
     ]
    },
    {
     "name": "stdout",
     "output_type": "stream",
     "text": [
      "\n",
      "      Epoch    GPU_mem   box_loss   cls_loss   dfl_loss  Instances       Size\n"
     ]
    },
    {
     "name": "stderr",
     "output_type": "stream",
     "text": [
      "     71/100         0G      1.546     0.9983     0.9141         96        640: 100%|██████████| 35/35 [04:30<00:00,  7.72s/it]\n",
      "                 Class     Images  Instances      Box(P          R      mAP50  mAP50-95): 100%|██████████| 3/3 [00:12<00:00,  4.18s/it]"
     ]
    },
    {
     "name": "stdout",
     "output_type": "stream",
     "text": [
      "                   all         69        283      0.969      0.941      0.956      0.542\n"
     ]
    },
    {
     "name": "stderr",
     "output_type": "stream",
     "text": [
      "\n"
     ]
    },
    {
     "name": "stdout",
     "output_type": "stream",
     "text": [
      "\n",
      "      Epoch    GPU_mem   box_loss   cls_loss   dfl_loss  Instances       Size\n"
     ]
    },
    {
     "name": "stderr",
     "output_type": "stream",
     "text": [
      "     72/100         0G      1.586      1.023     0.9234         55        640: 100%|██████████| 35/35 [04:32<00:00,  7.78s/it]\n",
      "                 Class     Images  Instances      Box(P          R      mAP50  mAP50-95): 100%|██████████| 3/3 [00:12<00:00,  4.26s/it]"
     ]
    },
    {
     "name": "stdout",
     "output_type": "stream",
     "text": [
      "                   all         69        283      0.962      0.928      0.959      0.545\n"
     ]
    },
    {
     "name": "stderr",
     "output_type": "stream",
     "text": [
      "\n"
     ]
    },
    {
     "name": "stdout",
     "output_type": "stream",
     "text": [
      "\n",
      "      Epoch    GPU_mem   box_loss   cls_loss   dfl_loss  Instances       Size\n"
     ]
    },
    {
     "name": "stderr",
     "output_type": "stream",
     "text": [
      "     73/100         0G      1.558      1.025     0.9211         57        640: 100%|██████████| 35/35 [04:31<00:00,  7.76s/it]\n",
      "                 Class     Images  Instances      Box(P          R      mAP50  mAP50-95): 100%|██████████| 3/3 [00:12<00:00,  4.24s/it]"
     ]
    },
    {
     "name": "stdout",
     "output_type": "stream",
     "text": [
      "                   all         69        283      0.971      0.918      0.951       0.54\n"
     ]
    },
    {
     "name": "stderr",
     "output_type": "stream",
     "text": [
      "\n"
     ]
    },
    {
     "name": "stdout",
     "output_type": "stream",
     "text": [
      "\n",
      "      Epoch    GPU_mem   box_loss   cls_loss   dfl_loss  Instances       Size\n"
     ]
    },
    {
     "name": "stderr",
     "output_type": "stream",
     "text": [
      "     74/100         0G      1.557     0.9909     0.9135         67        640: 100%|██████████| 35/35 [04:29<00:00,  7.70s/it]\n",
      "                 Class     Images  Instances      Box(P          R      mAP50  mAP50-95): 100%|██████████| 3/3 [00:12<00:00,  4.23s/it]"
     ]
    },
    {
     "name": "stdout",
     "output_type": "stream",
     "text": [
      "                   all         69        283      0.963      0.928       0.96      0.549\n"
     ]
    },
    {
     "name": "stderr",
     "output_type": "stream",
     "text": [
      "\n"
     ]
    },
    {
     "name": "stdout",
     "output_type": "stream",
     "text": [
      "\n",
      "      Epoch    GPU_mem   box_loss   cls_loss   dfl_loss  Instances       Size\n"
     ]
    },
    {
     "name": "stderr",
     "output_type": "stream",
     "text": [
      "     75/100         0G      1.562      1.001     0.9132         65        640: 100%|██████████| 35/35 [04:30<00:00,  7.74s/it]\n",
      "                 Class     Images  Instances      Box(P          R      mAP50  mAP50-95): 100%|██████████| 3/3 [00:12<00:00,  4.22s/it]"
     ]
    },
    {
     "name": "stdout",
     "output_type": "stream",
     "text": [
      "                   all         69        283      0.961      0.935      0.956      0.537\n"
     ]
    },
    {
     "name": "stderr",
     "output_type": "stream",
     "text": [
      "\n"
     ]
    },
    {
     "name": "stdout",
     "output_type": "stream",
     "text": [
      "\n",
      "      Epoch    GPU_mem   box_loss   cls_loss   dfl_loss  Instances       Size\n"
     ]
    },
    {
     "name": "stderr",
     "output_type": "stream",
     "text": [
      "     76/100         0G      1.526     0.9758     0.9124         62        640: 100%|██████████| 35/35 [04:30<00:00,  7.71s/it]\n",
      "                 Class     Images  Instances      Box(P          R      mAP50  mAP50-95): 100%|██████████| 3/3 [00:12<00:00,  4.21s/it]"
     ]
    },
    {
     "name": "stdout",
     "output_type": "stream",
     "text": [
      "                   all         69        283      0.968      0.923       0.95      0.532\n"
     ]
    },
    {
     "name": "stderr",
     "output_type": "stream",
     "text": [
      "\n"
     ]
    },
    {
     "name": "stdout",
     "output_type": "stream",
     "text": [
      "\n",
      "      Epoch    GPU_mem   box_loss   cls_loss   dfl_loss  Instances       Size\n"
     ]
    },
    {
     "name": "stderr",
     "output_type": "stream",
     "text": [
      "     77/100         0G      1.553     0.9926      0.917         96        640: 100%|██████████| 35/35 [04:32<00:00,  7.79s/it]\n",
      "                 Class     Images  Instances      Box(P          R      mAP50  mAP50-95): 100%|██████████| 3/3 [00:12<00:00,  4.27s/it]"
     ]
    },
    {
     "name": "stdout",
     "output_type": "stream",
     "text": [
      "                   all         69        283      0.961      0.926      0.947      0.531\n"
     ]
    },
    {
     "name": "stderr",
     "output_type": "stream",
     "text": [
      "\n"
     ]
    },
    {
     "name": "stdout",
     "output_type": "stream",
     "text": [
      "\n",
      "      Epoch    GPU_mem   box_loss   cls_loss   dfl_loss  Instances       Size\n"
     ]
    },
    {
     "name": "stderr",
     "output_type": "stream",
     "text": [
      "     78/100         0G      1.582      1.012     0.9201         46        640: 100%|██████████| 35/35 [04:30<00:00,  7.73s/it]\n",
      "                 Class     Images  Instances      Box(P          R      mAP50  mAP50-95): 100%|██████████| 3/3 [00:12<00:00,  4.16s/it]"
     ]
    },
    {
     "name": "stdout",
     "output_type": "stream",
     "text": [
      "                   all         69        283      0.967      0.921      0.952      0.532\n"
     ]
    },
    {
     "name": "stderr",
     "output_type": "stream",
     "text": [
      "\n"
     ]
    },
    {
     "name": "stdout",
     "output_type": "stream",
     "text": [
      "\n",
      "      Epoch    GPU_mem   box_loss   cls_loss   dfl_loss  Instances       Size\n"
     ]
    },
    {
     "name": "stderr",
     "output_type": "stream",
     "text": [
      "     79/100         0G      1.539     0.9876     0.9135         32        640: 100%|██████████| 35/35 [04:31<00:00,  7.75s/it]\n",
      "                 Class     Images  Instances      Box(P          R      mAP50  mAP50-95): 100%|██████████| 3/3 [00:12<00:00,  4.20s/it]"
     ]
    },
    {
     "name": "stdout",
     "output_type": "stream",
     "text": [
      "                   all         69        283      0.972      0.921      0.963       0.54\n"
     ]
    },
    {
     "name": "stderr",
     "output_type": "stream",
     "text": [
      "\n"
     ]
    },
    {
     "name": "stdout",
     "output_type": "stream",
     "text": [
      "\n",
      "      Epoch    GPU_mem   box_loss   cls_loss   dfl_loss  Instances       Size\n"
     ]
    },
    {
     "name": "stderr",
     "output_type": "stream",
     "text": [
      "     80/100         0G      1.524      0.982     0.9058         60        640: 100%|██████████| 35/35 [04:32<00:00,  7.78s/it]\n",
      "                 Class     Images  Instances      Box(P          R      mAP50  mAP50-95): 100%|██████████| 3/3 [00:12<00:00,  4.24s/it]"
     ]
    },
    {
     "name": "stdout",
     "output_type": "stream",
     "text": [
      "                   all         69        283      0.951      0.925      0.959       0.54\n"
     ]
    },
    {
     "name": "stderr",
     "output_type": "stream",
     "text": [
      "\n"
     ]
    },
    {
     "name": "stdout",
     "output_type": "stream",
     "text": [
      "\n",
      "      Epoch    GPU_mem   box_loss   cls_loss   dfl_loss  Instances       Size\n"
     ]
    },
    {
     "name": "stderr",
     "output_type": "stream",
     "text": [
      "     81/100         0G      1.532     0.9609     0.9166         89        640: 100%|██████████| 35/35 [04:30<00:00,  7.72s/it]\n",
      "                 Class     Images  Instances      Box(P          R      mAP50  mAP50-95): 100%|██████████| 3/3 [00:12<00:00,  4.22s/it]"
     ]
    },
    {
     "name": "stdout",
     "output_type": "stream",
     "text": [
      "                   all         69        283      0.955      0.937      0.959      0.542\n"
     ]
    },
    {
     "name": "stderr",
     "output_type": "stream",
     "text": [
      "\n"
     ]
    },
    {
     "name": "stdout",
     "output_type": "stream",
     "text": [
      "\n",
      "      Epoch    GPU_mem   box_loss   cls_loss   dfl_loss  Instances       Size\n"
     ]
    },
    {
     "name": "stderr",
     "output_type": "stream",
     "text": [
      "     82/100         0G       1.52     0.9615     0.9196         78        640: 100%|██████████| 35/35 [04:32<00:00,  7.78s/it]\n",
      "                 Class     Images  Instances      Box(P          R      mAP50  mAP50-95): 100%|██████████| 3/3 [00:12<00:00,  4.21s/it]"
     ]
    },
    {
     "name": "stdout",
     "output_type": "stream",
     "text": [
      "                   all         69        283      0.959       0.95      0.961      0.547\n"
     ]
    },
    {
     "name": "stderr",
     "output_type": "stream",
     "text": [
      "\n"
     ]
    },
    {
     "name": "stdout",
     "output_type": "stream",
     "text": [
      "\n",
      "      Epoch    GPU_mem   box_loss   cls_loss   dfl_loss  Instances       Size\n"
     ]
    },
    {
     "name": "stderr",
     "output_type": "stream",
     "text": [
      "     83/100         0G      1.524     0.9693     0.9056         60        640: 100%|██████████| 35/35 [04:31<00:00,  7.75s/it]\n",
      "                 Class     Images  Instances      Box(P          R      mAP50  mAP50-95): 100%|██████████| 3/3 [00:12<00:00,  4.23s/it]"
     ]
    },
    {
     "name": "stdout",
     "output_type": "stream",
     "text": [
      "                   all         69        283      0.968      0.938       0.96      0.548\n"
     ]
    },
    {
     "name": "stderr",
     "output_type": "stream",
     "text": [
      "\n"
     ]
    },
    {
     "name": "stdout",
     "output_type": "stream",
     "text": [
      "\n",
      "      Epoch    GPU_mem   box_loss   cls_loss   dfl_loss  Instances       Size\n"
     ]
    },
    {
     "name": "stderr",
     "output_type": "stream",
     "text": [
      "     84/100         0G      1.518     0.9604     0.9104         71        640: 100%|██████████| 35/35 [04:34<00:00,  7.84s/it]\n",
      "                 Class     Images  Instances      Box(P          R      mAP50  mAP50-95): 100%|██████████| 3/3 [00:12<00:00,  4.29s/it]"
     ]
    },
    {
     "name": "stdout",
     "output_type": "stream",
     "text": [
      "                   all         69        283      0.962       0.94      0.967      0.552\n"
     ]
    },
    {
     "name": "stderr",
     "output_type": "stream",
     "text": [
      "\n"
     ]
    },
    {
     "name": "stdout",
     "output_type": "stream",
     "text": [
      "\n",
      "      Epoch    GPU_mem   box_loss   cls_loss   dfl_loss  Instances       Size\n"
     ]
    },
    {
     "name": "stderr",
     "output_type": "stream",
     "text": [
      "     85/100         0G      1.498     0.9309     0.9014         73        640: 100%|██████████| 35/35 [04:31<00:00,  7.77s/it]\n",
      "                 Class     Images  Instances      Box(P          R      mAP50  mAP50-95): 100%|██████████| 3/3 [00:12<00:00,  4.27s/it]"
     ]
    },
    {
     "name": "stdout",
     "output_type": "stream",
     "text": [
      "                   all         69        283      0.964      0.934      0.967      0.559\n"
     ]
    },
    {
     "name": "stderr",
     "output_type": "stream",
     "text": [
      "\n"
     ]
    },
    {
     "name": "stdout",
     "output_type": "stream",
     "text": [
      "\n",
      "      Epoch    GPU_mem   box_loss   cls_loss   dfl_loss  Instances       Size\n"
     ]
    },
    {
     "name": "stderr",
     "output_type": "stream",
     "text": [
      "     86/100         0G      1.494     0.9247     0.9055         73        640: 100%|██████████| 35/35 [04:31<00:00,  7.77s/it]\n",
      "                 Class     Images  Instances      Box(P          R      mAP50  mAP50-95): 100%|██████████| 3/3 [00:12<00:00,  4.31s/it]"
     ]
    },
    {
     "name": "stdout",
     "output_type": "stream",
     "text": [
      "                   all         69        283      0.944      0.941      0.962      0.549\n"
     ]
    },
    {
     "name": "stderr",
     "output_type": "stream",
     "text": [
      "\n"
     ]
    },
    {
     "name": "stdout",
     "output_type": "stream",
     "text": [
      "\n",
      "      Epoch    GPU_mem   box_loss   cls_loss   dfl_loss  Instances       Size\n"
     ]
    },
    {
     "name": "stderr",
     "output_type": "stream",
     "text": [
      "     87/100         0G      1.496      0.926     0.9077         92        640: 100%|██████████| 35/35 [04:34<00:00,  7.83s/it]\n",
      "                 Class     Images  Instances      Box(P          R      mAP50  mAP50-95): 100%|██████████| 3/3 [00:12<00:00,  4.32s/it]"
     ]
    },
    {
     "name": "stdout",
     "output_type": "stream",
     "text": [
      "                   all         69        283      0.958      0.942      0.969      0.558\n"
     ]
    },
    {
     "name": "stderr",
     "output_type": "stream",
     "text": [
      "\n"
     ]
    },
    {
     "name": "stdout",
     "output_type": "stream",
     "text": [
      "\n",
      "      Epoch    GPU_mem   box_loss   cls_loss   dfl_loss  Instances       Size\n"
     ]
    },
    {
     "name": "stderr",
     "output_type": "stream",
     "text": [
      "     88/100         0G      1.483     0.9496     0.9045         47        640: 100%|██████████| 35/35 [04:33<00:00,  7.82s/it]\n",
      "                 Class     Images  Instances      Box(P          R      mAP50  mAP50-95): 100%|██████████| 3/3 [00:12<00:00,  4.23s/it]"
     ]
    },
    {
     "name": "stdout",
     "output_type": "stream",
     "text": [
      "                   all         69        283      0.962      0.931       0.97      0.552\n"
     ]
    },
    {
     "name": "stderr",
     "output_type": "stream",
     "text": [
      "\n"
     ]
    },
    {
     "name": "stdout",
     "output_type": "stream",
     "text": [
      "\n",
      "      Epoch    GPU_mem   box_loss   cls_loss   dfl_loss  Instances       Size\n"
     ]
    },
    {
     "name": "stderr",
     "output_type": "stream",
     "text": [
      "     89/100         0G      1.515     0.9616     0.9127         81        640: 100%|██████████| 35/35 [04:37<00:00,  7.94s/it]\n",
      "                 Class     Images  Instances      Box(P          R      mAP50  mAP50-95): 100%|██████████| 3/3 [00:12<00:00,  4.32s/it]"
     ]
    },
    {
     "name": "stdout",
     "output_type": "stream",
     "text": [
      "                   all         69        283      0.956      0.937      0.966      0.555\n"
     ]
    },
    {
     "name": "stderr",
     "output_type": "stream",
     "text": [
      "\n"
     ]
    },
    {
     "name": "stdout",
     "output_type": "stream",
     "text": [
      "\n",
      "      Epoch    GPU_mem   box_loss   cls_loss   dfl_loss  Instances       Size\n"
     ]
    },
    {
     "name": "stderr",
     "output_type": "stream",
     "text": [
      "     90/100         0G      1.482     0.9239      0.909        100        640: 100%|██████████| 35/35 [04:34<00:00,  7.85s/it]\n",
      "                 Class     Images  Instances      Box(P          R      mAP50  mAP50-95): 100%|██████████| 3/3 [00:12<00:00,  4.33s/it]"
     ]
    },
    {
     "name": "stdout",
     "output_type": "stream",
     "text": [
      "                   all         69        283      0.966      0.921      0.964      0.565\n"
     ]
    },
    {
     "name": "stderr",
     "output_type": "stream",
     "text": [
      "\n"
     ]
    },
    {
     "name": "stdout",
     "output_type": "stream",
     "text": [
      "Closing dataloader mosaic\n",
      "\n",
      "      Epoch    GPU_mem   box_loss   cls_loss   dfl_loss  Instances       Size\n"
     ]
    },
    {
     "name": "stderr",
     "output_type": "stream",
     "text": [
      "     91/100         0G      1.266     0.6221     0.8832         37        640: 100%|██████████| 35/35 [04:27<00:00,  7.65s/it]\n",
      "                 Class     Images  Instances      Box(P          R      mAP50  mAP50-95): 100%|██████████| 3/3 [00:12<00:00,  4.29s/it]"
     ]
    },
    {
     "name": "stdout",
     "output_type": "stream",
     "text": [
      "                   all         69        283      0.962      0.939      0.964      0.555\n"
     ]
    },
    {
     "name": "stderr",
     "output_type": "stream",
     "text": [
      "\n"
     ]
    },
    {
     "name": "stdout",
     "output_type": "stream",
     "text": [
      "\n",
      "      Epoch    GPU_mem   box_loss   cls_loss   dfl_loss  Instances       Size\n"
     ]
    },
    {
     "name": "stderr",
     "output_type": "stream",
     "text": [
      "     92/100         0G      1.257     0.6012     0.8869         35        640: 100%|██████████| 35/35 [04:29<00:00,  7.70s/it]\n",
      "                 Class     Images  Instances      Box(P          R      mAP50  mAP50-95): 100%|██████████| 3/3 [00:12<00:00,  4.25s/it]"
     ]
    },
    {
     "name": "stdout",
     "output_type": "stream",
     "text": [
      "                   all         69        283      0.963       0.94      0.965      0.554\n"
     ]
    },
    {
     "name": "stderr",
     "output_type": "stream",
     "text": [
      "\n"
     ]
    },
    {
     "name": "stdout",
     "output_type": "stream",
     "text": [
      "\n",
      "      Epoch    GPU_mem   box_loss   cls_loss   dfl_loss  Instances       Size\n"
     ]
    },
    {
     "name": "stderr",
     "output_type": "stream",
     "text": [
      "     93/100         0G      1.217     0.5864     0.8713         38        640: 100%|██████████| 35/35 [04:29<00:00,  7.70s/it]\n",
      "                 Class     Images  Instances      Box(P          R      mAP50  mAP50-95): 100%|██████████| 3/3 [00:12<00:00,  4.25s/it]"
     ]
    },
    {
     "name": "stdout",
     "output_type": "stream",
     "text": [
      "                   all         69        283      0.963      0.937      0.964       0.55\n"
     ]
    },
    {
     "name": "stderr",
     "output_type": "stream",
     "text": [
      "\n"
     ]
    },
    {
     "name": "stdout",
     "output_type": "stream",
     "text": [
      "\n",
      "      Epoch    GPU_mem   box_loss   cls_loss   dfl_loss  Instances       Size\n"
     ]
    },
    {
     "name": "stderr",
     "output_type": "stream",
     "text": [
      "     94/100         0G      1.247     0.5983     0.8735         32        640: 100%|██████████| 35/35 [04:27<00:00,  7.65s/it]\n",
      "                 Class     Images  Instances      Box(P          R      mAP50  mAP50-95): 100%|██████████| 3/3 [00:12<00:00,  4.27s/it]"
     ]
    },
    {
     "name": "stdout",
     "output_type": "stream",
     "text": [
      "                   all         69        283      0.952      0.937      0.966      0.551\n"
     ]
    },
    {
     "name": "stderr",
     "output_type": "stream",
     "text": [
      "\n"
     ]
    },
    {
     "name": "stdout",
     "output_type": "stream",
     "text": [
      "\n",
      "      Epoch    GPU_mem   box_loss   cls_loss   dfl_loss  Instances       Size\n"
     ]
    },
    {
     "name": "stderr",
     "output_type": "stream",
     "text": [
      "     95/100         0G      1.254     0.5947     0.8767         40        640: 100%|██████████| 35/35 [04:27<00:00,  7.66s/it]\n",
      "                 Class     Images  Instances      Box(P          R      mAP50  mAP50-95): 100%|██████████| 3/3 [00:12<00:00,  4.29s/it]"
     ]
    },
    {
     "name": "stdout",
     "output_type": "stream",
     "text": [
      "                   all         69        283      0.961       0.94      0.967      0.547\n"
     ]
    },
    {
     "name": "stderr",
     "output_type": "stream",
     "text": [
      "\n"
     ]
    },
    {
     "name": "stdout",
     "output_type": "stream",
     "text": [
      "\n",
      "      Epoch    GPU_mem   box_loss   cls_loss   dfl_loss  Instances       Size\n"
     ]
    },
    {
     "name": "stderr",
     "output_type": "stream",
     "text": [
      "     96/100         0G      1.234     0.5871     0.8777         39        640: 100%|██████████| 35/35 [04:28<00:00,  7.68s/it]\n",
      "                 Class     Images  Instances      Box(P          R      mAP50  mAP50-95): 100%|██████████| 3/3 [00:12<00:00,  4.26s/it]"
     ]
    },
    {
     "name": "stdout",
     "output_type": "stream",
     "text": [
      "                   all         69        283      0.962       0.94      0.967      0.554\n"
     ]
    },
    {
     "name": "stderr",
     "output_type": "stream",
     "text": [
      "\n"
     ]
    },
    {
     "name": "stdout",
     "output_type": "stream",
     "text": [
      "\n",
      "      Epoch    GPU_mem   box_loss   cls_loss   dfl_loss  Instances       Size\n"
     ]
    },
    {
     "name": "stderr",
     "output_type": "stream",
     "text": [
      "     97/100         0G      1.215     0.5765     0.8651         33        640: 100%|██████████| 35/35 [04:28<00:00,  7.68s/it]\n",
      "                 Class     Images  Instances      Box(P          R      mAP50  mAP50-95): 100%|██████████| 3/3 [00:12<00:00,  4.29s/it]"
     ]
    },
    {
     "name": "stdout",
     "output_type": "stream",
     "text": [
      "                   all         69        283      0.957      0.939      0.967      0.555\n"
     ]
    },
    {
     "name": "stderr",
     "output_type": "stream",
     "text": [
      "\n"
     ]
    },
    {
     "name": "stdout",
     "output_type": "stream",
     "text": [
      "\n",
      "      Epoch    GPU_mem   box_loss   cls_loss   dfl_loss  Instances       Size\n"
     ]
    },
    {
     "name": "stderr",
     "output_type": "stream",
     "text": [
      "     98/100         0G      1.222      0.573     0.8749         44        640: 100%|██████████| 35/35 [04:35<00:00,  7.87s/it]\n",
      "                 Class     Images  Instances      Box(P          R      mAP50  mAP50-95): 100%|██████████| 3/3 [00:13<00:00,  4.40s/it]"
     ]
    },
    {
     "name": "stdout",
     "output_type": "stream",
     "text": [
      "                   all         69        283      0.969      0.926      0.967      0.557\n"
     ]
    },
    {
     "name": "stderr",
     "output_type": "stream",
     "text": [
      "\n"
     ]
    },
    {
     "name": "stdout",
     "output_type": "stream",
     "text": [
      "\n",
      "      Epoch    GPU_mem   box_loss   cls_loss   dfl_loss  Instances       Size\n"
     ]
    },
    {
     "name": "stderr",
     "output_type": "stream",
     "text": [
      "     99/100         0G      1.211     0.5755      0.865         41        640: 100%|██████████| 35/35 [04:34<00:00,  7.85s/it]\n",
      "                 Class     Images  Instances      Box(P          R      mAP50  mAP50-95): 100%|██████████| 3/3 [00:13<00:00,  4.41s/it]"
     ]
    },
    {
     "name": "stdout",
     "output_type": "stream",
     "text": [
      "                   all         69        283      0.951      0.941      0.965      0.556\n"
     ]
    },
    {
     "name": "stderr",
     "output_type": "stream",
     "text": [
      "\n"
     ]
    },
    {
     "name": "stdout",
     "output_type": "stream",
     "text": [
      "\n",
      "      Epoch    GPU_mem   box_loss   cls_loss   dfl_loss  Instances       Size\n"
     ]
    },
    {
     "name": "stderr",
     "output_type": "stream",
     "text": [
      "    100/100         0G      1.212     0.5752     0.8717         40        640: 100%|██████████| 35/35 [04:31<00:00,  7.77s/it]\n",
      "                 Class     Images  Instances      Box(P          R      mAP50  mAP50-95): 100%|██████████| 3/3 [00:13<00:00,  4.41s/it]"
     ]
    },
    {
     "name": "stdout",
     "output_type": "stream",
     "text": [
      "                   all         69        283       0.95      0.944      0.965      0.555\n"
     ]
    },
    {
     "name": "stderr",
     "output_type": "stream",
     "text": [
      "\n"
     ]
    },
    {
     "name": "stdout",
     "output_type": "stream",
     "text": [
      "\n",
      "100 epochs completed in 7.911 hours.\n",
      "Optimizer stripped from pcb_project\\train2\\weights\\last.pt, 22.5MB\n",
      "Optimizer stripped from pcb_project\\train2\\weights\\best.pt, 22.5MB\n",
      "\n",
      "Validating pcb_project\\train2\\weights\\best.pt...\n",
      "Ultralytics 8.3.36  Python-3.12.4 torch-2.5.1+cpu CPU (11th Gen Intel Core(TM) i5-11400H 2.70GHz)\n",
      "Model summary (fused): 168 layers, 11,127,906 parameters, 0 gradients, 28.4 GFLOPs\n"
     ]
    },
    {
     "name": "stderr",
     "output_type": "stream",
     "text": [
      "                 Class     Images  Instances      Box(P          R      mAP50  mAP50-95): 100%|██████████| 3/3 [00:10<00:00,  3.63s/it]\n"
     ]
    },
    {
     "name": "stdout",
     "output_type": "stream",
     "text": [
      "                   all         69        283      0.955      0.926      0.963      0.564\n",
      "          missing_hole         11         44          1      0.962      0.995      0.649\n",
      "            mouse_bite         11         43          1      0.906      0.979      0.582\n",
      "          open_circuit         11         43      0.958      0.977      0.989      0.543\n",
      "                 short         12         51          1      0.957      0.994      0.548\n",
      "                  spur         17         71      0.949      0.789      0.888      0.482\n",
      "       spurious_copper          7         31      0.824      0.968      0.931      0.579\n",
      "Speed: 1.6ms preprocess, 146.7ms inference, 0.0ms loss, 0.4ms postprocess per image\n",
      "Results saved to \u001b[1mpcb_project\\train2\u001b[0m\n"
     ]
    }
   ],
   "source": [
    "model = YOLO('yolov8s.pt')\n",
    "\n",
    "# Configuration Parameters\n",
    "batch = 16\n",
    "project = 'pcb_project'\n",
    "epochs = 100\n",
    "imgsz = 640\n",
    "save_period = 1\n",
    "verbose = True\n",
    "mixup = 0.3  # Image blending augmentation\n",
    "\n",
    "# Define paths for dataset YAML\n",
    "output_dir = r\"D:\\BML Munjal\\3rd Year\\Sem 5\\DIP\\DIP-dataset\\PCB_DATASET\\split_dataset\\binary\" # Replace with the path to your dataset directory\n",
    "root_dir = r\"D:\\BML Munjal\\3rd Year\\Sem 5\\DIP\\DIP-dataset\"  # Replace with the path to your project directory\n",
    "\n",
    "# Prepare YAML content\n",
    "all_data_yaml = f\"\"\"\n",
    "path: {output_dir}\n",
    "train: images/train\n",
    "val: images/val\n",
    "\n",
    "names:\n",
    "    0: missing_hole\n",
    "    1: mouse_bite\n",
    "    2: open_circuit\n",
    "    3: short\n",
    "    4: spur\n",
    "    5: spurious_copper\n",
    "\"\"\"\n",
    "\n",
    "# Save YAML file\n",
    "data_path = os.path.join(root_dir, 'binary_dataset.yaml')  # Updated filename to avoid confusion\n",
    "with open(data_path, 'w') as f:\n",
    "    f.write(all_data_yaml)\n",
    "\n",
    "# Train the model using the defined YAML\n",
    "result = model.train(data=data_path,\n",
    "                     epochs=epochs,\n",
    "                     batch=batch,\n",
    "                     lr0=0.001,\n",
    "                     lrf=0.0001,\n",
    "                     imgsz=imgsz,\n",
    "                     save_period=save_period,\n",
    "                     verbose=verbose,\n",
    "                     project=project,\n",
    "                     mixup=mixup)\n"
   ]
  },
  {
   "cell_type": "markdown",
   "metadata": {},
   "source": [
    "# Testing"
   ]
  },
  {
   "cell_type": "markdown",
   "metadata": {},
   "source": [
    "Testing for greyscale images"
   ]
  },
  {
   "cell_type": "code",
   "execution_count": 19,
   "metadata": {},
   "outputs": [
    {
     "name": "stdout",
     "output_type": "stream",
     "text": [
      "\n",
      "image 1/70 D:\\BML Munjal\\3rd Year\\Sem 5\\DIP\\DIP-dataset\\PCB_DATASET\\split_dataset\\greyscale\\images\\test\\01_missing_hole_10.jpg: 640x640 3 missing_holes, 133.5ms\n",
      "image 2/70 D:\\BML Munjal\\3rd Year\\Sem 5\\DIP\\DIP-dataset\\PCB_DATASET\\split_dataset\\greyscale\\images\\test\\01_missing_hole_19.jpg: 640x640 3 missing_holes, 118.7ms\n",
      "image 3/70 D:\\BML Munjal\\3rd Year\\Sem 5\\DIP\\DIP-dataset\\PCB_DATASET\\split_dataset\\greyscale\\images\\test\\01_mouse_bite_15.jpg: 640x640 2 mouse_bites, 1 open_circuit, 119.0ms\n",
      "image 4/70 D:\\BML Munjal\\3rd Year\\Sem 5\\DIP\\DIP-dataset\\PCB_DATASET\\split_dataset\\greyscale\\images\\test\\01_open_circuit_01.jpg: 640x640 2 open_circuits, 124.6ms\n",
      "image 5/70 D:\\BML Munjal\\3rd Year\\Sem 5\\DIP\\DIP-dataset\\PCB_DATASET\\split_dataset\\greyscale\\images\\test\\01_open_circuit_14.jpg: 640x640 2 open_circuits, 114.9ms\n",
      "image 6/70 D:\\BML Munjal\\3rd Year\\Sem 5\\DIP\\DIP-dataset\\PCB_DATASET\\split_dataset\\greyscale\\images\\test\\01_open_circuit_18.jpg: 640x640 2 open_circuits, 123.7ms\n",
      "image 7/70 D:\\BML Munjal\\3rd Year\\Sem 5\\DIP\\DIP-dataset\\PCB_DATASET\\split_dataset\\greyscale\\images\\test\\01_short_16.jpg: 640x640 3 shorts, 122.2ms\n",
      "image 8/70 D:\\BML Munjal\\3rd Year\\Sem 5\\DIP\\DIP-dataset\\PCB_DATASET\\split_dataset\\greyscale\\images\\test\\01_short_19.jpg: 640x640 4 shorts, 133.7ms\n",
      "image 9/70 D:\\BML Munjal\\3rd Year\\Sem 5\\DIP\\DIP-dataset\\PCB_DATASET\\split_dataset\\greyscale\\images\\test\\01_spur_05.jpg: 640x640 2 spurs, 125.0ms\n",
      "image 10/70 D:\\BML Munjal\\3rd Year\\Sem 5\\DIP\\DIP-dataset\\PCB_DATASET\\split_dataset\\greyscale\\images\\test\\01_spurious_copper_01.jpg: 640x640 3 spurious_coppers, 130.2ms\n",
      "image 11/70 D:\\BML Munjal\\3rd Year\\Sem 5\\DIP\\DIP-dataset\\PCB_DATASET\\split_dataset\\greyscale\\images\\test\\01_spurious_copper_06.jpg: 640x640 3 spurious_coppers, 132.4ms\n",
      "image 12/70 D:\\BML Munjal\\3rd Year\\Sem 5\\DIP\\DIP-dataset\\PCB_DATASET\\split_dataset\\greyscale\\images\\test\\01_spurious_copper_07.jpg: 640x640 4 spurious_coppers, 125.5ms\n",
      "image 13/70 D:\\BML Munjal\\3rd Year\\Sem 5\\DIP\\DIP-dataset\\PCB_DATASET\\split_dataset\\greyscale\\images\\test\\01_spurious_copper_14.jpg: 640x640 2 spurious_coppers, 133.2ms\n",
      "image 14/70 D:\\BML Munjal\\3rd Year\\Sem 5\\DIP\\DIP-dataset\\PCB_DATASET\\split_dataset\\greyscale\\images\\test\\04_missing_hole_09.jpg: 640x640 3 missing_holes, 138.9ms\n",
      "image 15/70 D:\\BML Munjal\\3rd Year\\Sem 5\\DIP\\DIP-dataset\\PCB_DATASET\\split_dataset\\greyscale\\images\\test\\04_missing_hole_11.jpg: 640x640 3 missing_holes, 132.1ms\n",
      "image 16/70 D:\\BML Munjal\\3rd Year\\Sem 5\\DIP\\DIP-dataset\\PCB_DATASET\\split_dataset\\greyscale\\images\\test\\04_missing_hole_12.jpg: 640x640 3 missing_holes, 137.9ms\n",
      "image 17/70 D:\\BML Munjal\\3rd Year\\Sem 5\\DIP\\DIP-dataset\\PCB_DATASET\\split_dataset\\greyscale\\images\\test\\04_missing_hole_13.jpg: 640x640 3 missing_holes, 124.7ms\n",
      "image 18/70 D:\\BML Munjal\\3rd Year\\Sem 5\\DIP\\DIP-dataset\\PCB_DATASET\\split_dataset\\greyscale\\images\\test\\04_missing_hole_14.jpg: 640x640 3 missing_holes, 145.9ms\n",
      "image 19/70 D:\\BML Munjal\\3rd Year\\Sem 5\\DIP\\DIP-dataset\\PCB_DATASET\\split_dataset\\greyscale\\images\\test\\04_short_02.jpg: 640x640 4 shorts, 109.5ms\n",
      "image 20/70 D:\\BML Munjal\\3rd Year\\Sem 5\\DIP\\DIP-dataset\\PCB_DATASET\\split_dataset\\greyscale\\images\\test\\04_short_04.jpg: 640x640 3 shorts, 129.1ms\n",
      "image 21/70 D:\\BML Munjal\\3rd Year\\Sem 5\\DIP\\DIP-dataset\\PCB_DATASET\\split_dataset\\greyscale\\images\\test\\04_short_06.jpg: 640x640 3 shorts, 111.5ms\n",
      "image 22/70 D:\\BML Munjal\\3rd Year\\Sem 5\\DIP\\DIP-dataset\\PCB_DATASET\\split_dataset\\greyscale\\images\\test\\04_spur_04.jpg: 640x640 2 spurs, 118.3ms\n",
      "image 23/70 D:\\BML Munjal\\3rd Year\\Sem 5\\DIP\\DIP-dataset\\PCB_DATASET\\split_dataset\\greyscale\\images\\test\\04_spurious_copper_10.jpg: 640x640 2 spurious_coppers, 109.6ms\n",
      "image 24/70 D:\\BML Munjal\\3rd Year\\Sem 5\\DIP\\DIP-dataset\\PCB_DATASET\\split_dataset\\greyscale\\images\\test\\05_missing_hole_06.jpg: 640x640 5 missing_holes, 111.4ms\n",
      "image 25/70 D:\\BML Munjal\\3rd Year\\Sem 5\\DIP\\DIP-dataset\\PCB_DATASET\\split_dataset\\greyscale\\images\\test\\05_missing_hole_09.jpg: 640x640 5 missing_holes, 159.5ms\n",
      "image 26/70 D:\\BML Munjal\\3rd Year\\Sem 5\\DIP\\DIP-dataset\\PCB_DATASET\\split_dataset\\greyscale\\images\\test\\05_mouse_bite_06.jpg: 640x640 6 mouse_bites, 111.0ms\n",
      "image 27/70 D:\\BML Munjal\\3rd Year\\Sem 5\\DIP\\DIP-dataset\\PCB_DATASET\\split_dataset\\greyscale\\images\\test\\05_spurious_copper_01.jpg: 640x640 5 spurious_coppers, 131.7ms\n",
      "image 28/70 D:\\BML Munjal\\3rd Year\\Sem 5\\DIP\\DIP-dataset\\PCB_DATASET\\split_dataset\\greyscale\\images\\test\\05_spurious_copper_04.jpg: 640x640 7 spurious_coppers, 111.7ms\n",
      "image 29/70 D:\\BML Munjal\\3rd Year\\Sem 5\\DIP\\DIP-dataset\\PCB_DATASET\\split_dataset\\greyscale\\images\\test\\05_spurious_copper_08.jpg: 640x640 5 spurious_coppers, 113.9ms\n",
      "image 30/70 D:\\BML Munjal\\3rd Year\\Sem 5\\DIP\\DIP-dataset\\PCB_DATASET\\split_dataset\\greyscale\\images\\test\\06_mouse_bite_02.jpg: 640x640 6 mouse_bites, 111.4ms\n",
      "image 31/70 D:\\BML Munjal\\3rd Year\\Sem 5\\DIP\\DIP-dataset\\PCB_DATASET\\split_dataset\\greyscale\\images\\test\\06_mouse_bite_07.jpg: 640x640 4 mouse_bites, 115.4ms\n",
      "image 32/70 D:\\BML Munjal\\3rd Year\\Sem 5\\DIP\\DIP-dataset\\PCB_DATASET\\split_dataset\\greyscale\\images\\test\\06_short_01.jpg: 640x640 4 shorts, 114.9ms\n",
      "image 33/70 D:\\BML Munjal\\3rd Year\\Sem 5\\DIP\\DIP-dataset\\PCB_DATASET\\split_dataset\\greyscale\\images\\test\\06_short_08.jpg: 640x640 4 shorts, 115.9ms\n",
      "image 34/70 D:\\BML Munjal\\3rd Year\\Sem 5\\DIP\\DIP-dataset\\PCB_DATASET\\split_dataset\\greyscale\\images\\test\\06_spur_05.jpg: 640x640 4 spurs, 114.9ms\n",
      "image 35/70 D:\\BML Munjal\\3rd Year\\Sem 5\\DIP\\DIP-dataset\\PCB_DATASET\\split_dataset\\greyscale\\images\\test\\06_spur_08.jpg: 640x640 3 spurs, 118.1ms\n",
      "image 36/70 D:\\BML Munjal\\3rd Year\\Sem 5\\DIP\\DIP-dataset\\PCB_DATASET\\split_dataset\\greyscale\\images\\test\\07_missing_hole_03.jpg: 640x640 5 missing_holes, 109.9ms\n",
      "image 37/70 D:\\BML Munjal\\3rd Year\\Sem 5\\DIP\\DIP-dataset\\PCB_DATASET\\split_dataset\\greyscale\\images\\test\\07_short_06.jpg: 640x640 5 shorts, 102.0ms\n",
      "image 38/70 D:\\BML Munjal\\3rd Year\\Sem 5\\DIP\\DIP-dataset\\PCB_DATASET\\split_dataset\\greyscale\\images\\test\\07_spur_01.jpg: 640x640 5 spurs, 103.9ms\n",
      "image 39/70 D:\\BML Munjal\\3rd Year\\Sem 5\\DIP\\DIP-dataset\\PCB_DATASET\\split_dataset\\greyscale\\images\\test\\07_spur_04.jpg: 640x640 5 spurs, 122.6ms\n",
      "image 40/70 D:\\BML Munjal\\3rd Year\\Sem 5\\DIP\\DIP-dataset\\PCB_DATASET\\split_dataset\\greyscale\\images\\test\\08_missing_hole_09.jpg: 640x640 4 missing_holes, 120.7ms\n",
      "image 41/70 D:\\BML Munjal\\3rd Year\\Sem 5\\DIP\\DIP-dataset\\PCB_DATASET\\split_dataset\\greyscale\\images\\test\\08_open_circuit_05.jpg: 640x640 4 open_circuits, 118.4ms\n",
      "image 42/70 D:\\BML Munjal\\3rd Year\\Sem 5\\DIP\\DIP-dataset\\PCB_DATASET\\split_dataset\\greyscale\\images\\test\\08_short_09.jpg: 640x640 5 shorts, 118.3ms\n",
      "image 43/70 D:\\BML Munjal\\3rd Year\\Sem 5\\DIP\\DIP-dataset\\PCB_DATASET\\split_dataset\\greyscale\\images\\test\\08_short_10.jpg: 640x640 4 shorts, 127.7ms\n",
      "image 44/70 D:\\BML Munjal\\3rd Year\\Sem 5\\DIP\\DIP-dataset\\PCB_DATASET\\split_dataset\\greyscale\\images\\test\\09_short_08.jpg: 640x640 5 shorts, 118.4ms\n",
      "image 45/70 D:\\BML Munjal\\3rd Year\\Sem 5\\DIP\\DIP-dataset\\PCB_DATASET\\split_dataset\\greyscale\\images\\test\\09_spur_02.jpg: 640x640 5 spurs, 111.1ms\n",
      "image 46/70 D:\\BML Munjal\\3rd Year\\Sem 5\\DIP\\DIP-dataset\\PCB_DATASET\\split_dataset\\greyscale\\images\\test\\09_spur_04.jpg: 640x640 5 spurs, 117.8ms\n",
      "image 47/70 D:\\BML Munjal\\3rd Year\\Sem 5\\DIP\\DIP-dataset\\PCB_DATASET\\split_dataset\\greyscale\\images\\test\\09_spur_06.jpg: 640x640 4 spurs, 111.2ms\n",
      "image 48/70 D:\\BML Munjal\\3rd Year\\Sem 5\\DIP\\DIP-dataset\\PCB_DATASET\\split_dataset\\greyscale\\images\\test\\10_missing_hole_05.jpg: 640x640 5 missing_holes, 117.8ms\n",
      "image 49/70 D:\\BML Munjal\\3rd Year\\Sem 5\\DIP\\DIP-dataset\\PCB_DATASET\\split_dataset\\greyscale\\images\\test\\10_mouse_bite_01.jpg: 640x640 4 mouse_bites, 118.3ms\n",
      "image 50/70 D:\\BML Munjal\\3rd Year\\Sem 5\\DIP\\DIP-dataset\\PCB_DATASET\\split_dataset\\greyscale\\images\\test\\10_open_circuit_02.jpg: 640x640 4 open_circuits, 117.7ms\n",
      "image 51/70 D:\\BML Munjal\\3rd Year\\Sem 5\\DIP\\DIP-dataset\\PCB_DATASET\\split_dataset\\greyscale\\images\\test\\10_open_circuit_03.jpg: 640x640 5 open_circuits, 111.5ms\n",
      "image 52/70 D:\\BML Munjal\\3rd Year\\Sem 5\\DIP\\DIP-dataset\\PCB_DATASET\\split_dataset\\greyscale\\images\\test\\10_open_circuit_04.jpg: 640x640 5 open_circuits, 111.3ms\n",
      "image 53/70 D:\\BML Munjal\\3rd Year\\Sem 5\\DIP\\DIP-dataset\\PCB_DATASET\\split_dataset\\greyscale\\images\\test\\10_open_circuit_06.jpg: 640x640 5 open_circuits, 115.7ms\n",
      "image 54/70 D:\\BML Munjal\\3rd Year\\Sem 5\\DIP\\DIP-dataset\\PCB_DATASET\\split_dataset\\greyscale\\images\\test\\10_spur_03.jpg: 640x640 4 spurs, 110.6ms\n",
      "image 55/70 D:\\BML Munjal\\3rd Year\\Sem 5\\DIP\\DIP-dataset\\PCB_DATASET\\split_dataset\\greyscale\\images\\test\\10_spurious_copper_02.jpg: 640x640 5 spurious_coppers, 118.2ms\n",
      "image 56/70 D:\\BML Munjal\\3rd Year\\Sem 5\\DIP\\DIP-dataset\\PCB_DATASET\\split_dataset\\greyscale\\images\\test\\11_missing_hole_02.jpg: 640x640 5 missing_holes, 107.9ms\n",
      "image 57/70 D:\\BML Munjal\\3rd Year\\Sem 5\\DIP\\DIP-dataset\\PCB_DATASET\\split_dataset\\greyscale\\images\\test\\11_mouse_bite_09.jpg: 640x640 4 mouse_bites, 121.0ms\n",
      "image 58/70 D:\\BML Munjal\\3rd Year\\Sem 5\\DIP\\DIP-dataset\\PCB_DATASET\\split_dataset\\greyscale\\images\\test\\11_open_circuit_04.jpg: 640x640 5 open_circuits, 124.5ms\n",
      "image 59/70 D:\\BML Munjal\\3rd Year\\Sem 5\\DIP\\DIP-dataset\\PCB_DATASET\\split_dataset\\greyscale\\images\\test\\11_short_06.jpg: 640x640 5 shorts, 122.0ms\n",
      "image 60/70 D:\\BML Munjal\\3rd Year\\Sem 5\\DIP\\DIP-dataset\\PCB_DATASET\\split_dataset\\greyscale\\images\\test\\11_short_08.jpg: 640x640 5 shorts, 111.6ms\n",
      "image 61/70 D:\\BML Munjal\\3rd Year\\Sem 5\\DIP\\DIP-dataset\\PCB_DATASET\\split_dataset\\greyscale\\images\\test\\11_spur_04.jpg: 640x640 4 spurs, 118.4ms\n",
      "image 62/70 D:\\BML Munjal\\3rd Year\\Sem 5\\DIP\\DIP-dataset\\PCB_DATASET\\split_dataset\\greyscale\\images\\test\\11_spur_07.jpg: 640x640 5 spurs, 118.3ms\n",
      "image 63/70 D:\\BML Munjal\\3rd Year\\Sem 5\\DIP\\DIP-dataset\\PCB_DATASET\\split_dataset\\greyscale\\images\\test\\11_spurious_copper_08.jpg: 640x640 6 spurious_coppers, 118.2ms\n",
      "image 64/70 D:\\BML Munjal\\3rd Year\\Sem 5\\DIP\\DIP-dataset\\PCB_DATASET\\split_dataset\\greyscale\\images\\test\\12_missing_hole_06.jpg: 640x640 4 missing_holes, 125.4ms\n",
      "image 65/70 D:\\BML Munjal\\3rd Year\\Sem 5\\DIP\\DIP-dataset\\PCB_DATASET\\split_dataset\\greyscale\\images\\test\\12_open_circuit_02.jpg: 640x640 5 open_circuits, 118.3ms\n",
      "image 66/70 D:\\BML Munjal\\3rd Year\\Sem 5\\DIP\\DIP-dataset\\PCB_DATASET\\split_dataset\\greyscale\\images\\test\\12_open_circuit_05.jpg: 640x640 5 open_circuits, 111.7ms\n",
      "image 67/70 D:\\BML Munjal\\3rd Year\\Sem 5\\DIP\\DIP-dataset\\PCB_DATASET\\split_dataset\\greyscale\\images\\test\\12_open_circuit_07.jpg: 640x640 4 open_circuits, 118.4ms\n",
      "image 68/70 D:\\BML Munjal\\3rd Year\\Sem 5\\DIP\\DIP-dataset\\PCB_DATASET\\split_dataset\\greyscale\\images\\test\\12_spur_02.jpg: 640x640 3 spurs, 118.0ms\n",
      "image 69/70 D:\\BML Munjal\\3rd Year\\Sem 5\\DIP\\DIP-dataset\\PCB_DATASET\\split_dataset\\greyscale\\images\\test\\12_spur_03.jpg: 640x640 4 spurs, 116.1ms\n",
      "image 70/70 D:\\BML Munjal\\3rd Year\\Sem 5\\DIP\\DIP-dataset\\PCB_DATASET\\split_dataset\\greyscale\\images\\test\\12_spur_07.jpg: 640x640 5 spurs, 118.4ms\n",
      "Speed: 3.0ms preprocess, 119.9ms inference, 1.1ms postprocess per image at shape (1, 3, 640, 640)\n",
      "Results saved to \u001b[1mruns\\detect\\predict10\u001b[0m\n",
      "70 labels saved to runs\\detect\\predict10\\labels\n",
      "                 filename  width  height         class  xmin  ymin  xmax  \\\n",
      "0  01_missing_hole_10.jpg   3034    1586  missing_hole  1624   401  1672   \n",
      "1  01_missing_hole_10.jpg   3034    1586  missing_hole   330   750   387   \n",
      "2  01_missing_hole_10.jpg   3034    1586  missing_hole   866   622   914   \n",
      "\n",
      "   ymax  confidence  \n",
      "0   453         1.0  \n",
      "1   816         1.0  \n",
      "2   681         1.0  \n",
      "Image path: D:\\BML Munjal\\3rd Year\\Sem 5\\DIP\\DIP-dataset\\PCB_DATASET\\split_dataset\\greyscale\\images\\test\\01_missing_hole_10.jpg\n"
     ]
    },
    {
     "data": {
      "text/plain": [
       "<Figure size 1200x1200 with 1 Axes>"
      ]
     },
     "metadata": {},
     "output_type": "display_data"
    },
    {
     "name": "stdout",
     "output_type": "stream",
     "text": [
      "Inference, conversion, and visualization completed.\n"
     ]
    }
   ],
   "source": [
    "import os\n",
    "import shutil\n",
    "import pandas as pd\n",
    "import cv2\n",
    "import matplotlib.pyplot as plt\n",
    "import matplotlib.patches as patches\n",
    "from ultralytics import YOLO\n",
    "\n",
    "# Load the trained model\n",
    "best_model_path = r\"D:\\BML Munjal\\3rd Year\\Sem 5\\DIP\\pcb_project_greyscale\\train\\weights\\best.pt\"  # Update fold if needed\n",
    "model = YOLO(best_model_path)\n",
    "\n",
    "# Define the directory containing the test dataset\n",
    "test_data_dir = r\"D:\\BML Munjal\\3rd Year\\Sem 5\\DIP\\DIP-dataset\\PCB_DATASET\\split_dataset\\greyscale\\images\\test\"  # Adjust split as required\n",
    "\n",
    "# Run inference using the model\n",
    "metrics = model(source=test_data_dir, \n",
    "                imgsz=640, \n",
    "                conf=0.25, \n",
    "                save=True, \n",
    "                save_txt=True, \n",
    "                save_conf=True)\n",
    "\n",
    "# Paths for prediction files and results directory\n",
    "predict_dir = r\"D:\\BML Munjal\\3rd Year\\Sem 5\\DIP\\DIP-dataset\\Final_Results\"\n",
    "dest_predict_dir = os.path.join(predict_dir, 'greyscale')\n",
    "\n",
    "# Copy the prediction results to a designated directory\n",
    "if os.path.exists(dest_predict_dir):\n",
    "    shutil.rmtree(dest_predict_dir)\n",
    "shutil.copytree(predict_dir, dest_predict_dir)\n",
    "\n",
    "# Define the class names (you can adjust the class names based on your dataset)\n",
    "classes = ['missing_hole', 'mouse_bite', 'open_circuit', 'short', 'spur', 'spurious_copper']\n",
    "\n",
    "# Assuming annot_df is your DataFrame with the original annotation information\n",
    "# You would have a CSV or another structure with annotations that include filenames, width, and height\n",
    "# Example: annot_df = pd.read_csv('annotations.csv')  # Load the CSV containing annotations\n",
    "\n",
    "# Function to convert YOLO labels to original annotation format\n",
    "def yolo_to_original_annot(image_name, yolo_labels, annot_df, classes):\n",
    "    original_annot = []\n",
    "\n",
    "    for yolo_label in yolo_labels:\n",
    "        # Extract original width and height from annotation DataFrame\n",
    "        original_size = annot_df.loc[annot_df['filename'] == image_name, ['width', 'height']].iloc[0]\n",
    "        original_width, original_height = original_size['width'], original_size['height']\n",
    "\n",
    "        # Check if YOLO label contains 5 values (without confidence)\n",
    "        if len(yolo_label) == 5:\n",
    "            class_index, x_center, y_center, bbox_width, bbox_height = yolo_label\n",
    "            confidence = 1.0  # If confidence is missing, assume it's 1.0\n",
    "        else:\n",
    "            # Handle the case where there are 6 values (including confidence)\n",
    "            class_index, x_center, y_center, bbox_width, bbox_height, confidence = yolo_label\n",
    "\n",
    "        # Scale bounding box coordinates and dimensions to original size\n",
    "        original_x_center = x_center * original_width\n",
    "        original_y_center = y_center * original_height\n",
    "        original_bbox_width = bbox_width * original_width\n",
    "        original_bbox_height = bbox_height * original_height\n",
    "\n",
    "        # Calculate original bounding box coordinates\n",
    "        original_x_min = original_x_center - original_bbox_width / 2\n",
    "        original_y_min = original_y_center - original_bbox_height / 2\n",
    "        original_x_max = original_x_center + original_bbox_width / 2\n",
    "        original_y_max = original_y_center + original_bbox_height / 2\n",
    "\n",
    "        # Append original annotation to list\n",
    "        original_annot.append({\n",
    "            'filename': image_name,\n",
    "            'width': int(original_width),\n",
    "            'height': int(original_height),\n",
    "            'class': classes[int(class_index)],\n",
    "            'xmin': int(original_x_min),\n",
    "            'ymin': int(original_y_min),\n",
    "            'xmax': int(original_x_max),\n",
    "            'ymax': int(original_y_max),\n",
    "            'confidence': confidence\n",
    "        })\n",
    "\n",
    "    return pd.DataFrame(original_annot)\n",
    "\n",
    "# Function to read YOLO format labels from file\n",
    "def read_yolo_labels_from_file(file_path):\n",
    "    labels = []\n",
    "    with open(file_path, 'r') as file:\n",
    "        for line in file:\n",
    "            values = line.strip().split()\n",
    "            values = [float(value) for value in values]\n",
    "            labels.append(values)\n",
    "    return labels\n",
    "\n",
    "def visualize_annotations(image_name, images_dir, annot_df, pred_annot_df, is_subfolder=True):\n",
    "    \"\"\"\n",
    "    Visualizes annotations (ground truth and predictions) for a given image.\n",
    "\n",
    "    Parameters:\n",
    "    - image_name: Name of the image file (e.g., '01_missing_hole_10.jpg').\n",
    "    - images_dir: Directory containing the images.\n",
    "    - annot_df: DataFrame with ground truth annotations.\n",
    "    - pred_annot_df: DataFrame with YOLO predictions.\n",
    "    - is_subfolder: Whether the image is stored in a subfolder.\n",
    "    \"\"\"\n",
    "    # Construct the full image path\n",
    "    if is_subfolder:\n",
    "        image_path = os.path.join(images_dir, image_name)\n",
    "    else:\n",
    "        image_path = image_name\n",
    "\n",
    "    # Debugging: Print the image path\n",
    "    print(f\"Image path: {image_path}\")\n",
    "    \n",
    "    # Check if the image file exists\n",
    "    if not os.path.exists(image_path):\n",
    "        print(f\"Error: Image '{image_path}' does not exist.\")\n",
    "        return\n",
    "    \n",
    "    # Load the image using OpenCV\n",
    "    image = cv2.imread(image_path)\n",
    "    if image is None:\n",
    "        print(f\"Error: Failed to load image '{image_path}'.\")\n",
    "        return\n",
    "\n",
    "    # Convert the image from BGR (OpenCV default) to RGB (matplotlib compatible)\n",
    "    image_rgb = cv2.cvtColor(image, cv2.COLOR_BGR2RGB)\n",
    "    \n",
    "    # Plot the image\n",
    "    fig, ax = plt.subplots(1, figsize=(12, 12))\n",
    "    ax.imshow(image_rgb)\n",
    "    ax.axis(\"off\")  # Hide axis for a cleaner display\n",
    "    \n",
    "    # Annotate ground truth boxes\n",
    "    if not annot_df.empty:\n",
    "        gt_annotations = annot_df[annot_df['filename'] == image_name]\n",
    "        for _, row in gt_annotations.iterrows():\n",
    "            class_name = row['class']\n",
    "            xmin, ymin, xmax, ymax = row['xmin'], row['ymin'], row['xmax'], row['ymax']\n",
    "            # Add a green rectangle for ground truth\n",
    "            rect = patches.Rectangle((xmin, ymin), xmax - xmin, ymax - ymin, \n",
    "                                      linewidth=2, edgecolor='green', facecolor='none')\n",
    "            ax.add_patch(rect)\n",
    "            ax.text(xmin, ymin - 5, f\"{class_name}\", color='green', fontsize=10, \n",
    "                    bbox=dict(facecolor='white', alpha=0.7))\n",
    "    \n",
    "    # Annotate prediction boxes\n",
    "    if not pred_annot_df.empty:\n",
    "        pred_annotations = pred_annot_df[pred_annot_df['filename'] == image_name]\n",
    "        for _, row in pred_annotations.iterrows():\n",
    "            class_name = row['class']\n",
    "            xmin, ymin, xmax, ymax = row['xmin'], row['ymin'], row['xmax'], row['ymax']\n",
    "            confidence = row['confidence']\n",
    "            # Add a red rectangle for predictions\n",
    "            rect = patches.Rectangle((xmin, ymin), xmax - xmin, ymax - ymin, \n",
    "                                      linewidth=2, edgecolor='red', facecolor='none')\n",
    "            ax.add_patch(rect)\n",
    "            ax.text(xmin, ymin - 5, f\"{class_name} ({confidence:.2f})\", color='red', fontsize=10, \n",
    "                    bbox=dict(facecolor='white', alpha=0.7))\n",
    "    \n",
    "    # Display the image with annotations\n",
    "    plt.show()\n",
    "\n",
    "\n",
    "# Process a specific prediction file\n",
    "file_path = r\"D:\\BML Munjal\\3rd Year\\Sem 5\\DIP\\DIP-dataset\\PCB_DATASET\\yolo_labels\\01_missing_hole_10.txt\"  # Update file path as needed\n",
    "yolo_labels = read_yolo_labels_from_file(file_path)\n",
    "\n",
    "# Assuming annot_df is your DataFrame with annotations (e.g., filename, width, height columns)\n",
    "# annot_df = pd.read_csv('annotations.csv')  # Load the CSV containing annotations with filenames\n",
    "\n",
    "# Convert predictions to the original annotation format\n",
    "pred_annot_df = yolo_to_original_annot('01_missing_hole_10.jpg', yolo_labels, annot_df, classes)\n",
    "\n",
    "# Display the first few rows of the converted DataFrame\n",
    "print(pred_annot_df.head())\n",
    "\n",
    "# Visualization functions\n",
    "visualize_annotations('01_missing_hole_10.jpg', test_data_dir, annot_df, pred_annot_df, is_subfolder=True)\n",
    "\n",
    "print(\"Inference, conversion, and visualization completed.\")\n"
   ]
  },
  {
   "cell_type": "code",
   "execution_count": null,
   "metadata": {},
   "outputs": [],
   "source": [
    "import os\n",
    "import shutil\n",
    "import pandas as pd\n",
    "import cv2\n",
    "import matplotlib.pyplot as plt\n",
    "import matplotlib.patches as patches\n",
    "from ultralytics import YOLO\n",
    "\n",
    "# Load the trained model\n",
    "best_model_path = r\"D:\\BML Munjal\\3rd Year\\Sem 5\\DIP\\pcb_project_binary\\train\\weights\\best.pt\"  # Update fold if needed\n",
    "model = YOLO(best_model_path)\n",
    "\n",
    "# Define the directory containing the test dataset\n",
    "test_data_dir = r\"D:\\BML Munjal\\3rd Year\\Sem 5\\DIP\\DIP-dataset\\PCB_DATASET\\split_dataset\\binary\\images\\test\"  # Adjust split as required\n",
    "\n",
    "# Run inference using the model\n",
    "metrics = model(source=test_data_dir, \n",
    "                imgsz=640, \n",
    "                conf=0.25, \n",
    "                save=True, \n",
    "                save_txt=True, \n",
    "                save_conf=True)\n",
    "\n",
    "# Paths for prediction files and results directory\n",
    "predict_dir = r\"D:\\BML Munjal\\3rd Year\\Sem 5\\DIP\\DIP-dataset\\Final_Results\"\n",
    "dest_predict_dir = os.path.join(predict_dir, 'binary')\n",
    "\n",
    "# Copy the prediction results to a designated directory\n",
    "if os.path.exists(dest_predict_dir):\n",
    "    shutil.rmtree(dest_predict_dir)\n",
    "shutil.copytree(predict_dir, dest_predict_dir)\n",
    "\n",
    "# Define the class names (you can adjust the class names based on your dataset)\n",
    "classes = ['missing_hole', 'mouse_bite', 'open_circuit', 'short', 'spur', 'spurious_copper']\n",
    "\n",
    "# Assuming annot_df is your DataFrame with the original annotation information\n",
    "# You would have a CSV or another structure with annotations that include filenames, width, and height\n",
    "# Example: annot_df = pd.read_csv('annotations.csv')  # Load the CSV containing annotations\n",
    "\n",
    "# Function to convert YOLO labels to original annotation format\n",
    "def yolo_to_original_annot(image_name, yolo_labels, annot_df, classes):\n",
    "    original_annot = []\n",
    "\n",
    "    for yolo_label in yolo_labels:\n",
    "        # Extract original width and height from annotation DataFrame\n",
    "        original_size = annot_df.loc[annot_df['filename'] == image_name, ['width', 'height']].iloc[0]\n",
    "        original_width, original_height = original_size['width'], original_size['height']\n",
    "\n",
    "        # Check if YOLO label contains 5 values (without confidence)\n",
    "        if len(yolo_label) == 5:\n",
    "            class_index, x_center, y_center, bbox_width, bbox_height = yolo_label\n",
    "            confidence = 1.0  # If confidence is missing, assume it's 1.0\n",
    "        else:\n",
    "            # Handle the case where there are 6 values (including confidence)\n",
    "            class_index, x_center, y_center, bbox_width, bbox_height, confidence = yolo_label\n",
    "\n",
    "        # Scale bounding box coordinates and dimensions to original size\n",
    "        original_x_center = x_center * original_width\n",
    "        original_y_center = y_center * original_height\n",
    "        original_bbox_width = bbox_width * original_width\n",
    "        original_bbox_height = bbox_height * original_height\n",
    "\n",
    "        # Calculate original bounding box coordinates\n",
    "        original_x_min = original_x_center - original_bbox_width / 2\n",
    "        original_y_min = original_y_center - original_bbox_height / 2\n",
    "        original_x_max = original_x_center + original_bbox_width / 2\n",
    "        original_y_max = original_y_center + original_bbox_height / 2\n",
    "\n",
    "        # Append original annotation to list\n",
    "        original_annot.append({\n",
    "            'filename': image_name,\n",
    "            'width': int(original_width),\n",
    "            'height': int(original_height),\n",
    "            'class': classes[int(class_index)],\n",
    "            'xmin': int(original_x_min),\n",
    "            'ymin': int(original_y_min),\n",
    "            'xmax': int(original_x_max),\n",
    "            'ymax': int(original_y_max),\n",
    "            'confidence': confidence\n",
    "        })\n",
    "\n",
    "    return pd.DataFrame(original_annot)\n",
    "\n",
    "# Function to read YOLO format labels from file\n",
    "def read_yolo_labels_from_file(file_path):\n",
    "    labels = []\n",
    "    with open(file_path, 'r') as file:\n",
    "        for line in file:\n",
    "            values = line.strip().split()\n",
    "            values = [float(value) for value in values]\n",
    "            labels.append(values)\n",
    "    return labels\n",
    "\n",
    "def visualize_annotations(image_name, images_dir, annot_df, pred_annot_df, is_subfolder=True):\n",
    "    \"\"\"\n",
    "    Visualizes annotations (ground truth and predictions) for a given image.\n",
    "\n",
    "    Parameters:\n",
    "    - image_name: Name of the image file (e.g., '01_missing_hole_10.jpg').\n",
    "    - images_dir: Directory containing the images.\n",
    "    - annot_df: DataFrame with ground truth annotations.\n",
    "    - pred_annot_df: DataFrame with YOLO predictions.\n",
    "    - is_subfolder: Whether the image is stored in a subfolder.\n",
    "    \"\"\"\n",
    "    # Construct the full image path\n",
    "    if is_subfolder:\n",
    "        image_path = os.path.join(images_dir, image_name)\n",
    "    else:\n",
    "        image_path = image_name\n",
    "\n",
    "    # Debugging: Print the image path\n",
    "    print(f\"Image path: {image_path}\")\n",
    "    \n",
    "    # Check if the image file exists\n",
    "    if not os.path.exists(image_path):\n",
    "        print(f\"Error: Image '{image_path}' does not exist.\")\n",
    "        return\n",
    "    \n",
    "    # Load the image using OpenCV\n",
    "    image = cv2.imread(image_path)\n",
    "    if image is None:\n",
    "        print(f\"Error: Failed to load image '{image_path}'.\")\n",
    "        return\n",
    "\n",
    "    # Convert the image from BGR (OpenCV default) to RGB (matplotlib compatible)\n",
    "    image_rgb = cv2.cvtColor(image, cv2.COLOR_BGR2RGB)\n",
    "    \n",
    "    # Plot the image\n",
    "    fig, ax = plt.subplots(1, figsize=(12, 12))\n",
    "    ax.imshow(image_rgb)\n",
    "    ax.axis(\"off\")  # Hide axis for a cleaner display\n",
    "    \n",
    "    # Annotate ground truth boxes\n",
    "    if not annot_df.empty:\n",
    "        gt_annotations = annot_df[annot_df['filename'] == image_name]\n",
    "        for _, row in gt_annotations.iterrows():\n",
    "            class_name = row['class']\n",
    "            xmin, ymin, xmax, ymax = row['xmin'], row['ymin'], row['xmax'], row['ymax']\n",
    "            # Add a green rectangle for ground truth\n",
    "            rect = patches.Rectangle((xmin, ymin), xmax - xmin, ymax - ymin, \n",
    "                                      linewidth=2, edgecolor='green', facecolor='none')\n",
    "            ax.add_patch(rect)\n",
    "            ax.text(xmin, ymin - 5, f\"{class_name}\", color='green', fontsize=10, \n",
    "                    bbox=dict(facecolor='white', alpha=0.7))\n",
    "    \n",
    "    # Annotate prediction boxes\n",
    "    if not pred_annot_df.empty:\n",
    "        pred_annotations = pred_annot_df[pred_annot_df['filename'] == image_name]\n",
    "        for _, row in pred_annotations.iterrows():\n",
    "            class_name = row['class']\n",
    "            xmin, ymin, xmax, ymax = row['xmin'], row['ymin'], row['xmax'], row['ymax']\n",
    "            confidence = row['confidence']\n",
    "            # Add a red rectangle for predictions\n",
    "            rect = patches.Rectangle((xmin, ymin), xmax - xmin, ymax - ymin, \n",
    "                                      linewidth=2, edgecolor='red', facecolor='none')\n",
    "            ax.add_patch(rect)\n",
    "            ax.text(xmin, ymin - 5, f\"{class_name} ({confidence:.2f})\", color='red', fontsize=10, \n",
    "                    bbox=dict(facecolor='white', alpha=0.7))\n",
    "    \n",
    "    # Display the image with annotations\n",
    "    plt.show()\n",
    "\n",
    "\n",
    "# Process a specific prediction file\n",
    "file_path = r\"D:\\BML Munjal\\3rd Year\\Sem 5\\DIP\\DIP-dataset\\PCB_DATASET\\yolo_labels\\01_missing_hole_10.txt\"  # Update file path as needed\n",
    "yolo_labels = read_yolo_labels_from_file(file_path)\n",
    "\n",
    "# Assuming annot_df is your DataFrame with annotations (e.g., filename, width, height columns)\n",
    "# annot_df = pd.read_csv('annotations.csv')  # Load the CSV containing annotations with filenames\n",
    "\n",
    "# Convert predictions to the original annotation format\n",
    "pred_annot_df = yolo_to_original_annot('01_missing_hole_10.jpg', yolo_labels, annot_df, classes)\n",
    "\n",
    "# Display the first few rows of the converted DataFrame\n",
    "print(pred_annot_df.head())\n",
    "\n",
    "# Visualization functions\n",
    "visualize_annotations('01_missing_hole_10.jpg', test_data_dir, annot_df, pred_annot_df, is_subfolder=True)\n",
    "\n",
    "print(\"Inference, conversion, and visualization completed.\")\n"
   ]
  },
  {
   "cell_type": "markdown",
   "metadata": {},
   "source": [
    "# Average Confidence"
   ]
  },
  {
   "cell_type": "markdown",
   "metadata": {},
   "source": [
    "Greyscale Images\n"
   ]
  },
  {
   "cell_type": "code",
   "execution_count": 12,
   "metadata": {},
   "outputs": [
    {
     "name": "stdout",
     "output_type": "stream",
     "text": [
      "Average Confidence: 0.6649\n"
     ]
    }
   ],
   "source": [
    "import os\n",
    "\n",
    "# Function to read YOLO format labels from file and extract confidence values\n",
    "def read_yolo_labels_from_file(file_path):\n",
    "    confidence_values = []\n",
    "    with open(file_path, 'r') as file:\n",
    "        for line in file:\n",
    "            values = line.strip().split()\n",
    "            # The confidence value is the 5th element in YOLO format (index 4)\n",
    "            if len(values) == 6:  # YOLO format with confidence\n",
    "                confidence_values.append(float(values[5]))\n",
    "            elif len(values) == 5:  # YOLO format without confidence (assuming 1.0)\n",
    "                confidence_values.append(1.0)\n",
    "    return confidence_values\n",
    "\n",
    "# Path to the directory containing prediction files\n",
    "predictions_dir = r\"D:\\BML Munjal\\3rd Year\\Sem 5\\DIP\\DIP-dataset\\Final_Results\\greyscale\\predictions\\labels\"\n",
    "\n",
    "# List all files in the directory\n",
    "file_names = os.listdir(predictions_dir)\n",
    "\n",
    "# Initialize variables to accumulate total confidence and number of predictions\n",
    "total_confidence = 0\n",
    "total_predictions = 0\n",
    "\n",
    "# Loop through each file in the predictions directory\n",
    "for file_name in file_names:\n",
    "    # Check if the file is a YOLO prediction file (with .txt extension)\n",
    "    if file_name.endswith('.txt'):\n",
    "        file_path = os.path.join(predictions_dir, file_name)\n",
    "        \n",
    "        # Extract confidence values from the prediction file\n",
    "        confidence_values = read_yolo_labels_from_file(file_path)\n",
    "        \n",
    "        # Add the confidence values to the total\n",
    "        total_confidence += sum(confidence_values)\n",
    "        total_predictions += len(confidence_values)\n",
    "\n",
    "# Calculate the average confidence across all images\n",
    "average_confidence = total_confidence / total_predictions if total_predictions > 0 else 0\n",
    "\n",
    "# Print the result\n",
    "print(f\"Average Confidence: {average_confidence:.4f}\")\n"
   ]
  },
  {
   "cell_type": "markdown",
   "metadata": {},
   "source": [
    "Binary Images\n"
   ]
  },
  {
   "cell_type": "code",
   "execution_count": 14,
   "metadata": {},
   "outputs": [
    {
     "name": "stdout",
     "output_type": "stream",
     "text": [
      "Average Confidence: 0.7564\n"
     ]
    }
   ],
   "source": [
    "import os\n",
    "\n",
    "# Function to read YOLO format labels from file and extract confidence values\n",
    "def read_yolo_labels_from_file(file_path):\n",
    "    confidence_values = []\n",
    "    with open(file_path, 'r') as file:\n",
    "        for line in file:\n",
    "            values = line.strip().split()\n",
    "            # The confidence value is the 5th element in YOLO format (index 4)\n",
    "            if len(values) == 6:  # YOLO format with confidence\n",
    "                confidence_values.append(float(values[5]))\n",
    "            elif len(values) == 5:  # YOLO format without confidence (assuming 1.0)\n",
    "                confidence_values.append(1.0)\n",
    "    return confidence_values\n",
    "\n",
    "# Path to the directory containing prediction files\n",
    "predictions_dir = r\"D:\\BML Munjal\\3rd Year\\Sem 5\\DIP\\DIP-dataset\\Final_Results\\binary1\\predictions\\labels\"\n",
    "\n",
    "# List all files in the directory\n",
    "file_names = os.listdir(predictions_dir)\n",
    "\n",
    "# Initialize variables to accumulate total confidence and number of predictions\n",
    "total_confidence = 0\n",
    "total_predictions = 0\n",
    "\n",
    "# Loop through each file in the predictions directory\n",
    "for file_name in file_names:\n",
    "    # Check if the file is a YOLO prediction file (with .txt extension)\n",
    "    if file_name.endswith('.txt'):\n",
    "        file_path = os.path.join(predictions_dir, file_name)\n",
    "        \n",
    "        # Extract confidence values from the prediction file\n",
    "        confidence_values = read_yolo_labels_from_file(file_path)\n",
    "        \n",
    "        # Add the confidence values to the total\n",
    "        total_confidence += sum(confidence_values)\n",
    "        total_predictions += len(confidence_values)\n",
    "\n",
    "# Calculate the average confidence across all images\n",
    "average_confidence = total_confidence / total_predictions if total_predictions > 0 else 0\n",
    "\n",
    "# Print the result\n",
    "print(f\"Average Confidence: {average_confidence:.4f}\")\n"
   ]
  }
 ],
 "metadata": {
  "colab": {
   "collapsed_sections": [
    "HGSfYCcdddMN",
    "FMV8dSIQdOy0"
   ],
   "provenance": []
  },
  "kernelspec": {
   "display_name": "Python 3",
   "name": "python3"
  },
  "language_info": {
   "codemirror_mode": {
    "name": "ipython",
    "version": 3
   },
   "file_extension": ".py",
   "mimetype": "text/x-python",
   "name": "python",
   "nbconvert_exporter": "python",
   "pygments_lexer": "ipython3",
   "version": "3.13.0"
  }
 },
 "nbformat": 4,
 "nbformat_minor": 0
}
